{
  "cells": [
    {
      "cell_type": "markdown",
      "source": [
        "# Load and install all dependicies"
      ],
      "metadata": {
        "id": "8rJbl7_Cuzg2"
      }
    },
    {
      "cell_type": "code",
      "execution_count": 1,
      "metadata": {
        "colab": {
          "base_uri": "https://localhost:8080/"
        },
        "id": "LQwb7bUT6z3F",
        "outputId": "d997848d-a2f0-46f3-a7a2-b2044d2496b4"
      },
      "outputs": [
        {
          "output_type": "stream",
          "name": "stdout",
          "text": [
            "Requirement already satisfied: numpy in /usr/local/lib/python3.11/dist-packages (2.0.2)\n",
            "Requirement already satisfied: torch in /usr/local/lib/python3.11/dist-packages (2.6.0+cu124)\n",
            "Requirement already satisfied: filelock in /usr/local/lib/python3.11/dist-packages (from torch) (3.18.0)\n",
            "Requirement already satisfied: typing-extensions>=4.10.0 in /usr/local/lib/python3.11/dist-packages (from torch) (4.13.2)\n",
            "Requirement already satisfied: networkx in /usr/local/lib/python3.11/dist-packages (from torch) (3.4.2)\n",
            "Requirement already satisfied: jinja2 in /usr/local/lib/python3.11/dist-packages (from torch) (3.1.6)\n",
            "Requirement already satisfied: fsspec in /usr/local/lib/python3.11/dist-packages (from torch) (2025.3.2)\n",
            "Collecting nvidia-cuda-nvrtc-cu12==12.4.127 (from torch)\n",
            "  Downloading nvidia_cuda_nvrtc_cu12-12.4.127-py3-none-manylinux2014_x86_64.whl.metadata (1.5 kB)\n",
            "Collecting nvidia-cuda-runtime-cu12==12.4.127 (from torch)\n",
            "  Downloading nvidia_cuda_runtime_cu12-12.4.127-py3-none-manylinux2014_x86_64.whl.metadata (1.5 kB)\n",
            "Collecting nvidia-cuda-cupti-cu12==12.4.127 (from torch)\n",
            "  Downloading nvidia_cuda_cupti_cu12-12.4.127-py3-none-manylinux2014_x86_64.whl.metadata (1.6 kB)\n",
            "Collecting nvidia-cudnn-cu12==9.1.0.70 (from torch)\n",
            "  Downloading nvidia_cudnn_cu12-9.1.0.70-py3-none-manylinux2014_x86_64.whl.metadata (1.6 kB)\n",
            "Collecting nvidia-cublas-cu12==12.4.5.8 (from torch)\n",
            "  Downloading nvidia_cublas_cu12-12.4.5.8-py3-none-manylinux2014_x86_64.whl.metadata (1.5 kB)\n",
            "Collecting nvidia-cufft-cu12==11.2.1.3 (from torch)\n",
            "  Downloading nvidia_cufft_cu12-11.2.1.3-py3-none-manylinux2014_x86_64.whl.metadata (1.5 kB)\n",
            "Collecting nvidia-curand-cu12==10.3.5.147 (from torch)\n",
            "  Downloading nvidia_curand_cu12-10.3.5.147-py3-none-manylinux2014_x86_64.whl.metadata (1.5 kB)\n",
            "Collecting nvidia-cusolver-cu12==11.6.1.9 (from torch)\n",
            "  Downloading nvidia_cusolver_cu12-11.6.1.9-py3-none-manylinux2014_x86_64.whl.metadata (1.6 kB)\n",
            "Collecting nvidia-cusparse-cu12==12.3.1.170 (from torch)\n",
            "  Downloading nvidia_cusparse_cu12-12.3.1.170-py3-none-manylinux2014_x86_64.whl.metadata (1.6 kB)\n",
            "Requirement already satisfied: nvidia-cusparselt-cu12==0.6.2 in /usr/local/lib/python3.11/dist-packages (from torch) (0.6.2)\n",
            "Requirement already satisfied: nvidia-nccl-cu12==2.21.5 in /usr/local/lib/python3.11/dist-packages (from torch) (2.21.5)\n",
            "Requirement already satisfied: nvidia-nvtx-cu12==12.4.127 in /usr/local/lib/python3.11/dist-packages (from torch) (12.4.127)\n",
            "Collecting nvidia-nvjitlink-cu12==12.4.127 (from torch)\n",
            "  Downloading nvidia_nvjitlink_cu12-12.4.127-py3-none-manylinux2014_x86_64.whl.metadata (1.5 kB)\n",
            "Requirement already satisfied: triton==3.2.0 in /usr/local/lib/python3.11/dist-packages (from torch) (3.2.0)\n",
            "Requirement already satisfied: sympy==1.13.1 in /usr/local/lib/python3.11/dist-packages (from torch) (1.13.1)\n",
            "Requirement already satisfied: mpmath<1.4,>=1.1.0 in /usr/local/lib/python3.11/dist-packages (from sympy==1.13.1->torch) (1.3.0)\n",
            "Requirement already satisfied: MarkupSafe>=2.0 in /usr/local/lib/python3.11/dist-packages (from jinja2->torch) (3.0.2)\n",
            "Downloading nvidia_cublas_cu12-12.4.5.8-py3-none-manylinux2014_x86_64.whl (363.4 MB)\n",
            "\u001b[2K   \u001b[90m━━━━━━━━━━━━━━━━━━━━━━━━━━━━━━━━━━━━━━━━\u001b[0m \u001b[32m363.4/363.4 MB\u001b[0m \u001b[31m3.5 MB/s\u001b[0m eta \u001b[36m0:00:00\u001b[0m\n",
            "\u001b[?25hDownloading nvidia_cuda_cupti_cu12-12.4.127-py3-none-manylinux2014_x86_64.whl (13.8 MB)\n",
            "\u001b[2K   \u001b[90m━━━━━━━━━━━━━━━━━━━━━━━━━━━━━━━━━━━━━━━━\u001b[0m \u001b[32m13.8/13.8 MB\u001b[0m \u001b[31m40.1 MB/s\u001b[0m eta \u001b[36m0:00:00\u001b[0m\n",
            "\u001b[?25hDownloading nvidia_cuda_nvrtc_cu12-12.4.127-py3-none-manylinux2014_x86_64.whl (24.6 MB)\n",
            "\u001b[2K   \u001b[90m━━━━━━━━━━━━━━━━━━━━━━━━━━━━━━━━━━━━━━━━\u001b[0m \u001b[32m24.6/24.6 MB\u001b[0m \u001b[31m32.4 MB/s\u001b[0m eta \u001b[36m0:00:00\u001b[0m\n",
            "\u001b[?25hDownloading nvidia_cuda_runtime_cu12-12.4.127-py3-none-manylinux2014_x86_64.whl (883 kB)\n",
            "\u001b[2K   \u001b[90m━━━━━━━━━━━━━━━━━━━━━━━━━━━━━━━━━━━━━━━━\u001b[0m \u001b[32m883.7/883.7 kB\u001b[0m \u001b[31m25.4 MB/s\u001b[0m eta \u001b[36m0:00:00\u001b[0m\n",
            "\u001b[?25hDownloading nvidia_cudnn_cu12-9.1.0.70-py3-none-manylinux2014_x86_64.whl (664.8 MB)\n",
            "\u001b[2K   \u001b[90m━━━━━━━━━━━━━━━━━━━━━━━━━━━━━━━━━━━━━━━━\u001b[0m \u001b[32m664.8/664.8 MB\u001b[0m \u001b[31m2.8 MB/s\u001b[0m eta \u001b[36m0:00:00\u001b[0m\n",
            "\u001b[?25hDownloading nvidia_cufft_cu12-11.2.1.3-py3-none-manylinux2014_x86_64.whl (211.5 MB)\n",
            "\u001b[2K   \u001b[90m━━━━━━━━━━━━━━━━━━━━━━━━━━━━━━━━━━━━━━━━\u001b[0m \u001b[32m211.5/211.5 MB\u001b[0m \u001b[31m1.8 MB/s\u001b[0m eta \u001b[36m0:00:00\u001b[0m\n",
            "\u001b[?25hDownloading nvidia_curand_cu12-10.3.5.147-py3-none-manylinux2014_x86_64.whl (56.3 MB)\n",
            "\u001b[2K   \u001b[90m━━━━━━━━━━━━━━━━━━━━━━━━━━━━━━━━━━━━━━━━\u001b[0m \u001b[32m56.3/56.3 MB\u001b[0m \u001b[31m9.6 MB/s\u001b[0m eta \u001b[36m0:00:00\u001b[0m\n",
            "\u001b[?25hDownloading nvidia_cusolver_cu12-11.6.1.9-py3-none-manylinux2014_x86_64.whl (127.9 MB)\n",
            "\u001b[2K   \u001b[90m━━━━━━━━━━━━━━━━━━━━━━━━━━━━━━━━━━━━━━━━\u001b[0m \u001b[32m127.9/127.9 MB\u001b[0m \u001b[31m8.4 MB/s\u001b[0m eta \u001b[36m0:00:00\u001b[0m\n",
            "\u001b[?25hDownloading nvidia_cusparse_cu12-12.3.1.170-py3-none-manylinux2014_x86_64.whl (207.5 MB)\n",
            "\u001b[2K   \u001b[90m━━━━━━━━━━━━━━━━━━━━━━━━━━━━━━━━━━━━━━━━\u001b[0m \u001b[32m207.5/207.5 MB\u001b[0m \u001b[31m6.1 MB/s\u001b[0m eta \u001b[36m0:00:00\u001b[0m\n",
            "\u001b[?25hDownloading nvidia_nvjitlink_cu12-12.4.127-py3-none-manylinux2014_x86_64.whl (21.1 MB)\n",
            "\u001b[2K   \u001b[90m━━━━━━━━━━━━━━━━━━━━━━━━━━━━━━━━━━━━━━━━\u001b[0m \u001b[32m21.1/21.1 MB\u001b[0m \u001b[31m77.7 MB/s\u001b[0m eta \u001b[36m0:00:00\u001b[0m\n",
            "\u001b[?25hInstalling collected packages: nvidia-nvjitlink-cu12, nvidia-curand-cu12, nvidia-cufft-cu12, nvidia-cuda-runtime-cu12, nvidia-cuda-nvrtc-cu12, nvidia-cuda-cupti-cu12, nvidia-cublas-cu12, nvidia-cusparse-cu12, nvidia-cudnn-cu12, nvidia-cusolver-cu12\n",
            "  Attempting uninstall: nvidia-nvjitlink-cu12\n",
            "    Found existing installation: nvidia-nvjitlink-cu12 12.5.82\n",
            "    Uninstalling nvidia-nvjitlink-cu12-12.5.82:\n",
            "      Successfully uninstalled nvidia-nvjitlink-cu12-12.5.82\n",
            "  Attempting uninstall: nvidia-curand-cu12\n",
            "    Found existing installation: nvidia-curand-cu12 10.3.6.82\n",
            "    Uninstalling nvidia-curand-cu12-10.3.6.82:\n",
            "      Successfully uninstalled nvidia-curand-cu12-10.3.6.82\n",
            "  Attempting uninstall: nvidia-cufft-cu12\n",
            "    Found existing installation: nvidia-cufft-cu12 11.2.3.61\n",
            "    Uninstalling nvidia-cufft-cu12-11.2.3.61:\n",
            "      Successfully uninstalled nvidia-cufft-cu12-11.2.3.61\n",
            "  Attempting uninstall: nvidia-cuda-runtime-cu12\n",
            "    Found existing installation: nvidia-cuda-runtime-cu12 12.5.82\n",
            "    Uninstalling nvidia-cuda-runtime-cu12-12.5.82:\n",
            "      Successfully uninstalled nvidia-cuda-runtime-cu12-12.5.82\n",
            "  Attempting uninstall: nvidia-cuda-nvrtc-cu12\n",
            "    Found existing installation: nvidia-cuda-nvrtc-cu12 12.5.82\n",
            "    Uninstalling nvidia-cuda-nvrtc-cu12-12.5.82:\n",
            "      Successfully uninstalled nvidia-cuda-nvrtc-cu12-12.5.82\n",
            "  Attempting uninstall: nvidia-cuda-cupti-cu12\n",
            "    Found existing installation: nvidia-cuda-cupti-cu12 12.5.82\n",
            "    Uninstalling nvidia-cuda-cupti-cu12-12.5.82:\n",
            "      Successfully uninstalled nvidia-cuda-cupti-cu12-12.5.82\n",
            "  Attempting uninstall: nvidia-cublas-cu12\n",
            "    Found existing installation: nvidia-cublas-cu12 12.5.3.2\n",
            "    Uninstalling nvidia-cublas-cu12-12.5.3.2:\n",
            "      Successfully uninstalled nvidia-cublas-cu12-12.5.3.2\n",
            "  Attempting uninstall: nvidia-cusparse-cu12\n",
            "    Found existing installation: nvidia-cusparse-cu12 12.5.1.3\n",
            "    Uninstalling nvidia-cusparse-cu12-12.5.1.3:\n",
            "      Successfully uninstalled nvidia-cusparse-cu12-12.5.1.3\n",
            "  Attempting uninstall: nvidia-cudnn-cu12\n",
            "    Found existing installation: nvidia-cudnn-cu12 9.3.0.75\n",
            "    Uninstalling nvidia-cudnn-cu12-9.3.0.75:\n",
            "      Successfully uninstalled nvidia-cudnn-cu12-9.3.0.75\n",
            "  Attempting uninstall: nvidia-cusolver-cu12\n",
            "    Found existing installation: nvidia-cusolver-cu12 11.6.3.83\n",
            "    Uninstalling nvidia-cusolver-cu12-11.6.3.83:\n",
            "      Successfully uninstalled nvidia-cusolver-cu12-11.6.3.83\n",
            "Successfully installed nvidia-cublas-cu12-12.4.5.8 nvidia-cuda-cupti-cu12-12.4.127 nvidia-cuda-nvrtc-cu12-12.4.127 nvidia-cuda-runtime-cu12-12.4.127 nvidia-cudnn-cu12-9.1.0.70 nvidia-cufft-cu12-11.2.1.3 nvidia-curand-cu12-10.3.5.147 nvidia-cusolver-cu12-11.6.1.9 nvidia-cusparse-cu12-12.3.1.170 nvidia-nvjitlink-cu12-12.4.127\n",
            "Requirement already satisfied: torchvision in /usr/local/lib/python3.11/dist-packages (0.21.0+cu124)\n",
            "Requirement already satisfied: numpy in /usr/local/lib/python3.11/dist-packages (from torchvision) (2.0.2)\n",
            "Requirement already satisfied: torch==2.6.0 in /usr/local/lib/python3.11/dist-packages (from torchvision) (2.6.0+cu124)\n",
            "Requirement already satisfied: pillow!=8.3.*,>=5.3.0 in /usr/local/lib/python3.11/dist-packages (from torchvision) (11.2.1)\n",
            "Requirement already satisfied: filelock in /usr/local/lib/python3.11/dist-packages (from torch==2.6.0->torchvision) (3.18.0)\n",
            "Requirement already satisfied: typing-extensions>=4.10.0 in /usr/local/lib/python3.11/dist-packages (from torch==2.6.0->torchvision) (4.13.2)\n",
            "Requirement already satisfied: networkx in /usr/local/lib/python3.11/dist-packages (from torch==2.6.0->torchvision) (3.4.2)\n",
            "Requirement already satisfied: jinja2 in /usr/local/lib/python3.11/dist-packages (from torch==2.6.0->torchvision) (3.1.6)\n",
            "Requirement already satisfied: fsspec in /usr/local/lib/python3.11/dist-packages (from torch==2.6.0->torchvision) (2025.3.2)\n",
            "Requirement already satisfied: nvidia-cuda-nvrtc-cu12==12.4.127 in /usr/local/lib/python3.11/dist-packages (from torch==2.6.0->torchvision) (12.4.127)\n",
            "Requirement already satisfied: nvidia-cuda-runtime-cu12==12.4.127 in /usr/local/lib/python3.11/dist-packages (from torch==2.6.0->torchvision) (12.4.127)\n",
            "Requirement already satisfied: nvidia-cuda-cupti-cu12==12.4.127 in /usr/local/lib/python3.11/dist-packages (from torch==2.6.0->torchvision) (12.4.127)\n",
            "Requirement already satisfied: nvidia-cudnn-cu12==9.1.0.70 in /usr/local/lib/python3.11/dist-packages (from torch==2.6.0->torchvision) (9.1.0.70)\n",
            "Requirement already satisfied: nvidia-cublas-cu12==12.4.5.8 in /usr/local/lib/python3.11/dist-packages (from torch==2.6.0->torchvision) (12.4.5.8)\n",
            "Requirement already satisfied: nvidia-cufft-cu12==11.2.1.3 in /usr/local/lib/python3.11/dist-packages (from torch==2.6.0->torchvision) (11.2.1.3)\n",
            "Requirement already satisfied: nvidia-curand-cu12==10.3.5.147 in /usr/local/lib/python3.11/dist-packages (from torch==2.6.0->torchvision) (10.3.5.147)\n",
            "Requirement already satisfied: nvidia-cusolver-cu12==11.6.1.9 in /usr/local/lib/python3.11/dist-packages (from torch==2.6.0->torchvision) (11.6.1.9)\n",
            "Requirement already satisfied: nvidia-cusparse-cu12==12.3.1.170 in /usr/local/lib/python3.11/dist-packages (from torch==2.6.0->torchvision) (12.3.1.170)\n",
            "Requirement already satisfied: nvidia-cusparselt-cu12==0.6.2 in /usr/local/lib/python3.11/dist-packages (from torch==2.6.0->torchvision) (0.6.2)\n",
            "Requirement already satisfied: nvidia-nccl-cu12==2.21.5 in /usr/local/lib/python3.11/dist-packages (from torch==2.6.0->torchvision) (2.21.5)\n",
            "Requirement already satisfied: nvidia-nvtx-cu12==12.4.127 in /usr/local/lib/python3.11/dist-packages (from torch==2.6.0->torchvision) (12.4.127)\n",
            "Requirement already satisfied: nvidia-nvjitlink-cu12==12.4.127 in /usr/local/lib/python3.11/dist-packages (from torch==2.6.0->torchvision) (12.4.127)\n",
            "Requirement already satisfied: triton==3.2.0 in /usr/local/lib/python3.11/dist-packages (from torch==2.6.0->torchvision) (3.2.0)\n",
            "Requirement already satisfied: sympy==1.13.1 in /usr/local/lib/python3.11/dist-packages (from torch==2.6.0->torchvision) (1.13.1)\n",
            "Requirement already satisfied: mpmath<1.4,>=1.1.0 in /usr/local/lib/python3.11/dist-packages (from sympy==1.13.1->torch==2.6.0->torchvision) (1.3.0)\n",
            "Requirement already satisfied: MarkupSafe>=2.0 in /usr/local/lib/python3.11/dist-packages (from jinja2->torch==2.6.0->torchvision) (3.0.2)\n",
            "Requirement already satisfied: matplotlib in /usr/local/lib/python3.11/dist-packages (3.10.0)\n",
            "Requirement already satisfied: contourpy>=1.0.1 in /usr/local/lib/python3.11/dist-packages (from matplotlib) (1.3.2)\n",
            "Requirement already satisfied: cycler>=0.10 in /usr/local/lib/python3.11/dist-packages (from matplotlib) (0.12.1)\n",
            "Requirement already satisfied: fonttools>=4.22.0 in /usr/local/lib/python3.11/dist-packages (from matplotlib) (4.58.0)\n",
            "Requirement already satisfied: kiwisolver>=1.3.1 in /usr/local/lib/python3.11/dist-packages (from matplotlib) (1.4.8)\n",
            "Requirement already satisfied: numpy>=1.23 in /usr/local/lib/python3.11/dist-packages (from matplotlib) (2.0.2)\n",
            "Requirement already satisfied: packaging>=20.0 in /usr/local/lib/python3.11/dist-packages (from matplotlib) (24.2)\n",
            "Requirement already satisfied: pillow>=8 in /usr/local/lib/python3.11/dist-packages (from matplotlib) (11.2.1)\n",
            "Requirement already satisfied: pyparsing>=2.3.1 in /usr/local/lib/python3.11/dist-packages (from matplotlib) (3.2.3)\n",
            "Requirement already satisfied: python-dateutil>=2.7 in /usr/local/lib/python3.11/dist-packages (from matplotlib) (2.9.0.post0)\n",
            "Requirement already satisfied: six>=1.5 in /usr/local/lib/python3.11/dist-packages (from python-dateutil>=2.7->matplotlib) (1.17.0)\n",
            "Requirement already satisfied: wandb in /usr/local/lib/python3.11/dist-packages (0.19.11)\n",
            "Requirement already satisfied: click!=8.0.0,>=7.1 in /usr/local/lib/python3.11/dist-packages (from wandb) (8.2.0)\n",
            "Requirement already satisfied: docker-pycreds>=0.4.0 in /usr/local/lib/python3.11/dist-packages (from wandb) (0.4.0)\n",
            "Requirement already satisfied: gitpython!=3.1.29,>=1.0.0 in /usr/local/lib/python3.11/dist-packages (from wandb) (3.1.44)\n",
            "Requirement already satisfied: platformdirs in /usr/local/lib/python3.11/dist-packages (from wandb) (4.3.8)\n",
            "Requirement already satisfied: protobuf!=4.21.0,!=5.28.0,<7,>=3.19.0 in /usr/local/lib/python3.11/dist-packages (from wandb) (5.29.4)\n",
            "Requirement already satisfied: psutil>=5.0.0 in /usr/local/lib/python3.11/dist-packages (from wandb) (5.9.5)\n",
            "Requirement already satisfied: pydantic<3 in /usr/local/lib/python3.11/dist-packages (from wandb) (2.11.4)\n",
            "Requirement already satisfied: pyyaml in /usr/local/lib/python3.11/dist-packages (from wandb) (6.0.2)\n",
            "Requirement already satisfied: requests<3,>=2.0.0 in /usr/local/lib/python3.11/dist-packages (from wandb) (2.32.3)\n",
            "Requirement already satisfied: sentry-sdk>=2.0.0 in /usr/local/lib/python3.11/dist-packages (from wandb) (2.28.0)\n",
            "Requirement already satisfied: setproctitle in /usr/local/lib/python3.11/dist-packages (from wandb) (1.3.6)\n",
            "Requirement already satisfied: setuptools in /usr/local/lib/python3.11/dist-packages (from wandb) (75.2.0)\n",
            "Requirement already satisfied: typing-extensions<5,>=4.4 in /usr/local/lib/python3.11/dist-packages (from wandb) (4.13.2)\n",
            "Requirement already satisfied: six>=1.4.0 in /usr/local/lib/python3.11/dist-packages (from docker-pycreds>=0.4.0->wandb) (1.17.0)\n",
            "Requirement already satisfied: gitdb<5,>=4.0.1 in /usr/local/lib/python3.11/dist-packages (from gitpython!=3.1.29,>=1.0.0->wandb) (4.0.12)\n",
            "Requirement already satisfied: annotated-types>=0.6.0 in /usr/local/lib/python3.11/dist-packages (from pydantic<3->wandb) (0.7.0)\n",
            "Requirement already satisfied: pydantic-core==2.33.2 in /usr/local/lib/python3.11/dist-packages (from pydantic<3->wandb) (2.33.2)\n",
            "Requirement already satisfied: typing-inspection>=0.4.0 in /usr/local/lib/python3.11/dist-packages (from pydantic<3->wandb) (0.4.0)\n",
            "Requirement already satisfied: charset-normalizer<4,>=2 in /usr/local/lib/python3.11/dist-packages (from requests<3,>=2.0.0->wandb) (3.4.2)\n",
            "Requirement already satisfied: idna<4,>=2.5 in /usr/local/lib/python3.11/dist-packages (from requests<3,>=2.0.0->wandb) (3.10)\n",
            "Requirement already satisfied: urllib3<3,>=1.21.1 in /usr/local/lib/python3.11/dist-packages (from requests<3,>=2.0.0->wandb) (2.4.0)\n",
            "Requirement already satisfied: certifi>=2017.4.17 in /usr/local/lib/python3.11/dist-packages (from requests<3,>=2.0.0->wandb) (2025.4.26)\n",
            "Requirement already satisfied: smmap<6,>=3.0.1 in /usr/local/lib/python3.11/dist-packages (from gitdb<5,>=4.0.1->gitpython!=3.1.29,>=1.0.0->wandb) (5.0.2)\n"
          ]
        }
      ],
      "source": [
        "!pip install numpy\n",
        "!pip install torch\n",
        "!pip install torchvision\n",
        "!pip install matplotlib\n",
        "!pip install wandb"
      ]
    },
    {
      "cell_type": "code",
      "source": [
        "!wandb login de83b34df4865f6d73caa690771345a92e44bb2d"
      ],
      "metadata": {
        "colab": {
          "base_uri": "https://localhost:8080/"
        },
        "id": "T_-D2zKHK7ro",
        "outputId": "2d8eeaed-0bd2-4a66-8087-c248be2afb0c"
      },
      "execution_count": 2,
      "outputs": [
        {
          "output_type": "stream",
          "name": "stdout",
          "text": [
            "\u001b[34m\u001b[1mwandb\u001b[0m: \u001b[33mWARNING\u001b[0m Using legacy-service, which is deprecated. If this is unintentional, you can fix it by ensuring you do not call `wandb.require('legacy-service')` and do not set the WANDB_X_REQUIRE_LEGACY_SERVICE environment variable.\n",
            "\u001b[34m\u001b[1mwandb\u001b[0m: No netrc file found, creating one.\n",
            "\u001b[34m\u001b[1mwandb\u001b[0m: Appending key for api.wandb.ai to your netrc file: /root/.netrc\n",
            "\u001b[34m\u001b[1mwandb\u001b[0m: W&B API key is configured. Use \u001b[1m`wandb login --relogin`\u001b[0m to force relogin\n"
          ]
        }
      ]
    },
    {
      "cell_type": "code",
      "source": [
        "!git clone https://github.com/OscarOvanger/GeoDecepticon.git"
      ],
      "metadata": {
        "colab": {
          "base_uri": "https://localhost:8080/"
        },
        "id": "xZXtl1g-7FeE",
        "outputId": "4590a294-0eaf-4011-d56a-143f3def3ccb"
      },
      "execution_count": 3,
      "outputs": [
        {
          "output_type": "stream",
          "name": "stdout",
          "text": [
            "Cloning into 'GeoDecepticon'...\n",
            "remote: Enumerating objects: 20272, done.\u001b[K\n",
            "remote: Counting objects: 100% (334/334), done.\u001b[K\n",
            "remote: Compressing objects: 100% (163/163), done.\u001b[K\n",
            "remote: Total 20272 (delta 263), reused 171 (delta 171), pack-reused 19938 (from 5)\u001b[K\n",
            "Receiving objects: 100% (20272/20272), 162.39 MiB | 6.09 MiB/s, done.\n",
            "Resolving deltas: 100% (567/567), done.\n",
            "Updating files: 100% (83/83), done.\n"
          ]
        }
      ]
    },
    {
      "cell_type": "code",
      "source": [
        "import os\n",
        "os.chdir('/content/GeoDecepticon')"
      ],
      "metadata": {
        "id": "u5fsIzjR7GZa"
      },
      "execution_count": 4,
      "outputs": []
    },
    {
      "cell_type": "code",
      "source": [
        "import torch\n",
        "import torch.nn as nn\n",
        "import numpy as np\n",
        "import matplotlib.pyplot as plt\n",
        "from torch.utils.data import Dataset, DataLoader\n",
        "import wandb\n",
        "import os\n",
        "from tqdm.notebook import tqdm\n",
        "import copy\n",
        "from ViT import *\n",
        "from ViT_sampling import *\n",
        "from training import *\n",
        "#from sampling import *\n",
        "from tqdm import tqdm  # For progress bars\n",
        "import time"
      ],
      "metadata": {
        "id": "SZFtoPVzEsId"
      },
      "execution_count": 5,
      "outputs": []
    },
    {
      "cell_type": "markdown",
      "source": [
        "# Load and plot training data"
      ],
      "metadata": {
        "id": "LT8iK4NzEOg3"
      }
    },
    {
      "cell_type": "code",
      "source": [
        "arr = np.load(\"Data/Markov_field/training_data_mod.npz\")[\"arr_0\"]\n",
        "training_data = arr[:9000]\n",
        "test_data = arr[9000:]\n",
        "# We reshape it to 60x60 dataset\n",
        "training_data = training_data.reshape(-1, 64, 64)\n",
        "test_data = test_data.reshape(-1, 64, 64)\n",
        "print(training_data.shape)\n",
        "training_data = torch.tensor(training_data,dtype=torch.float32)\n",
        "sanity_check_data = training_data[:10]\n",
        "test_data = torch.tensor(test_data,dtype=torch.float32)\n",
        "#plot the first data\n",
        "plt.imshow(training_data[100],cmap='gray')\n",
        "plt.show()"
      ],
      "metadata": {
        "colab": {
          "base_uri": "https://localhost:8080/",
          "height": 449
        },
        "id": "ggDcm9hCEXRB",
        "outputId": "58bc6ede-ef8f-4427-da7d-edd153e41fed"
      },
      "execution_count": 6,
      "outputs": [
        {
          "output_type": "stream",
          "name": "stdout",
          "text": [
            "(9000, 64, 64)\n"
          ]
        },
        {
          "output_type": "display_data",
          "data": {
            "text/plain": [
              "<Figure size 640x480 with 1 Axes>"
            ],
            "image/png": "[encoded data removed]"
          },
          "metadata": {}
        }
      ]
    },
    {
      "cell_type": "markdown",
      "source": [
        "# Condition data"
      ],
      "metadata": {
        "id": "W-xEPyocuwAp"
      }
    },
    {
      "cell_type": "code",
      "source": [
        "\"\"\"\n",
        "condition_indices = np.array([876,3825,2122,2892,1556,2683,3667,1767,483,2351,\n",
        "                                2000,3312,2953,289,2373,2720,872,2713,1206,1341,\n",
        "                                3541,2226,3423,1904,2882,2540,1497,2524,264,1441])\n",
        "condition_values = np.array([0,1,1,1,0,0,1,0,0,1,0,0,0,1,0,1,0,0,1,0,\n",
        "                              1,1,1,0,1,0,1,1,0,1])\n",
        "condition_indices_x = condition_indices // 64\n",
        "condition_indices_y = condition_indices % 64\n",
        "print(condition_indices_x)\n",
        "print(condition_indices_y)\n",
        "plt.imshow(training_data[0],cmap='gray')\n",
        "plt.scatter(condition_indices_y,condition_indices_x,c=condition_values,cmap='viridis')\n",
        "plt.show()\n",
        "\"\"\""
      ],
      "metadata": {
        "colab": {
          "base_uri": "https://localhost:8080/",
          "height": 140
        },
        "id": "5PDiCt7uEb6q",
        "outputId": "cf5e0c05-832c-45c1-f10f-0d9d398c4ef6"
      },
      "execution_count": 7,
      "outputs": [
        {
          "output_type": "execute_result",
          "data": {
            "text/plain": [
              "\"\\ncondition_indices = np.array([876,3825,2122,2892,1556,2683,3667,1767,483,2351,\\n                                2000,3312,2953,289,2373,2720,872,2713,1206,1341,\\n                                3541,2226,3423,1904,2882,2540,1497,2524,264,1441])\\ncondition_values = np.array([0,1,1,1,0,0,1,0,0,1,0,0,0,1,0,1,0,0,1,0,\\n                              1,1,1,0,1,0,1,1,0,1])\\ncondition_indices_x = condition_indices // 64\\ncondition_indices_y = condition_indices % 64\\nprint(condition_indices_x)\\nprint(condition_indices_y)\\nplt.imshow(training_data[0],cmap='gray')\\nplt.scatter(condition_indices_y,condition_indices_x,c=condition_values,cmap='viridis')\\nplt.show()\\n\""
            ],
            "application/vnd.google.colaboratory.intrinsic+json": {
              "type": "string"
            }
          },
          "metadata": {},
          "execution_count": 7
        }
      ]
    },
    {
      "cell_type": "code",
      "source": [
        "condition_indices_new = np.array([1726,3797,4211,4543,3953,3347,1897,2015,4424,1942,2108,4350,1019,4068,2911])\n",
        "condition_values_new = np.array([0,1,0,1,1,1,0,1,0,1,0,1,1,1,0])\n",
        "condition_indices_x = (condition_indices_new // 80) - 8\n",
        "condition_indices_y = (condition_indices_new % 80) - 8\n",
        "print(condition_indices_x)\n",
        "print(condition_indices_y)\n",
        "cond_data = np.load(\"Data/Markov_field/training_data_mod_cond.npz\")[\"arr_0\"]\n",
        "plt.imshow(cond_data[105],cmap='gray')\n",
        "plt.scatter(condition_indices_y,condition_indices_x,c=condition_values_new,cmap='viridis')\n",
        "plt.show()"
      ],
      "metadata": {
        "colab": {
          "base_uri": "https://localhost:8080/",
          "height": 467
        },
        "id": "4s9PpasrfCoC",
        "outputId": "dab48de8-0c40-4aff-ac16-af65890849dc"
      },
      "execution_count": 8,
      "outputs": [
        {
          "output_type": "stream",
          "name": "stdout",
          "text": [
            "[13 39 44 48 41 33 15 17 47 16 18 46  4 42 28]\n",
            "[38 29 43 55 25 59 49  7 16 14 20 22 51 60 23]\n"
          ]
        },
        {
          "output_type": "display_data",
          "data": {
            "text/plain": [
              "<Figure size 640x480 with 1 Axes>"
            ],
            "image/png": "[encoded data removed]"
          },
          "metadata": {}
        }
      ]
    },
    {
      "cell_type": "markdown",
      "source": [
        "# Train Model"
      ],
      "metadata": {
        "id": "VFaRaXcOu6GD"
      }
    },
    {
      "cell_type": "code",
      "source": [
        "samps = np.load(\"cond_images_combined.npy\")\n",
        "plt.imshow(samps[2],cmap='gray')\n",
        "plt.show()"
      ],
      "metadata": {
        "id": "H7-xyfJijwTj",
        "outputId": "db4739e8-2301-4c10-fd42-c31c0ed59ca7",
        "colab": {
          "base_uri": "https://localhost:8080/",
          "height": 432
        }
      },
      "execution_count": 17,
      "outputs": [
        {
          "output_type": "display_data",
          "data": {
            "text/plain": [
              "<Figure size 640x480 with 1 Axes>"
            ],
            "image/png": "[encoded data removed]"
          },
          "metadata": {}
        }
      ]
    },
    {
      "cell_type": "code",
      "source": [
        "# Try training for, say, 500 epochs; you can also try mask_rate=1.0 for a stricter overfit test.\n",
        "nr_epochs = 1000\n",
        "batch_size = 100\n",
        "mask_rate = 0.01  # Try also mask_rate = 1.0 to check if the network can memorize given only positional cues.\n",
        "final_mask_rate = 0.99\n",
        "mask_schedule = \"cyclic\"\n",
        "patch_size = 4\n",
        "num_heads = 2\n",
        "num_layers = 2\n",
        "ffn_dim = 256\n",
        "emb_dim = 64\n",
        "learning_rate = 1e-3\n",
        "vocab_cap = 100000\n",
        "\n",
        "# Assume training_data is already defined with shape (N, H, W)\n",
        "N, H, W = training_data.shape\n",
        "\n",
        "# Set parameters.\n",
        "vocab, counts, mask_token = build_vocabulary(training_data, patch_size, cap_size=vocab_cap)\n",
        "patch_dim = patch_size ** 2\n",
        "num_patches = (H // patch_size) ** 2\n",
        "\n",
        "#samps = torch.tensor(samps,dtype=torch.float32)\n",
        "\n",
        "flattened_condition_indices = np.zeros(len(condition_indices_new))\n",
        "for i in range(len(condition_indices_new)):\n",
        "    flattened_condition_indices[i] = condition_indices_x[i] * 64 + condition_indices_y[i]\n",
        "flattened_condition_indices = flattened_condition_indices.astype(int)\n",
        "\n",
        "# Create the model and load weights.\n",
        "PATH = \"Models/BEST_MODEL.pth\"\n",
        "model = StackedContextViT(\n",
        "    vocab=vocab,\n",
        "    mask_token=mask_token,\n",
        "    patch_dim=patch_dim,\n",
        "    num_patches=num_patches,\n",
        "    emb_dim=emb_dim,\n",
        "    num_heads=num_heads,\n",
        "    num_layers=num_layers,\n",
        "    ffn_dim=ffn_dim,\n",
        "    use_pos_emb=False,          # <— must be True to load the old 256×64 buffer\n",
        "    use_rel_bias=True\n",
        ")\n",
        "\n",
        "device = torch.device(\"cuda\" if torch.cuda.is_available() else \"cpu\")\n",
        "model.load_state_dict(torch.load(PATH, map_location=device))  # remove weights_only if not applicable\n",
        "\"\"\"\n",
        "trained_model = run_training(training_data, nr_epochs, batch_size, mask_rate,\n",
        "                 final_mask_rate, mask_schedule, patch_size, num_heads,\n",
        "                 num_layers, ffn_dim, learning_rate, emb_dim, vocab_cap,pretrained=model,\n",
        "                 use_pos_emb=False,use_rel_bias=True,rel_bias=model.rel_bias_table)\n",
        "\"\"\""
      ],
      "metadata": {
        "colab": {
          "base_uri": "https://localhost:8080/",
          "height": 88
        },
        "id": "EfGJ0p0IXgRr",
        "outputId": "86e8a515-d5a8-4569-b725-30ddee1c64c0"
      },
      "execution_count": 9,
      "outputs": [
        {
          "output_type": "execute_result",
          "data": {
            "text/plain": [
              "'\\ntrained_model = run_training(training_data, nr_epochs, batch_size, mask_rate, \\n                 final_mask_rate, mask_schedule, patch_size, num_heads, \\n                 num_layers, ffn_dim, learning_rate, emb_dim, vocab_cap,pretrained=model, \\n                 use_pos_emb=False,use_rel_bias=True,rel_bias=model.rel_bias_table)\\n'"
            ],
            "application/vnd.google.colaboratory.intrinsic+json": {
              "type": "string"
            }
          },
          "metadata": {},
          "execution_count": 9
        }
      ]
    },
    {
      "cell_type": "code",
      "source": [
        "model"
      ],
      "metadata": {
        "id": "O-YZEENA4Zzu",
        "outputId": "94eac352-fc35-4aeb-f95b-4e968a038e11",
        "colab": {
          "base_uri": "https://localhost:8080/"
        }
      },
      "execution_count": 11,
      "outputs": [
        {
          "output_type": "execute_result",
          "data": {
            "text/plain": [
              "StackedContextViT(\n",
              "  (patch_proj): Linear(in_features=16, out_features=64, bias=True)\n",
              "  (out_drop): Dropout(p=0.1, inplace=False)\n",
              "  (layers): ModuleList(\n",
              "    (0-1): 2 x TransformerEncoderBlock(\n",
              "      (attn): MultiheadAttention(\n",
              "        (out_proj): NonDynamicallyQuantizableLinear(in_features=64, out_features=64, bias=True)\n",
              "      )\n",
              "      (drop1): Dropout(p=0.1, inplace=False)\n",
              "      (norm1): LayerNorm((64,), eps=1e-05, elementwise_affine=True)\n",
              "      (ffn): Sequential(\n",
              "        (0): Linear(in_features=64, out_features=256, bias=True)\n",
              "        (1): GELU(approximate='none')\n",
              "        (2): Dropout(p=0.1, inplace=False)\n",
              "        (3): Linear(in_features=256, out_features=64, bias=True)\n",
              "        (4): Dropout(p=0.1, inplace=False)\n",
              "      )\n",
              "      (norm2): LayerNorm((64,), eps=1e-05, elementwise_affine=True)\n",
              "    )\n",
              "  )\n",
              "  (out_proj): Linear(in_features=64, out_features=5485, bias=True)\n",
              ")"
            ]
          },
          "metadata": {},
          "execution_count": 11
        }
      ]
    },
    {
      "cell_type": "code",
      "source": [
        "import torch\n",
        "\n",
        "ckpt_path = \"Models/BEST_MODEL.pth\"\n",
        "ckpt = torch.load(ckpt_path, map_location=\"cpu\")\n",
        "\n",
        "print(\"=== CHECKPOINT PARAMS ===\")\n",
        "for k, v in ckpt.items():\n",
        "    # some entries in a checkpoint might be nested dicts (e.g. optimizer states)\n",
        "    # we only want the tensors, so check isinstance(v, torch.Tensor)\n",
        "    if isinstance(v, torch.Tensor):\n",
        "        print(f\"{k:40s}  {tuple(v.shape)}  dtype={v.dtype}\")\n",
        "    else:\n",
        "        print(f\"{k:40s}  (type={type(v)})\")"
      ],
      "metadata": {
        "id": "qwQ77wR92dFk",
        "outputId": "caa05bdb-3375-4e49-990d-36f9f9cbeef1",
        "colab": {
          "base_uri": "https://localhost:8080/"
        }
      },
      "execution_count": 12,
      "outputs": [
        {
          "output_type": "stream",
          "name": "stdout",
          "text": [
            "=== CHECKPOINT PARAMS ===\n",
            "mask_token                                (16,)  dtype=torch.float32\n",
            "rel_bias_table                            (31, 31)  dtype=torch.float32\n",
            "pos_emb                                   (1,)  dtype=torch.float32\n",
            "patch_proj.weight                         (64, 16)  dtype=torch.float32\n",
            "patch_proj.bias                           (64,)  dtype=torch.float32\n",
            "layers.0.attn.in_proj_weight              (192, 64)  dtype=torch.float32\n",
            "layers.0.attn.in_proj_bias                (192,)  dtype=torch.float32\n",
            "layers.0.attn.out_proj.weight             (64, 64)  dtype=torch.float32\n",
            "layers.0.attn.out_proj.bias               (64,)  dtype=torch.float32\n",
            "layers.0.norm1.weight                     (64,)  dtype=torch.float32\n",
            "layers.0.norm1.bias                       (64,)  dtype=torch.float32\n",
            "layers.0.ffn.0.weight                     (256, 64)  dtype=torch.float32\n",
            "layers.0.ffn.0.bias                       (256,)  dtype=torch.float32\n",
            "layers.0.ffn.3.weight                     (64, 256)  dtype=torch.float32\n",
            "layers.0.ffn.3.bias                       (64,)  dtype=torch.float32\n",
            "layers.0.norm2.weight                     (64,)  dtype=torch.float32\n",
            "layers.0.norm2.bias                       (64,)  dtype=torch.float32\n",
            "layers.1.attn.in_proj_weight              (192, 64)  dtype=torch.float32\n",
            "layers.1.attn.in_proj_bias                (192,)  dtype=torch.float32\n",
            "layers.1.attn.out_proj.weight             (64, 64)  dtype=torch.float32\n",
            "layers.1.attn.out_proj.bias               (64,)  dtype=torch.float32\n",
            "layers.1.norm1.weight                     (64,)  dtype=torch.float32\n",
            "layers.1.norm1.bias                       (64,)  dtype=torch.float32\n",
            "layers.1.ffn.0.weight                     (256, 64)  dtype=torch.float32\n",
            "layers.1.ffn.0.bias                       (256,)  dtype=torch.float32\n",
            "layers.1.ffn.3.weight                     (64, 256)  dtype=torch.float32\n",
            "layers.1.ffn.3.bias                       (64,)  dtype=torch.float32\n",
            "layers.1.norm2.weight                     (64,)  dtype=torch.float32\n",
            "layers.1.norm2.bias                       (64,)  dtype=torch.float32\n",
            "out_proj.weight                           (5485, 64)  dtype=torch.float32\n",
            "out_proj.bias                             (5485,)  dtype=torch.float32\n"
          ]
        }
      ]
    },
    {
      "cell_type": "code",
      "source": [
        "# Assume training_data is already defined with shape (N, H, W)\n",
        "N, H, W = training_data.shape\n",
        "\n",
        "# Set parameters.\n",
        "vocab, counts, mask_token = build_vocabulary(training_data, patch_size, cap_size=vocab_cap)\n",
        "patch_dim = patch_size ** 2\n",
        "num_patches = (H // patch_size) ** 2\n",
        "\n",
        "#samps = torch.tensor(samps,dtype=torch.float32)\n",
        "\n",
        "flattened_condition_indices = np.zeros(len(condition_indices_new))\n",
        "for i in range(len(condition_indices_new)):\n",
        "    flattened_condition_indices[i] = condition_indices_x[i] * 64 + condition_indices_y[i]\n",
        "flattened_condition_indices = flattened_condition_indices.astype(int)\n",
        "\n",
        "# Create the model and load weights.\n",
        "PATH = \"Models/BEST_MODEL.pth\"\n",
        "model = StackedContextViT(\n",
        "    vocab=vocab,\n",
        "    mask_token=mask_token,\n",
        "    patch_dim=patch_dim,\n",
        "    num_patches=num_patches,\n",
        "    emb_dim=emb_dim,\n",
        "    num_heads=num_heads,\n",
        "    num_layers=num_layers,\n",
        "    ffn_dim=ffn_dim,\n",
        "    use_pos_emb=False,          # <— must be True to load the old 256×64 buffer\n",
        "    use_rel_bias=True\n",
        ")\n",
        "\n",
        "device = torch.device(\"cuda\" if torch.cuda.is_available() else \"cpu\")\n",
        "model.load_state_dict(torch.load(PATH, map_location=device))  # remove weights_only if not applicable\n",
        "\"\"\"\n",
        "model.to(device)\n",
        "model.vocab = model.vocab.to(device)\n",
        "model.mask_token = model.mask_token.to(device)\n",
        "images,ll = generate_images_batch(model, patch_size, image_size=H, batch_size=3,device=device,\n",
        "                          condition_indices=flattened_condition_indices, condition_values=condition_values_new,\n",
        "                          generation_order=\"manhattan\")\n",
        "plt.imshow(images[0],cmap='gray')\n",
        "plt.title(f\"ll: {ll[0]}\")\n",
        "plt.show()\n",
        "images = images.to(device)\n",
        "ll_new = log_likelihood_evaluation_batch(\n",
        "    model,\n",
        "    images,            # tensor [B, H, W] of binary images\n",
        "    patch_size,              # int\n",
        "    condition_indices=flattened_condition_indices,\n",
        "    condition_values=condition_values_new,\n",
        "    generation_order=\"manhattan\"\n",
        ")\n",
        "print(f\"ll_new: {ll_new[0]}\")\n",
        "samps = samps.to(device)\n",
        "ll_VEA_full = []\n",
        "for i in range(30):\n",
        "  ll_VEA = log_likelihood_evaluation_batch(\n",
        "      model,\n",
        "      samps[i*100:(i+1)*100],            # tensor [B, H, W] of binary images\n",
        "      patch_size,              # int\n",
        "      condition_indices=flattened_condition_indices,\n",
        "      condition_values=condition_values_new,\n",
        "      generation_order=\"manhattan\"\n",
        "  )\n",
        "  ll_VEA_full.append(ll_VEA)\n",
        "print(ll_VEA)\n",
        "\"\"\""
      ],
      "metadata": {
        "id": "q7BhKWY0shM0",
        "outputId": "68a93e51-afa1-4301-cbf4-bdde186aefe4",
        "colab": {
          "base_uri": "https://localhost:8080/",
          "height": 228
        }
      },
      "execution_count": 9,
      "outputs": [
        {
          "output_type": "error",
          "ename": "NameError",
          "evalue": "name 'patch_size' is not defined",
          "traceback": [
            "\u001b[0;31m---------------------------------------------------------------------------\u001b[0m",
            "\u001b[0;31mNameError\u001b[0m                                 Traceback (most recent call last)",
            "\u001b[0;32m<ipython-input-9-488f78340e38>\u001b[0m in \u001b[0;36m<cell line: 0>\u001b[0;34m()\u001b[0m\n\u001b[1;32m      3\u001b[0m \u001b[0;34m\u001b[0m\u001b[0m\n\u001b[1;32m      4\u001b[0m \u001b[0;31m# Set parameters.\u001b[0m\u001b[0;34m\u001b[0m\u001b[0;34m\u001b[0m\u001b[0m\n\u001b[0;32m----> 5\u001b[0;31m \u001b[0mvocab\u001b[0m\u001b[0;34m,\u001b[0m \u001b[0mcounts\u001b[0m\u001b[0;34m,\u001b[0m \u001b[0mmask_token\u001b[0m \u001b[0;34m=\u001b[0m \u001b[0mbuild_vocabulary\u001b[0m\u001b[0;34m(\u001b[0m\u001b[0mtraining_data\u001b[0m\u001b[0;34m,\u001b[0m \u001b[0mpatch_size\u001b[0m\u001b[0;34m,\u001b[0m \u001b[0mcap_size\u001b[0m\u001b[0;34m=\u001b[0m\u001b[0mvocab_cap\u001b[0m\u001b[0;34m)\u001b[0m\u001b[0;34m\u001b[0m\u001b[0;34m\u001b[0m\u001b[0m\n\u001b[0m\u001b[1;32m      6\u001b[0m \u001b[0mpatch_dim\u001b[0m \u001b[0;34m=\u001b[0m \u001b[0mpatch_size\u001b[0m \u001b[0;34m**\u001b[0m \u001b[0;36m2\u001b[0m\u001b[0;34m\u001b[0m\u001b[0;34m\u001b[0m\u001b[0m\n\u001b[1;32m      7\u001b[0m \u001b[0mnum_patches\u001b[0m \u001b[0;34m=\u001b[0m \u001b[0;34m(\u001b[0m\u001b[0mH\u001b[0m \u001b[0;34m//\u001b[0m \u001b[0mpatch_size\u001b[0m\u001b[0;34m)\u001b[0m \u001b[0;34m**\u001b[0m \u001b[0;36m2\u001b[0m\u001b[0;34m\u001b[0m\u001b[0;34m\u001b[0m\u001b[0m\n",
            "\u001b[0;31mNameError\u001b[0m: name 'patch_size' is not defined"
          ]
        }
      ]
    },
    {
      "cell_type": "code",
      "source": [
        "import math\n",
        "import torch\n",
        "import torch.nn.functional as F\n",
        "\n",
        "def compute_log_likelihood_batch(\n",
        "    model,\n",
        "    device,\n",
        "    image_batches,\n",
        "    condition_indices=None,\n",
        "    condition_values=None,\n",
        "    generation_order=\"manhattan\",\n",
        "    atol=1e-6\n",
        "):\n",
        "    \"\"\"\n",
        "    Compute sum of log-likelihoods for a batch of fully-observed images under\n",
        "    the masked‐patch sequential model, following the specified generation_order.\n",
        "\n",
        "    Args:\n",
        "        model:            PyTorch model with attributes\n",
        "                          - .vocab       (Tensor[V, D])\n",
        "                          - .mask_token  (Tensor[D])\n",
        "                          and callable forward(inputs, mask_rate=0.0) -> (logits, _)\n",
        "        device:           torch device (e.g. \"cuda\")\n",
        "        image_batches:    FloatTensor of shape [B, H, W], values in [0,1]\n",
        "        condition_indices: List of flattened pixel indices to treat as\n",
        "                           additional observed constraints (shared across batch)\n",
        "        condition_values:  List of 0/1 values for those indices\n",
        "        generation_order:  One of \"raster\", \"manhattan\", \"inverse manhattan\"\n",
        "        atol:             Tolerance for matching patch vectors to vocab\n",
        "\n",
        "    Returns:\n",
        "        log_likelihoods:  FloatTensor of shape [B], sum of per-patch log-probs\n",
        "    \"\"\"\n",
        "    model.to(device)\n",
        "    model.eval()\n",
        "    image_batches = image_batches.to(device)\n",
        "    B, H, W = image_batches.shape\n",
        "    # infer patch size & grid\n",
        "    D = model.mask_token.shape[0]\n",
        "    P = int(math.sqrt(D))\n",
        "    assert P*P == D, \"mask_token dim not a square\"\n",
        "    assert H == W and H % P == 0, \"image size must be divisible by patch_size\"\n",
        "    G = H // P\n",
        "    T = G * G\n",
        "\n",
        "    # pull out true patch vectors: [B, T, D]\n",
        "    patches = (\n",
        "        image_batches\n",
        "        .unfold(1, P, P)          # -> [B, G, W, P]\n",
        "        .unfold(2, P, P)          # -> [B, G, G, P, P]\n",
        "        .permute(0,1,2,3,4)       # ensure layout\n",
        "        .contiguous()\n",
        "        .view(B, T, D)\n",
        "    )\n",
        "\n",
        "    # build patch-level condition map\n",
        "    conditions_by_patch = {}\n",
        "    if condition_indices is not None and condition_values is not None:\n",
        "        for pix_idx, pix_val in zip(condition_indices, condition_values):\n",
        "            pr, pc = divmod(pix_idx, H)\n",
        "            pr0, pc0 = pr // P, pc // P\n",
        "            pidx = pr0 * G + pc0\n",
        "            local = (pr % P)*P + (pc % P)\n",
        "            conditions_by_patch.setdefault(pidx, []).append((local, pix_val))\n",
        "\n",
        "    # figure out sampling order\n",
        "    observed = sorted(conditions_by_patch.keys())\n",
        "    all_p   = set(range(T))\n",
        "    unobs   = list(all_p - set(observed))\n",
        "\n",
        "    if generation_order == \"raster\":\n",
        "        unobs.sort()\n",
        "    elif generation_order == \"manhattan\":\n",
        "        if observed:\n",
        "            dist = []\n",
        "            for p in unobs:\n",
        "                r,c = divmod(p, G)\n",
        "                s = sum(abs(r - (o//G)) + abs(c - (o%G)) for o in observed)\n",
        "                dist.append((p,s))\n",
        "            unobs = [p for p,_ in sorted(dist, key=lambda x: x[1])]\n",
        "        else:\n",
        "            unobs.sort()\n",
        "    elif generation_order == \"inverse manhattan\":\n",
        "        if observed:\n",
        "            inv = []\n",
        "            for p in unobs:\n",
        "                r,c = divmod(p, G)\n",
        "                s = sum(1.0/(abs(r-(o//G))+abs(c-(o%G))) for o in observed)\n",
        "                inv.append((p,s))\n",
        "            unobs = [p for p,_ in sorted(inv, key=lambda x: x[1], reverse=True)]\n",
        "        else:\n",
        "            unobs.sort()\n",
        "    else:\n",
        "        raise ValueError(f\"Unknown generation_order {generation_order}\")\n",
        "\n",
        "    sampling_order = observed + unobs\n",
        "\n",
        "    # prepare storage\n",
        "    log_likes = torch.zeros(B, device=device)\n",
        "    mask_tok  = model.mask_token.detach().to(device)      # [D]\n",
        "    vocab     = model.vocab.to(device)                    # [V, D]\n",
        "    V         = vocab.shape[0]\n",
        "\n",
        "    # initially mask all patches\n",
        "    generated = mask_tok.unsqueeze(0).unsqueeze(0)\\\n",
        "                   .expand(B, T, D).clone()\n",
        "\n",
        "    # sequentially fill in actual patches, accumulating log‐probs\n",
        "    for p in sampling_order:\n",
        "        with torch.no_grad():\n",
        "            logits_full, _ = model(generated.to(device), mask_rate=0.0)\n",
        "        # logits for this patch: [B, V]\n",
        "        logits_p = logits_full[:, p, :]\n",
        "\n",
        "        # apply any patch‐level condition constraints\n",
        "        if p in conditions_by_patch:\n",
        "            valid = torch.ones(V, dtype=torch.bool, device=device)\n",
        "            for local_i, val in conditions_by_patch[p]:\n",
        "                valid &= (vocab[:, local_i] == val)\n",
        "            logits_p = logits_p.masked_fill(~valid.unsqueeze(0), -float('inf'))\n",
        "\n",
        "        # compute probabilities\n",
        "        probs_p = F.softmax(logits_p, dim=-1)  # [B, V]\n",
        "\n",
        "        # find the true token index for each image in batch\n",
        "        # compare vocab rows to the true patch vector\n",
        "        # -> [B, V, D] difference, then match along D\n",
        "        diff    = vocab.unsqueeze(0) - patches[:, p, :].unsqueeze(1)  # [B, V, D]\n",
        "        matches = torch.all(torch.abs(diff) < atol, dim=2)           # [B, V]\n",
        "        # argmax gives first True index (we assume every patch is in vocab)\n",
        "        true_idx = matches.float().argmax(dim=1)                      # [B]\n",
        "\n",
        "        # gather the probability assigned to the true token, accumulate\n",
        "        p_true = probs_p[torch.arange(B, device=device), true_idx]\n",
        "        log_likes += torch.log(p_true + 1e-10)\n",
        "\n",
        "        # now “fill in” that patch with the true vocab vector\n",
        "        generated[:, p, :] = vocab[true_idx]\n",
        "\n",
        "    return log_likes"
      ],
      "metadata": {
        "id": "MZoh8Xq3Um5o"
      },
      "execution_count": 10,
      "outputs": []
    },
    {
      "cell_type": "code",
      "source": [
        "arr = np.load(\"Data/Markov_field/training_data_mod_cond.npz\")[\"arr_0\"]\n",
        "manhattan_img = np.load('cond_images_manhattan (3).npy')\n",
        "inv_manhattan_img = np.load('reverse_manhattan_images.npy')\n",
        "manhattan_img_temp = np.load('manhattan_images.npy')\n",
        "inv_manhattan_img_temp = np.load('reverse_manhattan_images (1).npy')\n",
        "samps = np.concatenate((arr,manhattan_img,inv_manhattan_img,manhattan_img_temp,inv_manhattan_img_temp))\n",
        "samps = np.array(samps)\n",
        "samps.shape"
      ],
      "metadata": {
        "id": "eM_KRkTMj5dd",
        "outputId": "467b4aa1-7778-47a4-9569-500e64f43ec5",
        "colab": {
          "base_uri": "https://localhost:8080/"
        }
      },
      "execution_count": 11,
      "outputs": [
        {
          "output_type": "execute_result",
          "data": {
            "text/plain": [
              "(5000, 64, 64)"
            ]
          },
          "metadata": {},
          "execution_count": 11
        }
      ]
    },
    {
      "cell_type": "code",
      "source": [
        "log_lik_list = []\n",
        "for i in range(500):\n",
        "  curr_batch = samps[i*10:(i+1)*10]\n",
        "  curr_batch = torch.tensor(curr_batch,dtype=torch.float32).to(device)\n",
        "  log_lik = compute_log_likelihood_batch(\n",
        "      model,\n",
        "      device,\n",
        "      curr_batch,\n",
        "      condition_indices=flattened_condition_indices,\n",
        "      condition_values=condition_values_new,\n",
        "      generation_order=\"manhattan\",\n",
        "      atol=1e-6\n",
        "  )\n",
        "  log_lik_list.append(log_lik)\n",
        "  print(f\"sampled {i+1} out of 500\")\n",
        "#print(log_lik_list)\n",
        "# Convert to numpy array\n",
        "log_lik_array = np.array(log_lik_list)\n",
        "# save numpy array\n",
        "np.save(\"log_lik_array_all_samples_manhattan.npy\", log_lik_array)"
      ],
      "metadata": {
        "id": "fC_0qsqZXxqz",
        "outputId": "187d2975-8f3c-4e9a-8a13-1869c5f73bf0",
        "colab": {
          "base_uri": "https://localhost:8080/",
          "height": 599
        }
      },
      "execution_count": 13,
      "outputs": [
        {
          "output_type": "stream",
          "name": "stdout",
          "text": [
            "sampled 1 out of 500\n",
            "sampled 2 out of 500\n",
            "sampled 3 out of 500\n",
            "sampled 4 out of 500\n",
            "sampled 5 out of 500\n",
            "sampled 6 out of 500\n",
            "sampled 7 out of 500\n",
            "sampled 8 out of 500\n",
            "sampled 9 out of 500\n"
          ]
        },
        {
          "output_type": "error",
          "ename": "KeyboardInterrupt",
          "evalue": "",
          "traceback": [
            "\u001b[0;31m---------------------------------------------------------------------------\u001b[0m",
            "\u001b[0;31mKeyboardInterrupt\u001b[0m                         Traceback (most recent call last)",
            "\u001b[0;32m<ipython-input-13-7a30c67e1228>\u001b[0m in \u001b[0;36m<cell line: 0>\u001b[0;34m()\u001b[0m\n\u001b[1;32m      3\u001b[0m   \u001b[0mcurr_batch\u001b[0m \u001b[0;34m=\u001b[0m \u001b[0msamps\u001b[0m\u001b[0;34m[\u001b[0m\u001b[0mi\u001b[0m\u001b[0;34m*\u001b[0m\u001b[0;36m10\u001b[0m\u001b[0;34m:\u001b[0m\u001b[0;34m(\u001b[0m\u001b[0mi\u001b[0m\u001b[0;34m+\u001b[0m\u001b[0;36m1\u001b[0m\u001b[0;34m)\u001b[0m\u001b[0;34m*\u001b[0m\u001b[0;36m10\u001b[0m\u001b[0;34m]\u001b[0m\u001b[0;34m\u001b[0m\u001b[0;34m\u001b[0m\u001b[0m\n\u001b[1;32m      4\u001b[0m   \u001b[0mcurr_batch\u001b[0m \u001b[0;34m=\u001b[0m \u001b[0mtorch\u001b[0m\u001b[0;34m.\u001b[0m\u001b[0mtensor\u001b[0m\u001b[0;34m(\u001b[0m\u001b[0mcurr_batch\u001b[0m\u001b[0;34m,\u001b[0m\u001b[0mdtype\u001b[0m\u001b[0;34m=\u001b[0m\u001b[0mtorch\u001b[0m\u001b[0;34m.\u001b[0m\u001b[0mfloat32\u001b[0m\u001b[0;34m)\u001b[0m\u001b[0;34m.\u001b[0m\u001b[0mto\u001b[0m\u001b[0;34m(\u001b[0m\u001b[0mdevice\u001b[0m\u001b[0;34m)\u001b[0m\u001b[0;34m\u001b[0m\u001b[0;34m\u001b[0m\u001b[0m\n\u001b[0;32m----> 5\u001b[0;31m   log_lik = compute_log_likelihood_batch(\n\u001b[0m\u001b[1;32m      6\u001b[0m       \u001b[0mmodel\u001b[0m\u001b[0;34m,\u001b[0m\u001b[0;34m\u001b[0m\u001b[0;34m\u001b[0m\u001b[0m\n\u001b[1;32m      7\u001b[0m       \u001b[0mdevice\u001b[0m\u001b[0;34m,\u001b[0m\u001b[0;34m\u001b[0m\u001b[0;34m\u001b[0m\u001b[0m\n",
            "\u001b[0;32m<ipython-input-10-a33625318473>\u001b[0m in \u001b[0;36mcompute_log_likelihood_batch\u001b[0;34m(model, device, image_batches, condition_indices, condition_values, generation_order, atol)\u001b[0m\n\u001b[1;32m    109\u001b[0m     \u001b[0;32mfor\u001b[0m \u001b[0mp\u001b[0m \u001b[0;32min\u001b[0m \u001b[0msampling_order\u001b[0m\u001b[0;34m:\u001b[0m\u001b[0;34m\u001b[0m\u001b[0;34m\u001b[0m\u001b[0m\n\u001b[1;32m    110\u001b[0m         \u001b[0;32mwith\u001b[0m \u001b[0mtorch\u001b[0m\u001b[0;34m.\u001b[0m\u001b[0mno_grad\u001b[0m\u001b[0;34m(\u001b[0m\u001b[0;34m)\u001b[0m\u001b[0;34m:\u001b[0m\u001b[0;34m\u001b[0m\u001b[0;34m\u001b[0m\u001b[0m\n\u001b[0;32m--> 111\u001b[0;31m             \u001b[0mlogits_full\u001b[0m\u001b[0;34m,\u001b[0m \u001b[0m_\u001b[0m \u001b[0;34m=\u001b[0m \u001b[0mmodel\u001b[0m\u001b[0;34m(\u001b[0m\u001b[0mgenerated\u001b[0m\u001b[0;34m.\u001b[0m\u001b[0mto\u001b[0m\u001b[0;34m(\u001b[0m\u001b[0mdevice\u001b[0m\u001b[0;34m)\u001b[0m\u001b[0;34m,\u001b[0m \u001b[0mmask_rate\u001b[0m\u001b[0;34m=\u001b[0m\u001b[0;36m0.0\u001b[0m\u001b[0;34m)\u001b[0m\u001b[0;34m\u001b[0m\u001b[0;34m\u001b[0m\u001b[0m\n\u001b[0m\u001b[1;32m    112\u001b[0m         \u001b[0;31m# logits for this patch: [B, V]\u001b[0m\u001b[0;34m\u001b[0m\u001b[0;34m\u001b[0m\u001b[0m\n\u001b[1;32m    113\u001b[0m         \u001b[0mlogits_p\u001b[0m \u001b[0;34m=\u001b[0m \u001b[0mlogits_full\u001b[0m\u001b[0;34m[\u001b[0m\u001b[0;34m:\u001b[0m\u001b[0;34m,\u001b[0m \u001b[0mp\u001b[0m\u001b[0;34m,\u001b[0m \u001b[0;34m:\u001b[0m\u001b[0;34m]\u001b[0m\u001b[0;34m\u001b[0m\u001b[0;34m\u001b[0m\u001b[0m\n",
            "\u001b[0;32m/usr/local/lib/python3.11/dist-packages/torch/nn/modules/module.py\u001b[0m in \u001b[0;36m_wrapped_call_impl\u001b[0;34m(self, *args, **kwargs)\u001b[0m\n\u001b[1;32m   1737\u001b[0m             \u001b[0;32mreturn\u001b[0m \u001b[0mself\u001b[0m\u001b[0;34m.\u001b[0m\u001b[0m_compiled_call_impl\u001b[0m\u001b[0;34m(\u001b[0m\u001b[0;34m*\u001b[0m\u001b[0margs\u001b[0m\u001b[0;34m,\u001b[0m \u001b[0;34m**\u001b[0m\u001b[0mkwargs\u001b[0m\u001b[0;34m)\u001b[0m  \u001b[0;31m# type: ignore[misc]\u001b[0m\u001b[0;34m\u001b[0m\u001b[0;34m\u001b[0m\u001b[0m\n\u001b[1;32m   1738\u001b[0m         \u001b[0;32melse\u001b[0m\u001b[0;34m:\u001b[0m\u001b[0;34m\u001b[0m\u001b[0;34m\u001b[0m\u001b[0m\n\u001b[0;32m-> 1739\u001b[0;31m             \u001b[0;32mreturn\u001b[0m \u001b[0mself\u001b[0m\u001b[0;34m.\u001b[0m\u001b[0m_call_impl\u001b[0m\u001b[0;34m(\u001b[0m\u001b[0;34m*\u001b[0m\u001b[0margs\u001b[0m\u001b[0;34m,\u001b[0m \u001b[0;34m**\u001b[0m\u001b[0mkwargs\u001b[0m\u001b[0;34m)\u001b[0m\u001b[0;34m\u001b[0m\u001b[0;34m\u001b[0m\u001b[0m\n\u001b[0m\u001b[1;32m   1740\u001b[0m \u001b[0;34m\u001b[0m\u001b[0m\n\u001b[1;32m   1741\u001b[0m     \u001b[0;31m# torchrec tests the code consistency with the following code\u001b[0m\u001b[0;34m\u001b[0m\u001b[0;34m\u001b[0m\u001b[0m\n",
            "\u001b[0;32m/usr/local/lib/python3.11/dist-packages/torch/nn/modules/module.py\u001b[0m in \u001b[0;36m_call_impl\u001b[0;34m(self, *args, **kwargs)\u001b[0m\n\u001b[1;32m   1748\u001b[0m                 \u001b[0;32mor\u001b[0m \u001b[0m_global_backward_pre_hooks\u001b[0m \u001b[0;32mor\u001b[0m \u001b[0m_global_backward_hooks\u001b[0m\u001b[0;34m\u001b[0m\u001b[0;34m\u001b[0m\u001b[0m\n\u001b[1;32m   1749\u001b[0m                 or _global_forward_hooks or _global_forward_pre_hooks):\n\u001b[0;32m-> 1750\u001b[0;31m             \u001b[0;32mreturn\u001b[0m \u001b[0mforward_call\u001b[0m\u001b[0;34m(\u001b[0m\u001b[0;34m*\u001b[0m\u001b[0margs\u001b[0m\u001b[0;34m,\u001b[0m \u001b[0;34m**\u001b[0m\u001b[0mkwargs\u001b[0m\u001b[0;34m)\u001b[0m\u001b[0;34m\u001b[0m\u001b[0;34m\u001b[0m\u001b[0m\n\u001b[0m\u001b[1;32m   1751\u001b[0m \u001b[0;34m\u001b[0m\u001b[0m\n\u001b[1;32m   1752\u001b[0m         \u001b[0mresult\u001b[0m \u001b[0;34m=\u001b[0m \u001b[0;32mNone\u001b[0m\u001b[0;34m\u001b[0m\u001b[0;34m\u001b[0m\u001b[0m\n",
            "\u001b[0;32m/content/GeoDecepticon/ViT.py\u001b[0m in \u001b[0;36mforward\u001b[0;34m(self, patches, mask_rate)\u001b[0m\n\u001b[1;32m    197\u001b[0m         \u001b[0;31m# 5) apply transformer layers\u001b[0m\u001b[0;34m\u001b[0m\u001b[0;34m\u001b[0m\u001b[0m\n\u001b[1;32m    198\u001b[0m         \u001b[0;32mfor\u001b[0m \u001b[0mlayer\u001b[0m \u001b[0;32min\u001b[0m \u001b[0mself\u001b[0m\u001b[0;34m.\u001b[0m\u001b[0mlayers\u001b[0m\u001b[0;34m:\u001b[0m\u001b[0;34m\u001b[0m\u001b[0;34m\u001b[0m\u001b[0m\n\u001b[0;32m--> 199\u001b[0;31m             \u001b[0mx\u001b[0m \u001b[0;34m=\u001b[0m \u001b[0mlayer\u001b[0m\u001b[0;34m(\u001b[0m\u001b[0mx\u001b[0m\u001b[0;34m,\u001b[0m \u001b[0mattn_mask\u001b[0m\u001b[0;34m=\u001b[0m\u001b[0mattn_bias\u001b[0m\u001b[0;34m)\u001b[0m\u001b[0;34m\u001b[0m\u001b[0;34m\u001b[0m\u001b[0m\n\u001b[0m\u001b[1;32m    200\u001b[0m \u001b[0;34m\u001b[0m\u001b[0m\n\u001b[1;32m    201\u001b[0m         \u001b[0;31m# 6) final logits\u001b[0m\u001b[0;34m\u001b[0m\u001b[0;34m\u001b[0m\u001b[0m\n",
            "\u001b[0;32m/usr/local/lib/python3.11/dist-packages/torch/nn/modules/module.py\u001b[0m in \u001b[0;36m_wrapped_call_impl\u001b[0;34m(self, *args, **kwargs)\u001b[0m\n\u001b[1;32m   1737\u001b[0m             \u001b[0;32mreturn\u001b[0m \u001b[0mself\u001b[0m\u001b[0;34m.\u001b[0m\u001b[0m_compiled_call_impl\u001b[0m\u001b[0;34m(\u001b[0m\u001b[0;34m*\u001b[0m\u001b[0margs\u001b[0m\u001b[0;34m,\u001b[0m \u001b[0;34m**\u001b[0m\u001b[0mkwargs\u001b[0m\u001b[0;34m)\u001b[0m  \u001b[0;31m# type: ignore[misc]\u001b[0m\u001b[0;34m\u001b[0m\u001b[0;34m\u001b[0m\u001b[0m\n\u001b[1;32m   1738\u001b[0m         \u001b[0;32melse\u001b[0m\u001b[0;34m:\u001b[0m\u001b[0;34m\u001b[0m\u001b[0;34m\u001b[0m\u001b[0m\n\u001b[0;32m-> 1739\u001b[0;31m             \u001b[0;32mreturn\u001b[0m \u001b[0mself\u001b[0m\u001b[0;34m.\u001b[0m\u001b[0m_call_impl\u001b[0m\u001b[0;34m(\u001b[0m\u001b[0;34m*\u001b[0m\u001b[0margs\u001b[0m\u001b[0;34m,\u001b[0m \u001b[0;34m**\u001b[0m\u001b[0mkwargs\u001b[0m\u001b[0;34m)\u001b[0m\u001b[0;34m\u001b[0m\u001b[0;34m\u001b[0m\u001b[0m\n\u001b[0m\u001b[1;32m   1740\u001b[0m \u001b[0;34m\u001b[0m\u001b[0m\n\u001b[1;32m   1741\u001b[0m     \u001b[0;31m# torchrec tests the code consistency with the following code\u001b[0m\u001b[0;34m\u001b[0m\u001b[0;34m\u001b[0m\u001b[0m\n",
            "\u001b[0;32m/usr/local/lib/python3.11/dist-packages/torch/nn/modules/module.py\u001b[0m in \u001b[0;36m_call_impl\u001b[0;34m(self, *args, **kwargs)\u001b[0m\n\u001b[1;32m   1748\u001b[0m                 \u001b[0;32mor\u001b[0m \u001b[0m_global_backward_pre_hooks\u001b[0m \u001b[0;32mor\u001b[0m \u001b[0m_global_backward_hooks\u001b[0m\u001b[0;34m\u001b[0m\u001b[0;34m\u001b[0m\u001b[0m\n\u001b[1;32m   1749\u001b[0m                 or _global_forward_hooks or _global_forward_pre_hooks):\n\u001b[0;32m-> 1750\u001b[0;31m             \u001b[0;32mreturn\u001b[0m \u001b[0mforward_call\u001b[0m\u001b[0;34m(\u001b[0m\u001b[0;34m*\u001b[0m\u001b[0margs\u001b[0m\u001b[0;34m,\u001b[0m \u001b[0;34m**\u001b[0m\u001b[0mkwargs\u001b[0m\u001b[0;34m)\u001b[0m\u001b[0;34m\u001b[0m\u001b[0;34m\u001b[0m\u001b[0m\n\u001b[0m\u001b[1;32m   1751\u001b[0m \u001b[0;34m\u001b[0m\u001b[0m\n\u001b[1;32m   1752\u001b[0m         \u001b[0mresult\u001b[0m \u001b[0;34m=\u001b[0m \u001b[0;32mNone\u001b[0m\u001b[0;34m\u001b[0m\u001b[0;34m\u001b[0m\u001b[0m\n",
            "\u001b[0;32m/content/GeoDecepticon/ViT.py\u001b[0m in \u001b[0;36mforward\u001b[0;34m(self, x, attn_mask)\u001b[0m\n\u001b[1;32m     95\u001b[0m     \u001b[0;32mdef\u001b[0m \u001b[0mforward\u001b[0m\u001b[0;34m(\u001b[0m\u001b[0mself\u001b[0m\u001b[0;34m,\u001b[0m \u001b[0mx\u001b[0m\u001b[0;34m,\u001b[0m \u001b[0mattn_mask\u001b[0m\u001b[0;34m=\u001b[0m\u001b[0;32mNone\u001b[0m\u001b[0;34m)\u001b[0m\u001b[0;34m:\u001b[0m\u001b[0;34m\u001b[0m\u001b[0;34m\u001b[0m\u001b[0m\n\u001b[1;32m     96\u001b[0m         \u001b[0;31m# attn_mask here is [N,N] if provided\u001b[0m\u001b[0;34m\u001b[0m\u001b[0;34m\u001b[0m\u001b[0m\n\u001b[0;32m---> 97\u001b[0;31m         \u001b[0mout\u001b[0m\u001b[0;34m,\u001b[0m \u001b[0m_\u001b[0m \u001b[0;34m=\u001b[0m \u001b[0mself\u001b[0m\u001b[0;34m.\u001b[0m\u001b[0mattn\u001b[0m\u001b[0;34m(\u001b[0m\u001b[0mx\u001b[0m\u001b[0;34m,\u001b[0m \u001b[0mx\u001b[0m\u001b[0;34m,\u001b[0m \u001b[0mx\u001b[0m\u001b[0;34m,\u001b[0m \u001b[0mattn_mask\u001b[0m\u001b[0;34m=\u001b[0m\u001b[0mattn_mask\u001b[0m\u001b[0;34m)\u001b[0m\u001b[0;34m\u001b[0m\u001b[0;34m\u001b[0m\u001b[0m\n\u001b[0m\u001b[1;32m     98\u001b[0m         \u001b[0mx\u001b[0m \u001b[0;34m=\u001b[0m \u001b[0mself\u001b[0m\u001b[0;34m.\u001b[0m\u001b[0mnorm1\u001b[0m\u001b[0;34m(\u001b[0m\u001b[0mx\u001b[0m \u001b[0;34m+\u001b[0m \u001b[0mself\u001b[0m\u001b[0;34m.\u001b[0m\u001b[0mdrop1\u001b[0m\u001b[0;34m(\u001b[0m\u001b[0mout\u001b[0m\u001b[0;34m)\u001b[0m\u001b[0;34m)\u001b[0m\u001b[0;34m\u001b[0m\u001b[0;34m\u001b[0m\u001b[0m\n\u001b[1;32m     99\u001b[0m         \u001b[0mx\u001b[0m \u001b[0;34m=\u001b[0m \u001b[0mself\u001b[0m\u001b[0;34m.\u001b[0m\u001b[0mnorm2\u001b[0m\u001b[0;34m(\u001b[0m\u001b[0mx\u001b[0m \u001b[0;34m+\u001b[0m \u001b[0mself\u001b[0m\u001b[0;34m.\u001b[0m\u001b[0mffn\u001b[0m\u001b[0;34m(\u001b[0m\u001b[0mx\u001b[0m\u001b[0;34m)\u001b[0m\u001b[0;34m)\u001b[0m\u001b[0;34m\u001b[0m\u001b[0;34m\u001b[0m\u001b[0m\n",
            "\u001b[0;32m/usr/local/lib/python3.11/dist-packages/torch/nn/modules/module.py\u001b[0m in \u001b[0;36m_wrapped_call_impl\u001b[0;34m(self, *args, **kwargs)\u001b[0m\n\u001b[1;32m   1737\u001b[0m             \u001b[0;32mreturn\u001b[0m \u001b[0mself\u001b[0m\u001b[0;34m.\u001b[0m\u001b[0m_compiled_call_impl\u001b[0m\u001b[0;34m(\u001b[0m\u001b[0;34m*\u001b[0m\u001b[0margs\u001b[0m\u001b[0;34m,\u001b[0m \u001b[0;34m**\u001b[0m\u001b[0mkwargs\u001b[0m\u001b[0;34m)\u001b[0m  \u001b[0;31m# type: ignore[misc]\u001b[0m\u001b[0;34m\u001b[0m\u001b[0;34m\u001b[0m\u001b[0m\n\u001b[1;32m   1738\u001b[0m         \u001b[0;32melse\u001b[0m\u001b[0;34m:\u001b[0m\u001b[0;34m\u001b[0m\u001b[0;34m\u001b[0m\u001b[0m\n\u001b[0;32m-> 1739\u001b[0;31m             \u001b[0;32mreturn\u001b[0m \u001b[0mself\u001b[0m\u001b[0;34m.\u001b[0m\u001b[0m_call_impl\u001b[0m\u001b[0;34m(\u001b[0m\u001b[0;34m*\u001b[0m\u001b[0margs\u001b[0m\u001b[0;34m,\u001b[0m \u001b[0;34m**\u001b[0m\u001b[0mkwargs\u001b[0m\u001b[0;34m)\u001b[0m\u001b[0;34m\u001b[0m\u001b[0;34m\u001b[0m\u001b[0m\n\u001b[0m\u001b[1;32m   1740\u001b[0m \u001b[0;34m\u001b[0m\u001b[0m\n\u001b[1;32m   1741\u001b[0m     \u001b[0;31m# torchrec tests the code consistency with the following code\u001b[0m\u001b[0;34m\u001b[0m\u001b[0;34m\u001b[0m\u001b[0m\n",
            "\u001b[0;32m/usr/local/lib/python3.11/dist-packages/torch/nn/modules/module.py\u001b[0m in \u001b[0;36m_call_impl\u001b[0;34m(self, *args, **kwargs)\u001b[0m\n\u001b[1;32m   1748\u001b[0m                 \u001b[0;32mor\u001b[0m \u001b[0m_global_backward_pre_hooks\u001b[0m \u001b[0;32mor\u001b[0m \u001b[0m_global_backward_hooks\u001b[0m\u001b[0;34m\u001b[0m\u001b[0;34m\u001b[0m\u001b[0m\n\u001b[1;32m   1749\u001b[0m                 or _global_forward_hooks or _global_forward_pre_hooks):\n\u001b[0;32m-> 1750\u001b[0;31m             \u001b[0;32mreturn\u001b[0m \u001b[0mforward_call\u001b[0m\u001b[0;34m(\u001b[0m\u001b[0;34m*\u001b[0m\u001b[0margs\u001b[0m\u001b[0;34m,\u001b[0m \u001b[0;34m**\u001b[0m\u001b[0mkwargs\u001b[0m\u001b[0;34m)\u001b[0m\u001b[0;34m\u001b[0m\u001b[0;34m\u001b[0m\u001b[0m\n\u001b[0m\u001b[1;32m   1751\u001b[0m \u001b[0;34m\u001b[0m\u001b[0m\n\u001b[1;32m   1752\u001b[0m         \u001b[0mresult\u001b[0m \u001b[0;34m=\u001b[0m \u001b[0;32mNone\u001b[0m\u001b[0;34m\u001b[0m\u001b[0;34m\u001b[0m\u001b[0m\n",
            "\u001b[0;32m/usr/local/lib/python3.11/dist-packages/torch/nn/modules/activation.py\u001b[0m in \u001b[0;36mforward\u001b[0;34m(self, query, key, value, key_padding_mask, need_weights, attn_mask, average_attn_weights, is_causal)\u001b[0m\n\u001b[1;32m   1371\u001b[0m             )\n\u001b[1;32m   1372\u001b[0m         \u001b[0;32melse\u001b[0m\u001b[0;34m:\u001b[0m\u001b[0;34m\u001b[0m\u001b[0;34m\u001b[0m\u001b[0m\n\u001b[0;32m-> 1373\u001b[0;31m             attn_output, attn_output_weights = F.multi_head_attention_forward(\n\u001b[0m\u001b[1;32m   1374\u001b[0m                 \u001b[0mquery\u001b[0m\u001b[0;34m,\u001b[0m\u001b[0;34m\u001b[0m\u001b[0;34m\u001b[0m\u001b[0m\n\u001b[1;32m   1375\u001b[0m                 \u001b[0mkey\u001b[0m\u001b[0;34m,\u001b[0m\u001b[0;34m\u001b[0m\u001b[0;34m\u001b[0m\u001b[0m\n",
            "\u001b[0;32m/usr/local/lib/python3.11/dist-packages/torch/nn/functional.py\u001b[0m in \u001b[0;36mmulti_head_attention_forward\u001b[0;34m(query, key, value, embed_dim_to_check, num_heads, in_proj_weight, in_proj_bias, bias_k, bias_v, add_zero_attn, dropout_p, out_proj_weight, out_proj_bias, training, key_padding_mask, need_weights, attn_mask, use_separate_proj_weight, q_proj_weight, k_proj_weight, v_proj_weight, static_k, static_v, average_attn_weights, is_causal)\u001b[0m\n\u001b[1;32m   6367\u001b[0m \u001b[0;34m\u001b[0m\u001b[0m\n\u001b[1;32m   6368\u001b[0m         \u001b[0;32mif\u001b[0m \u001b[0mattn_mask\u001b[0m \u001b[0;32mis\u001b[0m \u001b[0;32mnot\u001b[0m \u001b[0;32mNone\u001b[0m\u001b[0;34m:\u001b[0m\u001b[0;34m\u001b[0m\u001b[0;34m\u001b[0m\u001b[0m\n\u001b[0;32m-> 6369\u001b[0;31m             attn_output_weights = torch.baddbmm(\n\u001b[0m\u001b[1;32m   6370\u001b[0m                 \u001b[0mattn_mask\u001b[0m\u001b[0;34m,\u001b[0m \u001b[0mq_scaled\u001b[0m\u001b[0;34m,\u001b[0m \u001b[0mk\u001b[0m\u001b[0;34m.\u001b[0m\u001b[0mtranspose\u001b[0m\u001b[0;34m(\u001b[0m\u001b[0;34m-\u001b[0m\u001b[0;36m2\u001b[0m\u001b[0;34m,\u001b[0m \u001b[0;34m-\u001b[0m\u001b[0;36m1\u001b[0m\u001b[0;34m)\u001b[0m\u001b[0;34m\u001b[0m\u001b[0;34m\u001b[0m\u001b[0m\n\u001b[1;32m   6371\u001b[0m             )\n",
            "\u001b[0;31mKeyboardInterrupt\u001b[0m: "
          ]
        }
      ]
    },
    {
      "cell_type": "code",
      "source": [
        "model.to(device)\n",
        "model.vocab = model.vocab.to(device)\n",
        "model.mask_token = model.mask_token.to(device)\n",
        "reverse_manhattan_images = []\n",
        "reverse_manhattan_lls = []\n",
        "for i in range(10):\n",
        "  images,ll = generate_images_batch(model, patch_size, image_size=H, batch_size=100,device=device,\n",
        "                          condition_indices=flattened_condition_indices, condition_values=condition_values_new,\n",
        "                          generation_order=\"manhattan\",temperature=0.9)\n",
        "  images = images.cpu().detach().numpy()\n",
        "  reverse_manhattan_images.append(images)\n",
        "  reverse_manhattan_lls.append(ll)"
      ],
      "metadata": {
        "id": "QrR6lK1Qld7u"
      },
      "execution_count": 14,
      "outputs": []
    },
    {
      "cell_type": "code",
      "source": [
        "reverse_manhattan_images = np.concatenate(reverse_manhattan_images,axis=0)\n",
        "reverse_manhattan_lls = np.concatenate(reverse_manhattan_lls,axis=0)"
      ],
      "metadata": {
        "id": "HZrjH1pE86kG"
      },
      "execution_count": 15,
      "outputs": []
    },
    {
      "cell_type": "code",
      "source": [
        "np.save(\"manhattan_images.npy\",reverse_manhattan_images)\n",
        "np.save(\"manhattan_lls.npy\",reverse_manhattan_lls)"
      ],
      "metadata": {
        "id": "6boatnrF92B3"
      },
      "execution_count": 16,
      "outputs": []
    },
    {
      "cell_type": "code",
      "source": [
        "import io\n",
        "from PIL import Image\n",
        "import matplotlib.pyplot as plt\n",
        "import matplotlib.patches as mpatches\n",
        "from matplotlib.colors import ListedColormap\n",
        "import numpy as np\n",
        "import torch\n",
        "import torch.nn.functional as F\n",
        "from tqdm import tqdm\n",
        "import imageio\n",
        "\n",
        "# -------------------------------------------------------------------\n",
        "# 0) Ensure you have your `patches_to_image` helper in scope:\n",
        "# -------------------------------------------------------------------\n",
        "# def patches_to_image(patches_tensor, image_size, patch_size):\n",
        "#     # your implementation here\n",
        "#     ...\n",
        "\n",
        "# -------------------------------------------------------------------\n",
        "# 1) Hook for capturing real soft‐attention weights\n",
        "# -------------------------------------------------------------------\n",
        "attn_store = []\n",
        "def _attn_hook(module, inp, out):\n",
        "    # out = (attn_output, attn_output_weights)\n",
        "    attn_store.append(out[1].detach())\n",
        "# register on each MultiheadAttention\n",
        "for layer in model.layers:\n",
        "    layer.attn.register_forward_hook(_attn_hook)\n",
        "\n",
        "# -------------------------------------------------------------------\n",
        "# 2) Helper functions\n",
        "# -------------------------------------------------------------------\n",
        "def add_colored_border(token, border_width=1, border_color=(1, 0, 0)):\n",
        "    token_rgb = np.stack([token]*3, axis=-1)\n",
        "    H, W, _ = token_rgb.shape\n",
        "    new_H, new_W = H + 2*border_width, W + 2*border_width\n",
        "    bordered = np.ones((new_H, new_W, 3)) * 0.5\n",
        "    bordered[border_width:border_width+H, border_width:border_width+W] = token_rgb\n",
        "    bordered[:border_width, :] = border_color\n",
        "    bordered[-border_width:, :] = border_color\n",
        "    bordered[:, :border_width] = border_color\n",
        "    bordered[:, -border_width:] = border_color\n",
        "    return bordered\n",
        "\n",
        "def fig_to_np(fig):\n",
        "    buf = io.BytesIO()\n",
        "    fig.savefig(buf, format=\"png\", bbox_inches=\"tight\")\n",
        "    buf.seek(0)\n",
        "    return np.array(Image.open(buf).convert(\"RGB\"))\n",
        "\n",
        "# -------------------------------------------------------------------\n",
        "# 3) Full generate_video() with temperature parameter\n",
        "# -------------------------------------------------------------------\n",
        "def generate_video(\n",
        "    model,\n",
        "    patch_size,\n",
        "    image_size,\n",
        "    condition_indices=None,\n",
        "    condition_values=None,\n",
        "    topk=10,\n",
        "    temperature=1.0,\n",
        "    video_filename=\"generation_with_attn.mp4\",\n",
        "    fps=4,\n",
        "    generation_order=\"manhattan\",\n",
        "    given_image=None,\n",
        "):\n",
        "    device = next(model.parameters()).device\n",
        "    model.eval()\n",
        "\n",
        "    grid = image_size // patch_size\n",
        "    T = grid * grid\n",
        "    D = patch_size * patch_size\n",
        "    V = model.vocab.size(0)\n",
        "\n",
        "    # scatter coords\n",
        "    if condition_indices is not None:\n",
        "        ys = condition_indices // image_size\n",
        "        xs = condition_indices % image_size\n",
        "\n",
        "    # initialize states\n",
        "    mask_tok  = model.mask_token.detach().to(device)\n",
        "    gen_state = mask_tok.unsqueeze(0).expand(T, D).clone()\n",
        "    gt_state  = mask_tok.unsqueeze(0).expand(T, D).clone()\n",
        "    done      = torch.zeros(T, dtype=torch.bool, device=device)\n",
        "\n",
        "    # ground‐truth patches\n",
        "    if given_image is not None:\n",
        "        gimg = (torch.from_numpy(given_image)\n",
        "                if isinstance(given_image, np.ndarray)\n",
        "                else given_image).to(device)\n",
        "        g_patches = []\n",
        "        for p in range(T):\n",
        "            r0 = (p//grid)*patch_size\n",
        "            c0 = (p%grid)*patch_size\n",
        "            g_patches.append(gimg[r0:r0+patch_size, c0:c0+patch_size].reshape(-1))\n",
        "        g_patches = torch.stack(g_patches)\n",
        "    else:\n",
        "        g_patches = None\n",
        "\n",
        "    # conditions per patch\n",
        "    conditions = {}\n",
        "    if condition_indices is not None and condition_values is not None:\n",
        "        for pix, val in zip(condition_indices, condition_values):\n",
        "            pr, pc = divmod(pix, image_size)\n",
        "            pidx = (pr//patch_size)*grid + (pc//patch_size)\n",
        "            lidx = (pr % patch_size)*patch_size + (pc % patch_size)\n",
        "            conditions.setdefault(pidx, []).append((lidx, val))\n",
        "\n",
        "    # sampling order\n",
        "    observed = sorted(conditions.keys())\n",
        "    unobs    = list(set(range(T)) - set(observed))\n",
        "    if generation_order == \"raster\":\n",
        "        unobs.sort()\n",
        "    elif generation_order == \"manhattan\":\n",
        "        dist = [(p, sum(abs(p//grid - o//grid) + abs(p%grid - o%grid) for o in observed)) for p in unobs]\n",
        "        unobs = [p for p,_ in sorted(dist, key=lambda x: x[1])]\n",
        "    elif generation_order == \"inverse manhattan\":\n",
        "        inv  = [(p, sum(1.0/(abs(p//grid - o//grid) + abs(p%grid - o%grid)) for o in observed)) for p in unobs]\n",
        "        unobs = [p for p,_ in sorted(inv, key=lambda x: x[1], reverse=True)]\n",
        "    else:\n",
        "        raise ValueError(f\"Unknown generation_order {generation_order}\")\n",
        "    order = observed + unobs\n",
        "\n",
        "    # accumulators\n",
        "    acc_ll_gen = acc_ll_gt = 0.0\n",
        "    mode_count_gen = mode_count_gt = 0\n",
        "\n",
        "    frames = []\n",
        "    scatter_cmap = ListedColormap([\"blue\",\"red\"])\n",
        "\n",
        "    for step, pidx in enumerate(tqdm(order, desc=\"Sampling\")):\n",
        "        # 1) capture gen attentions\n",
        "        attn_store.clear()\n",
        "        logits_gen, _ = model(gen_state.unsqueeze(0), mask_rate=0.0)\n",
        "        attn_weights_gen = torch.stack(attn_store, dim=0)[:, 0]  # [layers, T, T]\n",
        "\n",
        "        # 2) capture given attentions\n",
        "        attn_store.clear()\n",
        "        logits_gt, _ = model(gt_state.unsqueeze(0), mask_rate=0.0)\n",
        "        attn_weights_gt = torch.stack(attn_store, dim=0)[:, 0]\n",
        "\n",
        "        # 3) build log‐attention maps\n",
        "        eps = 1e-12\n",
        "        avg_gen = attn_weights_gen.mean(dim=0)[pidx]\n",
        "        norm_gen = avg_gen / avg_gen.sum()\n",
        "        log_gen  = torch.log(norm_gen + eps)\n",
        "        attn_map_gen = log_gen.reshape(grid, grid).cpu().detach().numpy()\n",
        "\n",
        "        avg_gt  = attn_weights_gt.mean(dim=0)[pidx]\n",
        "        norm_gt = avg_gt / avg_gt.sum()\n",
        "        log_gt  = torch.log(norm_gt + eps)\n",
        "        attn_map_gt  = log_gt.reshape(grid, grid).cpu().detach().numpy()\n",
        "\n",
        "        # 4) sample & ll with temperature\n",
        "        # apply temperature only to generated sampling\n",
        "        logits_t = logits_gen[0, pidx] / temperature\n",
        "        probs_gen = F.softmax(logits_t, dim=-1)\n",
        "        probs_gt  = F.softmax(logits_gt[0, pidx],  dim=-1)\n",
        "\n",
        "        if pidx in conditions:\n",
        "            valid = torch.ones(V, dtype=torch.bool, device=device)\n",
        "            for li, val in conditions[pidx]:\n",
        "                valid &= (model.vocab[:, li] == val)\n",
        "            probs_gen = probs_gen.masked_fill(~valid, 0)\n",
        "            probs_gt  = probs_gt.masked_fill(~valid, 0)\n",
        "            probs_gen /= probs_gen.sum()\n",
        "            probs_gt  /= probs_gt.sum()\n",
        "\n",
        "        tok_gen = torch.multinomial(probs_gen, 1).item()\n",
        "        acc_ll_gen += float(torch.log(probs_gen[tok_gen] + 1e-10))\n",
        "        gen_state[pidx] = model.vocab[tok_gen]\n",
        "        if tok_gen == int(torch.argmax(probs_gen)):\n",
        "            mode_count_gen += 1\n",
        "\n",
        "        if g_patches is not None:\n",
        "            dists   = ((model.vocab.to(device) - g_patches[pidx].unsqueeze(0))**2).sum(-1)\n",
        "            idx_gt  = int(torch.argmin(dists))\n",
        "            acc_ll_gt += float(torch.log(probs_gt[idx_gt] + 1e-10))\n",
        "            gt_state[pidx] = model.vocab[idx_gt]\n",
        "            if idx_gt == int(torch.argmax(probs_gt)):\n",
        "                mode_count_gt += 1\n",
        "        else:\n",
        "            idx_gt = None\n",
        "\n",
        "        done[pidx] = True\n",
        "\n",
        "        # topk arrays\n",
        "        topk_inds_gen = torch.topk(probs_gen, topk).indices.cpu().detach().numpy()\n",
        "        topk_vals_gen = probs_gen[topk_inds_gen].cpu().detach().numpy()\n",
        "        topk_inds_gt  = torch.topk(probs_gt, topk).indices.cpu().detach().numpy()\n",
        "        topk_vals_gt  = probs_gt[topk_inds_gt].cpu().detach().numpy()\n",
        "\n",
        "        # 5) plot 2×5 grid\n",
        "        fig, axs = plt.subplots(2, 5, figsize=(40, 16))\n",
        "\n",
        "        # Given Context + scatter\n",
        "        disp_gt = [gt_state[i] if done[i] else torch.full((D,), 0.5, device=device) for i in range(T)]\n",
        "        img_gt  = patches_to_image(torch.stack(disp_gt), (image_size, image_size), patch_size)\n",
        "        axs[0,0].imshow(img_gt.cpu(), cmap=\"gray\", vmin=0, vmax=1)\n",
        "        if condition_indices is not None:\n",
        "            axs[0,0].scatter(xs, ys, c=condition_values, cmap=scatter_cmap, s=20, edgecolors=\"white\")\n",
        "        axs[0,0].add_patch(mpatches.Rectangle(\n",
        "            ((pidx%grid)*patch_size - .5, (pidx//grid)*patch_size - .5),\n",
        "            patch_size, patch_size, linewidth=2, edgecolor=\"green\", facecolor=\"none\"\n",
        "        ))\n",
        "        axs[0,0].set_title(\"Given Context\"); axs[0,0].axis(\"off\")\n",
        "\n",
        "        # Given log‐attention + highlight + colorbar\n",
        "        im0 = axs[0,1].imshow(attn_map_gt, cmap=\"viridis\", vmin=-15, vmax=0)\n",
        "        r, c = divmod(pidx, grid)\n",
        "        axs[0,1].add_patch(mpatches.Rectangle(\n",
        "            (c - .5, r - .5), 1, 1, linewidth=2, edgecolor=\"green\", facecolor=\"none\"\n",
        "        ))\n",
        "        axs[0,1].set_title(\"Given log-Attention\"); axs[0,1].axis(\"off\")\n",
        "        fig.colorbar(im0, ax=axs[0,1], fraction=0.046, pad=0.04)\n",
        "\n",
        "        # P on Given\n",
        "        colors_gt = [\"purple\"]*topk\n",
        "        if idx_gt is not None:\n",
        "            for i, tid in enumerate(topk_inds_gt):\n",
        "                if tid == idx_gt:\n",
        "                    colors_gt[i] = \"orange\"\n",
        "        axs[0,2].bar(np.arange(topk), topk_vals_gt, color=colors_gt)\n",
        "        axs[0,2].set_xticks(np.arange(topk)); axs[0,2].set_xticklabels(topk_inds_gt, fontsize=12)\n",
        "        axs[0,2].set_ylim(0,1); axs[0,2].set_title(\"P on Given\")\n",
        "\n",
        "        # Top-10 Given tokens\n",
        "        giv_tiles = [model.vocab[int(tid)].cpu().reshape(patch_size,patch_size).numpy() for tid in topk_inds_gt]\n",
        "        giv_grid  = np.hstack([add_colored_border(t,1,(1,0.5,0)) for t in giv_tiles])\n",
        "        axs[0,3].imshow(giv_grid, cmap=\"gray\", vmin=0, vmax=1); axs[0,3].axis(\"off\"); axs[0,3].set_title(\"Top-10 Given\")\n",
        "\n",
        "        # Given patch w/ stats\n",
        "        if idx_gt is not None:\n",
        "            arr_gt = model.vocab[idx_gt].cpu().reshape(patch_size,patch_size).numpy()\n",
        "            axs[0,4].imshow(add_colored_border(arr_gt,1,(1,0.5,0)), cmap=\"gray\", vmin=0, vmax=1)\n",
        "            axs[0,4].axis(\"off\")\n",
        "            axs[0,4].set_title(f\"p={probs_gt[idx_gt]:.3f}\\nΣ_ll={acc_ll_gt:.3f}\\nmode_cnt={mode_count_gt}\")\n",
        "        else:\n",
        "            axs[0,4].axis(\"off\")\n",
        "\n",
        "        # Gen Context + scatter\n",
        "        disp_gen = [gen_state[i] if done[i] else torch.full((D,), 0.5, device=device) for i in range(T)]\n",
        "        img_gen  = patches_to_image(torch.stack(disp_gen), (image_size, image_size), patch_size)\n",
        "        axs[1,0].imshow(img_gen.cpu(), cmap=\"gray\", vmin=0, vmax=1)\n",
        "        if condition_indices is not None:\n",
        "            axs[1,0].scatter(xs, ys, c=condition_values, cmap=scatter_cmap, s=20, edgecolors=\"white\")\n",
        "        axs[1,0].add_patch(mpatches.Rectangle(\n",
        "            ((pidx%grid)*patch_size - .5, (pidx//grid)*patch_size - .5),\n",
        "            patch_size, patch_size, linewidth=2, edgecolor=\"green\", facecolor=\"none\"\n",
        "        ))\n",
        "        axs[1,0].set_title(\"Gen Context\"); axs[1,0].axis(\"off\")\n",
        "\n",
        "        # Gen log-attention + highlight + colorbar\n",
        "        im1 = axs[1,1].imshow(attn_map_gen, cmap=\"viridis\", vmin=-15, vmax=0)\n",
        "        axs[1,1].add_patch(mpatches.Rectangle(\n",
        "            (c - .5, r - .5), 1, 1, linewidth=2, edgecolor=\"green\", facecolor=\"none\"\n",
        "        ))\n",
        "        axs[1,1].set_title(\"Gen log-Attention\"); axs[1,1].axis(\"off\")\n",
        "        fig.colorbar(im1, ax=axs[1,1], fraction=0.046, pad=0.04)\n",
        "\n",
        "        # P on Generated\n",
        "        colors_gen = [\"purple\"]*topk\n",
        "        for i, tid in enumerate(topk_inds_gen):\n",
        "            if tid == tok_gen:\n",
        "                colors_gen[i] = \"green\"\n",
        "        axs[1,2].bar(np.arange(topk), topk_vals_gen, color=colors_gen)\n",
        "        axs[1,2].set_xticks(np.arange(topk)); axs[1,2].set_xticklabels(topk_inds_gen, fontsize=12)\n",
        "        axs[1,2].set_ylim(0,1); axs[1,2].set_title(\"P on Generated\")\n",
        "\n",
        "        # Top-10 Gen tokens\n",
        "        samp_tiles = [model.vocab[int(tid)].cpu().reshape(patch_size,patch_size).numpy() for tid in topk_inds_gen]\n",
        "        samp_grid  = np.hstack([add_colored_border(t,1,(0,1,0)) for t in samp_tiles])\n",
        "        axs[1,3].imshow(samp_grid, cmap=\"gray\", vmin=0, vmax=1); axs[1,3].axis(\"off\"); axs[1,3].set_title(\"Top-10 Gen\")\n",
        "\n",
        "        # Gen patch w/ stats\n",
        "        arr_gen = model.vocab[tok_gen].cpu().reshape(patch_size,patch_size).numpy()\n",
        "        axs[1,4].imshow(add_colored_border(arr_gen,1,(0,1,0)), cmap=\"gray\", vmin=0, vmax=1)\n",
        "        axs[1,4].axis(\"off\")\n",
        "        axs[1,4].set_title(f\"p={probs_gen[tok_gen]:.3f}\\nΣ_ll={acc_ll_gen:.3f}\\nmode_cnt={mode_count_gen}\")\n",
        "\n",
        "        plt.suptitle(f\"Step {step}, Patch {pidx}\")\n",
        "        frames.append(fig_to_np(fig))\n",
        "        plt.close(fig)\n",
        "\n",
        "    imageio.mimwrite(video_filename, frames, fps=fps)\n",
        "    print(f\"Saved {video_filename}\")\n",
        "\n",
        "    final = patches_to_image(gen_state.cpu(), (image_size, image_size), patch_size)\n",
        "    return final, acc_ll_gen, acc_ll_gt, mode_count_gen, mode_count_gt\n",
        "\n"
      ],
      "metadata": {
        "id": "u6CqKWqF_McY"
      },
      "execution_count": 35,
      "outputs": []
    },
    {
      "cell_type": "code",
      "source": [
        "img, ll_sample, ll_given,mode_sample,mode_given = generate_video(model,patch_size,image_size=H,condition_indices=flattened_condition_indices,condition_values=condition_values_new,given_image=samps[334],generation_order=\"inverse manhattan\", temperature=0.9)"
      ],
      "metadata": {
        "id": "qRgAbg6L_Q8t",
        "outputId": "261cac89-8fbe-45ca-c30c-306285373bdb",
        "colab": {
          "base_uri": "https://localhost:8080/"
        }
      },
      "execution_count": 39,
      "outputs": [
        {
          "output_type": "stream",
          "name": "stderr",
          "text": [
            "Sampling: 100%|██████████| 256/256 [04:18<00:00,  1.01s/it]\n",
            "WARNING:imageio_ffmpeg:IMAGEIO FFMPEG_WRITER WARNING: input image is not divisible by macro_block_size=16, resizing from (3120, 1439) to (3120, 1440) to ensure video compatibility with most codecs and players. To prevent resizing, make your input image divisible by the macro_block_size or set the macro_block_size to 1 (risking incompatibility).\n"
          ]
        },
        {
          "output_type": "stream",
          "name": "stdout",
          "text": [
            "Saved generation_with_attn.mp4\n"
          ]
        }
      ]
    },
    {
      "cell_type": "code",
      "source": [
        "import torch\n",
        "\n",
        "def stationary_to_full(rel_bias_table: torch.Tensor) -> torch.Tensor:\n",
        "    \"\"\"\n",
        "    rel_bias_table: (2G-1, 2G-1) tensor of stationary biases\n",
        "    returns: (G*G, G*G) full covariance matrix\n",
        "    \"\"\"\n",
        "    # recover G\n",
        "    D = rel_bias_table.shape[0]\n",
        "    assert D % 2 == 1, \"table must be odd-sized\"\n",
        "    G = (D + 1) // 2       # e.g. D=31 -> G=16\n",
        "    N = G * G              # 256\n",
        "\n",
        "    # compute patch grid coordinates 0..G-1\n",
        "    idx = torch.arange(N)\n",
        "    rows = idx // G        # shape (N,)\n",
        "    cols = idx %  G        # shape (N,)\n",
        "\n",
        "    # pairwise differences dr, dc in [-(G-1) .. (G-1)]\n",
        "    dr = rows[:, None] - rows[None, :]   # (N, N)\n",
        "    dc = cols[:, None] - cols[None, :]   # (N, N)\n",
        "\n",
        "    # shift to [0 .. 2G-2] to index into rel_bias_table\n",
        "    ir = dr + (G - 1)    # now in [0 .. 2G-2]\n",
        "    ic = dc + (G - 1)\n",
        "\n",
        "    # gather\n",
        "    full = rel_bias_table[ir, ic]  # (N, N)\n",
        "    return full\n",
        "\n",
        "# example:\n",
        "rel31 = model.rel_bias_table.cpu().detach().numpy()    # your learned table\n",
        "full256 = stationary_to_full(rel31)\n",
        "plt.imshow(full256[:30,:30],cmap=\"seismic\")  # torch.Size([256, 256])\n",
        "plt.colorbar()\n",
        "plt.show()"
      ],
      "metadata": {
        "id": "TViTbevnASiP",
        "outputId": "89139040-e331-417c-9a42-1514ff5bc3d9",
        "colab": {
          "base_uri": "https://localhost:8080/",
          "height": 430
        }
      },
      "execution_count": 14,
      "outputs": [
        {
          "output_type": "display_data",
          "data": {
            "text/plain": [
              "<Figure size 640x480 with 2 Axes>"
            ],
            "image/png": "[encoded data removed]"
          },
          "metadata": {}
        }
      ]
    }
  ],
  "metadata": {
    "kernelspec": {
      "display_name": "Python 3",
      "name": "python3"
    },
    "language_info": {
      "codemirror_mode": {
        "name": "ipython",
        "version": 3
      },
      "file_extension": ".py",
      "mimetype": "text/x-python",
      "name": "python",
      "nbconvert_exporter": "python",
      "pygments_lexer": "ipython3",
      "version": "3.12.1"
    },
    "colab": {
      "provenance": [],
      "machine_shape": "hm",
      "gpuType": "T4"
    },
    "accelerator": "GPU"
  },
  "nbformat": 4,
  "nbformat_minor": 0
}