{
  "cells": [
    {
      "cell_type": "markdown",
      "source": [
        "# Load and install all dependicies"
      ],
      "metadata": {
        "id": "8rJbl7_Cuzg2"
      }
    },
    {
      "cell_type": "code",
      "execution_count": 2,
      "metadata": {
        "colab": {
          "base_uri": "https://localhost:8080/"
        },
        "id": "LQwb7bUT6z3F",
        "outputId": "6748b11f-ff1b-4f6a-a9c8-4697e656d59f"
      },
      "outputs": [
        {
          "output_type": "stream",
          "name": "stdout",
          "text": [
            "Requirement already satisfied: numpy in /usr/local/lib/python3.11/dist-packages (2.0.2)\n",
            "Requirement already satisfied: torch in /usr/local/lib/python3.11/dist-packages (2.6.0+cu124)\n",
            "Requirement already satisfied: filelock in /usr/local/lib/python3.11/dist-packages (from torch) (3.18.0)\n",
            "Requirement already satisfied: typing-extensions>=4.10.0 in /usr/local/lib/python3.11/dist-packages (from torch) (4.13.2)\n",
            "Requirement already satisfied: networkx in /usr/local/lib/python3.11/dist-packages (from torch) (3.4.2)\n",
            "Requirement already satisfied: jinja2 in /usr/local/lib/python3.11/dist-packages (from torch) (3.1.6)\n",
            "Requirement already satisfied: fsspec in /usr/local/lib/python3.11/dist-packages (from torch) (2025.3.2)\n",
            "Collecting nvidia-cuda-nvrtc-cu12==12.4.127 (from torch)\n",
            "  Downloading nvidia_cuda_nvrtc_cu12-12.4.127-py3-none-manylinux2014_x86_64.whl.metadata (1.5 kB)\n",
            "Collecting nvidia-cuda-runtime-cu12==12.4.127 (from torch)\n",
            "  Downloading nvidia_cuda_runtime_cu12-12.4.127-py3-none-manylinux2014_x86_64.whl.metadata (1.5 kB)\n",
            "Collecting nvidia-cuda-cupti-cu12==12.4.127 (from torch)\n",
            "  Downloading nvidia_cuda_cupti_cu12-12.4.127-py3-none-manylinux2014_x86_64.whl.metadata (1.6 kB)\n",
            "Collecting nvidia-cudnn-cu12==9.1.0.70 (from torch)\n",
            "  Downloading nvidia_cudnn_cu12-9.1.0.70-py3-none-manylinux2014_x86_64.whl.metadata (1.6 kB)\n",
            "Collecting nvidia-cublas-cu12==12.4.5.8 (from torch)\n",
            "  Downloading nvidia_cublas_cu12-12.4.5.8-py3-none-manylinux2014_x86_64.whl.metadata (1.5 kB)\n",
            "Collecting nvidia-cufft-cu12==11.2.1.3 (from torch)\n",
            "  Downloading nvidia_cufft_cu12-11.2.1.3-py3-none-manylinux2014_x86_64.whl.metadata (1.5 kB)\n",
            "Collecting nvidia-curand-cu12==10.3.5.147 (from torch)\n",
            "  Downloading nvidia_curand_cu12-10.3.5.147-py3-none-manylinux2014_x86_64.whl.metadata (1.5 kB)\n",
            "Collecting nvidia-cusolver-cu12==11.6.1.9 (from torch)\n",
            "  Downloading nvidia_cusolver_cu12-11.6.1.9-py3-none-manylinux2014_x86_64.whl.metadata (1.6 kB)\n",
            "Collecting nvidia-cusparse-cu12==12.3.1.170 (from torch)\n",
            "  Downloading nvidia_cusparse_cu12-12.3.1.170-py3-none-manylinux2014_x86_64.whl.metadata (1.6 kB)\n",
            "Requirement already satisfied: nvidia-cusparselt-cu12==0.6.2 in /usr/local/lib/python3.11/dist-packages (from torch) (0.6.2)\n",
            "Requirement already satisfied: nvidia-nccl-cu12==2.21.5 in /usr/local/lib/python3.11/dist-packages (from torch) (2.21.5)\n",
            "Requirement already satisfied: nvidia-nvtx-cu12==12.4.127 in /usr/local/lib/python3.11/dist-packages (from torch) (12.4.127)\n",
            "Collecting nvidia-nvjitlink-cu12==12.4.127 (from torch)\n",
            "  Downloading nvidia_nvjitlink_cu12-12.4.127-py3-none-manylinux2014_x86_64.whl.metadata (1.5 kB)\n",
            "Requirement already satisfied: triton==3.2.0 in /usr/local/lib/python3.11/dist-packages (from torch) (3.2.0)\n",
            "Requirement already satisfied: sympy==1.13.1 in /usr/local/lib/python3.11/dist-packages (from torch) (1.13.1)\n",
            "Requirement already satisfied: mpmath<1.4,>=1.1.0 in /usr/local/lib/python3.11/dist-packages (from sympy==1.13.1->torch) (1.3.0)\n",
            "Requirement already satisfied: MarkupSafe>=2.0 in /usr/local/lib/python3.11/dist-packages (from jinja2->torch) (3.0.2)\n",
            "Downloading nvidia_cublas_cu12-12.4.5.8-py3-none-manylinux2014_x86_64.whl (363.4 MB)\n",
            "\u001b[2K   \u001b[90m━━━━━━━━━━━━━━━━━━━━━━━━━━━━━━━━━━━━━━━━\u001b[0m \u001b[32m363.4/363.4 MB\u001b[0m \u001b[31m4.5 MB/s\u001b[0m eta \u001b[36m0:00:00\u001b[0m\n",
            "\u001b[?25hDownloading nvidia_cuda_cupti_cu12-12.4.127-py3-none-manylinux2014_x86_64.whl (13.8 MB)\n",
            "\u001b[2K   \u001b[90m━━━━━━━━━━━━━━━━━━━━━━━━━━━━━━━━━━━━━━━━\u001b[0m \u001b[32m13.8/13.8 MB\u001b[0m \u001b[31m94.1 MB/s\u001b[0m eta \u001b[36m0:00:00\u001b[0m\n",
            "\u001b[?25hDownloading nvidia_cuda_nvrtc_cu12-12.4.127-py3-none-manylinux2014_x86_64.whl (24.6 MB)\n",
            "\u001b[2K   \u001b[90m━━━━━━━━━━━━━━━━━━━━━━━━━━━━━━━━━━━━━━━━\u001b[0m \u001b[32m24.6/24.6 MB\u001b[0m \u001b[31m73.3 MB/s\u001b[0m eta \u001b[36m0:00:00\u001b[0m\n",
            "\u001b[?25hDownloading nvidia_cuda_runtime_cu12-12.4.127-py3-none-manylinux2014_x86_64.whl (883 kB)\n",
            "\u001b[2K   \u001b[90m━━━━━━━━━━━━━━━━━━━━━━━━━━━━━━━━━━━━━━━━\u001b[0m \u001b[32m883.7/883.7 kB\u001b[0m \u001b[31m41.8 MB/s\u001b[0m eta \u001b[36m0:00:00\u001b[0m\n",
            "\u001b[?25hDownloading nvidia_cudnn_cu12-9.1.0.70-py3-none-manylinux2014_x86_64.whl (664.8 MB)\n",
            "\u001b[2K   \u001b[90m━━━━━━━━━━━━━━━━━━━━━━━━━━━━━━━━━━━━━━━\u001b[0m \u001b[32m664.8/664.8 MB\u001b[0m \u001b[31m798.3 kB/s\u001b[0m eta \u001b[36m0:00:00\u001b[0m\n",
            "\u001b[?25hDownloading nvidia_cufft_cu12-11.2.1.3-py3-none-manylinux2014_x86_64.whl (211.5 MB)\n",
            "\u001b[2K   \u001b[90m━━━━━━━━━━━━━━━━━━━━━━━━━━━━━━━━━━━━━━━━\u001b[0m \u001b[32m211.5/211.5 MB\u001b[0m \u001b[31m4.4 MB/s\u001b[0m eta \u001b[36m0:00:00\u001b[0m\n",
            "\u001b[?25hDownloading nvidia_curand_cu12-10.3.5.147-py3-none-manylinux2014_x86_64.whl (56.3 MB)\n",
            "\u001b[2K   \u001b[90m━━━━━━━━━━━━━━━━━━━━━━━━━━━━━━━━━━━━━━━━\u001b[0m \u001b[32m56.3/56.3 MB\u001b[0m \u001b[31m12.0 MB/s\u001b[0m eta \u001b[36m0:00:00\u001b[0m\n",
            "\u001b[?25hDownloading nvidia_cusolver_cu12-11.6.1.9-py3-none-manylinux2014_x86_64.whl (127.9 MB)\n",
            "\u001b[2K   \u001b[90m━━━━━━━━━━━━━━━━━━━━━━━━━━━━━━━━━━━━━━━━\u001b[0m \u001b[32m127.9/127.9 MB\u001b[0m \u001b[31m7.6 MB/s\u001b[0m eta \u001b[36m0:00:00\u001b[0m\n",
            "\u001b[?25hDownloading nvidia_cusparse_cu12-12.3.1.170-py3-none-manylinux2014_x86_64.whl (207.5 MB)\n",
            "\u001b[2K   \u001b[90m━━━━━━━━━━━━━━━━━━━━━━━━━━━━━━━━━━━━━━━━\u001b[0m \u001b[32m207.5/207.5 MB\u001b[0m \u001b[31m5.1 MB/s\u001b[0m eta \u001b[36m0:00:00\u001b[0m\n",
            "\u001b[?25hDownloading nvidia_nvjitlink_cu12-12.4.127-py3-none-manylinux2014_x86_64.whl (21.1 MB)\n",
            "\u001b[2K   \u001b[90m━━━━━━━━━━━━━━━━━━━━━━━━━━━━━━━━━━━━━━━━\u001b[0m \u001b[32m21.1/21.1 MB\u001b[0m \u001b[31m82.0 MB/s\u001b[0m eta \u001b[36m0:00:00\u001b[0m\n",
            "\u001b[?25hInstalling collected packages: nvidia-nvjitlink-cu12, nvidia-curand-cu12, nvidia-cufft-cu12, nvidia-cuda-runtime-cu12, nvidia-cuda-nvrtc-cu12, nvidia-cuda-cupti-cu12, nvidia-cublas-cu12, nvidia-cusparse-cu12, nvidia-cudnn-cu12, nvidia-cusolver-cu12\n",
            "  Attempting uninstall: nvidia-nvjitlink-cu12\n",
            "    Found existing installation: nvidia-nvjitlink-cu12 12.5.82\n",
            "    Uninstalling nvidia-nvjitlink-cu12-12.5.82:\n",
            "      Successfully uninstalled nvidia-nvjitlink-cu12-12.5.82\n",
            "  Attempting uninstall: nvidia-curand-cu12\n",
            "    Found existing installation: nvidia-curand-cu12 10.3.6.82\n",
            "    Uninstalling nvidia-curand-cu12-10.3.6.82:\n",
            "      Successfully uninstalled nvidia-curand-cu12-10.3.6.82\n",
            "  Attempting uninstall: nvidia-cufft-cu12\n",
            "    Found existing installation: nvidia-cufft-cu12 11.2.3.61\n",
            "    Uninstalling nvidia-cufft-cu12-11.2.3.61:\n",
            "      Successfully uninstalled nvidia-cufft-cu12-11.2.3.61\n",
            "  Attempting uninstall: nvidia-cuda-runtime-cu12\n",
            "    Found existing installation: nvidia-cuda-runtime-cu12 12.5.82\n",
            "    Uninstalling nvidia-cuda-runtime-cu12-12.5.82:\n",
            "      Successfully uninstalled nvidia-cuda-runtime-cu12-12.5.82\n",
            "  Attempting uninstall: nvidia-cuda-nvrtc-cu12\n",
            "    Found existing installation: nvidia-cuda-nvrtc-cu12 12.5.82\n",
            "    Uninstalling nvidia-cuda-nvrtc-cu12-12.5.82:\n",
            "      Successfully uninstalled nvidia-cuda-nvrtc-cu12-12.5.82\n",
            "  Attempting uninstall: nvidia-cuda-cupti-cu12\n",
            "    Found existing installation: nvidia-cuda-cupti-cu12 12.5.82\n",
            "    Uninstalling nvidia-cuda-cupti-cu12-12.5.82:\n",
            "      Successfully uninstalled nvidia-cuda-cupti-cu12-12.5.82\n",
            "  Attempting uninstall: nvidia-cublas-cu12\n",
            "    Found existing installation: nvidia-cublas-cu12 12.5.3.2\n",
            "    Uninstalling nvidia-cublas-cu12-12.5.3.2:\n",
            "      Successfully uninstalled nvidia-cublas-cu12-12.5.3.2\n",
            "  Attempting uninstall: nvidia-cusparse-cu12\n",
            "    Found existing installation: nvidia-cusparse-cu12 12.5.1.3\n",
            "    Uninstalling nvidia-cusparse-cu12-12.5.1.3:\n",
            "      Successfully uninstalled nvidia-cusparse-cu12-12.5.1.3\n",
            "  Attempting uninstall: nvidia-cudnn-cu12\n",
            "    Found existing installation: nvidia-cudnn-cu12 9.3.0.75\n",
            "    Uninstalling nvidia-cudnn-cu12-9.3.0.75:\n",
            "      Successfully uninstalled nvidia-cudnn-cu12-9.3.0.75\n",
            "  Attempting uninstall: nvidia-cusolver-cu12\n",
            "    Found existing installation: nvidia-cusolver-cu12 11.6.3.83\n",
            "    Uninstalling nvidia-cusolver-cu12-11.6.3.83:\n",
            "      Successfully uninstalled nvidia-cusolver-cu12-11.6.3.83\n",
            "Successfully installed nvidia-cublas-cu12-12.4.5.8 nvidia-cuda-cupti-cu12-12.4.127 nvidia-cuda-nvrtc-cu12-12.4.127 nvidia-cuda-runtime-cu12-12.4.127 nvidia-cudnn-cu12-9.1.0.70 nvidia-cufft-cu12-11.2.1.3 nvidia-curand-cu12-10.3.5.147 nvidia-cusolver-cu12-11.6.1.9 nvidia-cusparse-cu12-12.3.1.170 nvidia-nvjitlink-cu12-12.4.127\n",
            "Requirement already satisfied: torchvision in /usr/local/lib/python3.11/dist-packages (0.21.0+cu124)\n",
            "Requirement already satisfied: numpy in /usr/local/lib/python3.11/dist-packages (from torchvision) (2.0.2)\n",
            "Requirement already satisfied: torch==2.6.0 in /usr/local/lib/python3.11/dist-packages (from torchvision) (2.6.0+cu124)\n",
            "Requirement already satisfied: pillow!=8.3.*,>=5.3.0 in /usr/local/lib/python3.11/dist-packages (from torchvision) (11.2.1)\n",
            "Requirement already satisfied: filelock in /usr/local/lib/python3.11/dist-packages (from torch==2.6.0->torchvision) (3.18.0)\n",
            "Requirement already satisfied: typing-extensions>=4.10.0 in /usr/local/lib/python3.11/dist-packages (from torch==2.6.0->torchvision) (4.13.2)\n",
            "Requirement already satisfied: networkx in /usr/local/lib/python3.11/dist-packages (from torch==2.6.0->torchvision) (3.4.2)\n",
            "Requirement already satisfied: jinja2 in /usr/local/lib/python3.11/dist-packages (from torch==2.6.0->torchvision) (3.1.6)\n",
            "Requirement already satisfied: fsspec in /usr/local/lib/python3.11/dist-packages (from torch==2.6.0->torchvision) (2025.3.2)\n",
            "Requirement already satisfied: nvidia-cuda-nvrtc-cu12==12.4.127 in /usr/local/lib/python3.11/dist-packages (from torch==2.6.0->torchvision) (12.4.127)\n",
            "Requirement already satisfied: nvidia-cuda-runtime-cu12==12.4.127 in /usr/local/lib/python3.11/dist-packages (from torch==2.6.0->torchvision) (12.4.127)\n",
            "Requirement already satisfied: nvidia-cuda-cupti-cu12==12.4.127 in /usr/local/lib/python3.11/dist-packages (from torch==2.6.0->torchvision) (12.4.127)\n",
            "Requirement already satisfied: nvidia-cudnn-cu12==9.1.0.70 in /usr/local/lib/python3.11/dist-packages (from torch==2.6.0->torchvision) (9.1.0.70)\n",
            "Requirement already satisfied: nvidia-cublas-cu12==12.4.5.8 in /usr/local/lib/python3.11/dist-packages (from torch==2.6.0->torchvision) (12.4.5.8)\n",
            "Requirement already satisfied: nvidia-cufft-cu12==11.2.1.3 in /usr/local/lib/python3.11/dist-packages (from torch==2.6.0->torchvision) (11.2.1.3)\n",
            "Requirement already satisfied: nvidia-curand-cu12==10.3.5.147 in /usr/local/lib/python3.11/dist-packages (from torch==2.6.0->torchvision) (10.3.5.147)\n",
            "Requirement already satisfied: nvidia-cusolver-cu12==11.6.1.9 in /usr/local/lib/python3.11/dist-packages (from torch==2.6.0->torchvision) (11.6.1.9)\n",
            "Requirement already satisfied: nvidia-cusparse-cu12==12.3.1.170 in /usr/local/lib/python3.11/dist-packages (from torch==2.6.0->torchvision) (12.3.1.170)\n",
            "Requirement already satisfied: nvidia-cusparselt-cu12==0.6.2 in /usr/local/lib/python3.11/dist-packages (from torch==2.6.0->torchvision) (0.6.2)\n",
            "Requirement already satisfied: nvidia-nccl-cu12==2.21.5 in /usr/local/lib/python3.11/dist-packages (from torch==2.6.0->torchvision) (2.21.5)\n",
            "Requirement already satisfied: nvidia-nvtx-cu12==12.4.127 in /usr/local/lib/python3.11/dist-packages (from torch==2.6.0->torchvision) (12.4.127)\n",
            "Requirement already satisfied: nvidia-nvjitlink-cu12==12.4.127 in /usr/local/lib/python3.11/dist-packages (from torch==2.6.0->torchvision) (12.4.127)\n",
            "Requirement already satisfied: triton==3.2.0 in /usr/local/lib/python3.11/dist-packages (from torch==2.6.0->torchvision) (3.2.0)\n",
            "Requirement already satisfied: sympy==1.13.1 in /usr/local/lib/python3.11/dist-packages (from torch==2.6.0->torchvision) (1.13.1)\n",
            "Requirement already satisfied: mpmath<1.4,>=1.1.0 in /usr/local/lib/python3.11/dist-packages (from sympy==1.13.1->torch==2.6.0->torchvision) (1.3.0)\n",
            "Requirement already satisfied: MarkupSafe>=2.0 in /usr/local/lib/python3.11/dist-packages (from jinja2->torch==2.6.0->torchvision) (3.0.2)\n",
            "Requirement already satisfied: matplotlib in /usr/local/lib/python3.11/dist-packages (3.10.0)\n",
            "Requirement already satisfied: contourpy>=1.0.1 in /usr/local/lib/python3.11/dist-packages (from matplotlib) (1.3.2)\n",
            "Requirement already satisfied: cycler>=0.10 in /usr/local/lib/python3.11/dist-packages (from matplotlib) (0.12.1)\n",
            "Requirement already satisfied: fonttools>=4.22.0 in /usr/local/lib/python3.11/dist-packages (from matplotlib) (4.58.0)\n",
            "Requirement already satisfied: kiwisolver>=1.3.1 in /usr/local/lib/python3.11/dist-packages (from matplotlib) (1.4.8)\n",
            "Requirement already satisfied: numpy>=1.23 in /usr/local/lib/python3.11/dist-packages (from matplotlib) (2.0.2)\n",
            "Requirement already satisfied: packaging>=20.0 in /usr/local/lib/python3.11/dist-packages (from matplotlib) (24.2)\n",
            "Requirement already satisfied: pillow>=8 in /usr/local/lib/python3.11/dist-packages (from matplotlib) (11.2.1)\n",
            "Requirement already satisfied: pyparsing>=2.3.1 in /usr/local/lib/python3.11/dist-packages (from matplotlib) (3.2.3)\n",
            "Requirement already satisfied: python-dateutil>=2.7 in /usr/local/lib/python3.11/dist-packages (from matplotlib) (2.9.0.post0)\n",
            "Requirement already satisfied: six>=1.5 in /usr/local/lib/python3.11/dist-packages (from python-dateutil>=2.7->matplotlib) (1.17.0)\n",
            "Requirement already satisfied: wandb in /usr/local/lib/python3.11/dist-packages (0.19.11)\n",
            "Requirement already satisfied: click!=8.0.0,>=7.1 in /usr/local/lib/python3.11/dist-packages (from wandb) (8.2.0)\n",
            "Requirement already satisfied: docker-pycreds>=0.4.0 in /usr/local/lib/python3.11/dist-packages (from wandb) (0.4.0)\n",
            "Requirement already satisfied: gitpython!=3.1.29,>=1.0.0 in /usr/local/lib/python3.11/dist-packages (from wandb) (3.1.44)\n",
            "Requirement already satisfied: platformdirs in /usr/local/lib/python3.11/dist-packages (from wandb) (4.3.8)\n",
            "Requirement already satisfied: protobuf!=4.21.0,!=5.28.0,<7,>=3.19.0 in /usr/local/lib/python3.11/dist-packages (from wandb) (5.29.4)\n",
            "Requirement already satisfied: psutil>=5.0.0 in /usr/local/lib/python3.11/dist-packages (from wandb) (5.9.5)\n",
            "Requirement already satisfied: pydantic<3 in /usr/local/lib/python3.11/dist-packages (from wandb) (2.11.4)\n",
            "Requirement already satisfied: pyyaml in /usr/local/lib/python3.11/dist-packages (from wandb) (6.0.2)\n",
            "Requirement already satisfied: requests<3,>=2.0.0 in /usr/local/lib/python3.11/dist-packages (from wandb) (2.32.3)\n",
            "Requirement already satisfied: sentry-sdk>=2.0.0 in /usr/local/lib/python3.11/dist-packages (from wandb) (2.28.0)\n",
            "Requirement already satisfied: setproctitle in /usr/local/lib/python3.11/dist-packages (from wandb) (1.3.6)\n",
            "Requirement already satisfied: setuptools in /usr/local/lib/python3.11/dist-packages (from wandb) (75.2.0)\n",
            "Requirement already satisfied: typing-extensions<5,>=4.4 in /usr/local/lib/python3.11/dist-packages (from wandb) (4.13.2)\n",
            "Requirement already satisfied: six>=1.4.0 in /usr/local/lib/python3.11/dist-packages (from docker-pycreds>=0.4.0->wandb) (1.17.0)\n",
            "Requirement already satisfied: gitdb<5,>=4.0.1 in /usr/local/lib/python3.11/dist-packages (from gitpython!=3.1.29,>=1.0.0->wandb) (4.0.12)\n",
            "Requirement already satisfied: annotated-types>=0.6.0 in /usr/local/lib/python3.11/dist-packages (from pydantic<3->wandb) (0.7.0)\n",
            "Requirement already satisfied: pydantic-core==2.33.2 in /usr/local/lib/python3.11/dist-packages (from pydantic<3->wandb) (2.33.2)\n",
            "Requirement already satisfied: typing-inspection>=0.4.0 in /usr/local/lib/python3.11/dist-packages (from pydantic<3->wandb) (0.4.0)\n",
            "Requirement already satisfied: charset-normalizer<4,>=2 in /usr/local/lib/python3.11/dist-packages (from requests<3,>=2.0.0->wandb) (3.4.2)\n",
            "Requirement already satisfied: idna<4,>=2.5 in /usr/local/lib/python3.11/dist-packages (from requests<3,>=2.0.0->wandb) (3.10)\n",
            "Requirement already satisfied: urllib3<3,>=1.21.1 in /usr/local/lib/python3.11/dist-packages (from requests<3,>=2.0.0->wandb) (2.4.0)\n",
            "Requirement already satisfied: certifi>=2017.4.17 in /usr/local/lib/python3.11/dist-packages (from requests<3,>=2.0.0->wandb) (2025.4.26)\n",
            "Requirement already satisfied: smmap<6,>=3.0.1 in /usr/local/lib/python3.11/dist-packages (from gitdb<5,>=4.0.1->gitpython!=3.1.29,>=1.0.0->wandb) (5.0.2)\n"
          ]
        }
      ],
      "source": [
        "!pip install numpy\n",
        "!pip install torch\n",
        "!pip install torchvision\n",
        "!pip install matplotlib\n",
        "!pip install wandb"
      ]
    },
    {
      "cell_type": "code",
      "source": [
        "!wandb login de83b34df4865f6d73caa690771345a92e44bb2d"
      ],
      "metadata": {
        "colab": {
          "base_uri": "https://localhost:8080/"
        },
        "id": "T_-D2zKHK7ro",
        "outputId": "ccdc4b40-f6c9-4e65-d0a3-3f804042c187"
      },
      "execution_count": 3,
      "outputs": [
        {
          "output_type": "stream",
          "name": "stdout",
          "text": [
            "\u001b[34m\u001b[1mwandb\u001b[0m: \u001b[33mWARNING\u001b[0m Using legacy-service, which is deprecated. If this is unintentional, you can fix it by ensuring you do not call `wandb.require('legacy-service')` and do not set the WANDB_X_REQUIRE_LEGACY_SERVICE environment variable.\n",
            "\u001b[34m\u001b[1mwandb\u001b[0m: No netrc file found, creating one.\n",
            "\u001b[34m\u001b[1mwandb\u001b[0m: Appending key for api.wandb.ai to your netrc file: /root/.netrc\n",
            "\u001b[34m\u001b[1mwandb\u001b[0m: W&B API key is configured. Use \u001b[1m`wandb login --relogin`\u001b[0m to force relogin\n"
          ]
        }
      ]
    },
    {
      "cell_type": "code",
      "source": [
        "!git clone https://github.com/OscarOvanger/GeoDecepticon.git"
      ],
      "metadata": {
        "colab": {
          "base_uri": "https://localhost:8080/"
        },
        "id": "xZXtl1g-7FeE",
        "outputId": "ae65a4f1-a998-483e-b819-30816dedbc1b"
      },
      "execution_count": 4,
      "outputs": [
        {
          "output_type": "stream",
          "name": "stdout",
          "text": [
            "Cloning into 'GeoDecepticon'...\n",
            "remote: Enumerating objects: 20266, done.\u001b[K\n",
            "remote: Counting objects: 100% (328/328), done.\u001b[K\n",
            "remote: Compressing objects: 100% (157/157), done.\u001b[K\n",
            "remote: Total 20266 (delta 259), reused 171 (delta 171), pack-reused 19938 (from 5)\u001b[K\n",
            "Receiving objects: 100% (20266/20266), 162.35 MiB | 10.09 MiB/s, done.\n",
            "Resolving deltas: 100% (563/563), done.\n",
            "Updating files: 100% (83/83), done.\n"
          ]
        }
      ]
    },
    {
      "cell_type": "code",
      "source": [
        "import os\n",
        "os.chdir('/content/GeoDecepticon')"
      ],
      "metadata": {
        "id": "u5fsIzjR7GZa"
      },
      "execution_count": 5,
      "outputs": []
    },
    {
      "cell_type": "code",
      "source": [
        "import torch\n",
        "import torch.nn as nn\n",
        "import numpy as np\n",
        "import matplotlib.pyplot as plt\n",
        "from torch.utils.data import Dataset, DataLoader\n",
        "import wandb\n",
        "import os\n",
        "from tqdm.notebook import tqdm\n",
        "import copy\n",
        "from ViT import *\n",
        "from ViT_sampling import *\n",
        "from training import *\n",
        "#from sampling import *\n",
        "from tqdm import tqdm  # For progress bars\n",
        "import time"
      ],
      "metadata": {
        "id": "SZFtoPVzEsId"
      },
      "execution_count": 6,
      "outputs": []
    },
    {
      "cell_type": "markdown",
      "source": [
        "# Load and plot training data"
      ],
      "metadata": {
        "id": "LT8iK4NzEOg3"
      }
    },
    {
      "cell_type": "code",
      "source": [
        "arr = np.load(\"Data/Markov_field/training_data_mod.npz\")[\"arr_0\"]\n",
        "training_data = arr[:9000]\n",
        "test_data = arr[9000:]\n",
        "# We reshape it to 60x60 dataset\n",
        "training_data = training_data.reshape(-1, 64, 64)\n",
        "test_data = test_data.reshape(-1, 64, 64)\n",
        "print(training_data.shape)\n",
        "training_data = torch.tensor(training_data,dtype=torch.float32)\n",
        "sanity_check_data = training_data[:10]\n",
        "test_data = torch.tensor(test_data,dtype=torch.float32)\n",
        "#plot the first data\n",
        "plt.imshow(training_data[100],cmap='gray')\n",
        "plt.show()"
      ],
      "metadata": {
        "colab": {
          "base_uri": "https://localhost:8080/",
          "height": 449
        },
        "id": "ggDcm9hCEXRB",
        "outputId": "307ffc9e-e8b8-4409-dd29-dd63b9b266af"
      },
      "execution_count": 7,
      "outputs": [
        {
          "output_type": "stream",
          "name": "stdout",
          "text": [
            "(9000, 64, 64)\n"
          ]
        },
        {
          "output_type": "display_data",
          "data": {
            "text/plain": [
              "<Figure size 640x480 with 1 Axes>"
            ],
            "image/png": "[encoded data removed]"
          },
          "metadata": {}
        }
      ]
    },
    {
      "cell_type": "markdown",
      "source": [
        "# Condition data"
      ],
      "metadata": {
        "id": "W-xEPyocuwAp"
      }
    },
    {
      "cell_type": "code",
      "source": [
        "\"\"\"\n",
        "condition_indices = np.array([876,3825,2122,2892,1556,2683,3667,1767,483,2351,\n",
        "                                2000,3312,2953,289,2373,2720,872,2713,1206,1341,\n",
        "                                3541,2226,3423,1904,2882,2540,1497,2524,264,1441])\n",
        "condition_values = np.array([0,1,1,1,0,0,1,0,0,1,0,0,0,1,0,1,0,0,1,0,\n",
        "                              1,1,1,0,1,0,1,1,0,1])\n",
        "condition_indices_x = condition_indices // 64\n",
        "condition_indices_y = condition_indices % 64\n",
        "print(condition_indices_x)\n",
        "print(condition_indices_y)\n",
        "plt.imshow(training_data[0],cmap='gray')\n",
        "plt.scatter(condition_indices_y,condition_indices_x,c=condition_values,cmap='viridis')\n",
        "plt.show()\n",
        "\"\"\""
      ],
      "metadata": {
        "colab": {
          "base_uri": "https://localhost:8080/",
          "height": 88
        },
        "id": "5PDiCt7uEb6q",
        "outputId": "29e190da-d4cb-47f2-e140-27fa730fa0d1"
      },
      "execution_count": 8,
      "outputs": [
        {
          "output_type": "execute_result",
          "data": {
            "text/plain": [
              "\"\\ncondition_indices = np.array([876,3825,2122,2892,1556,2683,3667,1767,483,2351,\\n                                2000,3312,2953,289,2373,2720,872,2713,1206,1341,\\n                                3541,2226,3423,1904,2882,2540,1497,2524,264,1441])\\ncondition_values = np.array([0,1,1,1,0,0,1,0,0,1,0,0,0,1,0,1,0,0,1,0,\\n                              1,1,1,0,1,0,1,1,0,1])\\ncondition_indices_x = condition_indices // 64\\ncondition_indices_y = condition_indices % 64\\nprint(condition_indices_x)\\nprint(condition_indices_y)\\nplt.imshow(training_data[0],cmap='gray')\\nplt.scatter(condition_indices_y,condition_indices_x,c=condition_values,cmap='viridis')\\nplt.show()\\n\""
            ],
            "application/vnd.google.colaboratory.intrinsic+json": {
              "type": "string"
            }
          },
          "metadata": {},
          "execution_count": 8
        }
      ]
    },
    {
      "cell_type": "code",
      "source": [
        "condition_indices_new = np.array([1726,3797,4211,4543,3953,3347,1897,2015,4424,1942,2108,4350,1019,4068,2911])\n",
        "condition_values_new = np.array([0,1,0,1,1,1,0,1,0,1,0,1,1,1,0])\n",
        "condition_indices_x = (condition_indices_new // 80) - 8\n",
        "condition_indices_y = (condition_indices_new % 80) - 8\n",
        "print(condition_indices_x)\n",
        "print(condition_indices_y)\n",
        "cond_data = np.load(\"Data/Markov_field/training_data_mod_cond.npz\")[\"arr_0\"]\n",
        "plt.imshow(cond_data[105],cmap='gray')\n",
        "plt.scatter(condition_indices_y,condition_indices_x,c=condition_values_new,cmap='viridis')\n",
        "plt.show()"
      ],
      "metadata": {
        "colab": {
          "base_uri": "https://localhost:8080/",
          "height": 467
        },
        "id": "4s9PpasrfCoC",
        "outputId": "82fba65b-b86f-4dec-84ef-a32b4438021b"
      },
      "execution_count": 9,
      "outputs": [
        {
          "output_type": "stream",
          "name": "stdout",
          "text": [
            "[13 39 44 48 41 33 15 17 47 16 18 46  4 42 28]\n",
            "[38 29 43 55 25 59 49  7 16 14 20 22 51 60 23]\n"
          ]
        },
        {
          "output_type": "display_data",
          "data": {
            "text/plain": [
              "<Figure size 640x480 with 1 Axes>"
            ],
            "image/png": "[encoded data removed]"
          },
          "metadata": {}
        }
      ]
    },
    {
      "cell_type": "markdown",
      "source": [
        "# Train Model"
      ],
      "metadata": {
        "id": "VFaRaXcOu6GD"
      }
    },
    {
      "cell_type": "code",
      "source": [
        "samps = np.load(\"cond_images_combined.npy\")\n",
        "plt.imshow(samps[0],cmap='gray')\n",
        "plt.show()"
      ],
      "metadata": {
        "id": "H7-xyfJijwTj",
        "outputId": "71531e17-fcb7-49cb-a88b-2565ffb5501a",
        "colab": {
          "base_uri": "https://localhost:8080/",
          "height": 432
        }
      },
      "execution_count": 10,
      "outputs": [
        {
          "output_type": "display_data",
          "data": {
            "text/plain": [
              "<Figure size 640x480 with 1 Axes>"
            ],
            "image/png": "[encoded data removed]"
          },
          "metadata": {}
        }
      ]
    },
    {
      "cell_type": "code",
      "source": [
        "# Try training for, say, 500 epochs; you can also try mask_rate=1.0 for a stricter overfit test.\n",
        "nr_epochs = 1000\n",
        "batch_size = 100\n",
        "mask_rate = 0.05  # Try also mask_rate = 1.0 to check if the network can memorize given only positional cues.\n",
        "final_mask_rate = 0.95\n",
        "mask_schedule = \"exp\"\n",
        "patch_size = 4\n",
        "num_heads = 2\n",
        "num_layers = 2\n",
        "ffn_dim = 256\n",
        "emb_dim = 64\n",
        "learning_rate = 1e-3\n",
        "vocab_cap = 100000\n",
        "\"\"\"\n",
        "trained_model = run_training(training_data, nr_epochs, batch_size, mask_rate, final_mask_rate, mask_schedule, patch_size,\n",
        "                             num_heads, num_layers, ffn_dim, learning_rate, emb_dim, vocab_cap)\n",
        "\"\"\""
      ],
      "metadata": {
        "colab": {
          "base_uri": "https://localhost:8080/",
          "height": 53
        },
        "id": "EfGJ0p0IXgRr",
        "outputId": "85847853-9ae3-4d17-c4f2-b726a0957a84"
      },
      "execution_count": 11,
      "outputs": [
        {
          "output_type": "execute_result",
          "data": {
            "text/plain": [
              "'\\ntrained_model = run_training(training_data, nr_epochs, batch_size, mask_rate, final_mask_rate, mask_schedule, patch_size,\\n                             num_heads, num_layers, ffn_dim, learning_rate, emb_dim, vocab_cap)\\n'"
            ],
            "application/vnd.google.colaboratory.intrinsic+json": {
              "type": "string"
            }
          },
          "metadata": {},
          "execution_count": 11
        }
      ]
    },
    {
      "cell_type": "code",
      "source": [
        "import torch\n",
        "\n",
        "ckpt_path = \"Models/BEST_MODEL.pth\"\n",
        "ckpt = torch.load(ckpt_path, map_location=\"cpu\")\n",
        "\n",
        "print(\"=== CHECKPOINT PARAMS ===\")\n",
        "for k, v in ckpt.items():\n",
        "    # some entries in a checkpoint might be nested dicts (e.g. optimizer states)\n",
        "    # we only want the tensors, so check isinstance(v, torch.Tensor)\n",
        "    if isinstance(v, torch.Tensor):\n",
        "        print(f\"{k:40s}  {tuple(v.shape)}  dtype={v.dtype}\")\n",
        "    else:\n",
        "        print(f\"{k:40s}  (type={type(v)})\")"
      ],
      "metadata": {
        "id": "qwQ77wR92dFk",
        "outputId": "1ebbf64a-4f01-4250-e76b-67f42510540f",
        "colab": {
          "base_uri": "https://localhost:8080/"
        }
      },
      "execution_count": 12,
      "outputs": [
        {
          "output_type": "stream",
          "name": "stdout",
          "text": [
            "=== CHECKPOINT PARAMS ===\n",
            "mask_token                                (16,)  dtype=torch.float32\n",
            "rel_bias_table                            (31, 31)  dtype=torch.float32\n",
            "pos_emb                                   (1,)  dtype=torch.float32\n",
            "patch_proj.weight                         (64, 16)  dtype=torch.float32\n",
            "patch_proj.bias                           (64,)  dtype=torch.float32\n",
            "layers.0.attn.in_proj_weight              (192, 64)  dtype=torch.float32\n",
            "layers.0.attn.in_proj_bias                (192,)  dtype=torch.float32\n",
            "layers.0.attn.out_proj.weight             (64, 64)  dtype=torch.float32\n",
            "layers.0.attn.out_proj.bias               (64,)  dtype=torch.float32\n",
            "layers.0.norm1.weight                     (64,)  dtype=torch.float32\n",
            "layers.0.norm1.bias                       (64,)  dtype=torch.float32\n",
            "layers.0.ffn.0.weight                     (256, 64)  dtype=torch.float32\n",
            "layers.0.ffn.0.bias                       (256,)  dtype=torch.float32\n",
            "layers.0.ffn.3.weight                     (64, 256)  dtype=torch.float32\n",
            "layers.0.ffn.3.bias                       (64,)  dtype=torch.float32\n",
            "layers.0.norm2.weight                     (64,)  dtype=torch.float32\n",
            "layers.0.norm2.bias                       (64,)  dtype=torch.float32\n",
            "layers.1.attn.in_proj_weight              (192, 64)  dtype=torch.float32\n",
            "layers.1.attn.in_proj_bias                (192,)  dtype=torch.float32\n",
            "layers.1.attn.out_proj.weight             (64, 64)  dtype=torch.float32\n",
            "layers.1.attn.out_proj.bias               (64,)  dtype=torch.float32\n",
            "layers.1.norm1.weight                     (64,)  dtype=torch.float32\n",
            "layers.1.norm1.bias                       (64,)  dtype=torch.float32\n",
            "layers.1.ffn.0.weight                     (256, 64)  dtype=torch.float32\n",
            "layers.1.ffn.0.bias                       (256,)  dtype=torch.float32\n",
            "layers.1.ffn.3.weight                     (64, 256)  dtype=torch.float32\n",
            "layers.1.ffn.3.bias                       (64,)  dtype=torch.float32\n",
            "layers.1.norm2.weight                     (64,)  dtype=torch.float32\n",
            "layers.1.norm2.bias                       (64,)  dtype=torch.float32\n",
            "out_proj.weight                           (5485, 64)  dtype=torch.float32\n",
            "out_proj.bias                             (5485,)  dtype=torch.float32\n"
          ]
        }
      ]
    },
    {
      "cell_type": "code",
      "source": [
        "# Assume training_data is already defined with shape (N, H, W)\n",
        "N, H, W = training_data.shape\n",
        "\n",
        "# Set parameters.\n",
        "vocab, counts, mask_token = build_vocabulary(training_data, patch_size, cap_size=vocab_cap)\n",
        "patch_dim = patch_size ** 2\n",
        "num_patches = (H // patch_size) ** 2\n",
        "\n",
        "#samps = torch.tensor(samps,dtype=torch.float32)\n",
        "\n",
        "flattened_condition_indices = np.zeros(len(condition_indices_new))\n",
        "for i in range(len(condition_indices_new)):\n",
        "    flattened_condition_indices[i] = condition_indices_x[i] * 64 + condition_indices_y[i]\n",
        "flattened_condition_indices = flattened_condition_indices.astype(int)\n",
        "\n",
        "# Create the model and load weights.\n",
        "PATH = \"Models/BEST_MODEL.pth\"\n",
        "model = StackedContextViT(\n",
        "    vocab=vocab,\n",
        "    mask_token=mask_token,\n",
        "    patch_dim=patch_dim,\n",
        "    num_patches=num_patches,\n",
        "    emb_dim=emb_dim,\n",
        "    num_heads=num_heads,\n",
        "    num_layers=num_layers,\n",
        "    ffn_dim=ffn_dim,\n",
        "    use_pos_emb=False,          # <— must be True to load the old 256×64 buffer\n",
        "    use_rel_bias=True\n",
        ")\n",
        "\n",
        "device = torch.device(\"cuda\" if torch.cuda.is_available() else \"cpu\")\n",
        "model.load_state_dict(torch.load(PATH, map_location=device))  # remove weights_only if not applicable\n",
        "\"\"\"\n",
        "model.to(device)\n",
        "model.vocab = model.vocab.to(device)\n",
        "model.mask_token = model.mask_token.to(device)\n",
        "images,ll = generate_images_batch(model, patch_size, image_size=H, batch_size=3,device=device,\n",
        "                          condition_indices=flattened_condition_indices, condition_values=condition_values_new,\n",
        "                          generation_order=\"manhattan\")\n",
        "plt.imshow(images[0],cmap='gray')\n",
        "plt.title(f\"ll: {ll[0]}\")\n",
        "plt.show()\n",
        "images = images.to(device)\n",
        "ll_new = log_likelihood_evaluation_batch(\n",
        "    model,\n",
        "    images,            # tensor [B, H, W] of binary images\n",
        "    patch_size,              # int\n",
        "    condition_indices=flattened_condition_indices,\n",
        "    condition_values=condition_values_new,\n",
        "    generation_order=\"manhattan\"\n",
        ")\n",
        "print(f\"ll_new: {ll_new[0]}\")\n",
        "samps = samps.to(device)\n",
        "ll_VEA_full = []\n",
        "for i in range(30):\n",
        "  ll_VEA = log_likelihood_evaluation_batch(\n",
        "      model,\n",
        "      samps[i*100:(i+1)*100],            # tensor [B, H, W] of binary images\n",
        "      patch_size,              # int\n",
        "      condition_indices=flattened_condition_indices,\n",
        "      condition_values=condition_values_new,\n",
        "      generation_order=\"manhattan\"\n",
        "  )\n",
        "  ll_VEA_full.append(ll_VEA)\n",
        "print(ll_VEA)\n",
        "\"\"\""
      ],
      "metadata": {
        "id": "q7BhKWY0shM0",
        "outputId": "001963cf-0e1a-4096-eb15-072f405362b7",
        "colab": {
          "base_uri": "https://localhost:8080/",
          "height": 123
        }
      },
      "execution_count": 13,
      "outputs": [
        {
          "output_type": "execute_result",
          "data": {
            "text/plain": [
              "'\\nmodel.to(device)\\nmodel.vocab = model.vocab.to(device)\\nmodel.mask_token = model.mask_token.to(device)\\nimages,ll = generate_images_batch(model, patch_size, image_size=H, batch_size=3,device=device, \\n                          condition_indices=flattened_condition_indices, condition_values=condition_values_new, \\n                          generation_order=\"manhattan\")\\nplt.imshow(images[0],cmap=\\'gray\\')\\nplt.title(f\"ll: {ll[0]}\")\\nplt.show()\\nimages = images.to(device)\\nll_new = log_likelihood_evaluation_batch(\\n    model,\\n    images,            # tensor [B, H, W] of binary images\\n    patch_size,              # int\\n    condition_indices=flattened_condition_indices,\\n    condition_values=condition_values_new,\\n    generation_order=\"manhattan\"\\n)\\nprint(f\"ll_new: {ll_new[0]}\")\\nsamps = samps.to(device)\\nll_VEA_full = []\\nfor i in range(30):\\n  ll_VEA = log_likelihood_evaluation_batch(\\n      model,\\n      samps[i*100:(i+1)*100],            # tensor [B, H, W] of binary images\\n      patch_size,              # int\\n      condition_indices=flattened_condition_indices,\\n      condition_values=condition_values_new,\\n      generation_order=\"manhattan\"\\n  )\\n  ll_VEA_full.append(ll_VEA)\\nprint(ll_VEA)\\n'"
            ],
            "application/vnd.google.colaboratory.intrinsic+json": {
              "type": "string"
            }
          },
          "metadata": {},
          "execution_count": 13
        }
      ]
    },
    {
      "cell_type": "code",
      "source": [
        "import math\n",
        "import torch\n",
        "import torch.nn.functional as F\n",
        "\n",
        "def compute_log_likelihood_batch(\n",
        "    model,\n",
        "    device,\n",
        "    image_batches,\n",
        "    condition_indices=None,\n",
        "    condition_values=None,\n",
        "    generation_order=\"manhattan\",\n",
        "    atol=1e-6\n",
        "):\n",
        "    \"\"\"\n",
        "    Compute sum of log-likelihoods for a batch of fully-observed images under\n",
        "    the masked‐patch sequential model, following the specified generation_order.\n",
        "\n",
        "    Args:\n",
        "        model:            PyTorch model with attributes\n",
        "                          - .vocab       (Tensor[V, D])\n",
        "                          - .mask_token  (Tensor[D])\n",
        "                          and callable forward(inputs, mask_rate=0.0) -> (logits, _)\n",
        "        device:           torch device (e.g. \"cuda\")\n",
        "        image_batches:    FloatTensor of shape [B, H, W], values in [0,1]\n",
        "        condition_indices: List of flattened pixel indices to treat as\n",
        "                           additional observed constraints (shared across batch)\n",
        "        condition_values:  List of 0/1 values for those indices\n",
        "        generation_order:  One of \"raster\", \"manhattan\", \"inverse manhattan\"\n",
        "        atol:             Tolerance for matching patch vectors to vocab\n",
        "\n",
        "    Returns:\n",
        "        log_likelihoods:  FloatTensor of shape [B], sum of per-patch log-probs\n",
        "    \"\"\"\n",
        "    model.to(device)\n",
        "    model.eval()\n",
        "    image_batches = image_batches.to(device)\n",
        "    B, H, W = image_batches.shape\n",
        "    # infer patch size & grid\n",
        "    D = model.mask_token.shape[0]\n",
        "    P = int(math.sqrt(D))\n",
        "    assert P*P == D, \"mask_token dim not a square\"\n",
        "    assert H == W and H % P == 0, \"image size must be divisible by patch_size\"\n",
        "    G = H // P\n",
        "    T = G * G\n",
        "\n",
        "    # pull out true patch vectors: [B, T, D]\n",
        "    patches = (\n",
        "        image_batches\n",
        "        .unfold(1, P, P)          # -> [B, G, W, P]\n",
        "        .unfold(2, P, P)          # -> [B, G, G, P, P]\n",
        "        .permute(0,1,2,3,4)       # ensure layout\n",
        "        .contiguous()\n",
        "        .view(B, T, D)\n",
        "    )\n",
        "\n",
        "    # build patch-level condition map\n",
        "    conditions_by_patch = {}\n",
        "    if condition_indices is not None and condition_values is not None:\n",
        "        for pix_idx, pix_val in zip(condition_indices, condition_values):\n",
        "            pr, pc = divmod(pix_idx, H)\n",
        "            pr0, pc0 = pr // P, pc // P\n",
        "            pidx = pr0 * G + pc0\n",
        "            local = (pr % P)*P + (pc % P)\n",
        "            conditions_by_patch.setdefault(pidx, []).append((local, pix_val))\n",
        "\n",
        "    # figure out sampling order\n",
        "    observed = sorted(conditions_by_patch.keys())\n",
        "    all_p   = set(range(T))\n",
        "    unobs   = list(all_p - set(observed))\n",
        "\n",
        "    if generation_order == \"raster\":\n",
        "        unobs.sort()\n",
        "    elif generation_order == \"manhattan\":\n",
        "        if observed:\n",
        "            dist = []\n",
        "            for p in unobs:\n",
        "                r,c = divmod(p, G)\n",
        "                s = sum(abs(r - (o//G)) + abs(c - (o%G)) for o in observed)\n",
        "                dist.append((p,s))\n",
        "            unobs = [p for p,_ in sorted(dist, key=lambda x: x[1])]\n",
        "        else:\n",
        "            unobs.sort()\n",
        "    elif generation_order == \"inverse manhattan\":\n",
        "        if observed:\n",
        "            inv = []\n",
        "            for p in unobs:\n",
        "                r,c = divmod(p, G)\n",
        "                s = sum(1.0/(abs(r-(o//G))+abs(c-(o%G))) for o in observed)\n",
        "                inv.append((p,s))\n",
        "            unobs = [p for p,_ in sorted(inv, key=lambda x: x[1], reverse=True)]\n",
        "        else:\n",
        "            unobs.sort()\n",
        "    else:\n",
        "        raise ValueError(f\"Unknown generation_order {generation_order}\")\n",
        "\n",
        "    sampling_order = observed + unobs\n",
        "\n",
        "    # prepare storage\n",
        "    log_likes = torch.zeros(B, device=device)\n",
        "    mask_tok  = model.mask_token.detach().to(device)      # [D]\n",
        "    vocab     = model.vocab.to(device)                    # [V, D]\n",
        "    V         = vocab.shape[0]\n",
        "\n",
        "    # initially mask all patches\n",
        "    generated = mask_tok.unsqueeze(0).unsqueeze(0)\\\n",
        "                   .expand(B, T, D).clone()\n",
        "\n",
        "    # sequentially fill in actual patches, accumulating log‐probs\n",
        "    for p in sampling_order:\n",
        "        with torch.no_grad():\n",
        "            logits_full, _ = model(generated.to(device), mask_rate=0.0)\n",
        "        # logits for this patch: [B, V]\n",
        "        logits_p = logits_full[:, p, :]\n",
        "\n",
        "        # apply any patch‐level condition constraints\n",
        "        if p in conditions_by_patch:\n",
        "            valid = torch.ones(V, dtype=torch.bool, device=device)\n",
        "            for local_i, val in conditions_by_patch[p]:\n",
        "                valid &= (vocab[:, local_i] == val)\n",
        "            logits_p = logits_p.masked_fill(~valid.unsqueeze(0), -float('inf'))\n",
        "\n",
        "        # compute probabilities\n",
        "        probs_p = F.softmax(logits_p, dim=-1)  # [B, V]\n",
        "\n",
        "        # find the true token index for each image in batch\n",
        "        # compare vocab rows to the true patch vector\n",
        "        # -> [B, V, D] difference, then match along D\n",
        "        diff    = vocab.unsqueeze(0) - patches[:, p, :].unsqueeze(1)  # [B, V, D]\n",
        "        matches = torch.all(torch.abs(diff) < atol, dim=2)           # [B, V]\n",
        "        # argmax gives first True index (we assume every patch is in vocab)\n",
        "        true_idx = matches.float().argmax(dim=1)                      # [B]\n",
        "\n",
        "        # gather the probability assigned to the true token, accumulate\n",
        "        p_true = probs_p[torch.arange(B, device=device), true_idx]\n",
        "        log_likes += torch.log(p_true + 1e-10)\n",
        "\n",
        "        # now “fill in” that patch with the true vocab vector\n",
        "        generated[:, p, :] = vocab[true_idx]\n",
        "\n",
        "    return log_likes"
      ],
      "metadata": {
        "id": "MZoh8Xq3Um5o"
      },
      "execution_count": 14,
      "outputs": []
    },
    {
      "cell_type": "code",
      "source": [
        "cond_data[0] == samps[0]"
      ],
      "metadata": {
        "id": "xPAQflOpkA2X",
        "outputId": "3da1ba7c-6d14-438c-f884-22c9160cb210",
        "colab": {
          "base_uri": "https://localhost:8080/"
        }
      },
      "execution_count": 15,
      "outputs": [
        {
          "output_type": "execute_result",
          "data": {
            "text/plain": [
              "array([[ True,  True,  True, ...,  True,  True,  True],\n",
              "       [ True,  True,  True, ...,  True,  True,  True],\n",
              "       [ True,  True,  True, ...,  True,  True,  True],\n",
              "       ...,\n",
              "       [ True,  True,  True, ...,  True,  True,  True],\n",
              "       [ True,  True,  True, ...,  True,  True,  True],\n",
              "       [ True,  True,  True, ...,  True,  True,  True]])"
            ]
          },
          "metadata": {},
          "execution_count": 15
        }
      ]
    },
    {
      "cell_type": "code",
      "source": [
        "plt.imshow(samps[0],cmap=\"gray\")\n",
        "plt.show()"
      ],
      "metadata": {
        "id": "2yXeC8LujcFQ",
        "outputId": "abc403c2-e728-4453-ef40-290ceda28c6d",
        "colab": {
          "base_uri": "https://localhost:8080/",
          "height": 432
        }
      },
      "execution_count": 16,
      "outputs": [
        {
          "output_type": "display_data",
          "data": {
            "text/plain": [
              "<Figure size 640x480 with 1 Axes>"
            ],
            "image/png": "[encoded data removed]"
          },
          "metadata": {}
        }
      ]
    },
    {
      "cell_type": "code",
      "source": [
        "log_lik_list = []\n",
        "for i in range(30):\n",
        "  curr_batch = samps[i*100:(i+1)*100]\n",
        "  curr_batch = torch.tensor(curr_batch,dtype=torch.float32).to(device)\n",
        "  log_lik = compute_log_likelihood_batch(\n",
        "      model,\n",
        "      device,\n",
        "      curr_batch,\n",
        "      condition_indices=flattened_condition_indices,\n",
        "      condition_values=condition_values_new,\n",
        "      generation_order=\"manhattan\",\n",
        "      atol=1e-6\n",
        "  )\n",
        "  log_lik_list.append(log_lik)\n",
        "print(log_lik_list)\n",
        "# Convert to numpy array\n",
        "log_lik_array = np.array(log_lik_list)\n",
        "# save numpy array\n",
        "np.save(\"log_lik_array.npy\", log_lik_array)"
      ],
      "metadata": {
        "id": "fC_0qsqZXxqz",
        "outputId": "bad50085-14d3-41a2-9f70-4f309c0fcfd7",
        "colab": {
          "base_uri": "https://localhost:8080/"
        }
      },
      "execution_count": 17,
      "outputs": [
        {
          "output_type": "stream",
          "name": "stdout",
          "text": [
            "[tensor([-804.9146, -798.7664, -775.2332, -796.5264, -870.2641, -816.8688,\n",
            "        -887.6250, -812.3987, -775.7068, -883.1868, -783.9315, -772.6533,\n",
            "        -767.4265, -786.2260, -901.8624, -811.5241, -832.4752, -823.0953,\n",
            "        -837.9073, -767.0562, -846.2405, -777.8098, -835.7910, -701.5386,\n",
            "        -796.7508, -802.4155, -877.0087, -837.5852, -830.0040, -830.2473,\n",
            "        -850.5096, -821.0628, -835.0541, -814.2245, -811.6360, -804.0234,\n",
            "        -903.5063, -782.1427, -788.9658, -803.7610, -894.8716, -798.3705,\n",
            "        -804.8395, -693.7713, -727.4835, -821.1485, -703.0692, -826.7627,\n",
            "        -871.6981, -821.8534, -783.5390, -827.2867, -851.4584, -830.6038,\n",
            "        -836.2922, -731.7023, -900.3409, -773.4166, -865.1140, -866.7017,\n",
            "        -890.6581, -804.7090, -796.7369, -745.8907, -833.7115, -819.3760,\n",
            "        -771.1551, -867.5062, -750.6920, -759.1204, -736.2361, -868.9527,\n",
            "        -911.4882, -802.9187, -832.1390, -737.0582, -842.7597, -844.0649,\n",
            "        -853.5861, -750.1581, -803.1119, -811.2449, -965.2902, -875.1526,\n",
            "        -922.3067, -806.4017, -924.8863, -932.8359, -737.7237, -774.4187,\n",
            "        -762.0667, -799.2998, -809.9525, -847.9432, -786.4250, -805.5261,\n",
            "        -893.4594, -739.5990, -839.8479, -724.1097]), tensor([-797.1556, -843.0793, -820.4630, -790.9749, -796.6491, -788.0618,\n",
            "        -788.7492, -800.8538, -853.2097, -906.2794, -844.4403, -850.3766,\n",
            "        -810.6096, -781.0416, -839.3940, -844.5978, -858.2315, -939.6940,\n",
            "        -786.2351, -904.3598, -855.5032, -838.9368, -859.4927, -805.5741,\n",
            "        -862.5998, -839.2769, -823.1719, -792.9202, -775.9729, -831.4468,\n",
            "        -918.1952, -860.7420, -885.5471, -835.7372, -830.8069, -832.3275,\n",
            "        -833.8655, -882.2193, -805.9081, -760.2937, -841.1540, -735.8391,\n",
            "        -820.8840, -792.6945, -847.3820, -845.9872, -849.4692, -841.0231,\n",
            "        -801.6230, -887.0073, -779.1945, -716.2521, -829.9846, -868.0744,\n",
            "        -771.4681, -807.1288, -748.9479, -825.3846, -720.2693, -840.8254,\n",
            "        -827.5881, -878.9089, -834.1467, -840.4235, -900.0261, -906.5714,\n",
            "        -825.8154, -825.4184, -793.2885, -712.8278, -849.4018, -818.0776,\n",
            "        -805.5040, -770.7814, -847.1348, -786.6906, -798.4622, -898.3181,\n",
            "        -905.8042, -798.4742, -722.6693, -750.4650, -830.5861, -856.5341,\n",
            "        -761.2518, -750.5532, -782.0656, -861.3845, -700.8743, -795.6266,\n",
            "        -861.9150, -791.8416, -795.0488, -857.4153, -792.9795, -816.7636,\n",
            "        -805.2148, -833.7951, -770.5236, -765.0194]), tensor([-811.5099, -872.3627, -829.8123, -798.4874, -802.7429, -834.2521,\n",
            "        -799.0578, -835.9657, -783.5876, -818.1002, -827.1398, -802.5876,\n",
            "        -817.2322, -796.8945, -807.7454, -867.2973, -770.5015, -877.2655,\n",
            "        -824.3864, -843.7664, -818.2596, -794.5652, -762.9116, -892.8131,\n",
            "        -810.5726, -735.8121, -747.1653, -817.5516, -894.4415, -855.0385,\n",
            "        -792.7554, -857.1080, -729.2808, -758.7261, -814.4702, -878.4090,\n",
            "        -817.9954, -728.0352, -758.1771, -831.3515, -798.3003, -876.0664,\n",
            "        -819.5565, -853.7205, -838.2419, -837.3328, -819.8062, -747.1730,\n",
            "        -815.1517, -909.7804, -828.3112, -840.6246, -778.2508, -773.1767,\n",
            "        -802.2476, -727.7540, -756.0755, -734.8801, -839.1737, -749.2217,\n",
            "        -839.8187, -811.1481, -966.8300, -736.7906, -855.4788, -864.7831,\n",
            "        -889.1529, -805.0579, -804.0724, -734.9643, -680.4888, -799.0171,\n",
            "        -865.9536, -764.4877, -714.3442, -743.4891, -916.3043, -837.0768,\n",
            "        -892.5206, -861.9985, -890.9935, -889.7500, -862.9989, -815.6492,\n",
            "        -692.1151, -753.9198, -829.0425, -793.9553, -843.1820, -724.0891,\n",
            "        -878.4919, -850.7934, -743.3078, -832.4734, -858.7163, -826.4478,\n",
            "        -830.6433, -832.3519, -831.2683, -852.1915]), tensor([-711.6531, -819.0465, -887.4965, -823.3713, -873.4267, -900.0234,\n",
            "        -803.9291, -829.0123, -789.2049, -817.7048, -777.6479, -822.5377,\n",
            "        -781.2696, -893.0007, -826.0356, -951.8769, -886.6479, -845.9665,\n",
            "        -884.7682, -838.9838, -841.3451, -776.0218, -913.3561, -845.1550,\n",
            "        -738.6238, -771.3522, -752.5068, -839.2769, -842.4324, -841.1373,\n",
            "        -775.8612, -828.7991, -825.9772, -774.0017, -622.5020, -821.8901,\n",
            "        -833.2592, -793.0187, -849.2956, -814.1248, -885.0615, -760.5519,\n",
            "        -760.1741, -862.2215, -859.4117, -778.3314, -706.1689, -782.4542,\n",
            "        -820.6817, -895.4861, -778.4751, -893.9155, -775.6970, -826.8605,\n",
            "        -873.2515, -809.8525, -806.9163, -860.2030, -766.8831, -798.0695,\n",
            "        -833.5018, -761.2691, -781.3535, -883.5156, -923.2736, -807.4581,\n",
            "        -700.4267, -760.0173, -818.1374, -813.7764, -819.5695, -795.1963,\n",
            "        -868.8948, -783.4424, -800.4116, -782.0876, -833.3633, -809.3919,\n",
            "        -745.8969, -894.2892, -768.8056, -841.4997, -827.9673, -874.7285,\n",
            "        -752.8743, -810.3182, -831.3327, -831.9913, -839.2242, -800.7620,\n",
            "        -828.7355, -815.4672, -805.4666, -825.2433, -772.2632, -927.0831,\n",
            "        -815.0294, -897.5268, -740.9692, -814.6718]), tensor([-856.3517, -654.8986, -889.7315, -719.6223, -746.4056, -798.3074,\n",
            "        -748.1889, -820.4863, -874.6116, -865.2729, -806.3637, -849.2708,\n",
            "        -774.6203, -823.0825, -782.6852, -849.9822, -702.8456, -802.8635,\n",
            "        -844.4916, -843.2466, -773.0862, -842.5079, -843.2288, -873.1643,\n",
            "        -803.5967, -905.7211, -742.6438, -877.3455, -776.1537, -737.3954,\n",
            "        -790.5754, -878.2041, -895.3708, -738.6294, -734.7473, -818.5052,\n",
            "        -727.6125, -763.1913, -706.9761, -872.4625, -877.9935, -847.9954,\n",
            "        -861.0320, -852.1422, -783.4676, -852.1719, -844.9970, -776.5851,\n",
            "        -840.2214, -842.6403, -798.2031, -804.6146, -868.0323, -869.7285,\n",
            "        -848.1300, -808.1315, -826.9346, -860.3973, -791.1497, -740.9612,\n",
            "        -900.9231, -818.6029, -809.3846, -828.1825, -790.5399, -702.8717,\n",
            "        -911.1753, -772.2181, -858.7139, -854.4453, -761.2395, -843.2567,\n",
            "        -845.0057, -830.6812, -753.4631, -766.1507, -848.0974, -828.0497,\n",
            "        -767.4756, -792.9020, -820.9449, -777.5501, -742.9073, -719.0284,\n",
            "        -854.0960, -857.2974, -903.0798, -779.8444, -865.4499, -899.5906,\n",
            "        -805.3802, -728.4062, -888.2103, -893.7934, -825.5744, -804.9725,\n",
            "        -865.3024, -839.9142, -760.3959, -845.5616]), tensor([-761.5372, -778.4268, -930.2391, -740.7269, -743.3899, -795.8162,\n",
            "        -878.9337, -853.8978, -841.2772, -808.1537, -847.2548, -803.1499,\n",
            "        -828.6714, -772.3556, -836.8568, -801.0912, -949.5038, -783.8519,\n",
            "        -852.9536, -802.8646, -893.9210, -795.5802, -750.7335, -789.4272,\n",
            "        -809.3733, -887.1643, -857.2213, -787.2469, -860.4402, -811.0098,\n",
            "        -784.2313, -818.6855, -795.0402, -868.6466, -824.1846, -670.9428,\n",
            "        -730.2370, -815.5760, -777.3108, -820.1640, -822.8158, -753.1320,\n",
            "        -821.8843, -868.1025, -869.0519, -756.6613, -910.8348, -833.6778,\n",
            "        -813.7451, -838.8537, -854.3276, -757.3240, -796.9484, -781.2597,\n",
            "        -832.9656, -767.5416, -850.3192, -826.9199, -803.8627, -794.0388,\n",
            "        -840.1304, -819.2458, -821.7800, -866.7949, -733.2258, -815.6838,\n",
            "        -883.1064, -825.4180, -884.0781, -690.8006, -781.3828, -761.4746,\n",
            "        -782.2398, -826.8366, -820.6447, -809.0792, -901.4182, -848.0134,\n",
            "        -853.7076, -754.7814, -795.7142, -808.7647, -787.6081, -841.2454,\n",
            "        -800.3698, -780.5524, -792.0705, -867.8820, -834.5427, -807.6077,\n",
            "        -821.9761, -885.6752, -830.4294, -793.8343, -771.6966, -851.7832,\n",
            "        -829.9050, -879.3570, -775.2733, -789.0727]), tensor([-918.2751, -797.6535, -861.3148, -707.2620, -760.2151, -799.0300,\n",
            "        -780.0867, -886.6462, -866.9411, -788.4742, -845.5192, -888.7308,\n",
            "        -928.4827, -837.2495, -721.5394, -717.6114, -827.1127, -863.4952,\n",
            "        -714.5565, -829.1105, -816.4343, -805.2776, -813.4983, -717.0444,\n",
            "        -780.7767, -925.9791, -783.9307, -870.5040, -757.9123, -940.0619,\n",
            "        -751.7972, -782.4702, -855.5933, -807.2473, -864.3082, -723.4866,\n",
            "        -744.1244, -708.8730, -910.3785, -785.1788, -750.0799, -855.1949,\n",
            "        -736.8970, -851.5031, -830.3152, -633.5613, -815.6658, -938.9446,\n",
            "        -918.4610, -803.1664, -750.2518, -728.0532, -857.1667, -951.9795,\n",
            "        -809.0770, -806.1014, -721.4843, -742.2836, -875.9924, -813.2180,\n",
            "        -868.3526, -807.8934, -842.0301, -951.6306, -862.7393, -827.7164,\n",
            "        -831.5215, -948.7181, -759.5316, -819.8911, -812.6874, -844.7413,\n",
            "        -817.2830, -739.3107, -772.8650, -783.3284, -825.4366, -853.7451,\n",
            "        -817.2002, -857.0016, -704.4825, -798.9284, -796.7525, -862.7772,\n",
            "        -822.8154, -766.3685, -746.1458, -797.8462, -768.2947, -733.5633,\n",
            "        -866.0865, -881.4315, -817.6855, -789.9614, -826.6998, -717.4335,\n",
            "        -863.7169, -914.4191, -755.7108, -833.4551]), tensor([-768.6191, -785.9944, -852.4596, -898.5996, -807.4784, -816.7697,\n",
            "        -889.7275, -855.5368, -798.5283, -917.6645, -810.7659, -840.3549,\n",
            "        -797.7840, -840.2368, -824.8919, -757.5004, -681.3164, -871.3104,\n",
            "        -824.0067, -780.9175, -704.2726, -851.7026, -795.4147, -751.2476,\n",
            "        -887.6941, -773.2975, -822.2183, -841.7677, -785.9167, -887.4436,\n",
            "        -826.9440, -899.4172, -800.7753, -871.9894, -842.4910, -767.6102,\n",
            "        -816.5544, -816.3350, -816.7169, -789.3572, -841.4875, -795.2161,\n",
            "        -791.3176, -803.8350, -815.1135, -788.5256, -816.2540, -778.5899,\n",
            "        -801.7657, -713.3992, -868.0789, -894.8179, -757.5837, -813.8710,\n",
            "        -845.2881, -863.6216, -793.6970, -855.3395, -770.3778, -866.4874,\n",
            "        -822.0692, -781.9749, -797.1329, -789.9053, -795.0621, -769.2596,\n",
            "        -865.6433, -857.7561, -793.6335, -796.6047, -715.8977, -832.5726,\n",
            "        -797.2975, -793.3401, -802.0645, -880.7169, -788.6785, -820.6375,\n",
            "        -846.8212, -809.2474, -892.7366, -834.3224, -903.3190, -751.7712,\n",
            "        -817.8970, -784.8721, -711.7422, -902.6923, -895.5068, -910.2946,\n",
            "        -774.1215, -922.5051, -745.7435, -821.3400, -898.7803, -798.1201,\n",
            "        -805.1568, -919.1767, -923.8712, -888.7758]), tensor([-706.6735, -854.5331, -829.4511, -708.9210, -863.4724, -777.1227,\n",
            "        -739.9700, -928.7982, -812.0182, -733.0323, -775.3826, -864.6321,\n",
            "        -855.5896, -911.7883, -853.7625, -766.9211, -777.6307, -903.9509,\n",
            "        -827.6857, -861.2489, -811.5358, -773.5286, -742.0256, -745.6570,\n",
            "        -782.1585, -774.5334, -927.0599, -725.9201, -832.7307, -855.5565,\n",
            "        -929.5002, -876.5105, -798.6298, -837.1633, -875.0906, -924.4206,\n",
            "        -876.9846, -805.9377, -919.1231, -822.8357, -832.5068, -827.6771,\n",
            "        -779.3409, -798.1586, -778.6147, -817.1390, -772.9182, -869.5720,\n",
            "        -775.7405, -812.9339, -899.3401, -857.7070, -765.5100, -660.3345,\n",
            "        -909.2942, -776.6567, -819.7173, -811.9786, -768.1216, -843.7466,\n",
            "        -922.6622, -776.7382, -849.2339, -807.6666, -814.0895, -800.1465,\n",
            "        -817.8118, -831.8040, -818.3176, -821.9793, -717.5447, -747.5814,\n",
            "        -760.9891, -816.3784, -751.0366, -681.7482, -785.2420, -755.1608,\n",
            "        -771.8104, -789.9873, -971.2080, -842.5926, -880.8114, -749.1429,\n",
            "        -848.6412, -864.7303, -816.2038, -757.8549, -814.5756, -814.8467,\n",
            "        -894.9736, -768.6840, -791.8958, -793.7742, -884.8613, -884.7208,\n",
            "        -790.3802, -764.9962, -871.2637, -836.4839]), tensor([-891.1436, -843.0603, -796.4192, -822.2049, -910.6047, -792.8943,\n",
            "        -843.0393, -798.5309, -789.4586, -741.7018, -821.4540, -677.6677,\n",
            "        -807.5997, -794.6574, -754.7203, -811.5590, -785.4489, -898.5948,\n",
            "        -826.4159, -824.1759, -796.8919, -933.3397, -782.7330, -802.2139,\n",
            "        -861.8578, -787.2229, -809.4805, -736.7575, -937.2584, -912.9687,\n",
            "        -834.4416, -835.0390, -791.6760, -884.9952, -819.9922, -850.9031,\n",
            "        -743.6461, -727.4061, -823.1887, -848.3866, -925.7292, -828.4867,\n",
            "        -928.7012, -771.3220, -896.0052, -855.6362, -771.2766, -888.7330,\n",
            "        -743.0264, -720.5909, -784.7294, -829.8223, -793.0643, -881.3105,\n",
            "        -774.6381, -710.8817, -803.0065, -899.4186, -890.7764, -687.6798,\n",
            "        -777.3073, -806.1335, -813.9575, -791.5925, -733.4465, -865.2709,\n",
            "        -822.2944, -810.4796, -841.8165, -698.8550, -841.7889, -904.4061,\n",
            "        -710.0060, -815.7937, -800.1579, -873.0079, -737.1603, -841.6855,\n",
            "        -738.8422, -895.6591, -832.7403, -817.8876, -778.1932, -823.2011,\n",
            "        -756.8087, -889.2302, -756.4225, -814.4035, -850.1318, -844.0977,\n",
            "        -825.4393, -811.1886, -848.5305, -835.4362, -835.0450, -824.4581,\n",
            "        -836.0037, -809.9977, -851.1286, -783.9686]), tensor([ -818.8585,  -849.3417,  -852.4043,  -855.7529,  -938.9936,  -839.0668,\n",
            "         -962.4620,  -888.1743,  -971.6727,  -900.7759,  -820.0436, -1007.8036,\n",
            "         -865.3272,  -862.8014,  -908.0964,  -873.8323,  -947.6439,  -949.0777,\n",
            "         -906.4917,  -904.9877,  -974.7836,  -942.3710,  -994.7279,  -940.5062,\n",
            "         -867.7422,  -891.1593,  -882.7680,  -971.3354,  -946.7913,  -934.4573,\n",
            "         -982.0000,  -942.2332,  -978.9391,  -906.8948,  -962.0788,  -880.9504,\n",
            "         -832.4829,  -862.7844,  -968.7983,  -996.8591,  -888.9559,  -982.7032,\n",
            "        -1041.2886,  -928.5043,  -896.2409,  -833.6387,  -845.9649, -1050.2642,\n",
            "        -1033.2904,  -896.8464,  -787.0462,  -799.9607,  -864.9014,  -865.6226,\n",
            "         -991.5040,  -910.9017,  -907.2391, -1005.5308,  -887.0121,  -899.5269,\n",
            "         -939.0122, -1002.9079,  -887.7360,  -840.2855,  -893.0551,  -811.7626,\n",
            "         -885.9719,  -835.7031,  -939.0693,  -946.3993,  -890.7588,  -857.7755,\n",
            "         -913.3942,  -826.0095,  -996.4412,  -903.3881,  -944.9868,  -927.8292,\n",
            "         -896.5233,  -928.4607,  -939.1541, -1040.2190,  -881.9289,  -920.1116,\n",
            "         -984.3399,  -806.7040,  -905.1857,  -857.6116,  -917.2541,  -773.0347,\n",
            "         -906.6323,  -886.7372,  -857.0399,  -915.3334,  -843.2369,  -799.4779,\n",
            "         -956.3416,  -899.3621,  -925.6794,  -918.2892]), tensor([ -859.6166,  -971.1885,  -959.1500,  -956.3536,  -931.6700,  -920.0595,\n",
            "        -1013.7209,  -887.0232,  -919.9319,  -862.1290,  -861.3736, -1045.8888,\n",
            "         -881.6520,  -940.1230,  -892.7802,  -917.6322,  -932.2722,  -917.9792,\n",
            "         -845.2767,  -920.1860,  -905.9139,  -980.4800,  -843.0109,  -789.5184,\n",
            "         -954.6840,  -833.5105,  -986.5507,  -972.9377,  -941.3481,  -840.7419,\n",
            "         -922.1857,  -960.4359,  -869.8569,  -825.7296,  -926.2045,  -876.1464,\n",
            "         -878.0709,  -786.2893,  -884.0510,  -933.1980,  -860.4286,  -834.7844,\n",
            "         -820.8635,  -968.0816,  -798.3927,  -959.0076,  -935.6428,  -866.5516,\n",
            "         -865.4883,  -880.3314,  -891.5977,  -863.5323, -1051.3843,  -869.0295,\n",
            "         -916.0775,  -842.1017,  -896.7365,  -919.7679,  -910.8892,  -947.5314,\n",
            "        -1032.7271,  -955.3260,  -840.0751,  -908.8771, -1017.8271,  -948.6078,\n",
            "         -934.4982,  -899.3596,  -928.3740,  -960.0782,  -929.9359,  -889.9662,\n",
            "         -782.0112,  -865.7018,  -988.7471,  -852.0178,  -972.9523,  -844.5950,\n",
            "         -910.3698,  -856.6804,  -826.2925,  -972.6363,  -963.7331,  -955.2171,\n",
            "         -897.7045,  -905.2158,  -943.2908,  -882.7779,  -889.4949,  -866.4786,\n",
            "         -919.0781,  -860.5720,  -910.2380,  -908.3427,  -983.3702,  -937.8397,\n",
            "         -873.8029,  -760.3594, -1009.5237,  -969.1457]), tensor([ -975.2618,  -922.1414,  -797.9491,  -899.4174,  -894.5076,  -824.0724,\n",
            "         -840.5057,  -934.1414,  -935.1730,  -880.2519, -1038.0132,  -947.4193,\n",
            "         -948.5531,  -936.0609,  -774.2451,  -908.5606,  -824.7372,  -954.4983,\n",
            "         -866.6011,  -879.2861,  -983.7425,  -829.1371,  -856.7792, -1066.5745,\n",
            "         -977.5753,  -946.4008,  -918.0792,  -879.4305,  -865.0992,  -871.8076,\n",
            "         -869.9648,  -897.2834,  -981.2228,  -910.3324,  -834.9042,  -917.8069,\n",
            "         -963.1865,  -889.3209,  -967.6788,  -960.6683,  -893.8010,  -897.8813,\n",
            "         -837.1701,  -941.2692,  -821.0992,  -925.1857,  -900.7496,  -927.0834,\n",
            "         -860.0627,  -855.4276,  -988.5028,  -888.7567,  -934.4504,  -808.2796,\n",
            "         -800.4320,  -858.3098, -1018.4927,  -937.1585,  -872.8101,  -986.1702,\n",
            "        -1024.6060,  -925.1442,  -787.9064,  -928.1459,  -836.3067,  -973.1985,\n",
            "         -929.2098,  -891.4268,  -852.9037,  -978.5861,  -948.9794,  -848.9692,\n",
            "         -993.2041,  -982.7864,  -889.9458,  -860.4660,  -928.1050,  -833.1451,\n",
            "         -960.0665,  -866.4288,  -878.9332,  -932.0538,  -829.1216,  -864.5892,\n",
            "         -932.9849,  -892.4564,  -863.4509,  -914.5495,  -939.2673, -1007.1229,\n",
            "         -945.4565,  -984.3689,  -825.5734,  -924.2073,  -947.5345,  -917.0151,\n",
            "         -904.6348,  -903.2515,  -954.9825,  -864.4907]), tensor([ -925.6439,  -897.4308,  -986.1779,  -808.2094,  -913.1351,  -866.9736,\n",
            "         -847.7481, -1096.9635,  -873.2986,  -839.9986,  -953.7505,  -838.6177,\n",
            "         -889.7119,  -930.3872,  -982.6931,  -900.4698,  -811.9163,  -995.3911,\n",
            "         -969.0781,  -967.9839,  -875.4617,  -839.0270,  -981.6619,  -911.5683,\n",
            "         -921.9303,  -858.5977,  -864.0439,  -916.7716,  -875.4373,  -953.6805,\n",
            "         -981.5818,  -892.4503,  -942.7046, -1006.6280,  -817.3749,  -921.0354,\n",
            "         -764.7913,  -943.7183,  -898.6910,  -910.3281,  -857.8145,  -852.5923,\n",
            "         -898.4476,  -883.0474,  -905.8351, -1033.4231,  -982.6191,  -853.1153,\n",
            "         -904.7972,  -807.8784,  -915.1745,  -840.6805,  -892.5684,  -919.6190,\n",
            "         -907.0233,  -879.8171,  -887.1951,  -902.2221,  -888.1046,  -986.7521,\n",
            "         -896.4081,  -873.3829,  -895.6060,  -883.9530,  -922.9388,  -826.2148,\n",
            "         -849.4457,  -956.0138,  -977.0929,  -707.6265,  -935.5475,  -960.8627,\n",
            "         -865.2482,  -894.1306,  -925.3819,  -810.8727,  -928.2871,  -824.7346,\n",
            "         -892.3893,  -963.4534,  -878.7080,  -873.5944,  -914.1005,  -955.6572,\n",
            "         -907.2263,  -947.8995,  -869.5141,  -918.2573,  -903.7444,  -883.2917,\n",
            "         -951.0977,  -969.7998,  -910.0089,  -898.2643,  -927.3712, -1003.0475,\n",
            "         -988.7382,  -939.0159,  -985.9460,  -907.1476]), tensor([ -904.2227,  -837.2426,  -938.8547,  -906.0939,  -939.1721,  -960.0864,\n",
            "         -755.3383,  -890.9474,  -972.3432,  -980.4219, -1009.6490,  -869.8519,\n",
            "         -884.2771, -1009.2495,  -927.4092,  -905.2900,  -926.2813,  -976.5576,\n",
            "         -798.5691,  -964.0496,  -908.6498,  -964.7775,  -930.4793,  -880.1835,\n",
            "         -874.0003,  -959.5607,  -911.6050,  -922.6487,  -925.7465,  -952.2241,\n",
            "         -949.9745,  -869.8975,  -977.4459,  -923.8215,  -933.1633,  -971.4028,\n",
            "         -963.0686,  -773.4756,  -927.6235,  -916.7196,  -874.6485,  -863.4678,\n",
            "         -901.9756,  -866.3716,  -857.8578,  -863.2967,  -807.4883,  -882.6494,\n",
            "         -866.5546,  -882.7380,  -913.2495,  -922.2115,  -888.1326,  -960.7783,\n",
            "         -908.1021,  -914.4818,  -886.2532,  -941.1562,  -917.8278,  -808.1777,\n",
            "         -896.1635,  -861.3902,  -822.8976,  -951.3541,  -903.3607,  -918.5207,\n",
            "         -887.9001,  -981.6108,  -835.7634,  -918.8822,  -863.6651,  -851.0454,\n",
            "         -910.0698,  -971.9971,  -820.5722,  -929.5865,  -907.1979,  -921.1024,\n",
            "         -734.0768,  -949.8971,  -972.3951,  -924.1362,  -888.3193,  -946.1146,\n",
            "         -905.1328,  -872.7702,  -909.9202,  -923.1343,  -939.6954,  -789.5367,\n",
            "         -889.7330,  -886.6599,  -897.6781,  -920.1013,  -810.2076,  -808.7578,\n",
            "         -915.3599,  -874.7653,  -918.4091,  -969.3723]), tensor([ -817.2250,  -836.7216,  -962.1253,  -776.3826,  -889.1857,  -908.1070,\n",
            "         -844.2015,  -851.1523, -1005.4033,  -966.8217,  -912.5536,  -850.1802,\n",
            "         -800.5757,  -937.9875,  -865.5931,  -960.0904,  -949.2278,  -808.5004,\n",
            "        -1031.0214,  -898.9271,  -910.2348,  -950.4085,  -914.7257,  -944.0676,\n",
            "         -923.4933,  -912.4244,  -934.0168,  -985.4224,  -898.8840,  -996.3765,\n",
            "         -955.9996,  -911.9388,  -964.0563,  -820.1400,  -990.0605,  -982.2784,\n",
            "         -955.4111,  -781.8829,  -975.3293,  -936.0047,  -910.8947,  -887.3494,\n",
            "         -847.8304, -1004.7283,  -979.5295,  -921.4469,  -961.3157,  -890.6573,\n",
            "         -758.2028,  -991.4057,  -845.6428,  -744.0662,  -958.6762,  -986.0306,\n",
            "         -831.7755,  -837.0980, -1011.2698,  -873.2913,  -940.0807,  -956.5288,\n",
            "         -959.6357,  -940.2859,  -990.1572,  -923.4709,  -899.4701,  -943.9031,\n",
            "         -909.9279,  -879.3994,  -915.2527,  -918.4423,  -875.2850,  -986.2027,\n",
            "         -884.9554,  -898.7095,  -920.6136,  -950.6891,  -979.6707,  -949.6636,\n",
            "         -937.3615,  -917.1777,  -976.5330,  -949.7220,  -994.2998,  -902.5308,\n",
            "         -890.2037,  -848.2138,  -891.5529,  -961.4485,  -874.3715,  -832.3820,\n",
            "         -938.1386,  -883.0122,  -939.1465,  -961.2374,  -840.3813,  -887.1725,\n",
            "         -873.8738,  -969.4652,  -863.6124,  -932.0254]), tensor([ -899.8022,  -954.7533,  -967.0064,  -907.9824,  -888.0808,  -767.4385,\n",
            "         -966.9643,  -905.9418,  -943.5443,  -912.3608,  -944.2120,  -889.3558,\n",
            "         -837.7954,  -998.8200,  -860.3068,  -987.4707,  -870.4493, -1029.6702,\n",
            "         -796.0200,  -836.2806,  -887.0621,  -893.8198,  -944.0893,  -841.1192,\n",
            "         -943.3154,  -867.6957,  -908.0962,  -988.3785,  -998.8798,  -950.6426,\n",
            "        -1001.9139,  -951.4719,  -871.7241,  -891.3989,  -936.2335,  -871.1272,\n",
            "         -867.6022,  -942.4286,  -795.7395,  -919.3198,  -870.2195,  -847.1611,\n",
            "        -1015.9888,  -988.3662,  -941.4196,  -930.4433,  -925.1494,  -875.3907,\n",
            "         -886.3383,  -921.6558,  -974.6470,  -899.4268,  -914.6259,  -854.3562,\n",
            "         -873.2577, -1007.9767,  -930.6385,  -874.8882,  -882.9793,  -870.5693,\n",
            "         -907.5850,  -916.5840,  -879.1689,  -898.6193,  -888.5960,  -934.1042,\n",
            "         -840.7183,  -897.7222,  -990.2842, -1003.5160, -1068.4154,  -894.7083,\n",
            "         -927.6977,  -851.9494,  -845.0861,  -889.5962,  -841.6531,  -907.1346,\n",
            "         -869.4701,  -882.4445,  -952.2998,  -835.4393,  -965.7760,  -972.2097,\n",
            "         -983.9869,  -942.7945,  -842.8563,  -797.7844,  -861.8111,  -932.7949,\n",
            "         -889.9868,  -896.1940,  -919.3630,  -754.3862,  -893.8375,  -828.6404,\n",
            "         -976.8305,  -839.8151,  -929.8625,  -905.4291]), tensor([ -899.5492,  -811.7770,  -886.7890,  -900.9214,  -842.7474,  -956.4016,\n",
            "         -973.0627,  -988.9295,  -926.7358,  -822.6458,  -857.8676,  -878.9557,\n",
            "         -950.1966,  -920.7592,  -897.9832,  -964.4739,  -891.9924,  -874.5422,\n",
            "         -924.0652,  -846.5675,  -886.2892,  -889.7363,  -881.9181,  -948.1534,\n",
            "         -958.9200,  -904.9252,  -888.7119,  -960.2209,  -905.0391,  -880.0893,\n",
            "         -948.6064,  -959.5222,  -963.8502,  -901.5657,  -893.8713,  -837.1799,\n",
            "         -850.5196,  -890.4590,  -866.1900,  -963.3458,  -876.5904,  -945.6398,\n",
            "         -877.8611,  -990.0480,  -874.7509,  -877.9367,  -903.8823,  -932.6641,\n",
            "         -900.9349,  -971.4975,  -910.9800,  -934.9915,  -870.4895,  -944.6948,\n",
            "         -902.8227,  -854.8787,  -864.9745,  -988.6003,  -865.6056,  -908.4728,\n",
            "         -921.3523,  -852.8699,  -767.4494,  -887.3969,  -912.3166,  -801.4023,\n",
            "         -919.2908,  -832.5681,  -957.1316,  -967.8148,  -918.1313,  -960.3878,\n",
            "         -904.6613,  -853.7307,  -822.7104, -1021.3871,  -995.6079,  -927.3117,\n",
            "         -984.5573,  -924.1965,  -962.6017,  -827.2114,  -899.1797,  -858.4435,\n",
            "         -842.5475,  -922.7715,  -983.3636,  -939.2766,  -918.5593,  -951.4304,\n",
            "         -907.7164,  -931.4624,  -837.8135,  -866.3683,  -908.2750,  -897.1077,\n",
            "         -884.7532,  -873.7830,  -818.1440,  -869.1489]), tensor([ -900.8997, -1035.1049,  -954.7159,  -921.6389,  -893.3348,  -753.2496,\n",
            "         -856.4136,  -890.1143,  -978.9565,  -853.3555,  -977.1769,  -865.0185,\n",
            "         -991.0823,  -985.0141,  -925.1163,  -888.8510,  -962.2195,  -885.6870,\n",
            "         -902.0954,  -909.1888, -1008.4581, -1020.9115,  -893.7272,  -874.5731,\n",
            "         -861.0826,  -833.6498,  -926.6016,  -841.8409,  -853.4203,  -914.5510,\n",
            "         -806.9946,  -898.2024,  -973.2493,  -816.6662, -1065.1782,  -964.6425,\n",
            "         -860.2181,  -830.3812,  -931.0920,  -936.8466,  -958.6736,  -919.1497,\n",
            "         -815.7169,  -912.6673,  -955.7914,  -956.2328,  -891.0098,  -851.4482,\n",
            "         -907.2931,  -963.6433,  -799.6044,  -995.8238,  -922.2572,  -922.2608,\n",
            "         -948.4838,  -931.5041,  -885.7279,  -911.4347,  -934.0113,  -796.7239,\n",
            "         -887.9767,  -973.3365,  -970.6886,  -824.0282,  -831.4741,  -862.6562,\n",
            "         -956.4387,  -982.9266,  -947.1151,  -838.9467,  -919.9882,  -871.9263,\n",
            "         -939.0038,  -989.5063,  -931.8618,  -922.6520,  -939.9965,  -753.9112,\n",
            "         -882.2892,  -852.4438,  -907.5209,  -828.8502,  -974.6988,  -759.8528,\n",
            "         -967.5567,  -873.3172,  -932.6163,  -920.1718,  -903.6250,  -929.4278,\n",
            "         -880.5519,  -905.9290,  -895.2651,  -972.5078,  -893.8371,  -923.8323,\n",
            "         -970.4198,  -896.5870,  -838.5829,  -859.5579]), tensor([ -924.7989,  -871.3184,  -895.5004, -1002.1262,  -961.1633,  -979.3565,\n",
            "         -917.0690,  -978.1243,  -960.4832,  -900.0905,  -879.2763,  -857.1638,\n",
            "         -924.3598,  -909.9123,  -964.1776,  -900.2580,  -963.9294,  -964.3555,\n",
            "         -985.8032,  -941.1882,  -937.3792,  -795.6385,  -877.2357,  -928.3391,\n",
            "         -959.8585,  -873.3485,  -871.6902,  -805.7567,  -861.5786,  -888.8698,\n",
            "         -796.2581,  -976.5587,  -967.2245,  -837.6131,  -789.3442,  -953.1142,\n",
            "         -817.0082,  -845.7266,  -943.3299,  -931.1706,  -917.2491,  -916.2773,\n",
            "         -884.1293,  -838.8091,  -965.8568,  -913.0794,  -919.1733,  -900.5555,\n",
            "         -893.3060,  -883.0626,  -934.0703,  -832.4128,  -891.6367,  -923.7192,\n",
            "         -855.0117,  -955.6353,  -971.0675,  -873.7840,  -853.5755,  -962.6287,\n",
            "         -823.3967,  -834.0768,  -862.8390,  -867.3438,  -943.4051,  -959.5006,\n",
            "         -865.4174,  -863.4586,  -881.2652,  -870.2313,  -899.9498,  -909.1147,\n",
            "         -858.5919,  -986.7250,  -988.6802,  -923.5643, -1002.7007,  -965.2798,\n",
            "         -810.4755,  -925.0106,  -811.9934,  -903.4272,  -975.7638,  -844.6082,\n",
            "         -952.2833,  -831.5809,  -945.7728, -1014.2651,  -969.4223,  -987.6699,\n",
            "         -922.8782,  -875.4218,  -897.7291,  -914.4014,  -919.8310,  -887.8587,\n",
            "         -943.9442,  -906.4470,  -922.6683, -1111.3579]), tensor([-1078.6290, -1082.4725, -1157.9067, -1078.8433,  -968.0651, -1006.9636,\n",
            "        -1029.8719, -1001.6375, -1065.7548, -1004.1747, -1078.7855, -1026.9684,\n",
            "        -1015.7144, -1040.1255,  -976.0865, -1076.2056, -1082.0098, -1017.0015,\n",
            "         -951.0473, -1066.1959, -1103.2722,  -893.5432, -1099.8513,  -998.5675,\n",
            "        -1150.5359, -1059.3180, -1094.4930, -1115.6936,  -993.4291,  -946.0748,\n",
            "        -1056.6777, -1148.1670,  -957.0730, -1076.6165, -1089.9333, -1063.1722,\n",
            "         -967.2071, -1062.5785, -1060.8226,  -974.9508,  -998.4083, -1068.3705,\n",
            "         -998.9684, -1065.0925, -1052.9125, -1056.8243, -1052.2224, -1091.7344,\n",
            "        -1038.7310, -1062.9414,  -961.1990, -1004.6218,  -993.9379,  -959.8383,\n",
            "         -945.0825, -1022.7104, -1075.4708, -1021.7302, -1028.2334, -1024.4968,\n",
            "         -957.1948,  -940.9404, -1114.5994, -1080.9062, -1022.3304,  -961.0165,\n",
            "         -996.8186, -1065.5220,  -945.1794,  -892.0953, -1003.5406, -1029.7573,\n",
            "         -953.6569, -1069.5114,  -941.8569, -1024.2574, -1142.0665, -1047.2852,\n",
            "        -1037.7333, -1077.6265,  -972.8407, -1022.4068,  -954.8167, -1055.4752,\n",
            "        -1058.4758,  -983.4111, -1055.7063, -1055.3693, -1054.2501, -1042.5934,\n",
            "        -1104.7416,  -899.6422,  -933.4304,  -951.8448,  -943.8456, -1170.3066,\n",
            "        -1009.6452, -1149.3380, -1038.6143, -1097.6777]), tensor([-1079.0907, -1035.7166, -1036.6429, -1054.5613,  -953.5399, -1022.1546,\n",
            "         -992.7681, -1022.3980, -1089.2400,  -948.1454, -1065.8784, -1064.9545,\n",
            "        -1178.2958, -1019.9500,  -991.2983, -1086.7151,  -977.9758, -1071.8833,\n",
            "         -945.5038, -1071.5524, -1034.5071, -1044.5651, -1044.2542, -1044.2430,\n",
            "        -1116.0135, -1103.5599,  -984.6383,  -963.8564,  -917.1974, -1083.7841,\n",
            "        -1035.7621,  -932.4578, -1020.2227, -1094.5981, -1017.0200, -1062.5310,\n",
            "        -1107.8910, -1048.9866, -1237.6525, -1043.2853,  -952.3414, -1013.0041,\n",
            "        -1085.2697, -1087.9958,  -955.1354, -1119.5552, -1025.1936, -1053.9425,\n",
            "         -991.2620,  -990.0607,  -940.6677,  -937.6250, -1021.7584, -1016.3844,\n",
            "        -1064.4446, -1036.6143,  -944.8491, -1076.0983, -1033.5802, -1007.3256,\n",
            "         -932.4695,  -959.7378, -1011.5595, -1120.7831,  -998.1882,  -995.7182,\n",
            "         -933.8174,  -930.5696, -1021.3998, -1046.7778,  -910.0495, -1118.2137,\n",
            "         -932.2882, -1060.7421, -1150.5129,  -959.7820,  -932.2278,  -994.6290,\n",
            "        -1148.1796, -1062.7042, -1017.2416, -1131.4332, -1106.2853, -1042.1377,\n",
            "         -974.1844,  -960.0769,  -972.8068, -1079.4230, -1046.6361, -1004.9245,\n",
            "         -983.7842, -1030.8185, -1023.1213, -1016.5855, -1110.8921, -1038.1217,\n",
            "         -981.0621,  -961.2039, -1045.1632, -1041.7136]), tensor([ -940.5030, -1048.4713, -1017.1402, -1033.3588, -1022.0224, -1097.5162,\n",
            "        -1016.7697, -1075.9021,  -870.0928,  -990.3108, -1066.5348, -1035.3503,\n",
            "        -1075.8358, -1136.0457, -1053.7432, -1050.3923,  -989.7358, -1019.5239,\n",
            "        -1078.7698, -1101.6719, -1008.5746, -1061.4835,  -956.2996, -1124.7369,\n",
            "         -996.6236, -1038.5643, -1063.7898,  -970.3832, -1100.7975, -1062.8350,\n",
            "        -1050.8494, -1053.0980, -1116.9126, -1042.0254, -1086.9166,  -903.5245,\n",
            "        -1093.4852, -1058.9037, -1039.2599, -1015.4875, -1152.8817,  -972.7981,\n",
            "        -1070.3613,  -871.9943,  -872.1025,  -940.2450, -1064.9813,  -934.2771,\n",
            "        -1032.8967, -1095.7274, -1003.9025, -1012.9497,  -989.6173,  -988.3604,\n",
            "        -1085.6230,  -998.3071,  -930.3845, -1056.5857, -1137.6862, -1047.2797,\n",
            "        -1096.7365, -1024.9166,  -977.5875, -1016.1252, -1066.3671, -1003.6014,\n",
            "        -1174.9326, -1054.6891,  -973.0529, -1037.4758, -1066.2319,  -917.9818,\n",
            "         -917.8683, -1074.1637, -1085.3158,  -990.0436, -1052.8079, -1132.7567,\n",
            "        -1049.3799, -1137.0092, -1045.2842, -1008.1638,  -930.0783, -1087.9600,\n",
            "        -1041.1146, -1094.9183, -1030.1938, -1013.9392, -1021.4761, -1083.3966,\n",
            "         -961.3195, -1188.9979, -1062.9368, -1071.3914, -1043.0173, -1064.9960,\n",
            "        -1091.8217, -1072.6420, -1019.1035, -1165.7919]), tensor([-1058.8173, -1106.1398, -1059.5612, -1060.0576,  -995.6982, -1043.4694,\n",
            "        -1062.3374,  -969.2324, -1032.8158, -1110.9642, -1056.2775,  -923.0150,\n",
            "        -1064.9736, -1066.8090, -1042.4158,  -993.5733, -1082.2855, -1069.6071,\n",
            "        -1041.8708,  -939.0221,  -933.5511, -1058.3475,  -923.8402,  -999.3393,\n",
            "        -1071.1826, -1041.1053, -1123.3773,  -956.6396, -1088.3618, -1081.1211,\n",
            "        -1086.9559, -1151.0986, -1083.9612,  -981.2123,  -941.6421,  -999.7873,\n",
            "        -1065.5021, -1072.5278,  -963.0674, -1046.1962, -1007.9368,  -959.1694,\n",
            "        -1007.9835,  -961.3919, -1029.3447, -1055.7462, -1083.9380, -1010.6853,\n",
            "        -1022.2441, -1055.9279,  -969.7108, -1064.1211, -1054.3472, -1169.7947,\n",
            "        -1046.0624, -1021.5463, -1062.0537, -1102.2278,  -977.2540,  -979.0459,\n",
            "         -953.5065, -1010.1559, -1017.3846, -1106.9601, -1098.0677,  -993.4708,\n",
            "        -1000.1123,  -961.2831, -1023.5279, -1105.4911, -1081.8137, -1065.8755,\n",
            "        -1061.0237, -1054.9718,  -887.2335,  -972.5217,  -954.4949, -1036.8035,\n",
            "        -1008.4834, -1025.2606, -1000.5140, -1105.7970, -1095.2311,  -938.3829,\n",
            "        -1055.9441, -1053.1500, -1057.6465,  -920.1213, -1032.8569, -1071.6360,\n",
            "         -898.1923,  -981.4454,  -898.6422,  -917.4831,  -950.1323,  -998.2678,\n",
            "         -979.7816, -1082.5938, -1059.4307,  -982.9176]), tensor([-1034.1899, -1001.1227,  -956.9933, -1107.1141, -1044.9771,  -954.9229,\n",
            "        -1030.6204, -1052.9689,  -952.1111, -1082.6667, -1017.9584, -1117.3188,\n",
            "        -1061.2721, -1008.4843, -1047.8618, -1054.0236, -1040.8907, -1073.4578,\n",
            "        -1078.3591,  -970.6910,  -883.2081, -1055.0808,  -986.4851, -1006.5875,\n",
            "         -986.4089, -1030.6824,  -976.9786,  -937.6317, -1027.5253, -1052.5446,\n",
            "        -1040.2505, -1068.1238, -1083.8950, -1060.1893,  -914.9969, -1089.0886,\n",
            "        -1025.3398, -1133.0479, -1062.0032, -1073.4980,  -995.6513,  -943.4714,\n",
            "        -1032.8474, -1025.0522, -1043.6357, -1085.0330,  -996.1075, -1100.0117,\n",
            "         -979.4005,  -940.0203, -1029.4058,  -977.1252,  -954.7874,  -995.8613,\n",
            "        -1146.6327, -1047.7115,  -960.9598, -1066.6661, -1067.4142,  -897.4194,\n",
            "         -999.6837,  -976.2586, -1072.1951, -1006.1548, -1003.5876, -1067.4198,\n",
            "        -1037.4244, -1025.3115, -1030.5406,  -963.5399, -1113.8586, -1043.1407,\n",
            "        -1024.3701, -1000.5491,  -989.1712,  -933.4273, -1017.8742, -1033.0676,\n",
            "         -959.8441,  -970.9143, -1033.3937,  -965.7980, -1013.2930, -1049.5148,\n",
            "        -1015.5808,  -947.4652, -1112.2981, -1054.4197,  -956.7761, -1017.0042,\n",
            "        -1131.3055,  -878.6772,  -947.8052, -1065.4619, -1091.2345,  -893.4316,\n",
            "        -1074.4335,  -952.4736, -1019.0987,  -992.0789]), tensor([-1021.8212, -1037.2456,  -986.6325, -1058.6316,  -995.5283, -1091.0730,\n",
            "        -1113.0293,  -956.5376, -1040.3352,  -979.9797, -1005.4700, -1052.1937,\n",
            "        -1072.1375, -1106.4363, -1076.9844, -1060.3552, -1010.6348, -1110.3600,\n",
            "        -1088.3756, -1075.0796, -1073.9136,  -960.9459,  -969.7955, -1098.7094,\n",
            "        -1108.6318,  -968.6758, -1038.9196,  -913.7418,  -952.8534, -1075.7842,\n",
            "        -1144.4420, -1113.3809, -1038.0542,  -977.6356, -1057.3340, -1107.3950,\n",
            "         -972.9926,  -937.5401,  -974.0222,  -983.9060, -1127.7037, -1189.2535,\n",
            "         -989.2556, -1186.1434, -1033.9412, -1002.4402, -1065.6793,  -845.4009,\n",
            "        -1107.2194, -1047.0880, -1117.6104,  -945.9186, -1003.0759, -1006.2387,\n",
            "        -1023.7712,  -981.3383, -1093.5370, -1008.2797, -1015.7018, -1027.3739,\n",
            "        -1024.5883, -1078.1193,  -912.9385, -1091.6373,  -959.5328, -1110.9800,\n",
            "        -1021.9872, -1089.0480, -1026.2136, -1100.7369, -1062.1041,  -978.2284,\n",
            "        -1017.8806, -1071.3917, -1020.5679, -1137.5599,  -981.8897,  -955.2318,\n",
            "         -997.6862,  -919.3227,  -957.8312,  -968.5048,  -947.6324,  -915.8896,\n",
            "         -932.1845, -1151.1765, -1113.9594,  -938.3674,  -961.0799, -1047.2539,\n",
            "        -1104.3212, -1046.2013, -1172.6837, -1014.3970,  -952.3203,  -983.5771,\n",
            "         -984.7950, -1214.4375,  -929.3499, -1165.0396]), tensor([ -988.8081, -1038.7424,  -945.7682, -1079.2682, -1113.7080,  -966.6287,\n",
            "         -983.6669,  -988.2719, -1120.5950, -1112.3173,  -956.3250,  -947.7650,\n",
            "        -1035.1084, -1077.6082, -1060.4441, -1070.3896, -1039.6266, -1068.4591,\n",
            "        -1056.0389, -1015.3874,  -991.1245, -1040.3077,  -969.2545,  -989.4811,\n",
            "        -1131.0969, -1028.6616, -1028.6892, -1044.1719,  -972.1782, -1011.0386,\n",
            "        -1053.4026,  -942.2165, -1116.3191, -1015.2861, -1059.2041, -1031.3690,\n",
            "        -1068.4779, -1037.5137,  -905.7518,  -983.7653,  -982.1021, -1023.8696,\n",
            "        -1032.4781, -1094.7883, -1052.4711,  -984.0486, -1061.2441, -1036.7013,\n",
            "         -970.4590, -1018.4756, -1096.6985,  -975.2648, -1074.9901, -1059.8823,\n",
            "        -1007.9742, -1101.8258, -1097.0139, -1144.6698,  -954.4784,  -979.0805,\n",
            "        -1221.2466, -1100.3160, -1020.6074, -1072.0134, -1115.4906, -1028.9021,\n",
            "        -1011.1146, -1039.3364,  -967.1420, -1080.0309, -1154.7769,  -991.5909,\n",
            "        -1222.3826, -1053.6630, -1002.3024, -1197.0348, -1098.6418,  -995.5097,\n",
            "         -988.7961, -1081.6469, -1029.0765, -1091.7905, -1070.8329, -1080.2986,\n",
            "        -1010.6727,  -933.2223, -1049.6410, -1002.3441, -1084.6394, -1037.6000,\n",
            "        -1081.0033,  -975.9242, -1036.1761, -1012.3717, -1102.2985,  -963.6524,\n",
            "        -1072.8242,  -995.5163, -1003.7298, -1098.8412]), tensor([ -992.8946, -1037.2747, -1086.9882,  -976.9017, -1029.9330, -1114.8033,\n",
            "        -1043.9971, -1105.5273, -1124.9486, -1004.2477,  -965.2566, -1001.3460,\n",
            "        -1064.3546,  -976.9641,  -998.5365, -1085.3910, -1071.8188, -1016.3321,\n",
            "        -1146.1410, -1064.1791,  -985.3461, -1103.6757, -1053.9675, -1005.8019,\n",
            "        -1089.4598, -1000.0342, -1055.2017, -1042.2292, -1121.5571, -1016.5615,\n",
            "        -1053.1770, -1079.2644,  -977.9780, -1186.3119, -1040.7427, -1121.8230,\n",
            "        -1043.6063, -1107.0437, -1070.3157, -1053.3602,  -931.9188, -1069.9683,\n",
            "         -964.2737, -1075.4204,  -954.5549, -1095.3192,  -921.6733, -1015.6755,\n",
            "         -996.9255, -1084.9398, -1024.4923, -1096.2914, -1003.0121,  -973.6540,\n",
            "        -1012.3760, -1068.6075, -1003.2676, -1105.8176, -1023.2369,  -984.2107,\n",
            "        -1129.6001,  -996.8329, -1018.4116, -1072.5427,  -911.3613, -1075.7898,\n",
            "        -1138.8330,  -975.2789,  -989.2079, -1104.4718, -1038.7849,  -929.9213,\n",
            "        -1032.4420, -1035.2416, -1044.0914,  -923.2310, -1004.4370, -1057.8716,\n",
            "         -927.6132, -1009.5459,  -985.4182, -1036.6447, -1054.9983, -1048.4451,\n",
            "         -932.0939, -1115.7622, -1147.1240, -1036.0763,  -988.3120, -1084.4156,\n",
            "         -971.0389, -1004.5455, -1030.7526, -1041.1719,  -949.3423, -1065.2676,\n",
            "        -1115.2496, -1009.9985,  -985.7914,  -997.6176]), tensor([-1032.5293,  -979.5118, -1062.2701, -1071.8160,  -965.5627, -1072.5583,\n",
            "         -998.5347,  -999.3007,  -948.9106, -1094.9237, -1020.2344,  -942.8901,\n",
            "        -1037.8925,  -989.2617, -1060.5697, -1078.8055,  -937.8019, -1034.0560,\n",
            "        -1067.5702, -1076.7637, -1045.3859, -1023.8649, -1142.3149,  -990.4124,\n",
            "         -992.4434, -1016.2751, -1169.2705, -1077.7056,  -979.2639, -1075.1212,\n",
            "         -995.1520, -1017.5447,  -916.1974,  -993.4180, -1077.2617,  -950.8959,\n",
            "        -1075.8550,  -995.6257, -1130.6915,  -917.8022, -1016.7581,  -937.4716,\n",
            "        -1030.0332, -1108.1350, -1044.2727, -1071.8370, -1039.9858, -1046.7283,\n",
            "        -1079.7273, -1164.9885, -1093.0430, -1083.5021, -1212.3323,  -981.4088,\n",
            "         -996.4860, -1144.0574, -1029.5284, -1032.0845, -1018.9818, -1025.6641,\n",
            "         -983.8503, -1085.9020,  -907.8576, -1069.5353, -1057.4529, -1099.7351,\n",
            "        -1042.0782,  -952.7609, -1071.0448, -1105.1517, -1066.8890, -1018.5605,\n",
            "        -1104.5042, -1087.9874, -1007.8079, -1072.4698, -1038.5314, -1069.6342,\n",
            "        -1069.9873, -1053.8390,  -982.9213, -1123.9860, -1030.8053, -1081.0243,\n",
            "        -1004.4895, -1113.8009, -1028.6007, -1154.9976, -1103.3480, -1038.4562,\n",
            "        -1081.3440, -1079.7179, -1056.3411, -1067.1587, -1034.8528,  -984.7253,\n",
            "        -1085.8209,  -998.6380, -1046.6824,  -920.6092]), tensor([ -997.5521,  -986.9843, -1002.7961,  -919.7695,  -997.8541, -1051.3676,\n",
            "         -944.3061,  -983.5903,  -959.7666,  -963.8545, -1018.5222, -1121.8604,\n",
            "         -984.6388, -1067.6451, -1056.6696, -1085.4266, -1043.0767,  -967.3389,\n",
            "        -1118.1011, -1143.5065, -1063.8551, -1123.0378,  -971.2067,  -993.7834,\n",
            "        -1050.2006,  -969.3895, -1095.9581,  -962.2116,  -997.9760, -1043.0841,\n",
            "        -1054.3325, -1017.4575, -1135.8837, -1060.1484, -1075.5745,  -897.8685,\n",
            "        -1069.1023, -1131.8293, -1020.0948,  -974.9918,  -902.8222, -1036.6769,\n",
            "        -1055.6758, -1006.2396,  -989.9833, -1100.4934,  -885.9033, -1053.4247,\n",
            "        -1087.6715, -1072.9218,  -915.7964,  -990.9895,  -967.6040,  -945.3934,\n",
            "         -972.3905, -1057.2761, -1012.6638,  -984.0442,  -982.6045,  -982.6830,\n",
            "        -1003.8911,  -996.6870, -1073.2471,  -980.2962,  -981.2746, -1005.2954,\n",
            "        -1073.4486, -1132.8063,  -942.2013,  -996.5202, -1036.7922,  -969.1552,\n",
            "        -1064.5557, -1098.8529, -1003.8682,  -957.2549,  -991.8339, -1078.8419,\n",
            "         -910.3980, -1042.3368,  -961.3948,  -935.7839, -1031.3953, -1040.8143,\n",
            "         -995.5550, -1023.9966,  -993.6243, -1032.9744,  -985.5422, -1098.7925,\n",
            "        -1009.9197,  -910.2688, -1120.7709, -1043.8927, -1052.6222,  -972.6403,\n",
            "        -1141.0625, -1070.5112, -1081.3190, -1019.8106])]\n"
          ]
        }
      ]
    },
    {
      "cell_type": "code",
      "source": [
        "np.array([log_lik_list[i].cpu().detach().numpy() for i in range(30)])"
      ],
      "metadata": {
        "id": "yaQIs_OjEGBv",
        "outputId": "4ab2812e-c1c8-4a78-b044-9da11bd8ade3",
        "colab": {
          "base_uri": "https://localhost:8080/"
        }
      },
      "execution_count": 18,
      "outputs": [
        {
          "output_type": "execute_result",
          "data": {
            "text/plain": [
              "array([[ -804.9146 ,  -798.7664 ,  -775.23315, ...,  -739.599  ,\n",
              "         -839.8479 ,  -724.10974],\n",
              "       [ -797.15564,  -843.0793 ,  -820.46295, ...,  -833.7951 ,\n",
              "         -770.5236 ,  -765.0194 ],\n",
              "       [ -811.50995,  -872.36273,  -829.8123 , ...,  -832.35187,\n",
              "         -831.2683 ,  -852.1915 ],\n",
              "       ...,\n",
              "       [ -992.8946 , -1037.2747 , -1086.9882 , ..., -1009.99854,\n",
              "         -985.7914 ,  -997.6176 ],\n",
              "       [-1032.5293 ,  -979.51184, -1062.2701 , ...,  -998.638  ,\n",
              "        -1046.6824 ,  -920.6092 ],\n",
              "       [ -997.5521 ,  -986.98425, -1002.7961 , ..., -1070.5112 ,\n",
              "        -1081.319  , -1019.8106 ]], dtype=float32)"
            ]
          },
          "metadata": {},
          "execution_count": 18
        }
      ]
    },
    {
      "cell_type": "code",
      "source": [
        "model.to(device)\n",
        "model.vocab = model.vocab.to(device)\n",
        "model.mask_token = model.mask_token.to(device)\n",
        "reverse_manhattan_images = []\n",
        "reverse_manhattan_lls = []\n",
        "for i in range(10):\n",
        "  images,ll = generate_images_batch(model, patch_size, image_size=H, batch_size=100,device=device,\n",
        "                          condition_indices=flattened_condition_indices, condition_values=condition_values_new,\n",
        "                          generation_order=\"inverse manhattan\")\n",
        "  images = images.cpu().detach().numpy()\n",
        "  reverse_manhattan_images.append(images)\n",
        "  reverse_manhattan_lls.append(ll)"
      ],
      "metadata": {
        "id": "QrR6lK1Qld7u"
      },
      "execution_count": 22,
      "outputs": []
    },
    {
      "cell_type": "code",
      "source": [
        "reverse_manhattan_images = np.concatenate(reverse_manhattan_images,axis=0)\n",
        "reverse_manhattan_lls = np.concatenate(reverse_manhattan_lls,axis=0)"
      ],
      "metadata": {
        "id": "HZrjH1pE86kG"
      },
      "execution_count": 24,
      "outputs": []
    },
    {
      "cell_type": "code",
      "source": [
        "np.save(\"reverse_manhattan_images.npy\",reverse_manhattan_images)\n",
        "np.save(\"reverse_manhattan_lls.npy\",reverse_manhattan_lls)"
      ],
      "metadata": {
        "id": "6boatnrF92B3"
      },
      "execution_count": 30,
      "outputs": []
    },
    {
      "cell_type": "code",
      "source": [
        "import io\n",
        "from PIL import Image\n",
        "import matplotlib.pyplot as plt\n",
        "import matplotlib.patches as mpatches\n",
        "from matplotlib.colors import ListedColormap\n",
        "import numpy as np\n",
        "import torch\n",
        "import torch.nn.functional as F\n",
        "from tqdm import tqdm\n",
        "import imageio\n",
        "\n",
        "def add_colored_border(token, border_width=1, border_color=(1, 0, 0)):\n",
        "    token_rgb = np.stack([token]*3, axis=-1)\n",
        "    H, W, _ = token_rgb.shape\n",
        "    new_H, new_W = H+2*border_width, W+2*border_width\n",
        "    bordered = np.ones((new_H, new_W, 3))*0.5\n",
        "    bordered[border_width:border_width+H, border_width:border_width+W] = token_rgb\n",
        "    bordered[:border_width,:] = border_color\n",
        "    bordered[-border_width:,:] = border_color\n",
        "    bordered[:,:border_width] = border_color\n",
        "    bordered[:,-border_width:] = border_color\n",
        "    return bordered\n",
        "\n",
        "def fig_to_np(fig):\n",
        "    buf = io.BytesIO()\n",
        "    fig.savefig(buf, format=\"png\", bbox_inches=\"tight\")\n",
        "    buf.seek(0)\n",
        "    return np.array(Image.open(buf).convert(\"RGB\"))\n",
        "\n",
        "def generate_video(\n",
        "    model,\n",
        "    patch_size,\n",
        "    image_size,\n",
        "    condition_indices=None,\n",
        "    condition_values=None,\n",
        "    topk=10,\n",
        "    video_filename=\"generation.mp4\",\n",
        "    fps=4,\n",
        "    generation_order=\"manhattan\",\n",
        "    given_image=None,\n",
        "):\n",
        "    device = next(model.parameters()).device\n",
        "    model.eval()\n",
        "\n",
        "    grid = image_size // patch_size\n",
        "    T = grid * grid\n",
        "    D = patch_size * patch_size\n",
        "    V = model.vocab.size(0)\n",
        "\n",
        "    # States\n",
        "    mask_tok = model.mask_token.detach().to(device)\n",
        "    gen_state = mask_tok.unsqueeze(0).expand(T, D).clone()\n",
        "    gt_state  = mask_tok.unsqueeze(0).expand(T, D).clone()\n",
        "    done = torch.zeros(T, dtype=torch.bool, device=device)\n",
        "\n",
        "    # Extract ground-truth patches\n",
        "    if given_image is not None:\n",
        "        gimg = (torch.from_numpy(given_image)\n",
        "                if isinstance(given_image, np.ndarray)\n",
        "                else given_image).to(device)\n",
        "        g_patches = []\n",
        "        for p in range(T):\n",
        "            r0 = (p//grid)*patch_size; c0 = (p%grid)*patch_size\n",
        "            g_patches.append(gimg[r0:r0+patch_size,c0:c0+patch_size].reshape(-1))\n",
        "        g_patches = torch.stack(g_patches)\n",
        "    else:\n",
        "        g_patches = None\n",
        "\n",
        "    # Conditions\n",
        "    conditions = {}\n",
        "    if condition_indices is not None and condition_values is not None:\n",
        "        for pix,val in zip(condition_indices, condition_values):\n",
        "            pr,pc = divmod(pix, image_size)\n",
        "            pr0,pc0 = pr//patch_size, pc//patch_size\n",
        "            pidx = pr0*grid + pc0\n",
        "            lidx = (pr%patch_size)*patch_size + (pc%patch_size)\n",
        "            conditions.setdefault(pidx, []).append((lidx, val))\n",
        "\n",
        "    # Sampling order\n",
        "    observed = sorted(conditions.keys())\n",
        "    unobs = list(set(range(T)) - set(observed))\n",
        "    if generation_order == \"raster\":\n",
        "        unobs.sort()\n",
        "    elif generation_order == \"manhattan\":\n",
        "        dist = []\n",
        "        for p in unobs:\n",
        "            r,c = divmod(p,grid)\n",
        "            s = sum(abs(r-o//grid)+abs(c-o%grid) for o in observed)\n",
        "            dist.append((p,s))\n",
        "        unobs = [p for p,_ in sorted(dist, key=lambda x:x[1])]\n",
        "    elif generation_order == \"inverse manhattan\":\n",
        "        inv = []\n",
        "        for p in unobs:\n",
        "            r,c = divmod(p,grid)\n",
        "            s = sum(1.0/(abs(r-o//grid)+abs(c-o%grid)) for o in observed)\n",
        "            inv.append((p,s))\n",
        "        unobs = [p for p,_ in sorted(inv, key=lambda x:x[1], reverse=True)]\n",
        "    else:\n",
        "        raise ValueError(f\"Unknown generation_order {generation_order}\")\n",
        "    order = observed + unobs\n",
        "\n",
        "    # Accumulators\n",
        "    acc_ll_gen = 0.0\n",
        "    acc_ll_gt  = 0.0\n",
        "    mode_count_gen = 0\n",
        "    mode_count_gt  = 0\n",
        "\n",
        "    frames = []\n",
        "    cmap = ListedColormap([\"blue\",\"red\"])\n",
        "\n",
        "    for step, pidx in enumerate(tqdm(order, desc=\"Sampling\")):\n",
        "        # 1) forward on generated\n",
        "        with torch.no_grad():\n",
        "            logits_gen,_ = model(gen_state.unsqueeze(0), mask_rate=0.0)\n",
        "        probs_gen = F.softmax(logits_gen[0,pidx], dim=-1)\n",
        "\n",
        "        # 2) forward on given\n",
        "        with torch.no_grad():\n",
        "            logits_gt,_  = model(gt_state.unsqueeze(0),  mask_rate=0.0)\n",
        "        probs_gt  = F.softmax(logits_gt[0,pidx],  dim=-1)\n",
        "\n",
        "        # apply conds\n",
        "        if pidx in conditions:\n",
        "            valid = torch.ones(V, dtype=torch.bool, device=device)\n",
        "            for li,val in conditions[pidx]:\n",
        "                valid &= (model.vocab[:,li]==val)\n",
        "            probs_gen = probs_gen.masked_fill(~valid, 0)\n",
        "            probs_gt  = probs_gt.masked_fill(~valid, 0)\n",
        "            probs_gen /= probs_gen.sum()\n",
        "            probs_gt  /= probs_gt.sum()\n",
        "\n",
        "        # sample & log-likelihood\n",
        "        tok_gen = torch.multinomial(probs_gen,1).item()\n",
        "        llg = float(torch.log(probs_gen[tok_gen]+1e-10))\n",
        "        acc_ll_gen += llg\n",
        "        gen_state[pidx] = model.vocab[tok_gen]\n",
        "\n",
        "        # mode count for gen\n",
        "        mode_gen = int(torch.argmax(probs_gen).item())\n",
        "        if tok_gen == mode_gen:\n",
        "            mode_count_gen += 1\n",
        "\n",
        "        # given true token\n",
        "        if g_patches is not None:\n",
        "            dists = ((model.vocab.to(device) - g_patches[pidx].unsqueeze(0))**2).sum(-1)\n",
        "            idx_gt = int(torch.argmin(dists).item())\n",
        "            llgt = float(torch.log(probs_gt[idx_gt]+1e-10))\n",
        "            acc_ll_gt += llgt\n",
        "            gt_state[pidx] = model.vocab[idx_gt]\n",
        "            # mode count for gt\n",
        "            mode_gt = int(torch.argmax(probs_gt).item())\n",
        "            if idx_gt == mode_gt:\n",
        "                mode_count_gt += 1\n",
        "        else:\n",
        "            idx_gt, llgt = None, None\n",
        "\n",
        "        done[pidx] = True\n",
        "\n",
        "        # topk indices & values\n",
        "        topk_inds_gen = torch.topk(probs_gen, topk).indices.cpu().numpy()\n",
        "        topk_vals_gen = probs_gen[topk_inds_gen].cpu().numpy()\n",
        "        topk_inds_gt  = torch.topk(probs_gt,  topk).indices.cpu().numpy()\n",
        "        topk_vals_gt  = probs_gt[topk_inds_gt].cpu().numpy()\n",
        "\n",
        "        # --- 8-panel figure ---\n",
        "        fig, axs = plt.subplots(1,8, figsize=(40,5))\n",
        "\n",
        "        # Panel 1: current generated\n",
        "        disp = [gen_state[i] if done[i] else torch.full((D,),0.5,device=device)\n",
        "                for i in range(T)]\n",
        "        img1 = patches_to_image(torch.stack(disp),(image_size,image_size),patch_size)\n",
        "        axs[0].imshow(img1.cpu(), cmap=\"gray\", vmin=0,vmax=1)\n",
        "        if condition_indices is not None:\n",
        "            ys = condition_indices//image_size; xs = condition_indices%image_size\n",
        "            axs[0].scatter(xs,ys,c=condition_values,cmap=cmap, s=20, edgecolors=\"white\")\n",
        "        r0,c0 = (pidx//grid)*patch_size,(pidx%grid)*patch_size\n",
        "        axs[0].add_patch(mpatches.Rectangle((c0-0.5,r0-0.5),\n",
        "                                           patch_size,patch_size,\n",
        "                                           linewidth=2, edgecolor=\"green\",\n",
        "                                           facecolor=\"none\"))\n",
        "        axs[0].set_title(\"Generated\"); axs[0].axis(\"off\")\n",
        "\n",
        "        # Panel 2: given image\n",
        "        if g_patches is not None:\n",
        "            axs[1].imshow(gimg.cpu(), cmap=\"gray\", vmin=0,vmax=1)\n",
        "            axs[1].add_patch(mpatches.Rectangle((c0-0.5,r0-0.5),\n",
        "                                               patch_size,patch_size,\n",
        "                                               linewidth=2,edgecolor=\"green\",\n",
        "                                               facecolor=\"none\"))\n",
        "            axs[1].set_title(\"Given\"); axs[1].axis(\"off\")\n",
        "        else:\n",
        "            axs[1].axis(\"off\"); axs[1].set_title(\"No Given\")\n",
        "\n",
        "        # Panel 3: sampled bar chart (highlight chosen)\n",
        "        colors = [\"purple\"]*topk\n",
        "        # find position of tok_gen in topk_inds_gen\n",
        "        for i,tid in enumerate(topk_inds_gen):\n",
        "            if tid == tok_gen:\n",
        "                colors[i] = \"green\"\n",
        "        axs[2].bar(np.arange(topk), topk_vals_gen, color=colors)\n",
        "        axs[2].set_xticks(np.arange(topk))\n",
        "        axs[2].set_xticklabels(topk_inds_gen, fontsize=12)\n",
        "        axs[2].set_ylim(0,1)\n",
        "        axs[2].set_title(\"P on Generated\")\n",
        "\n",
        "        # Panel 4: top-10 sampled token patches\n",
        "        samp_tiles = [ model.vocab[int(tid)].cpu().reshape(patch_size,patch_size).numpy()\n",
        "                       for tid in topk_inds_gen ]\n",
        "        samp_grid = np.hstack([add_colored_border(t,1,(0,1,0)) for t in samp_tiles])\n",
        "        axs[3].imshow(samp_grid, cmap=\"gray\", vmin=0,vmax=1)\n",
        "        axs[3].axis(\"off\"); axs[3].set_title(\"Top-10 Gen Tokens\")\n",
        "\n",
        "        # Panel 5: sampled patch with stats\n",
        "        arr5 = model.vocab[tok_gen].cpu().reshape(patch_size,patch_size).numpy()\n",
        "        img5 = add_colored_border(arr5,1,(0,1,0))\n",
        "        axs[4].imshow(img5, cmap=\"gray\", vmin=0,vmax=1)\n",
        "        axs[4].axis(\"off\")\n",
        "        axs[4].set_title(\n",
        "            f\"p={probs_gen[tok_gen]:.3f}\\nΣ_ll={acc_ll_gen:.3f}\\nmode_cnt={mode_count_gen}\"\n",
        "        )\n",
        "\n",
        "        # Panel 6: given bar chart\n",
        "        colors = [\"purple\"]*topk\n",
        "        for i,tid in enumerate(topk_inds_gt):\n",
        "            if idx_gt is not None and tid == idx_gt:\n",
        "                colors[i] = \"orange\"\n",
        "        axs[5].bar(np.arange(topk), topk_vals_gt, color=colors)\n",
        "        axs[5].set_xticks(np.arange(topk))\n",
        "        axs[5].set_xticklabels(topk_inds_gt, fontsize=12)\n",
        "        axs[5].set_ylim(0,1)\n",
        "        axs[5].set_title(\"P on Given\")\n",
        "\n",
        "        # Panel 7: top-10 given token patches\n",
        "        giv_tiles = [ model.vocab[int(tid)].cpu().reshape(patch_size,patch_size).numpy()\n",
        "                      for tid in topk_inds_gt ]\n",
        "        giv_grid = np.hstack([add_colored_border(t,1,(1,0.5,0)) for t in giv_tiles])\n",
        "        axs[6].imshow(giv_grid, cmap=\"gray\", vmin=0,vmax=1)\n",
        "        axs[6].axis(\"off\"); axs[6].set_title(\"Top-10 Given Tokens\")\n",
        "\n",
        "        # Panel 8: given patch with stats\n",
        "        if idx_gt is not None:\n",
        "            arr8 = model.vocab[idx_gt].cpu().reshape(patch_size,patch_size).numpy()\n",
        "            img8 = add_colored_border(arr8,1,(1,0.5,0))\n",
        "            axs[7].imshow(img8, cmap=\"gray\", vmin=0,vmax=1)\n",
        "            axs[7].axis(\"off\")\n",
        "            axs[7].set_title(\n",
        "                f\"p={probs_gt[idx_gt]:.3f}\\nΣ_ll={acc_ll_gt:.3f}\\nmode_cnt={mode_count_gt}\"\n",
        "            )\n",
        "        else:\n",
        "            axs[7].axis(\"off\")\n",
        "\n",
        "        plt.suptitle(f\"Step {step}, Patch {pidx}\")\n",
        "        frames.append(fig_to_np(fig))\n",
        "        plt.close(fig)\n",
        "\n",
        "    # write out video\n",
        "    imageio.mimwrite(video_filename, frames, fps=fps)\n",
        "    print(f\"Saved {video_filename}\")\n",
        "\n",
        "    final = patches_to_image(gen_state.cpu(), (image_size,image_size), patch_size)\n",
        "    return final, acc_ll_gen, acc_ll_gt, mode_count_gen, mode_count_gt"
      ],
      "metadata": {
        "id": "u6CqKWqF_McY"
      },
      "execution_count": 65,
      "outputs": []
    },
    {
      "cell_type": "code",
      "source": [
        "img, ll_sample, ll_given,mode_sample,mode_given = generate_video(model,patch_size,image_size=H,condition_indices=flattened_condition_indices,condition_values=condition_values_new,given_image=cond_data[0],generation_order=\"inverse manhattan\")"
      ],
      "metadata": {
        "id": "qRgAbg6L_Q8t",
        "outputId": "d139a3da-1d2b-4e00-c5a4-a4b2660130f6",
        "colab": {
          "base_uri": "https://localhost:8080/"
        }
      },
      "execution_count": 67,
      "outputs": [
        {
          "output_type": "stream",
          "name": "stderr",
          "text": [
            "Sampling: 100%|██████████| 256/256 [03:19<00:00,  1.28it/s]\n",
            "WARNING:imageio_ffmpeg:IMAGEIO FFMPEG_WRITER WARNING: input image is not divisible by macro_block_size=16, resizing from (3120, 482) to (3120, 496) to ensure video compatibility with most codecs and players. To prevent resizing, make your input image divisible by the macro_block_size or set the macro_block_size to 1 (risking incompatibility).\n"
          ]
        },
        {
          "output_type": "stream",
          "name": "stdout",
          "text": [
            "Saved generation.mp4\n"
          ]
        }
      ]
    },
    {
      "cell_type": "code",
      "source": [
        "import torch\n",
        "\n",
        "def stationary_to_full(rel_bias_table: torch.Tensor) -> torch.Tensor:\n",
        "    \"\"\"\n",
        "    rel_bias_table: (2G-1, 2G-1) tensor of stationary biases\n",
        "    returns: (G*G, G*G) full covariance matrix\n",
        "    \"\"\"\n",
        "    # recover G\n",
        "    D = rel_bias_table.shape[0]\n",
        "    assert D % 2 == 1, \"table must be odd-sized\"\n",
        "    G = (D + 1) // 2       # e.g. D=31 -> G=16\n",
        "    N = G * G              # 256\n",
        "\n",
        "    # compute patch grid coordinates 0..G-1\n",
        "    idx = torch.arange(N)\n",
        "    rows = idx // G        # shape (N,)\n",
        "    cols = idx %  G        # shape (N,)\n",
        "\n",
        "    # pairwise differences dr, dc in [-(G-1) .. (G-1)]\n",
        "    dr = rows[:, None] - rows[None, :]   # (N, N)\n",
        "    dc = cols[:, None] - cols[None, :]   # (N, N)\n",
        "\n",
        "    # shift to [0 .. 2G-2] to index into rel_bias_table\n",
        "    ir = dr + (G - 1)    # now in [0 .. 2G-2]\n",
        "    ic = dc + (G - 1)\n",
        "\n",
        "    # gather\n",
        "    full = rel_bias_table[ir, ic]  # (N, N)\n",
        "    return full\n",
        "\n",
        "# example:\n",
        "rel31 = model.rel_bias_table.cpu().detach().numpy()    # your learned table\n",
        "full256 = stationary_to_full(rel31)\n",
        "plt.imshow(full256[:50,:50],cmap=\"seismic\")  # torch.Size([256, 256])\n",
        "plt.colorbar()\n",
        "plt.show()"
      ],
      "metadata": {
        "id": "TViTbevnASiP",
        "outputId": "174e97be-ec71-49f4-88d6-227361329dcb",
        "colab": {
          "base_uri": "https://localhost:8080/",
          "height": 432
        }
      },
      "execution_count": 25,
      "outputs": [
        {
          "output_type": "display_data",
          "data": {
            "text/plain": [
              "<Figure size 640x480 with 2 Axes>"
            ],
            "image/png": "[encoded data removed]"
          },
          "metadata": {}
        }
      ]
    },
    {
      "cell_type": "markdown",
      "source": [
        "# Sample"
      ],
      "metadata": {
        "id": "rDWLlB8XyVNm"
      }
    },
    {
      "cell_type": "code",
      "source": [
        "# Assume training_data is already defined with shape (N, H, W)\n",
        "N, H, W = training_data.shape\n",
        "\n",
        "# Set parameters.\n",
        "vocab, counts, mask_token = build_vocabulary(training_data, patch_size, cap_size=vocab_cap)\n",
        "patch_dim = patch_size ** 2\n",
        "num_patches = (H // patch_size) ** 2\n",
        "\n",
        "\n",
        "# Create the model and load weights.\n",
        "PATH = \"Models/4x4_model_epoch_900_smooth_data.pth\"\n",
        "model = StackedContextViT(vocab, mask_token, patch_dim, num_patches,\n",
        "                           emb_dim, num_heads, num_layers, ffn_dim)\n",
        "# Note: if your torch.load expects \"weights_only\", adjust accordingly.\n",
        "model.load_state_dict(torch.load(PATH, map_location='cpu'))  # remove weights_only if not applicable\n",
        "model.eval()\n",
        "\n",
        "flattened_condition_indices = np.zeros(len(condition_indices_new))\n",
        "for i in range(len(condition_indices_new)):\n",
        "    flattened_condition_indices[i] = condition_indices_x[i] * 64 + condition_indices_y[i]\n",
        "flattened_condition_indices = flattened_condition_indices.astype(int)\n",
        "\n",
        "# Generate a test image and plot\n",
        "cond_img,ll = generate_image(model,patch_size,image_size=H,condition_indices=flattened_condition_indices,condition_values=condition_values_new)\n",
        "\n",
        "plt.imshow(cond_img.cpu().detach().numpy(),cmap='gray')\n",
        "plt.scatter(condition_indices_y,condition_indices_x,c=condition_values_new,cmap='viridis')\n",
        "plt.title(f\"Log-likelihood of sample:{ll:.2f}\")\n",
        "plt.show()"
      ],
      "metadata": {
        "colab": {
          "base_uri": "https://localhost:8080/",
          "height": 350
        },
        "id": "dEKQHv8I7v7I",
        "outputId": "008953d7-9bcc-4912-a302-3685d8d6c048"
      },
      "execution_count": null,
      "outputs": [
        {
          "output_type": "error",
          "ename": "RuntimeError",
          "evalue": "Error(s) in loading state_dict for StackedContextViT:\n\tUnexpected key(s) in state_dict: \"mask_token\". ",
          "traceback": [
            "\u001b[0;31m---------------------------------------------------------------------------\u001b[0m",
            "\u001b[0;31mRuntimeError\u001b[0m                              Traceback (most recent call last)",
            "\u001b[0;32m<ipython-input-10-71ffee068984>\u001b[0m in \u001b[0;36m<cell line: 0>\u001b[0;34m()\u001b[0m\n\u001b[1;32m     13\u001b[0m                            emb_dim, num_heads, num_layers, ffn_dim)\n\u001b[1;32m     14\u001b[0m \u001b[0;31m# Note: if your torch.load expects \"weights_only\", adjust accordingly.\u001b[0m\u001b[0;34m\u001b[0m\u001b[0;34m\u001b[0m\u001b[0m\n\u001b[0;32m---> 15\u001b[0;31m \u001b[0mmodel\u001b[0m\u001b[0;34m.\u001b[0m\u001b[0mload_state_dict\u001b[0m\u001b[0;34m(\u001b[0m\u001b[0mtorch\u001b[0m\u001b[0;34m.\u001b[0m\u001b[0mload\u001b[0m\u001b[0;34m(\u001b[0m\u001b[0mPATH\u001b[0m\u001b[0;34m,\u001b[0m \u001b[0mmap_location\u001b[0m\u001b[0;34m=\u001b[0m\u001b[0;34m'cpu'\u001b[0m\u001b[0;34m)\u001b[0m\u001b[0;34m)\u001b[0m  \u001b[0;31m# remove weights_only if not applicable\u001b[0m\u001b[0;34m\u001b[0m\u001b[0;34m\u001b[0m\u001b[0m\n\u001b[0m\u001b[1;32m     16\u001b[0m \u001b[0mmodel\u001b[0m\u001b[0;34m.\u001b[0m\u001b[0meval\u001b[0m\u001b[0;34m(\u001b[0m\u001b[0;34m)\u001b[0m\u001b[0;34m\u001b[0m\u001b[0;34m\u001b[0m\u001b[0m\n\u001b[1;32m     17\u001b[0m \u001b[0;34m\u001b[0m\u001b[0m\n",
            "\u001b[0;32m/usr/local/lib/python3.11/dist-packages/torch/nn/modules/module.py\u001b[0m in \u001b[0;36mload_state_dict\u001b[0;34m(self, state_dict, strict, assign)\u001b[0m\n\u001b[1;32m   2579\u001b[0m \u001b[0;34m\u001b[0m\u001b[0m\n\u001b[1;32m   2580\u001b[0m         \u001b[0;32mif\u001b[0m \u001b[0mlen\u001b[0m\u001b[0;34m(\u001b[0m\u001b[0merror_msgs\u001b[0m\u001b[0;34m)\u001b[0m \u001b[0;34m>\u001b[0m \u001b[0;36m0\u001b[0m\u001b[0;34m:\u001b[0m\u001b[0;34m\u001b[0m\u001b[0;34m\u001b[0m\u001b[0m\n\u001b[0;32m-> 2581\u001b[0;31m             raise RuntimeError(\n\u001b[0m\u001b[1;32m   2582\u001b[0m                 \"Error(s) in loading state_dict for {}:\\n\\t{}\".format(\n\u001b[1;32m   2583\u001b[0m                     \u001b[0mself\u001b[0m\u001b[0;34m.\u001b[0m\u001b[0m__class__\u001b[0m\u001b[0;34m.\u001b[0m\u001b[0m__name__\u001b[0m\u001b[0;34m,\u001b[0m \u001b[0;34m\"\\n\\t\"\u001b[0m\u001b[0;34m.\u001b[0m\u001b[0mjoin\u001b[0m\u001b[0;34m(\u001b[0m\u001b[0merror_msgs\u001b[0m\u001b[0;34m)\u001b[0m\u001b[0;34m\u001b[0m\u001b[0;34m\u001b[0m\u001b[0m\n",
            "\u001b[0;31mRuntimeError\u001b[0m: Error(s) in loading state_dict for StackedContextViT:\n\tUnexpected key(s) in state_dict: \"mask_token\". "
          ]
        }
      ]
    },
    {
      "cell_type": "markdown",
      "source": [
        "# Sample without Positional Encoding"
      ],
      "metadata": {
        "id": "2WlqgNnR4HBc"
      }
    },
    {
      "cell_type": "code",
      "source": [
        "device = torch.device(\"cuda\" if torch.cuda.is_available() else \"cpu\")\n",
        "model_wo_PE = copy.deepcopy(model)\n",
        "model_wo_PE.pos_emb = nn.Parameter(\n",
        "    torch.zeros(num_patches, emb_dim, device='cpu')\n",
        ")\n",
        "print(\"Positional Encoding:\",model_wo_PE.pos_emb)\n",
        "# Generate a test image and plot\n",
        "cond_img,ll = generate_image(model_wo_PE,patch_size,image_size=H,condition_indices=flattened_condition_indices,condition_values=condition_values_new)\n",
        "plt.imshow(cond_img.cpu().detach().numpy(),cmap='gray')\n",
        "plt.scatter(condition_indices_y,condition_indices_x,c=condition_values_new,cmap='viridis')\n",
        "plt.title(f\"Log-likelihood of sample:{ll:.2f}\")\n",
        "plt.show()"
      ],
      "metadata": {
        "id": "YluJxBtq4F_V"
      },
      "execution_count": null,
      "outputs": []
    },
    {
      "cell_type": "markdown",
      "source": [
        "# Sample without Positional Encoding and With Gauss Covariance matrix"
      ],
      "metadata": {
        "id": "k630I8ez4LTj"
      }
    },
    {
      "cell_type": "code",
      "source": [
        "import numpy as np\n",
        "import matplotlib.pyplot as plt\n",
        "from scipy.spatial.distance import cdist\n",
        "\n",
        "# Parameters\n",
        "grid_size = 64\n",
        "length_scale = 0.8\n",
        "sigma_sq = 1.0\n",
        "\n",
        "# Create 2D coordinates for a 16x16 grid\n",
        "x = np.linspace(0, 1, grid_size)\n",
        "y = np.linspace(0, 1, grid_size)\n",
        "xx, yy = np.meshgrid(x, y)\n",
        "coords = np.stack([xx.ravel(), yy.ravel()], axis=1)  # shape: (256, 2)\n",
        "\n",
        "# Compute pairwise squared Euclidean distances\n",
        "sqdist = cdist(coords, coords, 'sqeuclidean')\n",
        "\n",
        "# Gaussian covariance matrix\n",
        "cov_matrix = sigma_sq * np.exp(-0.5 * sqdist / length_scale**2)\n",
        "\n",
        "# Sample from zero-mean multivariate normal distribution\n",
        "mean = np.zeros(coords.shape[0])\n",
        "sample = np.random.multivariate_normal(mean, cov_matrix)\n",
        "\n",
        "# Reshape to 2D field for visualization\n",
        "field = sample.reshape(grid_size, grid_size)\n",
        "trunc_field = np.zeros_like(field)\n",
        "trunc_field[field < 0] = 0\n",
        "trunc_field[field > 1] = 1\n",
        "\n",
        "# Plot the sampled GRF\n",
        "plt.figure(figsize=(6, 5))\n",
        "plt.imshow(trunc_field, cmap='coolwarm', origin='lower')\n",
        "plt.colorbar(label='Field Value')\n",
        "plt.title('Sample from Zero-Mean 2D Gaussian Random Field')\n",
        "plt.tight_layout()\n",
        "plt.show()"
      ],
      "metadata": {
        "id": "5ByCQRLe7sT6"
      },
      "execution_count": null,
      "outputs": []
    },
    {
      "cell_type": "code",
      "source": [
        "import numpy as np\n",
        "\n",
        "# assume cov_matrix is your 4096×4096 full‐field covariance\n",
        "grid_size   = 64\n",
        "patch_size  = 4\n",
        "n_patches   = grid_size // patch_size      # 16\n",
        "P           = n_patches**2                 # 256\n",
        "\n",
        "# 1) build a 4096‐vector that maps each pixel → patch index 0…255\n",
        "row_ids     = np.arange(grid_size) // patch_size           # length 64: [0,0,0,0,1,1,...,15]\n",
        "col_ids     = np.arange(grid_size) // patch_size           # same for columns\n",
        "# broadcast to 64×64 then flatten\n",
        "patch_map   = (row_ids[:,None] * n_patches + col_ids[None,:]).ravel()\n",
        "\n",
        "# 2) build a “membership” matrix M of shape (4096,256)\n",
        "#    M[k,i] = 1 if pixel k ∈ patch i, else 0\n",
        "M = np.zeros((grid_size**2, P))\n",
        "for pix_idx, patch_idx in enumerate(patch_map):\n",
        "    M[pix_idx, patch_idx] = 1\n",
        "\n",
        "# 3) normalize to get patch‐means: divide each column by 16\n",
        "M /= (patch_size**2)\n",
        "\n",
        "# 4) compute the patch‐covariance\n",
        "#    Cov[ i, j ] = Cov( mean of patch i, mean of patch j )\n",
        "patch_cov = M.T @ cov_matrix @ M    # shape: (256, 256)\n",
        "\n",
        "# now `patch_cov` is your desired 256×256 patch covariance matrix\n",
        "plt.imshow(patch_cov)"
      ],
      "metadata": {
        "colab": {
          "base_uri": "https://localhost:8080/",
          "height": 452
        },
        "id": "_6O9GrwYYLim",
        "outputId": "34be9805-fe01-4887-e964-e34c0995f15f"
      },
      "execution_count": null,
      "outputs": [
        {
          "output_type": "execute_result",
          "data": {
            "text/plain": [
              "<matplotlib.image.AxesImage at 0x7eed7af8b350>"
            ]
          },
          "metadata": {},
          "execution_count": 11
        },
        {
          "output_type": "display_data",
          "data": {
            "text/plain": [
              "<Figure size 640x480 with 1 Axes>"
            ],
            "image/png": "[encoded data removed]"
          },
          "metadata": {}
        }
      ]
    },
    {
      "cell_type": "code",
      "source": [
        "device = torch.device(\"cuda\" if torch.cuda.is_available() else \"cpu\")\n",
        "model_wo_APE_w_Gauss_RPE = copy.deepcopy(model)\n",
        "model_wo_APE_w_Gauss_RPE.pos_emb = nn.Parameter(\n",
        "    torch.zeros(num_patches, emb_dim, device='cpu')\n",
        ")\n",
        "\n",
        "model_wo_APE_w_Gauss_RPE.rel_bias = nn.Parameter(\n",
        "    torch.tensor(cov_matrix, device='cpu')\n",
        ")\n",
        "print(\"Positional Encoding:\",model_wo_PE.pos_emb)\n",
        "# Generate a test image and plot\n",
        "cond_img,ll = generate_image(model_wo_PE,patch_size,image_size=H,condition_indices=flattened_condition_indices,condition_values=condition_values_new)\n",
        "plt.imshow(cond_img.cpu().detach().numpy(),cmap='gray')\n",
        "plt.scatter(condition_indices_y,condition_indices_x,c=condition_values_new,cmap='viridis')\n",
        "plt.title(f\"Log-likelihood of sample:{ll:.2f}\")\n",
        "plt.show()"
      ],
      "metadata": {
        "id": "NhbMXbaFjm5F"
      },
      "execution_count": null,
      "outputs": []
    },
    {
      "cell_type": "code",
      "source": [
        "import torch\n",
        "import torch.nn as nn\n",
        "import torch.nn.functional as F\n",
        "import math\n",
        "\n",
        "class TransformerEncoderBlock(nn.Module):\n",
        "    def __init__(self, emb_dim, num_heads, ffn_dim,dropout=0.1):\n",
        "        super().__init__()\n",
        "        self.attn = nn.MultiheadAttention(embed_dim=emb_dim,\n",
        "                                          num_heads=num_heads,\n",
        "                                          dropout=dropout,\n",
        "                                          batch_first=True)\n",
        "        self.drop1 = nn.Dropout(dropout)\n",
        "        self.norm1 = nn.LayerNorm(emb_dim)\n",
        "        self.ffn   = nn.Sequential(\n",
        "            nn.Linear(emb_dim, ffn_dim),\n",
        "            nn.GELU(),\n",
        "            nn.Dropout(dropout),\n",
        "            nn.Linear(ffn_dim, emb_dim),\n",
        "            nn.Dropout(dropout)\n",
        "        )\n",
        "        self.norm2 = nn.LayerNorm(emb_dim)\n",
        "\n",
        "    def forward(self, x, attn_mask=None):\n",
        "        # attn_mask here is [N,N] if provided\n",
        "        out, _ = self.attn(x, x, x, attn_mask=attn_mask)\n",
        "        x = self.norm1(x + self.drop1(out))\n",
        "        x = self.norm2(x + self.ffn(x))\n",
        "        return x\n",
        "\n",
        "class StackedContextViT(nn.Module):\n",
        "    def __init__(\n",
        "        self,\n",
        "        vocab,                # [V, patch_dim]\n",
        "        mask_token,           # Parameter [patch_dim]\n",
        "        patch_dim,\n",
        "        num_patches,          # N\n",
        "        emb_dim=128,\n",
        "        num_heads=1,\n",
        "        num_layers=1,\n",
        "        ffn_dim=None,\n",
        "        use_pos_emb: bool = True,\n",
        "        pos_emb_init: torch.Tensor | None = None,\n",
        "        use_rel_bias: bool = True,\n",
        "        rel_bias_init: torch.Tensor | None = None,  # if provided must be [2G-1,2G-1]\n",
        "    ):\n",
        "        super().__init__()\n",
        "        self.vocab      = vocab\n",
        "        self.mask_token = mask_token\n",
        "        self.vocab_size = vocab.size(0)\n",
        "        self.patch_proj = nn.Linear(patch_dim, emb_dim)\n",
        "        self.out_drop = nn.Dropout(0.1)\n",
        "\n",
        "        # absolute positional embedding\n",
        "        self.use_pos_emb = use_pos_emb\n",
        "        if use_pos_emb:\n",
        "            pe = pos_emb_init if (pos_emb_init is not None) \\\n",
        "                 else torch.zeros(num_patches, emb_dim)\n",
        "            self.pos_emb = nn.Parameter(pe)\n",
        "        else:\n",
        "            # dummy so attribute exists, but never used\n",
        "            self.register_buffer('pos_emb', torch.zeros(1))\n",
        "\n",
        "        # stationary relative‐bias table\n",
        "        self.use_rel_bias = use_rel_bias\n",
        "        G = int(math.sqrt(num_patches))\n",
        "        if use_rel_bias:\n",
        "            # table of size (2G-1)×(2G-1)\n",
        "            if rel_bias_init is not None:\n",
        "                assert rel_bias_init.shape == (2*G-1, 2*G-1)\n",
        "                rb = rel_bias_init\n",
        "            else:\n",
        "                rb = torch.zeros(2*G-1, 2*G-1)\n",
        "            self.rel_bias_table = nn.Parameter(rb)\n",
        "            self.G = G\n",
        "        else:\n",
        "            self.register_buffer('rel_bias_table', torch.zeros(1))\n",
        "            self.G = None\n",
        "\n",
        "        # transformer layers\n",
        "        ffn_dim = ffn_dim or (emb_dim * 4)\n",
        "        self.layers = nn.ModuleList([\n",
        "            TransformerEncoderBlock(emb_dim, num_heads, ffn_dim)\n",
        "            for _ in range(num_layers)\n",
        "        ])\n",
        "\n",
        "        self.out_proj = nn.Linear(emb_dim, self.vocab_size)\n",
        "\n",
        "    def forward(self, patches, mask_rate):\n",
        "        \"\"\"\n",
        "        patches: [B, N, patch_dim]\n",
        "        \"\"\"\n",
        "        B, N, _ = patches.shape\n",
        "        G = self.G  # sqrt(N) if rel_bias\n",
        "\n",
        "        # 1) mask\n",
        "        mask = torch.rand(B, N, device=patches.device) < mask_rate\n",
        "        x = patches.clone()\n",
        "        x[mask] = self.mask_token.to(x.device)\n",
        "\n",
        "        # 2) patch → embedding\n",
        "        x = self.patch_proj(x)\n",
        "\n",
        "        # 3) add absolute pos‐emb if desired\n",
        "        if self.use_pos_emb:\n",
        "            x = x + self.pos_emb.unsqueeze(0)\n",
        "\n",
        "        # 4) build the [N×N] attention mask from stationary table\n",
        "        attn_bias = None\n",
        "        if self.use_rel_bias:\n",
        "            # compute row/col indices for each patch 0..N-1\n",
        "            idx = torch.arange(N, device=x.device)\n",
        "            rows = idx // G   # shape [N]\n",
        "            cols = idx %  G   # shape [N]\n",
        "\n",
        "            # pairwise offsets\n",
        "            dr = rows[:,None] - rows[None,:]   # [N,N] in range [-(G-1),(G-1)]\n",
        "            dc = cols[:,None] - cols[None,:]\n",
        "\n",
        "            # shift to [0..2G-2]\n",
        "            ir = dr + (G-1)\n",
        "            ic = dc + (G-1)\n",
        "\n",
        "            attn_bias = self.rel_bias_table[ir, ic]  # [N,N]\n",
        "\n",
        "        # 5) apply transformer layers\n",
        "        for layer in self.layers:\n",
        "            x = layer(x, attn_mask=attn_bias)\n",
        "\n",
        "        # 6) final logits\n",
        "        logits = self.out_drop(self.out_proj(x))  # [B, N, V]\n",
        "        return logits, mask"
      ],
      "metadata": {
        "id": "BWlRrB2gu69c"
      },
      "execution_count": null,
      "outputs": []
    },
    {
      "cell_type": "code",
      "source": [
        "from ViT_sampling import *\n",
        "#from ViT_sampling_MLA import *\n",
        "########################################\n",
        "# Training Loop with Progress Bar and Updated Plotting\n",
        "########################################\n",
        "\n",
        "import wandb  # make sure wandb is installed: pip install wandb\n",
        "def run_training(training_data, nr_epochs, batch_size, mask_rate,\n",
        "                 final_mask_rate, mask_schedule, patch_size, num_heads,\n",
        "                 num_layers, ffn_dim, learning_rate, emb_dim, vocab_cap,\n",
        "                 use_pos_emb=True,pos_emb=None,use_rel_bias=True,rel_bias=None):\n",
        "    \"\"\"\n",
        "    training_data: numpy array or tensor of shape [N, H, W] (binary images)\n",
        "    nr_epochs: number of epochs for training\n",
        "    batch_size: training batch size\n",
        "    mask_rate: initial masking probability.\n",
        "    final_mask_rate: final masking probability.\n",
        "    mask_schedule: one of 'linear', 'exp', or 'log' that defines the growth of mask_rate.\n",
        "    patch_size: patch size (square); for your experiment use 2 if desired.\n",
        "    \"\"\"\n",
        "    device = torch.device(\"cuda\" if torch.cuda.is_available() else \"cpu\")\n",
        "    # Initialize wandb\n",
        "    wandb.init(project=\"ViT_conditional\", config={\n",
        "        \"nr_epochs\": nr_epochs,\n",
        "        \"batch_size\": batch_size,\n",
        "        \"mask_rate\": mask_rate,\n",
        "        \"final_mask_rate\": final_mask_rate,\n",
        "        \"mask_schedule\": mask_schedule,\n",
        "        \"patch_size\": patch_size,\n",
        "        \"num_heads\": num_heads,\n",
        "        \"num_layers\": num_layers,\n",
        "        \"ffn_dim\": ffn_dim,\n",
        "        \"learning_rate\": learning_rate,\n",
        "        \"emb_dim\": emb_dim\n",
        "    })\n",
        "\n",
        "    if not isinstance(training_data, torch.Tensor):\n",
        "        training_data = torch.tensor(training_data, dtype=torch.float32)\n",
        "\n",
        "    dataset = BinaryImageDataset(training_data)\n",
        "    loader = DataLoader(dataset, batch_size=batch_size, shuffle=True)\n",
        "\n",
        "    B_total, H_img, W_img = training_data.shape\n",
        "    num_patches = (H_img // patch_size) * (W_img // patch_size)\n",
        "    patch_dim = patch_size * patch_size\n",
        "\n",
        "    # Build vocabulary and mask token.\n",
        "    vocab, counts, mask_token = build_vocabulary(training_data, patch_size, cap_size=vocab_cap)\n",
        "    print(\"vocab size:\\n\", vocab.size(0))\n",
        "\n",
        "    # Create the ViT model.\n",
        "    model = StackedContextViT(\n",
        "    vocab=vocab.to(device),\n",
        "    mask_token=mask_token.to(device),\n",
        "    patch_dim=patch_dim,\n",
        "    num_patches=num_patches,\n",
        "    emb_dim=emb_dim,\n",
        "    num_heads=num_heads,\n",
        "    num_layers=num_layers,\n",
        "    ffn_dim=ffn_dim,\n",
        "    use_pos_emb=use_pos_emb,\n",
        "    pos_emb_init=pos_emb,     # either None or your [N×emb_dim] tensor\n",
        "    use_rel_bias=use_rel_bias,\n",
        "    rel_bias_init=rel_bias    # either None or your [N×N] tensor\n",
        "    )\n",
        "    model.to(device)\n",
        "    model.vocab = model.vocab.to(device)\n",
        "\n",
        "    optimizer = torch.optim.Adam(model.parameters(), lr=learning_rate)\n",
        "    scheduler = torch.optim.lr_scheduler.StepLR(optimizer, step_size=50, gamma=0.8)\n",
        "    criterion = nn.CrossEntropyLoss(label_smoothing=0.1)\n",
        "\n",
        "    #Weight for reconstruction loss\n",
        "    alpha = 0.01\n",
        "\n",
        "    for epoch in range(nr_epochs):\n",
        "        # Compute the current masking rate according to the selected schedule.\n",
        "        if mask_schedule == \"linear\":\n",
        "            current_mask_rate = mask_rate + (final_mask_rate - mask_rate) * (epoch / (nr_epochs - 1))\n",
        "        elif mask_schedule == \"exp\":\n",
        "            current_mask_rate = mask_rate * ((final_mask_rate / mask_rate) ** (epoch / (nr_epochs - 1)))\n",
        "        elif mask_schedule == \"log\":\n",
        "            current_mask_rate = mask_rate + (final_mask_rate - mask_rate) * (math.log(epoch + 1) / math.log(nr_epochs))\n",
        "        else:\n",
        "            current_mask_rate = mask_rate  # fallback to constant rate\n",
        "\n",
        "        model.train()\n",
        "        total_loss = 0.0\n",
        "        total_correct = 0\n",
        "        total_masked = 0\n",
        "\n",
        "        # Variables to store outputs from the last batch for plotting.\n",
        "        last_batch_images = None\n",
        "        last_batch_patches = None\n",
        "        last_batch_mask = None\n",
        "        last_batch_logits = None\n",
        "        last_targets = None\n",
        "\n",
        "        # Progress bar for this epoch.\n",
        "        for batch in tqdm(loader, desc=f\"Epoch {epoch+1}/{nr_epochs}\"):\n",
        "            batch = batch.to(device)\n",
        "            patches = BinaryImageDataset.batch_to_patches(batch, patch_size)  # shape [B, N, patch_dim]\n",
        "            B, N, P = patches.shape\n",
        "\n",
        "            logits, mask = model(patches, current_mask_rate)\n",
        "\n",
        "            patches_bin = patches.round()\n",
        "            patches_flat = patches_bin.view(B * N, P)\n",
        "            dists = torch.cdist(patches_flat, model.vocab)\n",
        "            targets = torch.argmin(dists, dim=1).view(B, N)\n",
        "\n",
        "            if mask.sum() > 0:\n",
        "                loss_mask = criterion(logits[mask], targets[mask])\n",
        "            else:\n",
        "                loss_mask = torch.tensor(0.0, device=device)\n",
        "\n",
        "            pred_ids     = logits.argmax(dim=-1)             # [B, N]\n",
        "            pred_patches = model.vocab[pred_ids]             # [B, N, D]\n",
        "            # vectorized reassembly:\n",
        "            recon_images = []\n",
        "            for i in range(B):\n",
        "                recon_images.append(\n",
        "                    patches_to_image(pred_patches[i], (H_img, W_img), patch_size)\n",
        "                )\n",
        "            recon_images = torch.stack(recon_images).to(device)  # [B, H, W]\n",
        "            loss_recon = F.l1_loss(recon_images, batch)\n",
        "\n",
        "            # combined loss\n",
        "            loss = loss_mask + alpha * loss_recon\n",
        "\n",
        "            optimizer.zero_grad()\n",
        "            loss.backward()\n",
        "            optimizer.step()\n",
        "\n",
        "            total_loss += loss_mask.item() * mask.sum().item()\n",
        "            preds = logits.argmax(dim=-1)\n",
        "            total_correct += (preds[mask] == targets[mask]).sum().item()\n",
        "            total_masked += mask.sum().item()\n",
        "\n",
        "            # Save last batch data (including targets) for plotting.\n",
        "            last_batch_images = batch.detach().cpu()\n",
        "            last_batch_patches = patches.detach().cpu()\n",
        "            last_batch_mask = mask.detach().cpu()\n",
        "            last_batch_logits = logits.detach().cpu()\n",
        "            last_targets = targets.detach().cpu()\n",
        "\n",
        "        avg_loss = total_loss / max(1, total_masked)\n",
        "        acc = total_correct / max(1, total_masked)\n",
        "        scheduler.step() #Change laber\n",
        "        # Log epoch metrics.\n",
        "        wandb.log({\n",
        "            \"epoch\": epoch+1,\n",
        "            \"masked_CE\": loss_mask.item(),\n",
        "            \"recon_L1\": loss_recon.item(),\n",
        "            \"combined_loss\": loss.item(),\n",
        "            \"avg_loss\": avg_loss,\n",
        "            \"masked_accuracy\": acc,\n",
        "            \"mask_rate\": current_mask_rate,\n",
        "            \"learning_rate\": scheduler.get_last_lr()[0]\n",
        "        })\n",
        "        print(f\"Epoch {epoch+1}/{nr_epochs} | Loss: {avg_loss:.4f} | Masked Acc: {acc:.4f}\")\n",
        "\n",
        "        if (epoch + 1) % 100 == 0:\n",
        "          torch.save(model.state_dict(), f\"model_epoch_{epoch+1}.pth\")\n",
        "          print(f\"Saved model at epoch {epoch+1}\")\n",
        "\n",
        "        # ---- Every 10 epochs, perform conditional generation and log to wandb ----\n",
        "        if (epoch+1) % 50 == 0:\n",
        "            # Sample conditions for generation.\n",
        "            condition_indices = np.array([1726,3797,4211,4543,3953,3347,1897,2015,4424,1942,2108,4350,1019,4068,2911])\n",
        "            condition_values = np.array([0,1,0,1,1,1,0,1,0,1,0,1,1,1,0])\n",
        "            condition_indices_x = (condition_indices // 80) - 8\n",
        "            condition_indices_y = (condition_indices % 80) - 8\n",
        "            flattened_condition_indices = np.zeros(len(condition_indices))\n",
        "            for i in range(len(condition_indices)):\n",
        "                flattened_condition_indices[i] = condition_indices_x[i] * 64 + condition_indices_y[i]\n",
        "            flattened_condition_indices = flattened_condition_indices.astype(int)\n",
        "            generated_img, log_likelihood_sum = generate_image(model, patch_size, W_img, condition_indices=flattened_condition_indices, condition_values=condition_values)\n",
        "            # Create a figure for the generated image.\n",
        "            fig_gen, ax_gen = plt.subplots(figsize=(12,12))\n",
        "            # Convert conditions to grid coordinates for plotting.\n",
        "            ax_gen.imshow(generated_img.cpu().detach().numpy(), cmap='gray', vmin=0, vmax=1)\n",
        "            ax_gen.scatter(condition_indices_y, condition_indices_x, c=condition_values, cmap='viridis')\n",
        "            ax_gen.set_title(f\"Conditional Generation @ Epoch {epoch+1}\\nLL: {log_likelihood_sum:.4f}\")\n",
        "            ax_gen.axis(\"off\")\n",
        "            wandb.log({\"conditional_generation\": wandb.Image(fig_gen, caption=f\"Epoch {epoch+1}\")})\n",
        "            plt.close(fig_gen)\n",
        "\n",
        "        # ---- (Optional) Plotting the last batch reconstruction and log to wandb ----\n",
        "        if (epoch+1) % 10 == 0:\n",
        "          if last_batch_images is not None:\n",
        "              last_image = last_batch_images[-1]         # [H_img, W_img]\n",
        "              last_orig_patches = last_batch_patches[-1]    # [N, patch_dim]\n",
        "              last_mask = last_batch_mask[-1]               # [N]\n",
        "              last_logits = last_batch_logits[-1]           # [N, vocab_size]\n",
        "              last_targets_img = last_targets[-1]           # [N]\n",
        "\n",
        "              last_pred = last_logits.argmax(dim=-1)\n",
        "\n",
        "              reconstructed_patches = last_orig_patches.clone()\n",
        "              pred_patches = model.vocab[last_pred].detach().cpu()\n",
        "              reconstructed_patches[last_mask] = pred_patches[last_mask]\n",
        "\n",
        "              orig_img = last_image.numpy()\n",
        "              recon_img = patches_to_image(reconstructed_patches, (H_img, W_img), patch_size).numpy()\n",
        "\n",
        "              fig_recon, axes_recon = plt.subplots(1, 2, figsize=(24, 12))\n",
        "              axes_recon[0].imshow(orig_img, cmap='gray', vmin=0, vmax=1)\n",
        "              axes_recon[0].set_title(\"Original Image\")\n",
        "              axes_recon[0].axis(\"off\")\n",
        "\n",
        "              axes_recon[1].imshow(recon_img, cmap='gray', vmin=0, vmax=1)\n",
        "              axes_recon[1].set_title(\"Reconstructed Image\")\n",
        "              axes_recon[1].axis(\"off\")\n",
        "\n",
        "              num_patches_h = H_img // patch_size\n",
        "              num_patches_w = W_img // patch_size\n",
        "              N_patches = last_orig_patches.shape[0]\n",
        "              for i in range(N_patches):\n",
        "                  if last_mask[i]:\n",
        "                      row = i // num_patches_w\n",
        "                      col = i % num_patches_w\n",
        "                      if last_pred[i] == last_targets_img[i]:\n",
        "                          border_color = \"green\"\n",
        "                      else:\n",
        "                          border_color = \"red\"\n",
        "                      rect = mpatches.Rectangle((col * patch_size -.5, row * patch_size -.5),\n",
        "                                                patch_size, patch_size,\n",
        "                                                linewidth=2, edgecolor=border_color, facecolor='none')\n",
        "                      axes_recon[1].add_patch(rect)\n",
        "\n",
        "              plt.suptitle(f\"Epoch {epoch+1}\")\n",
        "              wandb.log({\"reconstruction\": wandb.Image(fig_recon, caption=f\"Epoch {epoch+1}\")})\n",
        "              plt.close(fig_recon)\n",
        "\n",
        "    return model, avg_loss"
      ],
      "metadata": {
        "id": "ReZYobbQvAoV"
      },
      "execution_count": null,
      "outputs": []
    },
    {
      "cell_type": "code",
      "source": [
        "# Try training for, say, 500 epochs; you can also try mask_rate=1.0 for a stricter overfit test.\n",
        "nr_epochs = 1000\n",
        "batch_size = 100\n",
        "mask_rate = 0.05  # Try also mask_rate = 1.0 to check if the network can memorize given only positional cues.\n",
        "final_mask_rate = 0.95\n",
        "mask_schedule = \"linear\"\n",
        "patch_size = 4\n",
        "num_heads = 2\n",
        "num_layers = 2\n",
        "ffn_dim = 256\n",
        "emb_dim = 64\n",
        "learning_rate = 1e-3\n",
        "vocab_cap = 100000\n",
        "use_pos_emb = False\n",
        "rel_bias_init = torch.tensor(patch_cov,dtype=torch.float32)\n",
        "trained_model = run_training(training_data, nr_epochs, batch_size, mask_rate, final_mask_rate, mask_schedule, patch_size,\n",
        "                             num_heads, num_layers, ffn_dim, learning_rate, emb_dim, vocab_cap,use_pos_emb=use_pos_emb,rel_bias=rel_bias_init)\n"
      ],
      "metadata": {
        "colab": {
          "base_uri": "https://localhost:8080/",
          "height": 1000
        },
        "id": "8SKUTW6hYiAv",
        "outputId": "d5e5b212-2729-4b8d-967d-408971398a2a"
      },
      "execution_count": null,
      "outputs": [
        {
          "output_type": "display_data",
          "data": {
            "text/plain": [
              "<IPython.core.display.HTML object>"
            ],
            "text/html": [
              "Finishing previous runs because reinit is set to 'default'."
            ]
          },
          "metadata": {}
        },
        {
          "output_type": "display_data",
          "data": {
            "text/plain": [
              "<IPython.core.display.HTML object>"
            ],
            "text/html": []
          },
          "metadata": {}
        },
        {
          "output_type": "display_data",
          "data": {
            "text/plain": [
              "<IPython.core.display.HTML object>"
            ],
            "text/html": [
              "<br>    <style><br>        .wandb-row {<br>            display: flex;<br>            flex-direction: row;<br>            flex-wrap: wrap;<br>            justify-content: flex-start;<br>            width: 100%;<br>        }<br>        .wandb-col {<br>            display: flex;<br>            flex-direction: column;<br>            flex-basis: 100%;<br>            flex: 1;<br>            padding: 10px;<br>        }<br>    </style><br><div class=\"wandb-row\"><div class=\"wandb-col\"><h3>Run history:</h3><br/><table class=\"wandb\"><tr><td>avg_loss</td><td>█▅▄▃▃▃▃▃▃▃▃▂▂▂▂▂▂▂▂▂▂▂▂▂▂▂▂▂▂▂▂▂▂▁▁▁▁▁▁▁</td></tr><tr><td>combined_loss</td><td>█▇▆▅▄▄▃▃▅▄▃▃▃▄▄▃▄▃▃▃▃▂▂▂▃▂▂▂▂▃▂▂▂▁▁▁▁▁▁▁</td></tr><tr><td>epoch</td><td>▁▁▁▂▂▂▂▂▂▂▃▃▃▃▃▄▄▄▄▄▄▅▅▅▅▅▆▆▆▆▆▇▇▇▇▇▇███</td></tr><tr><td>learning_rate</td><td>█████████████████████████████████████▁▁▁</td></tr><tr><td>mask_rate</td><td>▁▁▁▂▂▂▂▂▂▂▃▃▃▃▃▄▄▄▄▄▄▅▅▅▅▅▆▆▆▆▆▇▇▇▇▇▇▇██</td></tr><tr><td>masked_CE</td><td>█▇▆▅▄▃▃▄▅▄▃▃▄▃▄▄▃▄▃▃▂▂▂▃▃▂▂▂▃▂▂▁▂▁▂▁▁▁▁▁</td></tr><tr><td>masked_accuracy</td><td>▁▂▄▇▇███████████████████████████████████</td></tr><tr><td>recon_L1</td><td>▂▆▅█▇▇▇▇▇▆▇▇▇▆▆▆▆▅▅▆▅▅▄▄▄▃▂▃▂▃▁▂▂▃▂▃▂▂▁▂</td></tr></table><br/></div><div class=\"wandb-col\"><h3>Run summary:</h3><br/><table class=\"wandb\"><tr><td>avg_loss</td><td>3.39417</td></tr><tr><td>combined_loss</td><td>3.46512</td></tr><tr><td>epoch</td><td>54</td></tr><tr><td>learning_rate</td><td>0.0008</td></tr><tr><td>mask_rate</td><td>0.09775</td></tr><tr><td>masked_CE</td><td>3.4577</td></tr><tr><td>masked_accuracy</td><td>0.41802</td></tr><tr><td>recon_L1</td><td>0.74194</td></tr></table><br/></div></div>"
            ]
          },
          "metadata": {}
        },
        {
          "output_type": "display_data",
          "data": {
            "text/plain": [
              "<IPython.core.display.HTML object>"
            ],
            "text/html": [
              " View run <strong style=\"color:#cdcd00\">jumping-dragon-67</strong> at: <a href='https://wandb.ai/oscars/ViT_conditional/runs/g3fk55bg' target=\"_blank\">https://wandb.ai/oscars/ViT_conditional/runs/g3fk55bg</a><br> View project at: <a href='https://wandb.ai/oscars/ViT_conditional' target=\"_blank\">https://wandb.ai/oscars/ViT_conditional</a><br>Synced 5 W&B file(s), 6 media file(s), 0 artifact file(s) and 0 other file(s)"
            ]
          },
          "metadata": {}
        },
        {
          "output_type": "display_data",
          "data": {
            "text/plain": [
              "<IPython.core.display.HTML object>"
            ],
            "text/html": [
              "Find logs at: <code>./wandb/run-20250502_064404-g3fk55bg/logs</code>"
            ]
          },
          "metadata": {}
        },
        {
          "output_type": "display_data",
          "data": {
            "text/plain": [
              "<IPython.core.display.HTML object>"
            ],
            "text/html": [
              "Tracking run with wandb version 0.19.10"
            ]
          },
          "metadata": {}
        },
        {
          "output_type": "display_data",
          "data": {
            "text/plain": [
              "<IPython.core.display.HTML object>"
            ],
            "text/html": [
              "Run data is saved locally in <code>/content/GeoDecepticon/wandb/run-20250502_072539-msa5lzdm</code>"
            ]
          },
          "metadata": {}
        },
        {
          "output_type": "display_data",
          "data": {
            "text/plain": [
              "<IPython.core.display.HTML object>"
            ],
            "text/html": [
              "Syncing run <strong><a href='https://wandb.ai/oscars/ViT_conditional/runs/msa5lzdm' target=\"_blank\">misunderstood-water-68</a></strong> to <a href='https://wandb.ai/oscars/ViT_conditional' target=\"_blank\">Weights & Biases</a> (<a href='https://wandb.me/developer-guide' target=\"_blank\">docs</a>)<br>"
            ]
          },
          "metadata": {}
        },
        {
          "output_type": "display_data",
          "data": {
            "text/plain": [
              "<IPython.core.display.HTML object>"
            ],
            "text/html": [
              " View project at <a href='https://wandb.ai/oscars/ViT_conditional' target=\"_blank\">https://wandb.ai/oscars/ViT_conditional</a>"
            ]
          },
          "metadata": {}
        },
        {
          "output_type": "display_data",
          "data": {
            "text/plain": [
              "<IPython.core.display.HTML object>"
            ],
            "text/html": [
              " View run at <a href='https://wandb.ai/oscars/ViT_conditional/runs/msa5lzdm' target=\"_blank\">https://wandb.ai/oscars/ViT_conditional/runs/msa5lzdm</a>"
            ]
          },
          "metadata": {}
        },
        {
          "output_type": "stream",
          "name": "stdout",
          "text": [
            "vocab size:\n",
            " 5485\n"
          ]
        },
        {
          "output_type": "stream",
          "name": "stderr",
          "text": [
            "Epoch 1/1000: 100%|██████████| 90/90 [00:38<00:00,  2.34it/s]\n"
          ]
        },
        {
          "output_type": "stream",
          "name": "stdout",
          "text": [
            "Epoch 1/1000 | Loss: 5.7154 | Masked Acc: 0.2177\n"
          ]
        },
        {
          "output_type": "stream",
          "name": "stderr",
          "text": [
            "Epoch 2/1000: 100%|██████████| 90/90 [00:38<00:00,  2.33it/s]\n"
          ]
        },
        {
          "output_type": "stream",
          "name": "stdout",
          "text": [
            "Epoch 2/1000 | Loss: 4.9439 | Masked Acc: 0.2658\n"
          ]
        },
        {
          "output_type": "stream",
          "name": "stderr",
          "text": [
            "Epoch 3/1000: 100%|██████████| 90/90 [00:38<00:00,  2.34it/s]\n"
          ]
        },
        {
          "output_type": "stream",
          "name": "stdout",
          "text": [
            "Epoch 3/1000 | Loss: 4.9316 | Masked Acc: 0.2821\n"
          ]
        },
        {
          "output_type": "stream",
          "name": "stderr",
          "text": [
            "Epoch 4/1000: 100%|██████████| 90/90 [00:38<00:00,  2.33it/s]\n"
          ]
        },
        {
          "output_type": "stream",
          "name": "stdout",
          "text": [
            "Epoch 4/1000 | Loss: 4.9455 | Masked Acc: 0.2701\n"
          ]
        },
        {
          "output_type": "stream",
          "name": "stderr",
          "text": [
            "Epoch 5/1000: 100%|██████████| 90/90 [00:38<00:00,  2.33it/s]\n"
          ]
        },
        {
          "output_type": "stream",
          "name": "stdout",
          "text": [
            "Epoch 5/1000 | Loss: 4.9381 | Masked Acc: 0.2779\n"
          ]
        },
        {
          "output_type": "stream",
          "name": "stderr",
          "text": [
            "Epoch 6/1000: 100%|██████████| 90/90 [00:38<00:00,  2.33it/s]\n"
          ]
        },
        {
          "output_type": "stream",
          "name": "stdout",
          "text": [
            "Epoch 6/1000 | Loss: 4.8054 | Masked Acc: 0.3642\n"
          ]
        },
        {
          "output_type": "stream",
          "name": "stderr",
          "text": [
            "Epoch 7/1000: 100%|██████████| 90/90 [00:38<00:00,  2.32it/s]\n"
          ]
        },
        {
          "output_type": "stream",
          "name": "stdout",
          "text": [
            "Epoch 7/1000 | Loss: 4.6710 | Masked Acc: 0.3991\n"
          ]
        },
        {
          "output_type": "stream",
          "name": "stderr",
          "text": [
            "Epoch 8/1000: 100%|██████████| 90/90 [00:38<00:00,  2.31it/s]\n"
          ]
        },
        {
          "output_type": "stream",
          "name": "stdout",
          "text": [
            "Epoch 8/1000 | Loss: 4.6042 | Masked Acc: 0.4085\n"
          ]
        },
        {
          "output_type": "stream",
          "name": "stderr",
          "text": [
            "Epoch 9/1000: 100%|██████████| 90/90 [00:39<00:00,  2.30it/s]\n"
          ]
        },
        {
          "output_type": "stream",
          "name": "stdout",
          "text": [
            "Epoch 9/1000 | Loss: 4.6062 | Masked Acc: 0.4070\n"
          ]
        },
        {
          "output_type": "stream",
          "name": "stderr",
          "text": [
            "Epoch 10/1000: 100%|██████████| 90/90 [00:38<00:00,  2.31it/s]\n"
          ]
        },
        {
          "output_type": "stream",
          "name": "stdout",
          "text": [
            "Epoch 10/1000 | Loss: 4.5644 | Masked Acc: 0.4149\n"
          ]
        },
        {
          "output_type": "stream",
          "name": "stderr",
          "text": [
            "Epoch 11/1000: 100%|██████████| 90/90 [00:39<00:00,  2.31it/s]\n"
          ]
        },
        {
          "output_type": "stream",
          "name": "stdout",
          "text": [
            "Epoch 11/1000 | Loss: 4.5531 | Masked Acc: 0.4151\n"
          ]
        },
        {
          "output_type": "stream",
          "name": "stderr",
          "text": [
            "Epoch 12/1000: 100%|██████████| 90/90 [00:38<00:00,  2.31it/s]\n"
          ]
        },
        {
          "output_type": "stream",
          "name": "stdout",
          "text": [
            "Epoch 12/1000 | Loss: 4.5403 | Masked Acc: 0.4162\n"
          ]
        },
        {
          "output_type": "stream",
          "name": "stderr",
          "text": [
            "Epoch 13/1000: 100%|██████████| 90/90 [00:39<00:00,  2.31it/s]\n"
          ]
        },
        {
          "output_type": "stream",
          "name": "stdout",
          "text": [
            "Epoch 13/1000 | Loss: 4.5065 | Masked Acc: 0.4209\n"
          ]
        },
        {
          "output_type": "stream",
          "name": "stderr",
          "text": [
            "Epoch 14/1000: 100%|██████████| 90/90 [00:39<00:00,  2.31it/s]\n"
          ]
        },
        {
          "output_type": "stream",
          "name": "stdout",
          "text": [
            "Epoch 14/1000 | Loss: 4.5099 | Masked Acc: 0.4190\n"
          ]
        },
        {
          "output_type": "stream",
          "name": "stderr",
          "text": [
            "Epoch 15/1000: 100%|██████████| 90/90 [00:39<00:00,  2.31it/s]\n"
          ]
        },
        {
          "output_type": "stream",
          "name": "stdout",
          "text": [
            "Epoch 15/1000 | Loss: 4.4963 | Masked Acc: 0.4209\n"
          ]
        },
        {
          "output_type": "stream",
          "name": "stderr",
          "text": [
            "Epoch 16/1000: 100%|██████████| 90/90 [00:38<00:00,  2.31it/s]\n"
          ]
        },
        {
          "output_type": "stream",
          "name": "stdout",
          "text": [
            "Epoch 16/1000 | Loss: 4.5017 | Masked Acc: 0.4191\n"
          ]
        },
        {
          "output_type": "stream",
          "name": "stderr",
          "text": [
            "Epoch 17/1000: 100%|██████████| 90/90 [00:38<00:00,  2.31it/s]\n"
          ]
        },
        {
          "output_type": "stream",
          "name": "stdout",
          "text": [
            "Epoch 17/1000 | Loss: 4.4918 | Masked Acc: 0.4201\n"
          ]
        },
        {
          "output_type": "stream",
          "name": "stderr",
          "text": [
            "Epoch 18/1000: 100%|██████████| 90/90 [00:38<00:00,  2.31it/s]\n"
          ]
        },
        {
          "output_type": "stream",
          "name": "stdout",
          "text": [
            "Epoch 18/1000 | Loss: 4.4945 | Masked Acc: 0.4179\n"
          ]
        },
        {
          "output_type": "stream",
          "name": "stderr",
          "text": [
            "Epoch 19/1000: 100%|██████████| 90/90 [00:39<00:00,  2.30it/s]\n"
          ]
        },
        {
          "output_type": "stream",
          "name": "stdout",
          "text": [
            "Epoch 19/1000 | Loss: 4.4867 | Masked Acc: 0.4206\n"
          ]
        },
        {
          "output_type": "stream",
          "name": "stderr",
          "text": [
            "Epoch 20/1000: 100%|██████████| 90/90 [00:38<00:00,  2.31it/s]\n"
          ]
        },
        {
          "output_type": "stream",
          "name": "stdout",
          "text": [
            "Epoch 20/1000 | Loss: 4.4856 | Masked Acc: 0.4196\n"
          ]
        },
        {
          "output_type": "stream",
          "name": "stderr",
          "text": [
            "Epoch 21/1000: 100%|██████████| 90/90 [00:38<00:00,  2.32it/s]\n"
          ]
        },
        {
          "output_type": "stream",
          "name": "stdout",
          "text": [
            "Epoch 21/1000 | Loss: 4.4841 | Masked Acc: 0.4193\n"
          ]
        },
        {
          "output_type": "stream",
          "name": "stderr",
          "text": [
            "Epoch 22/1000: 100%|██████████| 90/90 [00:38<00:00,  2.31it/s]\n"
          ]
        },
        {
          "output_type": "stream",
          "name": "stdout",
          "text": [
            "Epoch 22/1000 | Loss: 4.4907 | Masked Acc: 0.4177\n"
          ]
        },
        {
          "output_type": "stream",
          "name": "stderr",
          "text": [
            "Epoch 23/1000: 100%|██████████| 90/90 [00:38<00:00,  2.31it/s]\n"
          ]
        },
        {
          "output_type": "stream",
          "name": "stdout",
          "text": [
            "Epoch 23/1000 | Loss: 4.4701 | Masked Acc: 0.4209\n"
          ]
        },
        {
          "output_type": "stream",
          "name": "stderr",
          "text": [
            "Epoch 24/1000: 100%|██████████| 90/90 [00:38<00:00,  2.31it/s]\n"
          ]
        },
        {
          "output_type": "stream",
          "name": "stdout",
          "text": [
            "Epoch 24/1000 | Loss: 4.4798 | Masked Acc: 0.4187\n"
          ]
        },
        {
          "output_type": "stream",
          "name": "stderr",
          "text": [
            "Epoch 25/1000: 100%|██████████| 90/90 [00:38<00:00,  2.31it/s]\n"
          ]
        },
        {
          "output_type": "stream",
          "name": "stdout",
          "text": [
            "Epoch 25/1000 | Loss: 4.4767 | Masked Acc: 0.4196\n"
          ]
        },
        {
          "output_type": "stream",
          "name": "stderr",
          "text": [
            "Epoch 26/1000: 100%|██████████| 90/90 [00:38<00:00,  2.31it/s]\n"
          ]
        },
        {
          "output_type": "stream",
          "name": "stdout",
          "text": [
            "Epoch 26/1000 | Loss: 4.4780 | Masked Acc: 0.4188\n"
          ]
        },
        {
          "output_type": "stream",
          "name": "stderr",
          "text": [
            "Epoch 27/1000: 100%|██████████| 90/90 [00:39<00:00,  2.31it/s]\n"
          ]
        },
        {
          "output_type": "stream",
          "name": "stdout",
          "text": [
            "Epoch 27/1000 | Loss: 4.4651 | Masked Acc: 0.4212\n"
          ]
        },
        {
          "output_type": "stream",
          "name": "stderr",
          "text": [
            "Epoch 28/1000: 100%|██████████| 90/90 [00:39<00:00,  2.30it/s]\n"
          ]
        },
        {
          "output_type": "stream",
          "name": "stdout",
          "text": [
            "Epoch 28/1000 | Loss: 4.4713 | Masked Acc: 0.4190\n"
          ]
        },
        {
          "output_type": "stream",
          "name": "stderr",
          "text": [
            "Epoch 29/1000: 100%|██████████| 90/90 [00:39<00:00,  2.30it/s]\n"
          ]
        },
        {
          "output_type": "stream",
          "name": "stdout",
          "text": [
            "Epoch 29/1000 | Loss: 4.4723 | Masked Acc: 0.4183\n"
          ]
        },
        {
          "output_type": "stream",
          "name": "stderr",
          "text": [
            "Epoch 30/1000: 100%|██████████| 90/90 [00:39<00:00,  2.30it/s]\n"
          ]
        },
        {
          "output_type": "stream",
          "name": "stdout",
          "text": [
            "Epoch 30/1000 | Loss: 4.4650 | Masked Acc: 0.4196\n"
          ]
        },
        {
          "output_type": "stream",
          "name": "stderr",
          "text": [
            "Epoch 31/1000: 100%|██████████| 90/90 [00:39<00:00,  2.30it/s]\n"
          ]
        },
        {
          "output_type": "stream",
          "name": "stdout",
          "text": [
            "Epoch 31/1000 | Loss: 4.4729 | Masked Acc: 0.4180\n"
          ]
        },
        {
          "output_type": "stream",
          "name": "stderr",
          "text": [
            "Epoch 32/1000: 100%|██████████| 90/90 [00:39<00:00,  2.30it/s]\n"
          ]
        },
        {
          "output_type": "stream",
          "name": "stdout",
          "text": [
            "Epoch 32/1000 | Loss: 4.4614 | Masked Acc: 0.4214\n"
          ]
        },
        {
          "output_type": "stream",
          "name": "stderr",
          "text": [
            "Epoch 33/1000: 100%|██████████| 90/90 [00:39<00:00,  2.29it/s]\n"
          ]
        },
        {
          "output_type": "stream",
          "name": "stdout",
          "text": [
            "Epoch 33/1000 | Loss: 4.4668 | Masked Acc: 0.4187\n"
          ]
        },
        {
          "output_type": "stream",
          "name": "stderr",
          "text": [
            "Epoch 34/1000: 100%|██████████| 90/90 [00:39<00:00,  2.28it/s]\n"
          ]
        },
        {
          "output_type": "stream",
          "name": "stdout",
          "text": [
            "Epoch 34/1000 | Loss: 4.4666 | Masked Acc: 0.4194\n"
          ]
        },
        {
          "output_type": "stream",
          "name": "stderr",
          "text": [
            "Epoch 35/1000: 100%|██████████| 90/90 [00:39<00:00,  2.30it/s]\n"
          ]
        },
        {
          "output_type": "stream",
          "name": "stdout",
          "text": [
            "Epoch 35/1000 | Loss: 4.4571 | Masked Acc: 0.4204\n"
          ]
        },
        {
          "output_type": "stream",
          "name": "stderr",
          "text": [
            "Epoch 36/1000: 100%|██████████| 90/90 [00:39<00:00,  2.29it/s]\n"
          ]
        },
        {
          "output_type": "stream",
          "name": "stdout",
          "text": [
            "Epoch 36/1000 | Loss: 4.4585 | Masked Acc: 0.4197\n"
          ]
        },
        {
          "output_type": "stream",
          "name": "stderr",
          "text": [
            "Epoch 37/1000: 100%|██████████| 90/90 [00:39<00:00,  2.30it/s]\n"
          ]
        },
        {
          "output_type": "stream",
          "name": "stdout",
          "text": [
            "Epoch 37/1000 | Loss: 4.4556 | Masked Acc: 0.4198\n"
          ]
        },
        {
          "output_type": "stream",
          "name": "stderr",
          "text": [
            "Epoch 38/1000: 100%|██████████| 90/90 [00:39<00:00,  2.30it/s]\n"
          ]
        },
        {
          "output_type": "stream",
          "name": "stdout",
          "text": [
            "Epoch 38/1000 | Loss: 4.4498 | Masked Acc: 0.4217\n"
          ]
        },
        {
          "output_type": "stream",
          "name": "stderr",
          "text": [
            "Epoch 39/1000: 100%|██████████| 90/90 [00:39<00:00,  2.30it/s]\n"
          ]
        },
        {
          "output_type": "stream",
          "name": "stdout",
          "text": [
            "Epoch 39/1000 | Loss: 4.4537 | Masked Acc: 0.4198\n"
          ]
        },
        {
          "output_type": "stream",
          "name": "stderr",
          "text": [
            "Epoch 40/1000: 100%|██████████| 90/90 [00:39<00:00,  2.30it/s]\n"
          ]
        },
        {
          "output_type": "stream",
          "name": "stdout",
          "text": [
            "Epoch 40/1000 | Loss: 4.4513 | Masked Acc: 0.4198\n"
          ]
        },
        {
          "output_type": "stream",
          "name": "stderr",
          "text": [
            "Epoch 41/1000: 100%|██████████| 90/90 [00:39<00:00,  2.30it/s]\n"
          ]
        },
        {
          "output_type": "stream",
          "name": "stdout",
          "text": [
            "Epoch 41/1000 | Loss: 4.4024 | Masked Acc: 0.4194\n"
          ]
        },
        {
          "output_type": "stream",
          "name": "stderr",
          "text": [
            "Epoch 42/1000: 100%|██████████| 90/90 [00:39<00:00,  2.31it/s]\n"
          ]
        },
        {
          "output_type": "stream",
          "name": "stdout",
          "text": [
            "Epoch 42/1000 | Loss: 4.3658 | Masked Acc: 0.4184\n"
          ]
        },
        {
          "output_type": "stream",
          "name": "stderr",
          "text": [
            "Epoch 43/1000: 100%|██████████| 90/90 [00:39<00:00,  2.31it/s]\n"
          ]
        },
        {
          "output_type": "stream",
          "name": "stdout",
          "text": [
            "Epoch 43/1000 | Loss: 4.3532 | Masked Acc: 0.4198\n"
          ]
        },
        {
          "output_type": "stream",
          "name": "stderr",
          "text": [
            "Epoch 44/1000: 100%|██████████| 90/90 [00:39<00:00,  2.31it/s]\n"
          ]
        },
        {
          "output_type": "stream",
          "name": "stdout",
          "text": [
            "Epoch 44/1000 | Loss: 4.3518 | Masked Acc: 0.4194\n"
          ]
        },
        {
          "output_type": "stream",
          "name": "stderr",
          "text": [
            "Epoch 45/1000: 100%|██████████| 90/90 [00:38<00:00,  2.31it/s]\n"
          ]
        },
        {
          "output_type": "stream",
          "name": "stdout",
          "text": [
            "Epoch 45/1000 | Loss: 4.3406 | Masked Acc: 0.4192\n"
          ]
        },
        {
          "output_type": "stream",
          "name": "stderr",
          "text": [
            "Epoch 46/1000: 100%|██████████| 90/90 [00:39<00:00,  2.30it/s]\n"
          ]
        },
        {
          "output_type": "stream",
          "name": "stdout",
          "text": [
            "Epoch 46/1000 | Loss: 4.3365 | Masked Acc: 0.4182\n"
          ]
        },
        {
          "output_type": "stream",
          "name": "stderr",
          "text": [
            "Epoch 47/1000: 100%|██████████| 90/90 [00:39<00:00,  2.30it/s]\n"
          ]
        },
        {
          "output_type": "stream",
          "name": "stdout",
          "text": [
            "Epoch 47/1000 | Loss: 4.3415 | Masked Acc: 0.4172\n"
          ]
        },
        {
          "output_type": "stream",
          "name": "stderr",
          "text": [
            "Epoch 48/1000: 100%|██████████| 90/90 [00:39<00:00,  2.31it/s]\n"
          ]
        },
        {
          "output_type": "stream",
          "name": "stdout",
          "text": [
            "Epoch 48/1000 | Loss: 4.3262 | Masked Acc: 0.4175\n"
          ]
        },
        {
          "output_type": "stream",
          "name": "stderr",
          "text": [
            "Epoch 49/1000: 100%|██████████| 90/90 [00:39<00:00,  2.30it/s]\n"
          ]
        },
        {
          "output_type": "stream",
          "name": "stdout",
          "text": [
            "Epoch 49/1000 | Loss: 4.3017 | Masked Acc: 0.4164\n"
          ]
        },
        {
          "output_type": "stream",
          "name": "stderr",
          "text": [
            "Epoch 50/1000: 100%|██████████| 90/90 [00:39<00:00,  2.30it/s]\n"
          ]
        },
        {
          "output_type": "stream",
          "name": "stdout",
          "text": [
            "Epoch 50/1000 | Loss: 4.2866 | Masked Acc: 0.4157\n"
          ]
        },
        {
          "output_type": "stream",
          "name": "stderr",
          "text": [
            "Epoch 51/1000: 100%|██████████| 90/90 [00:39<00:00,  2.30it/s]\n"
          ]
        },
        {
          "output_type": "stream",
          "name": "stdout",
          "text": [
            "Epoch 51/1000 | Loss: 4.2618 | Masked Acc: 0.4166\n"
          ]
        },
        {
          "output_type": "stream",
          "name": "stderr",
          "text": [
            "Epoch 52/1000: 100%|██████████| 90/90 [00:39<00:00,  2.30it/s]\n"
          ]
        },
        {
          "output_type": "stream",
          "name": "stdout",
          "text": [
            "Epoch 52/1000 | Loss: 4.2434 | Masked Acc: 0.4194\n"
          ]
        },
        {
          "output_type": "stream",
          "name": "stderr",
          "text": [
            "Epoch 53/1000: 100%|██████████| 90/90 [00:39<00:00,  2.30it/s]\n"
          ]
        },
        {
          "output_type": "stream",
          "name": "stdout",
          "text": [
            "Epoch 53/1000 | Loss: 4.2325 | Masked Acc: 0.4188\n"
          ]
        },
        {
          "output_type": "stream",
          "name": "stderr",
          "text": [
            "Epoch 54/1000: 100%|██████████| 90/90 [00:39<00:00,  2.30it/s]\n"
          ]
        },
        {
          "output_type": "stream",
          "name": "stdout",
          "text": [
            "Epoch 54/1000 | Loss: 4.2341 | Masked Acc: 0.4168\n"
          ]
        },
        {
          "output_type": "stream",
          "name": "stderr",
          "text": [
            "Epoch 55/1000: 100%|██████████| 90/90 [00:39<00:00,  2.30it/s]\n"
          ]
        },
        {
          "output_type": "stream",
          "name": "stdout",
          "text": [
            "Epoch 55/1000 | Loss: 4.2340 | Masked Acc: 0.4159\n"
          ]
        },
        {
          "output_type": "stream",
          "name": "stderr",
          "text": [
            "Epoch 56/1000: 100%|██████████| 90/90 [00:39<00:00,  2.30it/s]\n"
          ]
        },
        {
          "output_type": "stream",
          "name": "stdout",
          "text": [
            "Epoch 56/1000 | Loss: 4.2214 | Masked Acc: 0.4156\n"
          ]
        },
        {
          "output_type": "stream",
          "name": "stderr",
          "text": [
            "Epoch 57/1000: 100%|██████████| 90/90 [00:39<00:00,  2.30it/s]\n"
          ]
        },
        {
          "output_type": "stream",
          "name": "stdout",
          "text": [
            "Epoch 57/1000 | Loss: 4.2162 | Masked Acc: 0.4165\n"
          ]
        },
        {
          "output_type": "stream",
          "name": "stderr",
          "text": [
            "Epoch 58/1000: 100%|██████████| 90/90 [00:39<00:00,  2.29it/s]\n"
          ]
        },
        {
          "output_type": "stream",
          "name": "stdout",
          "text": [
            "Epoch 58/1000 | Loss: 4.1953 | Masked Acc: 0.4189\n"
          ]
        },
        {
          "output_type": "stream",
          "name": "stderr",
          "text": [
            "Epoch 59/1000: 100%|██████████| 90/90 [00:39<00:00,  2.30it/s]\n"
          ]
        },
        {
          "output_type": "stream",
          "name": "stdout",
          "text": [
            "Epoch 59/1000 | Loss: 4.1806 | Masked Acc: 0.4194\n"
          ]
        },
        {
          "output_type": "stream",
          "name": "stderr",
          "text": [
            "Epoch 60/1000: 100%|██████████| 90/90 [00:39<00:00,  2.30it/s]\n"
          ]
        },
        {
          "output_type": "stream",
          "name": "stdout",
          "text": [
            "Epoch 60/1000 | Loss: 4.1789 | Masked Acc: 0.4197\n"
          ]
        },
        {
          "output_type": "stream",
          "name": "stderr",
          "text": [
            "Epoch 61/1000: 100%|██████████| 90/90 [00:39<00:00,  2.29it/s]\n"
          ]
        },
        {
          "output_type": "stream",
          "name": "stdout",
          "text": [
            "Epoch 61/1000 | Loss: 4.1708 | Masked Acc: 0.4191\n"
          ]
        },
        {
          "output_type": "stream",
          "name": "stderr",
          "text": [
            "Epoch 62/1000: 100%|██████████| 90/90 [00:39<00:00,  2.29it/s]\n"
          ]
        },
        {
          "output_type": "stream",
          "name": "stdout",
          "text": [
            "Epoch 62/1000 | Loss: 4.1646 | Masked Acc: 0.4200\n"
          ]
        },
        {
          "output_type": "stream",
          "name": "stderr",
          "text": [
            "Epoch 63/1000: 100%|██████████| 90/90 [00:39<00:00,  2.29it/s]\n"
          ]
        },
        {
          "output_type": "stream",
          "name": "stdout",
          "text": [
            "Epoch 63/1000 | Loss: 4.1551 | Masked Acc: 0.4195\n"
          ]
        },
        {
          "output_type": "stream",
          "name": "stderr",
          "text": [
            "Epoch 64/1000: 100%|██████████| 90/90 [00:39<00:00,  2.29it/s]\n"
          ]
        },
        {
          "output_type": "stream",
          "name": "stdout",
          "text": [
            "Epoch 64/1000 | Loss: 4.1385 | Masked Acc: 0.4210\n"
          ]
        },
        {
          "output_type": "stream",
          "name": "stderr",
          "text": [
            "Epoch 65/1000: 100%|██████████| 90/90 [00:39<00:00,  2.30it/s]\n"
          ]
        },
        {
          "output_type": "stream",
          "name": "stdout",
          "text": [
            "Epoch 65/1000 | Loss: 4.1278 | Masked Acc: 0.4211\n"
          ]
        },
        {
          "output_type": "stream",
          "name": "stderr",
          "text": [
            "Epoch 66/1000: 100%|██████████| 90/90 [00:39<00:00,  2.30it/s]\n"
          ]
        },
        {
          "output_type": "stream",
          "name": "stdout",
          "text": [
            "Epoch 66/1000 | Loss: 4.1271 | Masked Acc: 0.4214\n"
          ]
        },
        {
          "output_type": "stream",
          "name": "stderr",
          "text": [
            "Epoch 67/1000: 100%|██████████| 90/90 [00:39<00:00,  2.29it/s]\n"
          ]
        },
        {
          "output_type": "stream",
          "name": "stdout",
          "text": [
            "Epoch 67/1000 | Loss: 4.1156 | Masked Acc: 0.4207\n"
          ]
        },
        {
          "output_type": "stream",
          "name": "stderr",
          "text": [
            "Epoch 68/1000: 100%|██████████| 90/90 [00:39<00:00,  2.29it/s]\n"
          ]
        },
        {
          "output_type": "stream",
          "name": "stdout",
          "text": [
            "Epoch 68/1000 | Loss: 4.1075 | Masked Acc: 0.4212\n"
          ]
        },
        {
          "output_type": "stream",
          "name": "stderr",
          "text": [
            "Epoch 69/1000: 100%|██████████| 90/90 [00:39<00:00,  2.30it/s]\n"
          ]
        },
        {
          "output_type": "stream",
          "name": "stdout",
          "text": [
            "Epoch 69/1000 | Loss: 4.0984 | Masked Acc: 0.4223\n"
          ]
        },
        {
          "output_type": "stream",
          "name": "stderr",
          "text": [
            "Epoch 70/1000: 100%|██████████| 90/90 [00:39<00:00,  2.30it/s]\n"
          ]
        },
        {
          "output_type": "stream",
          "name": "stdout",
          "text": [
            "Epoch 70/1000 | Loss: 4.0842 | Masked Acc: 0.4229\n"
          ]
        },
        {
          "output_type": "stream",
          "name": "stderr",
          "text": [
            "Epoch 71/1000: 100%|██████████| 90/90 [00:39<00:00,  2.30it/s]\n"
          ]
        },
        {
          "output_type": "stream",
          "name": "stdout",
          "text": [
            "Epoch 71/1000 | Loss: 4.0751 | Masked Acc: 0.4240\n"
          ]
        },
        {
          "output_type": "stream",
          "name": "stderr",
          "text": [
            "Epoch 72/1000: 100%|██████████| 90/90 [00:39<00:00,  2.30it/s]\n"
          ]
        },
        {
          "output_type": "stream",
          "name": "stdout",
          "text": [
            "Epoch 72/1000 | Loss: 4.0652 | Masked Acc: 0.4239\n"
          ]
        },
        {
          "output_type": "stream",
          "name": "stderr",
          "text": [
            "Epoch 73/1000: 100%|██████████| 90/90 [00:39<00:00,  2.30it/s]\n"
          ]
        },
        {
          "output_type": "stream",
          "name": "stdout",
          "text": [
            "Epoch 73/1000 | Loss: 4.0512 | Masked Acc: 0.4252\n"
          ]
        },
        {
          "output_type": "stream",
          "name": "stderr",
          "text": [
            "Epoch 74/1000: 100%|██████████| 90/90 [00:39<00:00,  2.30it/s]\n"
          ]
        },
        {
          "output_type": "stream",
          "name": "stdout",
          "text": [
            "Epoch 74/1000 | Loss: 4.0485 | Masked Acc: 0.4252\n"
          ]
        },
        {
          "output_type": "stream",
          "name": "stderr",
          "text": [
            "Epoch 75/1000: 100%|██████████| 90/90 [00:39<00:00,  2.30it/s]\n"
          ]
        },
        {
          "output_type": "stream",
          "name": "stdout",
          "text": [
            "Epoch 75/1000 | Loss: 4.0434 | Masked Acc: 0.4255\n"
          ]
        },
        {
          "output_type": "stream",
          "name": "stderr",
          "text": [
            "Epoch 76/1000: 100%|██████████| 90/90 [00:39<00:00,  2.30it/s]\n"
          ]
        },
        {
          "output_type": "stream",
          "name": "stdout",
          "text": [
            "Epoch 76/1000 | Loss: 4.0364 | Masked Acc: 0.4252\n"
          ]
        },
        {
          "output_type": "stream",
          "name": "stderr",
          "text": [
            "Epoch 77/1000: 100%|██████████| 90/90 [00:39<00:00,  2.30it/s]\n"
          ]
        },
        {
          "output_type": "stream",
          "name": "stdout",
          "text": [
            "Epoch 77/1000 | Loss: 4.0299 | Masked Acc: 0.4254\n"
          ]
        },
        {
          "output_type": "stream",
          "name": "stderr",
          "text": [
            "Epoch 78/1000: 100%|██████████| 90/90 [00:39<00:00,  2.30it/s]\n"
          ]
        },
        {
          "output_type": "stream",
          "name": "stdout",
          "text": [
            "Epoch 78/1000 | Loss: 4.0262 | Masked Acc: 0.4253\n"
          ]
        },
        {
          "output_type": "stream",
          "name": "stderr",
          "text": [
            "Epoch 79/1000: 100%|██████████| 90/90 [00:39<00:00,  2.29it/s]\n"
          ]
        },
        {
          "output_type": "stream",
          "name": "stdout",
          "text": [
            "Epoch 79/1000 | Loss: 4.0271 | Masked Acc: 0.4256\n"
          ]
        },
        {
          "output_type": "stream",
          "name": "stderr",
          "text": [
            "Epoch 80/1000: 100%|██████████| 90/90 [00:39<00:00,  2.30it/s]\n"
          ]
        },
        {
          "output_type": "stream",
          "name": "stdout",
          "text": [
            "Epoch 80/1000 | Loss: 4.0169 | Masked Acc: 0.4269\n"
          ]
        },
        {
          "output_type": "stream",
          "name": "stderr",
          "text": [
            "Epoch 81/1000: 100%|██████████| 90/90 [00:39<00:00,  2.30it/s]\n"
          ]
        },
        {
          "output_type": "stream",
          "name": "stdout",
          "text": [
            "Epoch 81/1000 | Loss: 3.9987 | Masked Acc: 0.4280\n"
          ]
        },
        {
          "output_type": "stream",
          "name": "stderr",
          "text": [
            "Epoch 82/1000: 100%|██████████| 90/90 [00:39<00:00,  2.29it/s]\n"
          ]
        },
        {
          "output_type": "stream",
          "name": "stdout",
          "text": [
            "Epoch 82/1000 | Loss: 4.0028 | Masked Acc: 0.4276\n"
          ]
        },
        {
          "output_type": "stream",
          "name": "stderr",
          "text": [
            "Epoch 83/1000: 100%|██████████| 90/90 [00:39<00:00,  2.30it/s]\n"
          ]
        },
        {
          "output_type": "stream",
          "name": "stdout",
          "text": [
            "Epoch 83/1000 | Loss: 4.0000 | Masked Acc: 0.4290\n"
          ]
        },
        {
          "output_type": "stream",
          "name": "stderr",
          "text": [
            "Epoch 84/1000: 100%|██████████| 90/90 [00:39<00:00,  2.31it/s]\n"
          ]
        },
        {
          "output_type": "stream",
          "name": "stdout",
          "text": [
            "Epoch 84/1000 | Loss: 3.9873 | Masked Acc: 0.4299\n"
          ]
        },
        {
          "output_type": "stream",
          "name": "stderr",
          "text": [
            "Epoch 85/1000: 100%|██████████| 90/90 [00:39<00:00,  2.30it/s]\n"
          ]
        },
        {
          "output_type": "stream",
          "name": "stdout",
          "text": [
            "Epoch 85/1000 | Loss: 3.9802 | Masked Acc: 0.4313\n"
          ]
        },
        {
          "output_type": "stream",
          "name": "stderr",
          "text": [
            "Epoch 86/1000: 100%|██████████| 90/90 [00:39<00:00,  2.30it/s]\n"
          ]
        },
        {
          "output_type": "stream",
          "name": "stdout",
          "text": [
            "Epoch 86/1000 | Loss: 3.9858 | Masked Acc: 0.4297\n"
          ]
        },
        {
          "output_type": "stream",
          "name": "stderr",
          "text": [
            "Epoch 87/1000: 100%|██████████| 90/90 [00:39<00:00,  2.29it/s]\n"
          ]
        },
        {
          "output_type": "stream",
          "name": "stdout",
          "text": [
            "Epoch 87/1000 | Loss: 3.9735 | Masked Acc: 0.4312\n"
          ]
        },
        {
          "output_type": "stream",
          "name": "stderr",
          "text": [
            "Epoch 88/1000: 100%|██████████| 90/90 [00:39<00:00,  2.29it/s]\n"
          ]
        },
        {
          "output_type": "stream",
          "name": "stdout",
          "text": [
            "Epoch 88/1000 | Loss: 3.9747 | Masked Acc: 0.4308\n"
          ]
        },
        {
          "output_type": "stream",
          "name": "stderr",
          "text": [
            "Epoch 89/1000: 100%|██████████| 90/90 [00:39<00:00,  2.29it/s]\n"
          ]
        },
        {
          "output_type": "stream",
          "name": "stdout",
          "text": [
            "Epoch 89/1000 | Loss: 3.9705 | Masked Acc: 0.4325\n"
          ]
        },
        {
          "output_type": "stream",
          "name": "stderr",
          "text": [
            "Epoch 90/1000: 100%|██████████| 90/90 [00:39<00:00,  2.29it/s]\n"
          ]
        },
        {
          "output_type": "stream",
          "name": "stdout",
          "text": [
            "Epoch 90/1000 | Loss: 3.9759 | Masked Acc: 0.4309\n"
          ]
        },
        {
          "output_type": "stream",
          "name": "stderr",
          "text": [
            "Epoch 91/1000: 100%|██████████| 90/90 [00:39<00:00,  2.28it/s]\n"
          ]
        },
        {
          "output_type": "stream",
          "name": "stdout",
          "text": [
            "Epoch 91/1000 | Loss: 3.9587 | Masked Acc: 0.4338\n"
          ]
        },
        {
          "output_type": "stream",
          "name": "stderr",
          "text": [
            "Epoch 92/1000: 100%|██████████| 90/90 [00:40<00:00,  2.25it/s]\n"
          ]
        },
        {
          "output_type": "stream",
          "name": "stdout",
          "text": [
            "Epoch 92/1000 | Loss: 3.9612 | Masked Acc: 0.4338\n"
          ]
        },
        {
          "output_type": "stream",
          "name": "stderr",
          "text": [
            "Epoch 93/1000: 100%|██████████| 90/90 [00:39<00:00,  2.28it/s]\n"
          ]
        },
        {
          "output_type": "stream",
          "name": "stdout",
          "text": [
            "Epoch 93/1000 | Loss: 3.9624 | Masked Acc: 0.4331\n"
          ]
        },
        {
          "output_type": "stream",
          "name": "stderr",
          "text": [
            "Epoch 94/1000: 100%|██████████| 90/90 [00:39<00:00,  2.28it/s]\n"
          ]
        },
        {
          "output_type": "stream",
          "name": "stdout",
          "text": [
            "Epoch 94/1000 | Loss: 3.9575 | Masked Acc: 0.4336\n"
          ]
        },
        {
          "output_type": "stream",
          "name": "stderr",
          "text": [
            "Epoch 95/1000: 100%|██████████| 90/90 [00:39<00:00,  2.29it/s]\n"
          ]
        },
        {
          "output_type": "stream",
          "name": "stdout",
          "text": [
            "Epoch 95/1000 | Loss: 3.9490 | Masked Acc: 0.4358\n"
          ]
        },
        {
          "output_type": "stream",
          "name": "stderr",
          "text": [
            "Epoch 96/1000: 100%|██████████| 90/90 [00:39<00:00,  2.29it/s]\n"
          ]
        },
        {
          "output_type": "stream",
          "name": "stdout",
          "text": [
            "Epoch 96/1000 | Loss: 3.9513 | Masked Acc: 0.4357\n"
          ]
        },
        {
          "output_type": "stream",
          "name": "stderr",
          "text": [
            "Epoch 97/1000: 100%|██████████| 90/90 [00:39<00:00,  2.29it/s]\n"
          ]
        },
        {
          "output_type": "stream",
          "name": "stdout",
          "text": [
            "Epoch 97/1000 | Loss: 3.9458 | Masked Acc: 0.4362\n"
          ]
        },
        {
          "output_type": "stream",
          "name": "stderr",
          "text": [
            "Epoch 98/1000: 100%|██████████| 90/90 [00:39<00:00,  2.29it/s]\n"
          ]
        },
        {
          "output_type": "stream",
          "name": "stdout",
          "text": [
            "Epoch 98/1000 | Loss: 3.9486 | Masked Acc: 0.4353\n"
          ]
        },
        {
          "output_type": "stream",
          "name": "stderr",
          "text": [
            "Epoch 99/1000: 100%|██████████| 90/90 [00:39<00:00,  2.29it/s]\n"
          ]
        },
        {
          "output_type": "stream",
          "name": "stdout",
          "text": [
            "Epoch 99/1000 | Loss: 3.9510 | Masked Acc: 0.4341\n"
          ]
        },
        {
          "output_type": "stream",
          "name": "stderr",
          "text": [
            "Epoch 100/1000: 100%|██████████| 90/90 [00:39<00:00,  2.29it/s]\n"
          ]
        },
        {
          "output_type": "stream",
          "name": "stdout",
          "text": [
            "Epoch 100/1000 | Loss: 3.9460 | Masked Acc: 0.4357\n",
            "Saved model at epoch 100\n"
          ]
        },
        {
          "output_type": "stream",
          "name": "stderr",
          "text": [
            "Epoch 101/1000: 100%|██████████| 90/90 [00:39<00:00,  2.29it/s]\n"
          ]
        },
        {
          "output_type": "stream",
          "name": "stdout",
          "text": [
            "Epoch 101/1000 | Loss: 3.9379 | Masked Acc: 0.4364\n"
          ]
        },
        {
          "output_type": "stream",
          "name": "stderr",
          "text": [
            "Epoch 102/1000: 100%|██████████| 90/90 [00:39<00:00,  2.30it/s]\n"
          ]
        },
        {
          "output_type": "stream",
          "name": "stdout",
          "text": [
            "Epoch 102/1000 | Loss: 3.9328 | Masked Acc: 0.4366\n"
          ]
        },
        {
          "output_type": "stream",
          "name": "stderr",
          "text": [
            "Epoch 103/1000: 100%|██████████| 90/90 [00:39<00:00,  2.30it/s]\n"
          ]
        },
        {
          "output_type": "stream",
          "name": "stdout",
          "text": [
            "Epoch 103/1000 | Loss: 3.9373 | Masked Acc: 0.4365\n"
          ]
        },
        {
          "output_type": "stream",
          "name": "stderr",
          "text": [
            "Epoch 104/1000: 100%|██████████| 90/90 [00:39<00:00,  2.29it/s]\n"
          ]
        },
        {
          "output_type": "stream",
          "name": "stdout",
          "text": [
            "Epoch 104/1000 | Loss: 3.9285 | Masked Acc: 0.4368\n"
          ]
        },
        {
          "output_type": "stream",
          "name": "stderr",
          "text": [
            "Epoch 105/1000: 100%|██████████| 90/90 [00:39<00:00,  2.29it/s]\n"
          ]
        },
        {
          "output_type": "stream",
          "name": "stdout",
          "text": [
            "Epoch 105/1000 | Loss: 3.9367 | Masked Acc: 0.4355\n"
          ]
        },
        {
          "output_type": "stream",
          "name": "stderr",
          "text": [
            "Epoch 106/1000: 100%|██████████| 90/90 [00:39<00:00,  2.30it/s]\n"
          ]
        },
        {
          "output_type": "stream",
          "name": "stdout",
          "text": [
            "Epoch 106/1000 | Loss: 3.9256 | Masked Acc: 0.4381\n"
          ]
        },
        {
          "output_type": "stream",
          "name": "stderr",
          "text": [
            "Epoch 107/1000: 100%|██████████| 90/90 [00:39<00:00,  2.30it/s]\n"
          ]
        },
        {
          "output_type": "stream",
          "name": "stdout",
          "text": [
            "Epoch 107/1000 | Loss: 3.9251 | Masked Acc: 0.4380\n"
          ]
        },
        {
          "output_type": "stream",
          "name": "stderr",
          "text": [
            "Epoch 108/1000: 100%|██████████| 90/90 [00:39<00:00,  2.29it/s]\n"
          ]
        },
        {
          "output_type": "stream",
          "name": "stdout",
          "text": [
            "Epoch 108/1000 | Loss: 3.9266 | Masked Acc: 0.4375\n"
          ]
        },
        {
          "output_type": "stream",
          "name": "stderr",
          "text": [
            "Epoch 109/1000: 100%|██████████| 90/90 [00:39<00:00,  2.29it/s]\n"
          ]
        },
        {
          "output_type": "stream",
          "name": "stdout",
          "text": [
            "Epoch 109/1000 | Loss: 3.9216 | Masked Acc: 0.4380\n"
          ]
        },
        {
          "output_type": "stream",
          "name": "stderr",
          "text": [
            "Epoch 110/1000: 100%|██████████| 90/90 [00:39<00:00,  2.29it/s]\n"
          ]
        },
        {
          "output_type": "stream",
          "name": "stdout",
          "text": [
            "Epoch 110/1000 | Loss: 3.9257 | Masked Acc: 0.4371\n"
          ]
        },
        {
          "output_type": "stream",
          "name": "stderr",
          "text": [
            "Epoch 111/1000: 100%|██████████| 90/90 [00:39<00:00,  2.29it/s]\n"
          ]
        },
        {
          "output_type": "stream",
          "name": "stdout",
          "text": [
            "Epoch 111/1000 | Loss: 3.9192 | Masked Acc: 0.4392\n"
          ]
        },
        {
          "output_type": "stream",
          "name": "stderr",
          "text": [
            "Epoch 112/1000: 100%|██████████| 90/90 [00:39<00:00,  2.28it/s]\n"
          ]
        },
        {
          "output_type": "stream",
          "name": "stdout",
          "text": [
            "Epoch 112/1000 | Loss: 3.9130 | Masked Acc: 0.4381\n"
          ]
        },
        {
          "output_type": "stream",
          "name": "stderr",
          "text": [
            "Epoch 113/1000: 100%|██████████| 90/90 [00:39<00:00,  2.29it/s]\n"
          ]
        },
        {
          "output_type": "stream",
          "name": "stdout",
          "text": [
            "Epoch 113/1000 | Loss: 3.9096 | Masked Acc: 0.4385\n"
          ]
        },
        {
          "output_type": "stream",
          "name": "stderr",
          "text": [
            "Epoch 114/1000: 100%|██████████| 90/90 [00:39<00:00,  2.29it/s]\n"
          ]
        },
        {
          "output_type": "stream",
          "name": "stdout",
          "text": [
            "Epoch 114/1000 | Loss: 3.9063 | Masked Acc: 0.4385\n"
          ]
        },
        {
          "output_type": "stream",
          "name": "stderr",
          "text": [
            "Epoch 115/1000: 100%|██████████| 90/90 [00:39<00:00,  2.29it/s]\n"
          ]
        },
        {
          "output_type": "stream",
          "name": "stdout",
          "text": [
            "Epoch 115/1000 | Loss: 3.9101 | Masked Acc: 0.4381\n"
          ]
        },
        {
          "output_type": "stream",
          "name": "stderr",
          "text": [
            "Epoch 116/1000: 100%|██████████| 90/90 [00:39<00:00,  2.29it/s]\n"
          ]
        },
        {
          "output_type": "stream",
          "name": "stdout",
          "text": [
            "Epoch 116/1000 | Loss: 3.9054 | Masked Acc: 0.4386\n"
          ]
        },
        {
          "output_type": "stream",
          "name": "stderr",
          "text": [
            "Epoch 117/1000: 100%|██████████| 90/90 [00:39<00:00,  2.28it/s]\n"
          ]
        },
        {
          "output_type": "stream",
          "name": "stdout",
          "text": [
            "Epoch 117/1000 | Loss: 3.9097 | Masked Acc: 0.4383\n"
          ]
        },
        {
          "output_type": "stream",
          "name": "stderr",
          "text": [
            "Epoch 118/1000: 100%|██████████| 90/90 [00:39<00:00,  2.29it/s]\n"
          ]
        },
        {
          "output_type": "stream",
          "name": "stdout",
          "text": [
            "Epoch 118/1000 | Loss: 3.9036 | Masked Acc: 0.4391\n"
          ]
        },
        {
          "output_type": "stream",
          "name": "stderr",
          "text": [
            "Epoch 119/1000: 100%|██████████| 90/90 [00:39<00:00,  2.28it/s]\n"
          ]
        },
        {
          "output_type": "stream",
          "name": "stdout",
          "text": [
            "Epoch 119/1000 | Loss: 3.8969 | Masked Acc: 0.4401\n"
          ]
        },
        {
          "output_type": "stream",
          "name": "stderr",
          "text": [
            "Epoch 120/1000: 100%|██████████| 90/90 [00:39<00:00,  2.28it/s]\n"
          ]
        },
        {
          "output_type": "stream",
          "name": "stdout",
          "text": [
            "Epoch 120/1000 | Loss: 3.9016 | Masked Acc: 0.4389\n"
          ]
        },
        {
          "output_type": "stream",
          "name": "stderr",
          "text": [
            "Epoch 121/1000: 100%|██████████| 90/90 [00:39<00:00,  2.29it/s]\n"
          ]
        },
        {
          "output_type": "stream",
          "name": "stdout",
          "text": [
            "Epoch 121/1000 | Loss: 3.8949 | Masked Acc: 0.4391\n"
          ]
        },
        {
          "output_type": "stream",
          "name": "stderr",
          "text": [
            "Epoch 122/1000: 100%|██████████| 90/90 [00:39<00:00,  2.30it/s]\n"
          ]
        },
        {
          "output_type": "stream",
          "name": "stdout",
          "text": [
            "Epoch 122/1000 | Loss: 3.8988 | Masked Acc: 0.4384\n"
          ]
        },
        {
          "output_type": "stream",
          "name": "stderr",
          "text": [
            "Epoch 123/1000: 100%|██████████| 90/90 [00:39<00:00,  2.29it/s]\n"
          ]
        },
        {
          "output_type": "stream",
          "name": "stdout",
          "text": [
            "Epoch 123/1000 | Loss: 3.8898 | Masked Acc: 0.4399\n"
          ]
        },
        {
          "output_type": "stream",
          "name": "stderr",
          "text": [
            "Epoch 124/1000: 100%|██████████| 90/90 [00:39<00:00,  2.29it/s]\n"
          ]
        },
        {
          "output_type": "stream",
          "name": "stdout",
          "text": [
            "Epoch 124/1000 | Loss: 3.8955 | Masked Acc: 0.4389\n"
          ]
        },
        {
          "output_type": "stream",
          "name": "stderr",
          "text": [
            "Epoch 125/1000: 100%|██████████| 90/90 [00:39<00:00,  2.29it/s]\n"
          ]
        },
        {
          "output_type": "stream",
          "name": "stdout",
          "text": [
            "Epoch 125/1000 | Loss: 3.8886 | Masked Acc: 0.4401\n"
          ]
        },
        {
          "output_type": "stream",
          "name": "stderr",
          "text": [
            "Epoch 126/1000: 100%|██████████| 90/90 [00:39<00:00,  2.29it/s]\n"
          ]
        },
        {
          "output_type": "stream",
          "name": "stdout",
          "text": [
            "Epoch 126/1000 | Loss: 3.8873 | Masked Acc: 0.4395\n"
          ]
        },
        {
          "output_type": "stream",
          "name": "stderr",
          "text": [
            "Epoch 127/1000: 100%|██████████| 90/90 [00:39<00:00,  2.30it/s]\n"
          ]
        },
        {
          "output_type": "stream",
          "name": "stdout",
          "text": [
            "Epoch 127/1000 | Loss: 3.8872 | Masked Acc: 0.4403\n"
          ]
        },
        {
          "output_type": "stream",
          "name": "stderr",
          "text": [
            "Epoch 128/1000: 100%|██████████| 90/90 [00:39<00:00,  2.30it/s]\n"
          ]
        },
        {
          "output_type": "stream",
          "name": "stdout",
          "text": [
            "Epoch 128/1000 | Loss: 3.8928 | Masked Acc: 0.4387\n"
          ]
        },
        {
          "output_type": "stream",
          "name": "stderr",
          "text": [
            "Epoch 129/1000: 100%|██████████| 90/90 [00:39<00:00,  2.29it/s]\n"
          ]
        },
        {
          "output_type": "stream",
          "name": "stdout",
          "text": [
            "Epoch 129/1000 | Loss: 3.8850 | Masked Acc: 0.4411\n"
          ]
        },
        {
          "output_type": "stream",
          "name": "stderr",
          "text": [
            "Epoch 130/1000: 100%|██████████| 90/90 [00:39<00:00,  2.29it/s]\n"
          ]
        },
        {
          "output_type": "stream",
          "name": "stdout",
          "text": [
            "Epoch 130/1000 | Loss: 3.8849 | Masked Acc: 0.4405\n"
          ]
        },
        {
          "output_type": "stream",
          "name": "stderr",
          "text": [
            "Epoch 131/1000: 100%|██████████| 90/90 [00:39<00:00,  2.29it/s]\n"
          ]
        },
        {
          "output_type": "stream",
          "name": "stdout",
          "text": [
            "Epoch 131/1000 | Loss: 3.8794 | Masked Acc: 0.4404\n"
          ]
        },
        {
          "output_type": "stream",
          "name": "stderr",
          "text": [
            "Epoch 132/1000: 100%|██████████| 90/90 [00:39<00:00,  2.28it/s]\n"
          ]
        },
        {
          "output_type": "stream",
          "name": "stdout",
          "text": [
            "Epoch 132/1000 | Loss: 3.8805 | Masked Acc: 0.4404\n"
          ]
        },
        {
          "output_type": "stream",
          "name": "stderr",
          "text": [
            "Epoch 133/1000: 100%|██████████| 90/90 [00:39<00:00,  2.28it/s]\n"
          ]
        },
        {
          "output_type": "stream",
          "name": "stdout",
          "text": [
            "Epoch 133/1000 | Loss: 3.8728 | Masked Acc: 0.4415\n"
          ]
        },
        {
          "output_type": "stream",
          "name": "stderr",
          "text": [
            "Epoch 134/1000: 100%|██████████| 90/90 [00:39<00:00,  2.28it/s]\n"
          ]
        },
        {
          "output_type": "stream",
          "name": "stdout",
          "text": [
            "Epoch 134/1000 | Loss: 3.8800 | Masked Acc: 0.4408\n"
          ]
        },
        {
          "output_type": "stream",
          "name": "stderr",
          "text": [
            "Epoch 135/1000: 100%|██████████| 90/90 [00:39<00:00,  2.28it/s]\n"
          ]
        },
        {
          "output_type": "stream",
          "name": "stdout",
          "text": [
            "Epoch 135/1000 | Loss: 3.8765 | Masked Acc: 0.4410\n"
          ]
        },
        {
          "output_type": "stream",
          "name": "stderr",
          "text": [
            "Epoch 136/1000: 100%|██████████| 90/90 [00:39<00:00,  2.28it/s]\n"
          ]
        },
        {
          "output_type": "stream",
          "name": "stdout",
          "text": [
            "Epoch 136/1000 | Loss: 3.8716 | Masked Acc: 0.4415\n"
          ]
        },
        {
          "output_type": "stream",
          "name": "stderr",
          "text": [
            "Epoch 137/1000: 100%|██████████| 90/90 [00:39<00:00,  2.28it/s]\n"
          ]
        },
        {
          "output_type": "stream",
          "name": "stdout",
          "text": [
            "Epoch 137/1000 | Loss: 3.8671 | Masked Acc: 0.4416\n"
          ]
        },
        {
          "output_type": "stream",
          "name": "stderr",
          "text": [
            "Epoch 138/1000: 100%|██████████| 90/90 [00:39<00:00,  2.28it/s]\n"
          ]
        },
        {
          "output_type": "stream",
          "name": "stdout",
          "text": [
            "Epoch 138/1000 | Loss: 3.8658 | Masked Acc: 0.4418\n"
          ]
        },
        {
          "output_type": "stream",
          "name": "stderr",
          "text": [
            "Epoch 139/1000: 100%|██████████| 90/90 [00:39<00:00,  2.28it/s]\n"
          ]
        },
        {
          "output_type": "stream",
          "name": "stdout",
          "text": [
            "Epoch 139/1000 | Loss: 3.8596 | Masked Acc: 0.4429\n"
          ]
        },
        {
          "output_type": "stream",
          "name": "stderr",
          "text": [
            "Epoch 140/1000: 100%|██████████| 90/90 [00:39<00:00,  2.28it/s]\n"
          ]
        },
        {
          "output_type": "stream",
          "name": "stdout",
          "text": [
            "Epoch 140/1000 | Loss: 3.8691 | Masked Acc: 0.4414\n"
          ]
        },
        {
          "output_type": "stream",
          "name": "stderr",
          "text": [
            "Epoch 141/1000: 100%|██████████| 90/90 [00:39<00:00,  2.29it/s]\n"
          ]
        },
        {
          "output_type": "stream",
          "name": "stdout",
          "text": [
            "Epoch 141/1000 | Loss: 3.8660 | Masked Acc: 0.4418\n"
          ]
        },
        {
          "output_type": "stream",
          "name": "stderr",
          "text": [
            "Epoch 142/1000: 100%|██████████| 90/90 [00:39<00:00,  2.29it/s]\n"
          ]
        },
        {
          "output_type": "stream",
          "name": "stdout",
          "text": [
            "Epoch 142/1000 | Loss: 3.8653 | Masked Acc: 0.4414\n"
          ]
        },
        {
          "output_type": "stream",
          "name": "stderr",
          "text": [
            "Epoch 143/1000: 100%|██████████| 90/90 [00:39<00:00,  2.29it/s]\n"
          ]
        },
        {
          "output_type": "stream",
          "name": "stdout",
          "text": [
            "Epoch 143/1000 | Loss: 3.8637 | Masked Acc: 0.4409\n"
          ]
        },
        {
          "output_type": "stream",
          "name": "stderr",
          "text": [
            "Epoch 144/1000: 100%|██████████| 90/90 [00:39<00:00,  2.29it/s]\n"
          ]
        },
        {
          "output_type": "stream",
          "name": "stdout",
          "text": [
            "Epoch 144/1000 | Loss: 3.8651 | Masked Acc: 0.4419\n"
          ]
        },
        {
          "output_type": "stream",
          "name": "stderr",
          "text": [
            "Epoch 145/1000: 100%|██████████| 90/90 [00:39<00:00,  2.29it/s]\n"
          ]
        },
        {
          "output_type": "stream",
          "name": "stdout",
          "text": [
            "Epoch 145/1000 | Loss: 3.8663 | Masked Acc: 0.4416\n"
          ]
        },
        {
          "output_type": "stream",
          "name": "stderr",
          "text": [
            "Epoch 146/1000: 100%|██████████| 90/90 [00:39<00:00,  2.29it/s]\n"
          ]
        },
        {
          "output_type": "stream",
          "name": "stdout",
          "text": [
            "Epoch 146/1000 | Loss: 3.8589 | Masked Acc: 0.4417\n"
          ]
        },
        {
          "output_type": "stream",
          "name": "stderr",
          "text": [
            "Epoch 147/1000: 100%|██████████| 90/90 [00:39<00:00,  2.29it/s]\n"
          ]
        },
        {
          "output_type": "stream",
          "name": "stdout",
          "text": [
            "Epoch 147/1000 | Loss: 3.8588 | Masked Acc: 0.4422\n"
          ]
        },
        {
          "output_type": "stream",
          "name": "stderr",
          "text": [
            "Epoch 148/1000: 100%|██████████| 90/90 [00:39<00:00,  2.29it/s]\n"
          ]
        },
        {
          "output_type": "stream",
          "name": "stdout",
          "text": [
            "Epoch 148/1000 | Loss: 3.8596 | Masked Acc: 0.4417\n"
          ]
        },
        {
          "output_type": "stream",
          "name": "stderr",
          "text": [
            "Epoch 149/1000: 100%|██████████| 90/90 [00:39<00:00,  2.29it/s]\n"
          ]
        },
        {
          "output_type": "stream",
          "name": "stdout",
          "text": [
            "Epoch 149/1000 | Loss: 3.8576 | Masked Acc: 0.4416\n"
          ]
        },
        {
          "output_type": "stream",
          "name": "stderr",
          "text": [
            "Epoch 150/1000: 100%|██████████| 90/90 [00:39<00:00,  2.29it/s]\n"
          ]
        },
        {
          "output_type": "stream",
          "name": "stdout",
          "text": [
            "Epoch 150/1000 | Loss: 3.8566 | Masked Acc: 0.4415\n"
          ]
        },
        {
          "output_type": "stream",
          "name": "stderr",
          "text": [
            "Epoch 151/1000: 100%|██████████| 90/90 [00:39<00:00,  2.28it/s]\n"
          ]
        },
        {
          "output_type": "stream",
          "name": "stdout",
          "text": [
            "Epoch 151/1000 | Loss: 3.8561 | Masked Acc: 0.4414\n"
          ]
        },
        {
          "output_type": "stream",
          "name": "stderr",
          "text": [
            "Epoch 152/1000: 100%|██████████| 90/90 [00:39<00:00,  2.29it/s]\n"
          ]
        },
        {
          "output_type": "stream",
          "name": "stdout",
          "text": [
            "Epoch 152/1000 | Loss: 3.8529 | Masked Acc: 0.4419\n"
          ]
        },
        {
          "output_type": "stream",
          "name": "stderr",
          "text": [
            "Epoch 153/1000: 100%|██████████| 90/90 [00:39<00:00,  2.28it/s]\n"
          ]
        },
        {
          "output_type": "stream",
          "name": "stdout",
          "text": [
            "Epoch 153/1000 | Loss: 3.8551 | Masked Acc: 0.4420\n"
          ]
        },
        {
          "output_type": "stream",
          "name": "stderr",
          "text": [
            "Epoch 154/1000: 100%|██████████| 90/90 [00:39<00:00,  2.29it/s]\n"
          ]
        },
        {
          "output_type": "stream",
          "name": "stdout",
          "text": [
            "Epoch 154/1000 | Loss: 3.8489 | Masked Acc: 0.4426\n"
          ]
        },
        {
          "output_type": "stream",
          "name": "stderr",
          "text": [
            "Epoch 155/1000: 100%|██████████| 90/90 [00:39<00:00,  2.29it/s]\n"
          ]
        },
        {
          "output_type": "stream",
          "name": "stdout",
          "text": [
            "Epoch 155/1000 | Loss: 3.8553 | Masked Acc: 0.4422\n"
          ]
        },
        {
          "output_type": "stream",
          "name": "stderr",
          "text": [
            "Epoch 156/1000: 100%|██████████| 90/90 [00:39<00:00,  2.28it/s]\n"
          ]
        },
        {
          "output_type": "stream",
          "name": "stdout",
          "text": [
            "Epoch 156/1000 | Loss: 3.8554 | Masked Acc: 0.4414\n"
          ]
        },
        {
          "output_type": "stream",
          "name": "stderr",
          "text": [
            "Epoch 157/1000: 100%|██████████| 90/90 [00:39<00:00,  2.28it/s]\n"
          ]
        },
        {
          "output_type": "stream",
          "name": "stdout",
          "text": [
            "Epoch 157/1000 | Loss: 3.8557 | Masked Acc: 0.4413\n"
          ]
        },
        {
          "output_type": "stream",
          "name": "stderr",
          "text": [
            "Epoch 158/1000: 100%|██████████| 90/90 [00:39<00:00,  2.28it/s]\n"
          ]
        },
        {
          "output_type": "stream",
          "name": "stdout",
          "text": [
            "Epoch 158/1000 | Loss: 3.8547 | Masked Acc: 0.4417\n"
          ]
        },
        {
          "output_type": "stream",
          "name": "stderr",
          "text": [
            "Epoch 159/1000: 100%|██████████| 90/90 [00:39<00:00,  2.28it/s]\n"
          ]
        },
        {
          "output_type": "stream",
          "name": "stdout",
          "text": [
            "Epoch 159/1000 | Loss: 3.8603 | Masked Acc: 0.4406\n"
          ]
        },
        {
          "output_type": "stream",
          "name": "stderr",
          "text": [
            "Epoch 160/1000: 100%|██████████| 90/90 [00:39<00:00,  2.28it/s]\n"
          ]
        },
        {
          "output_type": "stream",
          "name": "stdout",
          "text": [
            "Epoch 160/1000 | Loss: 3.8483 | Masked Acc: 0.4430\n"
          ]
        },
        {
          "output_type": "stream",
          "name": "stderr",
          "text": [
            "Epoch 161/1000: 100%|██████████| 90/90 [00:39<00:00,  2.30it/s]\n"
          ]
        },
        {
          "output_type": "stream",
          "name": "stdout",
          "text": [
            "Epoch 161/1000 | Loss: 3.8475 | Masked Acc: 0.4420\n"
          ]
        },
        {
          "output_type": "stream",
          "name": "stderr",
          "text": [
            "Epoch 162/1000: 100%|██████████| 90/90 [00:39<00:00,  2.29it/s]\n"
          ]
        },
        {
          "output_type": "stream",
          "name": "stdout",
          "text": [
            "Epoch 162/1000 | Loss: 3.8577 | Masked Acc: 0.4401\n"
          ]
        },
        {
          "output_type": "stream",
          "name": "stderr",
          "text": [
            "Epoch 163/1000: 100%|██████████| 90/90 [00:39<00:00,  2.29it/s]\n"
          ]
        },
        {
          "output_type": "stream",
          "name": "stdout",
          "text": [
            "Epoch 163/1000 | Loss: 3.8565 | Masked Acc: 0.4413\n"
          ]
        },
        {
          "output_type": "stream",
          "name": "stderr",
          "text": [
            "Epoch 164/1000: 100%|██████████| 90/90 [00:39<00:00,  2.28it/s]\n"
          ]
        },
        {
          "output_type": "stream",
          "name": "stdout",
          "text": [
            "Epoch 164/1000 | Loss: 3.8522 | Masked Acc: 0.4413\n"
          ]
        },
        {
          "output_type": "stream",
          "name": "stderr",
          "text": [
            "Epoch 165/1000: 100%|██████████| 90/90 [00:39<00:00,  2.29it/s]\n"
          ]
        },
        {
          "output_type": "stream",
          "name": "stdout",
          "text": [
            "Epoch 165/1000 | Loss: 3.8493 | Masked Acc: 0.4422\n"
          ]
        },
        {
          "output_type": "stream",
          "name": "stderr",
          "text": [
            "Epoch 166/1000: 100%|██████████| 90/90 [00:39<00:00,  2.29it/s]\n"
          ]
        },
        {
          "output_type": "stream",
          "name": "stdout",
          "text": [
            "Epoch 166/1000 | Loss: 3.8514 | Masked Acc: 0.4411\n"
          ]
        },
        {
          "output_type": "stream",
          "name": "stderr",
          "text": [
            "Epoch 167/1000: 100%|██████████| 90/90 [00:39<00:00,  2.29it/s]\n"
          ]
        },
        {
          "output_type": "stream",
          "name": "stdout",
          "text": [
            "Epoch 167/1000 | Loss: 3.8412 | Masked Acc: 0.4438\n"
          ]
        },
        {
          "output_type": "stream",
          "name": "stderr",
          "text": [
            "Epoch 168/1000: 100%|██████████| 90/90 [00:39<00:00,  2.29it/s]\n"
          ]
        },
        {
          "output_type": "stream",
          "name": "stdout",
          "text": [
            "Epoch 168/1000 | Loss: 3.8480 | Masked Acc: 0.4430\n"
          ]
        },
        {
          "output_type": "stream",
          "name": "stderr",
          "text": [
            "Epoch 169/1000: 100%|██████████| 90/90 [00:39<00:00,  2.29it/s]\n"
          ]
        },
        {
          "output_type": "stream",
          "name": "stdout",
          "text": [
            "Epoch 169/1000 | Loss: 3.8505 | Masked Acc: 0.4416\n"
          ]
        },
        {
          "output_type": "stream",
          "name": "stderr",
          "text": [
            "Epoch 170/1000: 100%|██████████| 90/90 [00:39<00:00,  2.28it/s]\n"
          ]
        },
        {
          "output_type": "stream",
          "name": "stdout",
          "text": [
            "Epoch 170/1000 | Loss: 3.8563 | Masked Acc: 0.4407\n"
          ]
        },
        {
          "output_type": "stream",
          "name": "stderr",
          "text": [
            "Epoch 171/1000: 100%|██████████| 90/90 [00:39<00:00,  2.28it/s]\n"
          ]
        },
        {
          "output_type": "stream",
          "name": "stdout",
          "text": [
            "Epoch 171/1000 | Loss: 3.8523 | Masked Acc: 0.4409\n"
          ]
        },
        {
          "output_type": "stream",
          "name": "stderr",
          "text": [
            "Epoch 172/1000: 100%|██████████| 90/90 [00:39<00:00,  2.28it/s]\n"
          ]
        },
        {
          "output_type": "stream",
          "name": "stdout",
          "text": [
            "Epoch 172/1000 | Loss: 3.8542 | Masked Acc: 0.4408\n"
          ]
        },
        {
          "output_type": "stream",
          "name": "stderr",
          "text": [
            "Epoch 173/1000: 100%|██████████| 90/90 [00:39<00:00,  2.28it/s]\n"
          ]
        },
        {
          "output_type": "stream",
          "name": "stdout",
          "text": [
            "Epoch 173/1000 | Loss: 3.8509 | Masked Acc: 0.4416\n"
          ]
        },
        {
          "output_type": "stream",
          "name": "stderr",
          "text": [
            "Epoch 174/1000: 100%|██████████| 90/90 [00:39<00:00,  2.28it/s]\n"
          ]
        },
        {
          "output_type": "stream",
          "name": "stdout",
          "text": [
            "Epoch 174/1000 | Loss: 3.8518 | Masked Acc: 0.4411\n"
          ]
        },
        {
          "output_type": "stream",
          "name": "stderr",
          "text": [
            "Epoch 175/1000: 100%|██████████| 90/90 [00:39<00:00,  2.28it/s]\n"
          ]
        },
        {
          "output_type": "stream",
          "name": "stdout",
          "text": [
            "Epoch 175/1000 | Loss: 3.8507 | Masked Acc: 0.4411\n"
          ]
        },
        {
          "output_type": "stream",
          "name": "stderr",
          "text": [
            "Epoch 176/1000: 100%|██████████| 90/90 [00:39<00:00,  2.28it/s]\n"
          ]
        },
        {
          "output_type": "stream",
          "name": "stdout",
          "text": [
            "Epoch 176/1000 | Loss: 3.8544 | Masked Acc: 0.4410\n"
          ]
        },
        {
          "output_type": "stream",
          "name": "stderr",
          "text": [
            "Epoch 177/1000: 100%|██████████| 90/90 [00:39<00:00,  2.28it/s]\n"
          ]
        },
        {
          "output_type": "stream",
          "name": "stdout",
          "text": [
            "Epoch 177/1000 | Loss: 3.8500 | Masked Acc: 0.4423\n"
          ]
        },
        {
          "output_type": "stream",
          "name": "stderr",
          "text": [
            "Epoch 178/1000: 100%|██████████| 90/90 [00:39<00:00,  2.27it/s]\n"
          ]
        },
        {
          "output_type": "stream",
          "name": "stdout",
          "text": [
            "Epoch 178/1000 | Loss: 3.8530 | Masked Acc: 0.4409\n"
          ]
        },
        {
          "output_type": "stream",
          "name": "stderr",
          "text": [
            "Epoch 179/1000: 100%|██████████| 90/90 [00:39<00:00,  2.28it/s]\n"
          ]
        },
        {
          "output_type": "stream",
          "name": "stdout",
          "text": [
            "Epoch 179/1000 | Loss: 3.8576 | Masked Acc: 0.4398\n"
          ]
        },
        {
          "output_type": "stream",
          "name": "stderr",
          "text": [
            "Epoch 180/1000: 100%|██████████| 90/90 [00:39<00:00,  2.28it/s]\n"
          ]
        },
        {
          "output_type": "stream",
          "name": "stdout",
          "text": [
            "Epoch 180/1000 | Loss: 3.8490 | Masked Acc: 0.4423\n"
          ]
        },
        {
          "output_type": "stream",
          "name": "stderr",
          "text": [
            "Epoch 181/1000: 100%|██████████| 90/90 [00:39<00:00,  2.29it/s]\n"
          ]
        },
        {
          "output_type": "stream",
          "name": "stdout",
          "text": [
            "Epoch 181/1000 | Loss: 3.8547 | Masked Acc: 0.4403\n"
          ]
        },
        {
          "output_type": "stream",
          "name": "stderr",
          "text": [
            "Epoch 182/1000: 100%|██████████| 90/90 [00:39<00:00,  2.29it/s]\n"
          ]
        },
        {
          "output_type": "stream",
          "name": "stdout",
          "text": [
            "Epoch 182/1000 | Loss: 3.8515 | Masked Acc: 0.4412\n"
          ]
        },
        {
          "output_type": "stream",
          "name": "stderr",
          "text": [
            "Epoch 183/1000: 100%|██████████| 90/90 [00:39<00:00,  2.29it/s]\n"
          ]
        },
        {
          "output_type": "stream",
          "name": "stdout",
          "text": [
            "Epoch 183/1000 | Loss: 3.8472 | Masked Acc: 0.4422\n"
          ]
        },
        {
          "output_type": "stream",
          "name": "stderr",
          "text": [
            "Epoch 184/1000: 100%|██████████| 90/90 [00:39<00:00,  2.29it/s]\n"
          ]
        },
        {
          "output_type": "stream",
          "name": "stdout",
          "text": [
            "Epoch 184/1000 | Loss: 3.8483 | Masked Acc: 0.4413\n"
          ]
        },
        {
          "output_type": "stream",
          "name": "stderr",
          "text": [
            "Epoch 185/1000: 100%|██████████| 90/90 [00:39<00:00,  2.29it/s]\n"
          ]
        },
        {
          "output_type": "stream",
          "name": "stdout",
          "text": [
            "Epoch 185/1000 | Loss: 3.8500 | Masked Acc: 0.4415\n"
          ]
        },
        {
          "output_type": "stream",
          "name": "stderr",
          "text": [
            "Epoch 186/1000: 100%|██████████| 90/90 [00:39<00:00,  2.29it/s]\n"
          ]
        },
        {
          "output_type": "stream",
          "name": "stdout",
          "text": [
            "Epoch 186/1000 | Loss: 3.8496 | Masked Acc: 0.4422\n"
          ]
        },
        {
          "output_type": "stream",
          "name": "stderr",
          "text": [
            "Epoch 187/1000: 100%|██████████| 90/90 [00:39<00:00,  2.29it/s]\n"
          ]
        },
        {
          "output_type": "stream",
          "name": "stdout",
          "text": [
            "Epoch 187/1000 | Loss: 3.8495 | Masked Acc: 0.4416\n"
          ]
        },
        {
          "output_type": "stream",
          "name": "stderr",
          "text": [
            "Epoch 188/1000: 100%|██████████| 90/90 [00:39<00:00,  2.28it/s]\n"
          ]
        },
        {
          "output_type": "stream",
          "name": "stdout",
          "text": [
            "Epoch 188/1000 | Loss: 3.8485 | Masked Acc: 0.4416\n"
          ]
        },
        {
          "output_type": "stream",
          "name": "stderr",
          "text": [
            "Epoch 189/1000: 100%|██████████| 90/90 [00:39<00:00,  2.28it/s]\n"
          ]
        },
        {
          "output_type": "stream",
          "name": "stdout",
          "text": [
            "Epoch 189/1000 | Loss: 3.8520 | Masked Acc: 0.4409\n"
          ]
        },
        {
          "output_type": "stream",
          "name": "stderr",
          "text": [
            "Epoch 190/1000: 100%|██████████| 90/90 [00:39<00:00,  2.28it/s]\n"
          ]
        },
        {
          "output_type": "stream",
          "name": "stdout",
          "text": [
            "Epoch 190/1000 | Loss: 3.8475 | Masked Acc: 0.4416\n"
          ]
        },
        {
          "output_type": "stream",
          "name": "stderr",
          "text": [
            "Epoch 191/1000: 100%|██████████| 90/90 [00:39<00:00,  2.27it/s]\n"
          ]
        },
        {
          "output_type": "stream",
          "name": "stdout",
          "text": [
            "Epoch 191/1000 | Loss: 3.8555 | Masked Acc: 0.4409\n"
          ]
        },
        {
          "output_type": "stream",
          "name": "stderr",
          "text": [
            "Epoch 192/1000: 100%|██████████| 90/90 [00:39<00:00,  2.27it/s]\n"
          ]
        },
        {
          "output_type": "stream",
          "name": "stdout",
          "text": [
            "Epoch 192/1000 | Loss: 3.8478 | Masked Acc: 0.4417\n"
          ]
        },
        {
          "output_type": "stream",
          "name": "stderr",
          "text": [
            "Epoch 193/1000: 100%|██████████| 90/90 [00:39<00:00,  2.27it/s]\n"
          ]
        },
        {
          "output_type": "stream",
          "name": "stdout",
          "text": [
            "Epoch 193/1000 | Loss: 3.8485 | Masked Acc: 0.4415\n"
          ]
        },
        {
          "output_type": "stream",
          "name": "stderr",
          "text": [
            "Epoch 194/1000: 100%|██████████| 90/90 [00:39<00:00,  2.27it/s]\n"
          ]
        },
        {
          "output_type": "stream",
          "name": "stdout",
          "text": [
            "Epoch 194/1000 | Loss: 3.8524 | Masked Acc: 0.4413\n"
          ]
        },
        {
          "output_type": "stream",
          "name": "stderr",
          "text": [
            "Epoch 195/1000: 100%|██████████| 90/90 [00:39<00:00,  2.27it/s]\n"
          ]
        },
        {
          "output_type": "stream",
          "name": "stdout",
          "text": [
            "Epoch 195/1000 | Loss: 3.8532 | Masked Acc: 0.4405\n"
          ]
        },
        {
          "output_type": "stream",
          "name": "stderr",
          "text": [
            "Epoch 196/1000: 100%|██████████| 90/90 [00:39<00:00,  2.28it/s]\n"
          ]
        },
        {
          "output_type": "stream",
          "name": "stdout",
          "text": [
            "Epoch 196/1000 | Loss: 3.8497 | Masked Acc: 0.4420\n"
          ]
        },
        {
          "output_type": "stream",
          "name": "stderr",
          "text": [
            "Epoch 197/1000: 100%|██████████| 90/90 [00:39<00:00,  2.27it/s]\n"
          ]
        },
        {
          "output_type": "stream",
          "name": "stdout",
          "text": [
            "Epoch 197/1000 | Loss: 3.8526 | Masked Acc: 0.4412\n"
          ]
        },
        {
          "output_type": "stream",
          "name": "stderr",
          "text": [
            "Epoch 198/1000: 100%|██████████| 90/90 [00:39<00:00,  2.28it/s]\n"
          ]
        },
        {
          "output_type": "stream",
          "name": "stdout",
          "text": [
            "Epoch 198/1000 | Loss: 3.8544 | Masked Acc: 0.4411\n"
          ]
        },
        {
          "output_type": "stream",
          "name": "stderr",
          "text": [
            "Epoch 199/1000: 100%|██████████| 90/90 [00:39<00:00,  2.27it/s]\n"
          ]
        },
        {
          "output_type": "stream",
          "name": "stdout",
          "text": [
            "Epoch 199/1000 | Loss: 3.8558 | Masked Acc: 0.4410\n"
          ]
        },
        {
          "output_type": "stream",
          "name": "stderr",
          "text": [
            "Epoch 200/1000: 100%|██████████| 90/90 [00:39<00:00,  2.28it/s]\n"
          ]
        },
        {
          "output_type": "stream",
          "name": "stdout",
          "text": [
            "Epoch 200/1000 | Loss: 3.8529 | Masked Acc: 0.4413\n",
            "Saved model at epoch 200\n"
          ]
        },
        {
          "output_type": "stream",
          "name": "stderr",
          "text": [
            "Epoch 201/1000: 100%|██████████| 90/90 [00:39<00:00,  2.29it/s]\n"
          ]
        },
        {
          "output_type": "stream",
          "name": "stdout",
          "text": [
            "Epoch 201/1000 | Loss: 3.8489 | Masked Acc: 0.4413\n"
          ]
        },
        {
          "output_type": "stream",
          "name": "stderr",
          "text": [
            "Epoch 202/1000: 100%|██████████| 90/90 [00:39<00:00,  2.29it/s]\n"
          ]
        },
        {
          "output_type": "stream",
          "name": "stdout",
          "text": [
            "Epoch 202/1000 | Loss: 3.8480 | Masked Acc: 0.4419\n"
          ]
        },
        {
          "output_type": "stream",
          "name": "stderr",
          "text": [
            "Epoch 203/1000: 100%|██████████| 90/90 [00:39<00:00,  2.29it/s]\n"
          ]
        },
        {
          "output_type": "stream",
          "name": "stdout",
          "text": [
            "Epoch 203/1000 | Loss: 3.8470 | Masked Acc: 0.4420\n"
          ]
        },
        {
          "output_type": "stream",
          "name": "stderr",
          "text": [
            "Epoch 204/1000: 100%|██████████| 90/90 [00:39<00:00,  2.29it/s]\n"
          ]
        },
        {
          "output_type": "stream",
          "name": "stdout",
          "text": [
            "Epoch 204/1000 | Loss: 3.8526 | Masked Acc: 0.4416\n"
          ]
        },
        {
          "output_type": "stream",
          "name": "stderr",
          "text": [
            "Epoch 205/1000: 100%|██████████| 90/90 [00:39<00:00,  2.29it/s]\n"
          ]
        },
        {
          "output_type": "stream",
          "name": "stdout",
          "text": [
            "Epoch 205/1000 | Loss: 3.8509 | Masked Acc: 0.4407\n"
          ]
        },
        {
          "output_type": "stream",
          "name": "stderr",
          "text": [
            "Epoch 206/1000: 100%|██████████| 90/90 [00:39<00:00,  2.29it/s]\n"
          ]
        },
        {
          "output_type": "stream",
          "name": "stdout",
          "text": [
            "Epoch 206/1000 | Loss: 3.8470 | Masked Acc: 0.4421\n"
          ]
        },
        {
          "output_type": "stream",
          "name": "stderr",
          "text": [
            "Epoch 207/1000: 100%|██████████| 90/90 [00:39<00:00,  2.29it/s]\n"
          ]
        },
        {
          "output_type": "stream",
          "name": "stdout",
          "text": [
            "Epoch 207/1000 | Loss: 3.8521 | Masked Acc: 0.4415\n"
          ]
        },
        {
          "output_type": "stream",
          "name": "stderr",
          "text": [
            "Epoch 208/1000: 100%|██████████| 90/90 [00:39<00:00,  2.29it/s]\n"
          ]
        },
        {
          "output_type": "stream",
          "name": "stdout",
          "text": [
            "Epoch 208/1000 | Loss: 3.8518 | Masked Acc: 0.4411\n"
          ]
        },
        {
          "output_type": "stream",
          "name": "stderr",
          "text": [
            "Epoch 209/1000: 100%|██████████| 90/90 [00:39<00:00,  2.29it/s]\n"
          ]
        },
        {
          "output_type": "stream",
          "name": "stdout",
          "text": [
            "Epoch 209/1000 | Loss: 3.8420 | Masked Acc: 0.4423\n"
          ]
        },
        {
          "output_type": "stream",
          "name": "stderr",
          "text": [
            "Epoch 210/1000: 100%|██████████| 90/90 [00:39<00:00,  2.29it/s]\n"
          ]
        },
        {
          "output_type": "stream",
          "name": "stdout",
          "text": [
            "Epoch 210/1000 | Loss: 3.8554 | Masked Acc: 0.4405\n"
          ]
        },
        {
          "output_type": "stream",
          "name": "stderr",
          "text": [
            "Epoch 211/1000: 100%|██████████| 90/90 [00:39<00:00,  2.28it/s]\n"
          ]
        },
        {
          "output_type": "stream",
          "name": "stdout",
          "text": [
            "Epoch 211/1000 | Loss: 3.8507 | Masked Acc: 0.4410\n"
          ]
        },
        {
          "output_type": "stream",
          "name": "stderr",
          "text": [
            "Epoch 212/1000: 100%|██████████| 90/90 [00:39<00:00,  2.29it/s]\n"
          ]
        },
        {
          "output_type": "stream",
          "name": "stdout",
          "text": [
            "Epoch 212/1000 | Loss: 3.8538 | Masked Acc: 0.4400\n"
          ]
        },
        {
          "output_type": "stream",
          "name": "stderr",
          "text": [
            "Epoch 213/1000: 100%|██████████| 90/90 [00:39<00:00,  2.28it/s]\n"
          ]
        },
        {
          "output_type": "stream",
          "name": "stdout",
          "text": [
            "Epoch 213/1000 | Loss: 3.8552 | Masked Acc: 0.4404\n"
          ]
        },
        {
          "output_type": "stream",
          "name": "stderr",
          "text": [
            "Epoch 214/1000: 100%|██████████| 90/90 [00:39<00:00,  2.28it/s]\n"
          ]
        },
        {
          "output_type": "stream",
          "name": "stdout",
          "text": [
            "Epoch 214/1000 | Loss: 3.8531 | Masked Acc: 0.4411\n"
          ]
        },
        {
          "output_type": "stream",
          "name": "stderr",
          "text": [
            "Epoch 215/1000: 100%|██████████| 90/90 [00:39<00:00,  2.29it/s]\n"
          ]
        },
        {
          "output_type": "stream",
          "name": "stdout",
          "text": [
            "Epoch 215/1000 | Loss: 3.8569 | Masked Acc: 0.4406\n"
          ]
        },
        {
          "output_type": "stream",
          "name": "stderr",
          "text": [
            "Epoch 216/1000: 100%|██████████| 90/90 [00:39<00:00,  2.28it/s]\n"
          ]
        },
        {
          "output_type": "stream",
          "name": "stdout",
          "text": [
            "Epoch 216/1000 | Loss: 3.8549 | Masked Acc: 0.4409\n"
          ]
        },
        {
          "output_type": "stream",
          "name": "stderr",
          "text": [
            "Epoch 217/1000: 100%|██████████| 90/90 [00:39<00:00,  2.29it/s]\n"
          ]
        },
        {
          "output_type": "stream",
          "name": "stdout",
          "text": [
            "Epoch 217/1000 | Loss: 3.8576 | Masked Acc: 0.4399\n"
          ]
        },
        {
          "output_type": "stream",
          "name": "stderr",
          "text": [
            "Epoch 218/1000: 100%|██████████| 90/90 [00:39<00:00,  2.29it/s]\n"
          ]
        },
        {
          "output_type": "stream",
          "name": "stdout",
          "text": [
            "Epoch 218/1000 | Loss: 3.8541 | Masked Acc: 0.4411\n"
          ]
        },
        {
          "output_type": "stream",
          "name": "stderr",
          "text": [
            "Epoch 219/1000: 100%|██████████| 90/90 [00:39<00:00,  2.29it/s]\n"
          ]
        },
        {
          "output_type": "stream",
          "name": "stdout",
          "text": [
            "Epoch 219/1000 | Loss: 3.8566 | Masked Acc: 0.4405\n"
          ]
        },
        {
          "output_type": "stream",
          "name": "stderr",
          "text": [
            "Epoch 220/1000: 100%|██████████| 90/90 [00:39<00:00,  2.29it/s]\n"
          ]
        },
        {
          "output_type": "stream",
          "name": "stdout",
          "text": [
            "Epoch 220/1000 | Loss: 3.8586 | Masked Acc: 0.4396\n"
          ]
        },
        {
          "output_type": "stream",
          "name": "stderr",
          "text": [
            "Epoch 221/1000: 100%|██████████| 90/90 [00:39<00:00,  2.30it/s]\n"
          ]
        },
        {
          "output_type": "stream",
          "name": "stdout",
          "text": [
            "Epoch 221/1000 | Loss: 3.8564 | Masked Acc: 0.4406\n"
          ]
        },
        {
          "output_type": "stream",
          "name": "stderr",
          "text": [
            "Epoch 222/1000: 100%|██████████| 90/90 [00:39<00:00,  2.29it/s]\n"
          ]
        },
        {
          "output_type": "stream",
          "name": "stdout",
          "text": [
            "Epoch 222/1000 | Loss: 3.8587 | Masked Acc: 0.4403\n"
          ]
        },
        {
          "output_type": "stream",
          "name": "stderr",
          "text": [
            "Epoch 223/1000: 100%|██████████| 90/90 [00:39<00:00,  2.30it/s]\n"
          ]
        },
        {
          "output_type": "stream",
          "name": "stdout",
          "text": [
            "Epoch 223/1000 | Loss: 3.8587 | Masked Acc: 0.4398\n"
          ]
        },
        {
          "output_type": "stream",
          "name": "stderr",
          "text": [
            "Epoch 224/1000: 100%|██████████| 90/90 [00:39<00:00,  2.29it/s]\n"
          ]
        },
        {
          "output_type": "stream",
          "name": "stdout",
          "text": [
            "Epoch 224/1000 | Loss: 3.8565 | Masked Acc: 0.4404\n"
          ]
        },
        {
          "output_type": "stream",
          "name": "stderr",
          "text": [
            "Epoch 225/1000: 100%|██████████| 90/90 [00:39<00:00,  2.29it/s]\n"
          ]
        },
        {
          "output_type": "stream",
          "name": "stdout",
          "text": [
            "Epoch 225/1000 | Loss: 3.8564 | Masked Acc: 0.4412\n"
          ]
        },
        {
          "output_type": "stream",
          "name": "stderr",
          "text": [
            "Epoch 226/1000: 100%|██████████| 90/90 [00:39<00:00,  2.29it/s]\n"
          ]
        },
        {
          "output_type": "stream",
          "name": "stdout",
          "text": [
            "Epoch 226/1000 | Loss: 3.8540 | Masked Acc: 0.4404\n"
          ]
        },
        {
          "output_type": "stream",
          "name": "stderr",
          "text": [
            "Epoch 227/1000: 100%|██████████| 90/90 [00:39<00:00,  2.29it/s]\n"
          ]
        },
        {
          "output_type": "stream",
          "name": "stdout",
          "text": [
            "Epoch 227/1000 | Loss: 3.8632 | Masked Acc: 0.4396\n"
          ]
        },
        {
          "output_type": "stream",
          "name": "stderr",
          "text": [
            "Epoch 228/1000: 100%|██████████| 90/90 [00:39<00:00,  2.30it/s]\n"
          ]
        },
        {
          "output_type": "stream",
          "name": "stdout",
          "text": [
            "Epoch 228/1000 | Loss: 3.8603 | Masked Acc: 0.4398\n"
          ]
        },
        {
          "output_type": "stream",
          "name": "stderr",
          "text": [
            "Epoch 229/1000: 100%|██████████| 90/90 [00:39<00:00,  2.30it/s]\n"
          ]
        },
        {
          "output_type": "stream",
          "name": "stdout",
          "text": [
            "Epoch 229/1000 | Loss: 3.8591 | Masked Acc: 0.4404\n"
          ]
        },
        {
          "output_type": "stream",
          "name": "stderr",
          "text": [
            "Epoch 230/1000: 100%|██████████| 90/90 [00:39<00:00,  2.30it/s]\n"
          ]
        },
        {
          "output_type": "stream",
          "name": "stdout",
          "text": [
            "Epoch 230/1000 | Loss: 3.8549 | Masked Acc: 0.4407\n"
          ]
        },
        {
          "output_type": "stream",
          "name": "stderr",
          "text": [
            "Epoch 231/1000: 100%|██████████| 90/90 [00:39<00:00,  2.28it/s]\n"
          ]
        },
        {
          "output_type": "stream",
          "name": "stdout",
          "text": [
            "Epoch 231/1000 | Loss: 3.8576 | Masked Acc: 0.4413\n"
          ]
        },
        {
          "output_type": "stream",
          "name": "stderr",
          "text": [
            "Epoch 232/1000: 100%|██████████| 90/90 [00:39<00:00,  2.29it/s]\n"
          ]
        },
        {
          "output_type": "stream",
          "name": "stdout",
          "text": [
            "Epoch 232/1000 | Loss: 3.8669 | Masked Acc: 0.4388\n"
          ]
        },
        {
          "output_type": "stream",
          "name": "stderr",
          "text": [
            "Epoch 233/1000: 100%|██████████| 90/90 [00:39<00:00,  2.29it/s]\n"
          ]
        },
        {
          "output_type": "stream",
          "name": "stdout",
          "text": [
            "Epoch 233/1000 | Loss: 3.8622 | Masked Acc: 0.4400\n"
          ]
        },
        {
          "output_type": "stream",
          "name": "stderr",
          "text": [
            "Epoch 234/1000: 100%|██████████| 90/90 [00:39<00:00,  2.29it/s]\n"
          ]
        },
        {
          "output_type": "stream",
          "name": "stdout",
          "text": [
            "Epoch 234/1000 | Loss: 3.8676 | Masked Acc: 0.4389\n"
          ]
        },
        {
          "output_type": "stream",
          "name": "stderr",
          "text": [
            "Epoch 235/1000: 100%|██████████| 90/90 [00:39<00:00,  2.29it/s]\n"
          ]
        },
        {
          "output_type": "stream",
          "name": "stdout",
          "text": [
            "Epoch 235/1000 | Loss: 3.8621 | Masked Acc: 0.4399\n"
          ]
        },
        {
          "output_type": "stream",
          "name": "stderr",
          "text": [
            "Epoch 236/1000: 100%|██████████| 90/90 [00:39<00:00,  2.29it/s]\n"
          ]
        },
        {
          "output_type": "stream",
          "name": "stdout",
          "text": [
            "Epoch 236/1000 | Loss: 3.8624 | Masked Acc: 0.4400\n"
          ]
        },
        {
          "output_type": "stream",
          "name": "stderr",
          "text": [
            "Epoch 237/1000: 100%|██████████| 90/90 [00:39<00:00,  2.29it/s]\n"
          ]
        },
        {
          "output_type": "stream",
          "name": "stdout",
          "text": [
            "Epoch 237/1000 | Loss: 3.8643 | Masked Acc: 0.4392\n"
          ]
        },
        {
          "output_type": "stream",
          "name": "stderr",
          "text": [
            "Epoch 238/1000: 100%|██████████| 90/90 [00:39<00:00,  2.29it/s]\n"
          ]
        },
        {
          "output_type": "stream",
          "name": "stdout",
          "text": [
            "Epoch 238/1000 | Loss: 3.8624 | Masked Acc: 0.4398\n"
          ]
        },
        {
          "output_type": "stream",
          "name": "stderr",
          "text": [
            "Epoch 239/1000: 100%|██████████| 90/90 [00:39<00:00,  2.28it/s]\n"
          ]
        },
        {
          "output_type": "stream",
          "name": "stdout",
          "text": [
            "Epoch 239/1000 | Loss: 3.8661 | Masked Acc: 0.4395\n"
          ]
        },
        {
          "output_type": "stream",
          "name": "stderr",
          "text": [
            "Epoch 240/1000: 100%|██████████| 90/90 [00:39<00:00,  2.27it/s]\n"
          ]
        },
        {
          "output_type": "stream",
          "name": "stdout",
          "text": [
            "Epoch 240/1000 | Loss: 3.8691 | Masked Acc: 0.4392\n"
          ]
        },
        {
          "output_type": "stream",
          "name": "stderr",
          "text": [
            "Epoch 241/1000: 100%|██████████| 90/90 [00:39<00:00,  2.30it/s]\n"
          ]
        },
        {
          "output_type": "stream",
          "name": "stdout",
          "text": [
            "Epoch 241/1000 | Loss: 3.8678 | Masked Acc: 0.4392\n"
          ]
        },
        {
          "output_type": "stream",
          "name": "stderr",
          "text": [
            "Epoch 242/1000: 100%|██████████| 90/90 [00:39<00:00,  2.30it/s]\n"
          ]
        },
        {
          "output_type": "stream",
          "name": "stdout",
          "text": [
            "Epoch 242/1000 | Loss: 3.8704 | Masked Acc: 0.4388\n"
          ]
        },
        {
          "output_type": "stream",
          "name": "stderr",
          "text": [
            "Epoch 243/1000: 100%|██████████| 90/90 [00:39<00:00,  2.29it/s]\n"
          ]
        },
        {
          "output_type": "stream",
          "name": "stdout",
          "text": [
            "Epoch 243/1000 | Loss: 3.8685 | Masked Acc: 0.4392\n"
          ]
        },
        {
          "output_type": "stream",
          "name": "stderr",
          "text": [
            "Epoch 244/1000: 100%|██████████| 90/90 [00:39<00:00,  2.30it/s]\n"
          ]
        },
        {
          "output_type": "stream",
          "name": "stdout",
          "text": [
            "Epoch 244/1000 | Loss: 3.8668 | Masked Acc: 0.4393\n"
          ]
        },
        {
          "output_type": "stream",
          "name": "stderr",
          "text": [
            "Epoch 245/1000: 100%|██████████| 90/90 [00:39<00:00,  2.29it/s]\n"
          ]
        },
        {
          "output_type": "stream",
          "name": "stdout",
          "text": [
            "Epoch 245/1000 | Loss: 3.8680 | Masked Acc: 0.4392\n"
          ]
        },
        {
          "output_type": "stream",
          "name": "stderr",
          "text": [
            "Epoch 246/1000: 100%|██████████| 90/90 [00:39<00:00,  2.30it/s]\n"
          ]
        },
        {
          "output_type": "stream",
          "name": "stdout",
          "text": [
            "Epoch 246/1000 | Loss: 3.8688 | Masked Acc: 0.4383\n"
          ]
        },
        {
          "output_type": "stream",
          "name": "stderr",
          "text": [
            "Epoch 247/1000: 100%|██████████| 90/90 [00:39<00:00,  2.29it/s]\n"
          ]
        },
        {
          "output_type": "stream",
          "name": "stdout",
          "text": [
            "Epoch 247/1000 | Loss: 3.8692 | Masked Acc: 0.4396\n"
          ]
        },
        {
          "output_type": "stream",
          "name": "stderr",
          "text": [
            "Epoch 248/1000: 100%|██████████| 90/90 [00:39<00:00,  2.30it/s]\n"
          ]
        },
        {
          "output_type": "stream",
          "name": "stdout",
          "text": [
            "Epoch 248/1000 | Loss: 3.8708 | Masked Acc: 0.4390\n"
          ]
        },
        {
          "output_type": "stream",
          "name": "stderr",
          "text": [
            "Epoch 249/1000: 100%|██████████| 90/90 [00:39<00:00,  2.30it/s]\n"
          ]
        },
        {
          "output_type": "stream",
          "name": "stdout",
          "text": [
            "Epoch 249/1000 | Loss: 3.8707 | Masked Acc: 0.4383\n"
          ]
        },
        {
          "output_type": "stream",
          "name": "stderr",
          "text": [
            "Epoch 250/1000: 100%|██████████| 90/90 [00:39<00:00,  2.30it/s]\n"
          ]
        },
        {
          "output_type": "stream",
          "name": "stdout",
          "text": [
            "Epoch 250/1000 | Loss: 3.8733 | Masked Acc: 0.4384\n"
          ]
        },
        {
          "output_type": "stream",
          "name": "stderr",
          "text": [
            "Epoch 251/1000: 100%|██████████| 90/90 [00:39<00:00,  2.29it/s]\n"
          ]
        },
        {
          "output_type": "stream",
          "name": "stdout",
          "text": [
            "Epoch 251/1000 | Loss: 3.8658 | Masked Acc: 0.4395\n"
          ]
        },
        {
          "output_type": "stream",
          "name": "stderr",
          "text": [
            "Epoch 252/1000: 100%|██████████| 90/90 [00:39<00:00,  2.29it/s]\n"
          ]
        },
        {
          "output_type": "stream",
          "name": "stdout",
          "text": [
            "Epoch 252/1000 | Loss: 3.8686 | Masked Acc: 0.4387\n"
          ]
        },
        {
          "output_type": "stream",
          "name": "stderr",
          "text": [
            "Epoch 253/1000: 100%|██████████| 90/90 [00:39<00:00,  2.29it/s]\n"
          ]
        },
        {
          "output_type": "stream",
          "name": "stdout",
          "text": [
            "Epoch 253/1000 | Loss: 3.8705 | Masked Acc: 0.4387\n"
          ]
        },
        {
          "output_type": "stream",
          "name": "stderr",
          "text": [
            "Epoch 254/1000: 100%|██████████| 90/90 [00:39<00:00,  2.29it/s]\n"
          ]
        },
        {
          "output_type": "stream",
          "name": "stdout",
          "text": [
            "Epoch 254/1000 | Loss: 3.8668 | Masked Acc: 0.4391\n"
          ]
        },
        {
          "output_type": "stream",
          "name": "stderr",
          "text": [
            "Epoch 255/1000: 100%|██████████| 90/90 [00:39<00:00,  2.29it/s]\n"
          ]
        },
        {
          "output_type": "stream",
          "name": "stdout",
          "text": [
            "Epoch 255/1000 | Loss: 3.8726 | Masked Acc: 0.4384\n"
          ]
        },
        {
          "output_type": "stream",
          "name": "stderr",
          "text": [
            "Epoch 256/1000: 100%|██████████| 90/90 [00:39<00:00,  2.29it/s]\n"
          ]
        },
        {
          "output_type": "stream",
          "name": "stdout",
          "text": [
            "Epoch 256/1000 | Loss: 3.8716 | Masked Acc: 0.4381\n"
          ]
        },
        {
          "output_type": "stream",
          "name": "stderr",
          "text": [
            "Epoch 257/1000: 100%|██████████| 90/90 [00:39<00:00,  2.28it/s]\n"
          ]
        },
        {
          "output_type": "stream",
          "name": "stdout",
          "text": [
            "Epoch 257/1000 | Loss: 3.8695 | Masked Acc: 0.4385\n"
          ]
        },
        {
          "output_type": "stream",
          "name": "stderr",
          "text": [
            "Epoch 258/1000: 100%|██████████| 90/90 [00:39<00:00,  2.28it/s]\n"
          ]
        },
        {
          "output_type": "stream",
          "name": "stdout",
          "text": [
            "Epoch 258/1000 | Loss: 3.8668 | Masked Acc: 0.4393\n"
          ]
        },
        {
          "output_type": "stream",
          "name": "stderr",
          "text": [
            "Epoch 259/1000: 100%|██████████| 90/90 [00:39<00:00,  2.28it/s]\n"
          ]
        },
        {
          "output_type": "stream",
          "name": "stdout",
          "text": [
            "Epoch 259/1000 | Loss: 3.8688 | Masked Acc: 0.4384\n"
          ]
        },
        {
          "output_type": "stream",
          "name": "stderr",
          "text": [
            "Epoch 260/1000: 100%|██████████| 90/90 [00:39<00:00,  2.28it/s]\n"
          ]
        },
        {
          "output_type": "stream",
          "name": "stdout",
          "text": [
            "Epoch 260/1000 | Loss: 3.8669 | Masked Acc: 0.4388\n"
          ]
        },
        {
          "output_type": "stream",
          "name": "stderr",
          "text": [
            "Epoch 261/1000: 100%|██████████| 90/90 [00:39<00:00,  2.29it/s]\n"
          ]
        },
        {
          "output_type": "stream",
          "name": "stdout",
          "text": [
            "Epoch 261/1000 | Loss: 3.8713 | Masked Acc: 0.4388\n"
          ]
        },
        {
          "output_type": "stream",
          "name": "stderr",
          "text": [
            "Epoch 262/1000: 100%|██████████| 90/90 [00:39<00:00,  2.29it/s]\n"
          ]
        },
        {
          "output_type": "stream",
          "name": "stdout",
          "text": [
            "Epoch 262/1000 | Loss: 3.8686 | Masked Acc: 0.4391\n"
          ]
        },
        {
          "output_type": "stream",
          "name": "stderr",
          "text": [
            "Epoch 263/1000: 100%|██████████| 90/90 [00:39<00:00,  2.29it/s]\n"
          ]
        },
        {
          "output_type": "stream",
          "name": "stdout",
          "text": [
            "Epoch 263/1000 | Loss: 3.8669 | Masked Acc: 0.4382\n"
          ]
        },
        {
          "output_type": "stream",
          "name": "stderr",
          "text": [
            "Epoch 264/1000: 100%|██████████| 90/90 [00:39<00:00,  2.29it/s]\n"
          ]
        },
        {
          "output_type": "stream",
          "name": "stdout",
          "text": [
            "Epoch 264/1000 | Loss: 3.8685 | Masked Acc: 0.4378\n"
          ]
        },
        {
          "output_type": "stream",
          "name": "stderr",
          "text": [
            "Epoch 265/1000: 100%|██████████| 90/90 [00:39<00:00,  2.29it/s]\n"
          ]
        },
        {
          "output_type": "stream",
          "name": "stdout",
          "text": [
            "Epoch 265/1000 | Loss: 3.8728 | Masked Acc: 0.4376\n"
          ]
        },
        {
          "output_type": "stream",
          "name": "stderr",
          "text": [
            "Epoch 266/1000: 100%|██████████| 90/90 [00:39<00:00,  2.29it/s]\n"
          ]
        },
        {
          "output_type": "stream",
          "name": "stdout",
          "text": [
            "Epoch 266/1000 | Loss: 3.8673 | Masked Acc: 0.4386\n"
          ]
        },
        {
          "output_type": "stream",
          "name": "stderr",
          "text": [
            "Epoch 267/1000: 100%|██████████| 90/90 [00:39<00:00,  2.29it/s]\n"
          ]
        },
        {
          "output_type": "stream",
          "name": "stdout",
          "text": [
            "Epoch 267/1000 | Loss: 3.8726 | Masked Acc: 0.4376\n"
          ]
        },
        {
          "output_type": "stream",
          "name": "stderr",
          "text": [
            "Epoch 268/1000: 100%|██████████| 90/90 [00:39<00:00,  2.29it/s]\n"
          ]
        },
        {
          "output_type": "stream",
          "name": "stdout",
          "text": [
            "Epoch 268/1000 | Loss: 3.8733 | Masked Acc: 0.4373\n"
          ]
        },
        {
          "output_type": "stream",
          "name": "stderr",
          "text": [
            "Epoch 269/1000: 100%|██████████| 90/90 [00:39<00:00,  2.29it/s]\n"
          ]
        },
        {
          "output_type": "stream",
          "name": "stdout",
          "text": [
            "Epoch 269/1000 | Loss: 3.8734 | Masked Acc: 0.4377\n"
          ]
        },
        {
          "output_type": "stream",
          "name": "stderr",
          "text": [
            "Epoch 270/1000: 100%|██████████| 90/90 [00:39<00:00,  2.29it/s]\n"
          ]
        },
        {
          "output_type": "stream",
          "name": "stdout",
          "text": [
            "Epoch 270/1000 | Loss: 3.8727 | Masked Acc: 0.4377\n"
          ]
        },
        {
          "output_type": "stream",
          "name": "stderr",
          "text": [
            "Epoch 271/1000: 100%|██████████| 90/90 [00:39<00:00,  2.28it/s]\n"
          ]
        },
        {
          "output_type": "stream",
          "name": "stdout",
          "text": [
            "Epoch 271/1000 | Loss: 3.8747 | Masked Acc: 0.4373\n"
          ]
        },
        {
          "output_type": "stream",
          "name": "stderr",
          "text": [
            "Epoch 272/1000: 100%|██████████| 90/90 [00:39<00:00,  2.28it/s]\n"
          ]
        },
        {
          "output_type": "stream",
          "name": "stdout",
          "text": [
            "Epoch 272/1000 | Loss: 3.8732 | Masked Acc: 0.4376\n"
          ]
        },
        {
          "output_type": "stream",
          "name": "stderr",
          "text": [
            "Epoch 273/1000: 100%|██████████| 90/90 [00:39<00:00,  2.28it/s]\n"
          ]
        },
        {
          "output_type": "stream",
          "name": "stdout",
          "text": [
            "Epoch 273/1000 | Loss: 3.8700 | Masked Acc: 0.4382\n"
          ]
        },
        {
          "output_type": "stream",
          "name": "stderr",
          "text": [
            "Epoch 274/1000: 100%|██████████| 90/90 [00:39<00:00,  2.29it/s]\n"
          ]
        },
        {
          "output_type": "stream",
          "name": "stdout",
          "text": [
            "Epoch 274/1000 | Loss: 3.8789 | Masked Acc: 0.4365\n"
          ]
        },
        {
          "output_type": "stream",
          "name": "stderr",
          "text": [
            "Epoch 275/1000: 100%|██████████| 90/90 [00:39<00:00,  2.28it/s]\n"
          ]
        },
        {
          "output_type": "stream",
          "name": "stdout",
          "text": [
            "Epoch 275/1000 | Loss: 3.8710 | Masked Acc: 0.4379\n"
          ]
        },
        {
          "output_type": "stream",
          "name": "stderr",
          "text": [
            "Epoch 276/1000: 100%|██████████| 90/90 [00:39<00:00,  2.28it/s]\n"
          ]
        },
        {
          "output_type": "stream",
          "name": "stdout",
          "text": [
            "Epoch 276/1000 | Loss: 3.8772 | Masked Acc: 0.4366\n"
          ]
        },
        {
          "output_type": "stream",
          "name": "stderr",
          "text": [
            "Epoch 277/1000: 100%|██████████| 90/90 [00:39<00:00,  2.28it/s]\n"
          ]
        },
        {
          "output_type": "stream",
          "name": "stdout",
          "text": [
            "Epoch 277/1000 | Loss: 3.8716 | Masked Acc: 0.4380\n"
          ]
        },
        {
          "output_type": "stream",
          "name": "stderr",
          "text": [
            "Epoch 278/1000: 100%|██████████| 90/90 [00:39<00:00,  2.29it/s]\n"
          ]
        },
        {
          "output_type": "stream",
          "name": "stdout",
          "text": [
            "Epoch 278/1000 | Loss: 3.8759 | Masked Acc: 0.4367\n"
          ]
        },
        {
          "output_type": "stream",
          "name": "stderr",
          "text": [
            "Epoch 279/1000: 100%|██████████| 90/90 [00:39<00:00,  2.28it/s]\n"
          ]
        },
        {
          "output_type": "stream",
          "name": "stdout",
          "text": [
            "Epoch 279/1000 | Loss: 3.8742 | Masked Acc: 0.4375\n"
          ]
        },
        {
          "output_type": "stream",
          "name": "stderr",
          "text": [
            "Epoch 280/1000: 100%|██████████| 90/90 [00:39<00:00,  2.28it/s]\n"
          ]
        },
        {
          "output_type": "stream",
          "name": "stdout",
          "text": [
            "Epoch 280/1000 | Loss: 3.8760 | Masked Acc: 0.4371\n"
          ]
        },
        {
          "output_type": "stream",
          "name": "stderr",
          "text": [
            "Epoch 281/1000: 100%|██████████| 90/90 [00:39<00:00,  2.29it/s]\n"
          ]
        },
        {
          "output_type": "stream",
          "name": "stdout",
          "text": [
            "Epoch 281/1000 | Loss: 3.8815 | Masked Acc: 0.4365\n"
          ]
        },
        {
          "output_type": "stream",
          "name": "stderr",
          "text": [
            "Epoch 282/1000: 100%|██████████| 90/90 [00:39<00:00,  2.30it/s]\n"
          ]
        },
        {
          "output_type": "stream",
          "name": "stdout",
          "text": [
            "Epoch 282/1000 | Loss: 3.8791 | Masked Acc: 0.4368\n"
          ]
        },
        {
          "output_type": "stream",
          "name": "stderr",
          "text": [
            "Epoch 283/1000: 100%|██████████| 90/90 [00:39<00:00,  2.29it/s]\n"
          ]
        },
        {
          "output_type": "stream",
          "name": "stdout",
          "text": [
            "Epoch 283/1000 | Loss: 3.8799 | Masked Acc: 0.4370\n"
          ]
        },
        {
          "output_type": "stream",
          "name": "stderr",
          "text": [
            "Epoch 284/1000: 100%|██████████| 90/90 [00:39<00:00,  2.30it/s]\n"
          ]
        },
        {
          "output_type": "stream",
          "name": "stdout",
          "text": [
            "Epoch 284/1000 | Loss: 3.8807 | Masked Acc: 0.4369\n"
          ]
        },
        {
          "output_type": "stream",
          "name": "stderr",
          "text": [
            "Epoch 285/1000: 100%|██████████| 90/90 [00:39<00:00,  2.29it/s]\n"
          ]
        },
        {
          "output_type": "stream",
          "name": "stdout",
          "text": [
            "Epoch 285/1000 | Loss: 3.8811 | Masked Acc: 0.4366\n"
          ]
        },
        {
          "output_type": "stream",
          "name": "stderr",
          "text": [
            "Epoch 286/1000: 100%|██████████| 90/90 [00:39<00:00,  2.29it/s]\n"
          ]
        },
        {
          "output_type": "stream",
          "name": "stdout",
          "text": [
            "Epoch 286/1000 | Loss: 3.8794 | Masked Acc: 0.4373\n"
          ]
        },
        {
          "output_type": "stream",
          "name": "stderr",
          "text": [
            "Epoch 287/1000: 100%|██████████| 90/90 [00:39<00:00,  2.29it/s]\n"
          ]
        },
        {
          "output_type": "stream",
          "name": "stdout",
          "text": [
            "Epoch 287/1000 | Loss: 3.8755 | Masked Acc: 0.4374\n"
          ]
        },
        {
          "output_type": "stream",
          "name": "stderr",
          "text": [
            "Epoch 288/1000: 100%|██████████| 90/90 [00:39<00:00,  2.29it/s]\n"
          ]
        },
        {
          "output_type": "stream",
          "name": "stdout",
          "text": [
            "Epoch 288/1000 | Loss: 3.8777 | Masked Acc: 0.4375\n"
          ]
        },
        {
          "output_type": "stream",
          "name": "stderr",
          "text": [
            "Epoch 289/1000: 100%|██████████| 90/90 [00:39<00:00,  2.29it/s]\n"
          ]
        },
        {
          "output_type": "stream",
          "name": "stdout",
          "text": [
            "Epoch 289/1000 | Loss: 3.8841 | Masked Acc: 0.4366\n"
          ]
        },
        {
          "output_type": "stream",
          "name": "stderr",
          "text": [
            "Epoch 290/1000: 100%|██████████| 90/90 [00:39<00:00,  2.29it/s]\n"
          ]
        },
        {
          "output_type": "stream",
          "name": "stdout",
          "text": [
            "Epoch 290/1000 | Loss: 3.8819 | Masked Acc: 0.4368\n"
          ]
        },
        {
          "output_type": "stream",
          "name": "stderr",
          "text": [
            "Epoch 291/1000: 100%|██████████| 90/90 [00:39<00:00,  2.29it/s]\n"
          ]
        },
        {
          "output_type": "stream",
          "name": "stdout",
          "text": [
            "Epoch 291/1000 | Loss: 3.8836 | Masked Acc: 0.4366\n"
          ]
        },
        {
          "output_type": "stream",
          "name": "stderr",
          "text": [
            "Epoch 292/1000: 100%|██████████| 90/90 [00:39<00:00,  2.28it/s]\n"
          ]
        },
        {
          "output_type": "stream",
          "name": "stdout",
          "text": [
            "Epoch 292/1000 | Loss: 3.8821 | Masked Acc: 0.4373\n"
          ]
        },
        {
          "output_type": "stream",
          "name": "stderr",
          "text": [
            "Epoch 293/1000: 100%|██████████| 90/90 [00:39<00:00,  2.28it/s]\n"
          ]
        },
        {
          "output_type": "stream",
          "name": "stdout",
          "text": [
            "Epoch 293/1000 | Loss: 3.8818 | Masked Acc: 0.4370\n"
          ]
        },
        {
          "output_type": "stream",
          "name": "stderr",
          "text": [
            "Epoch 294/1000: 100%|██████████| 90/90 [00:39<00:00,  2.28it/s]\n"
          ]
        },
        {
          "output_type": "stream",
          "name": "stdout",
          "text": [
            "Epoch 294/1000 | Loss: 3.8875 | Masked Acc: 0.4364\n"
          ]
        },
        {
          "output_type": "stream",
          "name": "stderr",
          "text": [
            "Epoch 295/1000: 100%|██████████| 90/90 [00:39<00:00,  2.28it/s]\n"
          ]
        },
        {
          "output_type": "stream",
          "name": "stdout",
          "text": [
            "Epoch 295/1000 | Loss: 3.8874 | Masked Acc: 0.4367\n"
          ]
        },
        {
          "output_type": "stream",
          "name": "stderr",
          "text": [
            "Epoch 296/1000: 100%|██████████| 90/90 [00:39<00:00,  2.28it/s]\n"
          ]
        },
        {
          "output_type": "stream",
          "name": "stdout",
          "text": [
            "Epoch 296/1000 | Loss: 3.8891 | Masked Acc: 0.4358\n"
          ]
        },
        {
          "output_type": "stream",
          "name": "stderr",
          "text": [
            "Epoch 297/1000: 100%|██████████| 90/90 [00:39<00:00,  2.28it/s]\n"
          ]
        },
        {
          "output_type": "stream",
          "name": "stdout",
          "text": [
            "Epoch 297/1000 | Loss: 3.8922 | Masked Acc: 0.4356\n"
          ]
        },
        {
          "output_type": "stream",
          "name": "stderr",
          "text": [
            "Epoch 298/1000: 100%|██████████| 90/90 [00:39<00:00,  2.28it/s]\n"
          ]
        },
        {
          "output_type": "stream",
          "name": "stdout",
          "text": [
            "Epoch 298/1000 | Loss: 3.8890 | Masked Acc: 0.4363\n"
          ]
        },
        {
          "output_type": "stream",
          "name": "stderr",
          "text": [
            "Epoch 299/1000: 100%|██████████| 90/90 [00:39<00:00,  2.28it/s]\n"
          ]
        },
        {
          "output_type": "stream",
          "name": "stdout",
          "text": [
            "Epoch 299/1000 | Loss: 3.8880 | Masked Acc: 0.4366\n"
          ]
        },
        {
          "output_type": "stream",
          "name": "stderr",
          "text": [
            "Epoch 300/1000: 100%|██████████| 90/90 [00:39<00:00,  2.28it/s]\n"
          ]
        },
        {
          "output_type": "stream",
          "name": "stdout",
          "text": [
            "Epoch 300/1000 | Loss: 3.8871 | Masked Acc: 0.4368\n",
            "Saved model at epoch 300\n"
          ]
        },
        {
          "output_type": "stream",
          "name": "stderr",
          "text": [
            "Epoch 301/1000:  51%|█████     | 46/90 [00:20<00:19,  2.25it/s]\n"
          ]
        },
        {
          "output_type": "error",
          "ename": "KeyboardInterrupt",
          "evalue": "",
          "traceback": [
            "\u001b[0;31m---------------------------------------------------------------------------\u001b[0m",
            "\u001b[0;31mKeyboardInterrupt\u001b[0m                         Traceback (most recent call last)",
            "\u001b[0;32m<ipython-input-20-f0419108e55d>\u001b[0m in \u001b[0;36m<cell line: 0>\u001b[0;34m()\u001b[0m\n\u001b[1;32m     14\u001b[0m \u001b[0muse_pos_emb\u001b[0m \u001b[0;34m=\u001b[0m \u001b[0;32mFalse\u001b[0m\u001b[0;34m\u001b[0m\u001b[0;34m\u001b[0m\u001b[0m\n\u001b[1;32m     15\u001b[0m \u001b[0mrel_bias_init\u001b[0m \u001b[0;34m=\u001b[0m \u001b[0mtorch\u001b[0m\u001b[0;34m.\u001b[0m\u001b[0mtensor\u001b[0m\u001b[0;34m(\u001b[0m\u001b[0mpatch_cov\u001b[0m\u001b[0;34m,\u001b[0m\u001b[0mdtype\u001b[0m\u001b[0;34m=\u001b[0m\u001b[0mtorch\u001b[0m\u001b[0;34m.\u001b[0m\u001b[0mfloat32\u001b[0m\u001b[0;34m)\u001b[0m\u001b[0;34m\u001b[0m\u001b[0;34m\u001b[0m\u001b[0m\n\u001b[0;32m---> 16\u001b[0;31m trained_model = run_training(training_data, nr_epochs, batch_size, mask_rate, final_mask_rate, mask_schedule, patch_size,\n\u001b[0m\u001b[1;32m     17\u001b[0m                              num_heads, num_layers, ffn_dim, learning_rate, emb_dim, vocab_cap,use_pos_emb=use_pos_emb,rel_bias=rel_bias_init)\n",
            "\u001b[0;32m<ipython-input-19-2ce1d96c069b>\u001b[0m in \u001b[0;36mrun_training\u001b[0;34m(training_data, nr_epochs, batch_size, mask_rate, final_mask_rate, mask_schedule, patch_size, num_heads, num_layers, ffn_dim, learning_rate, emb_dim, vocab_cap, use_pos_emb, pos_emb, use_rel_bias, rel_bias)\u001b[0m\n\u001b[1;32m    142\u001b[0m             \u001b[0mlast_batch_patches\u001b[0m \u001b[0;34m=\u001b[0m \u001b[0mpatches\u001b[0m\u001b[0;34m.\u001b[0m\u001b[0mdetach\u001b[0m\u001b[0;34m(\u001b[0m\u001b[0;34m)\u001b[0m\u001b[0;34m.\u001b[0m\u001b[0mcpu\u001b[0m\u001b[0;34m(\u001b[0m\u001b[0;34m)\u001b[0m\u001b[0;34m\u001b[0m\u001b[0;34m\u001b[0m\u001b[0m\n\u001b[1;32m    143\u001b[0m             \u001b[0mlast_batch_mask\u001b[0m \u001b[0;34m=\u001b[0m \u001b[0mmask\u001b[0m\u001b[0;34m.\u001b[0m\u001b[0mdetach\u001b[0m\u001b[0;34m(\u001b[0m\u001b[0;34m)\u001b[0m\u001b[0;34m.\u001b[0m\u001b[0mcpu\u001b[0m\u001b[0;34m(\u001b[0m\u001b[0;34m)\u001b[0m\u001b[0;34m\u001b[0m\u001b[0;34m\u001b[0m\u001b[0m\n\u001b[0;32m--> 144\u001b[0;31m             \u001b[0mlast_batch_logits\u001b[0m \u001b[0;34m=\u001b[0m \u001b[0mlogits\u001b[0m\u001b[0;34m.\u001b[0m\u001b[0mdetach\u001b[0m\u001b[0;34m(\u001b[0m\u001b[0;34m)\u001b[0m\u001b[0;34m.\u001b[0m\u001b[0mcpu\u001b[0m\u001b[0;34m(\u001b[0m\u001b[0;34m)\u001b[0m\u001b[0;34m\u001b[0m\u001b[0;34m\u001b[0m\u001b[0m\n\u001b[0m\u001b[1;32m    145\u001b[0m             \u001b[0mlast_targets\u001b[0m \u001b[0;34m=\u001b[0m \u001b[0mtargets\u001b[0m\u001b[0;34m.\u001b[0m\u001b[0mdetach\u001b[0m\u001b[0;34m(\u001b[0m\u001b[0;34m)\u001b[0m\u001b[0;34m.\u001b[0m\u001b[0mcpu\u001b[0m\u001b[0;34m(\u001b[0m\u001b[0;34m)\u001b[0m\u001b[0;34m\u001b[0m\u001b[0;34m\u001b[0m\u001b[0m\n\u001b[1;32m    146\u001b[0m \u001b[0;34m\u001b[0m\u001b[0m\n",
            "\u001b[0;31mKeyboardInterrupt\u001b[0m: "
          ]
        }
      ]
    },
    {
      "cell_type": "code",
      "source": [
        "device = torch.device(\"cuda\" if torch.cuda.is_available() else \"cpu\")\n",
        "model.to(device)\n",
        "model.vocab = model.vocab.to(device)\n",
        "model.mask_token = model.mask_token.to(device)\n",
        "cond_image_list = []\n",
        "cond_image_list_r = []\n",
        "cond_image_list_m1 = []\n",
        "ll_list = []\n",
        "ll_list_r = []\n",
        "ll_list_m1 = []\n",
        "for i in range(10):\n",
        "  cond_images,lls = generate_images_batch(model,patch_size,image_size=H,batch_size=100,device=device,condition_indices=flattened_condition_indices,condition_values=condition_values_new)\n",
        "  cond_images_r,lls_r = generate_images_batch(model,patch_size,image_size=H,batch_size=100,device=device,condition_indices=flattened_condition_indices,condition_values=condition_values_new,generation_order=\"random\")\n",
        "  cond_images_m1,lls_m1 = generate_images_batch_method1(model,patch_size,image_size=H,batch_size=100,device=device,condition_indices=flattened_condition_indices,condition_values=condition_values_new)\n",
        "  cond_image_list.append(cond_images)\n",
        "  cond_image_list_r.append(cond_images_r)\n",
        "  cond_image_list_m1.append(cond_images_m1)\n",
        "  ll_list_r.append(lls_r)\n",
        "  ll_list.append(lls)\n",
        "  ll_list_m1.append(lls_m1)\n",
        "cond_images = torch.cat(cond_image_list,dim=0)\n",
        "cond_images_np = cond_images.numpy()\n",
        "np.save(\"cond_images_manhattan.npy\",cond_images_np)\n",
        "ll_np = np.array(ll_list)\n",
        "ll_np = ll_np.reshape(-1)\n",
        "np.save(\"ll_manhattan.npy\",ll_np)\n",
        "cond_images_r = torch.cat(cond_image_list_r,dim=0)\n",
        "cond_images_np_r = cond_images_r.numpy()\n",
        "np.save(\"cond_images_manhattan_r.npy\",cond_images_np_r)\n",
        "ll_np_r = np.array(ll_list_r)\n",
        "ll_np_r = ll_np_r.reshape(-1)\n",
        "np.save(\"ll_manhattan_r.npy\",ll_np_r)\n",
        "cond_images_m1 = torch.cat(cond_image_list_m1,dim=0)\n",
        "cond_images_np_m1 = cond_images_m1.numpy()\n",
        "np.save(\"cond_images_manhattan_m1.npy\",cond_images_np_m1)\n",
        "ll_np_m1 = np.array(ll_list_m1)\n",
        "ll_np_m1 = ll_np_m1.reshape(-1)\n",
        "np.save(\"ll_manhattan_m1.npy\",ll_np_m1)"
      ],
      "metadata": {
        "id": "Z5WXIthK9Qt0"
      },
      "execution_count": null,
      "outputs": []
    },
    {
      "cell_type": "code",
      "source": [
        "cond_images_np.shape"
      ],
      "metadata": {
        "colab": {
          "base_uri": "https://localhost:8080/"
        },
        "id": "6JZjJwpDmoqv",
        "outputId": "e63c16d8-e965-4a73-d468-88b275bcf66b"
      },
      "execution_count": null,
      "outputs": [
        {
          "output_type": "execute_result",
          "data": {
            "text/plain": [
              "(1000, 64, 64)"
            ]
          },
          "metadata": {},
          "execution_count": 30
        }
      ]
    },
    {
      "cell_type": "code",
      "source": [
        "cond_images_np = cond_images.numpy()\n",
        "np.save(\"cond_images_manhattan.npy\",cond_images_np)"
      ],
      "metadata": {
        "id": "hSibtnplLgtY"
      },
      "execution_count": null,
      "outputs": []
    },
    {
      "cell_type": "code",
      "source": [
        "# Compute the marginal probabilities for each cell in the 1000 realizations\n",
        "manhattan_marginal_probabilities = np.zeros((64,64))\n",
        "random_marginal_probabilities = np.zeros((64,64))\n",
        "VEA_marginal_probabilities = np.zeros((64,64))\n",
        "for i in range(64):\n",
        "    for j in range(64):\n",
        "        manhattan_marginal_probabilities[i,j] = np.mean(cond_images_np[:,i,j])\n",
        "        random_marginal_probabilities[i,j] = np.mean(cond_images_np_r[:,i,j])\n",
        "        VEA_marginal_probabilities[i,j] = np.mean(cond_data[:,i,j])\n",
        "\n",
        "# Plot the marginal probabilities\n",
        "fig, axs = plt.subplots(1,3, figsize=(30,10))\n",
        "\n",
        "axs[0].imshow(manhattan_marginal_probabilities, cmap='gray')\n",
        "# Add gridlines every 4 pixels, there should be 17 lines in each direction\n",
        "axs[0].set_xticks(np.arange(-.5, 64, 4), minor=True)\n",
        "axs[0].set_yticks(np.arange(-.5, 64, 4), minor=True)\n",
        "axs[0].grid(which='minor', color='r', linestyle='-', linewidth=2)\n",
        "axs[0].set_title('Manhattan')\n",
        "axs[1].imshow(random_marginal_probabilities, cmap='gray')\n",
        "axs[1].set_xticks(np.arange(-.5, 64, 4), minor=True)\n",
        "axs[1].set_yticks(np.arange(-.5, 64, 4), minor=True)\n",
        "axs[1].grid(which='minor', color='r', linestyle='-', linewidth=2)\n",
        "axs[1].set_title('Random')\n",
        "axs[2].imshow(VEA_marginal_probabilities, cmap='gray')\n",
        "axs[2].set_xticks(np.arange(-.5, 64, 4), minor=True)\n",
        "axs[2].set_yticks(np.arange(-.5, 64, 4), minor=True)\n",
        "axs[2].grid(which='minor', color='r', linestyle='-', linewidth=2)\n",
        "axs[2].set_title('VEA')\n",
        "for ax in axs.flat:\n",
        "    ax.label_outer()\n",
        "plt.show()"
      ],
      "metadata": {
        "colab": {
          "base_uri": "https://localhost:8080/",
          "height": 450
        },
        "id": "HUJJsq44EhEG",
        "outputId": "ab96dea3-274d-4ef9-8861-17eb59ce8231"
      },
      "execution_count": null,
      "outputs": [
        {
          "output_type": "display_data",
          "data": {
            "text/plain": [
              "<Figure size 3000x1000 with 3 Axes>"
            ],
            "image/png": "[encoded data removed]"
          },
          "metadata": {}
        }
      ]
    },
    {
      "cell_type": "code",
      "source": [
        "plt.imshow(model.rel_bias.cpu().detach().numpy(),cmap='gray')\n",
        "plt.colorbar()\n",
        "plt.title(\"Relative Positional Encoding\")\n",
        "plt.show()"
      ],
      "metadata": {
        "colab": {
          "base_uri": "https://localhost:8080/",
          "height": 452
        },
        "id": "fwJzwqv32QTJ",
        "outputId": "2b209ecd-f2d0-44a8-a7ed-84569d0991b2"
      },
      "execution_count": null,
      "outputs": [
        {
          "output_type": "display_data",
          "data": {
            "text/plain": [
              "<Figure size 640x480 with 2 Axes>"
            ],
            "image/png": "[encoded data removed]"
          },
          "metadata": {}
        }
      ]
    },
    {
      "cell_type": "code",
      "source": [
        "pos_emb_avg = np.mean(model_wo_PE.pos_emb.cpu().detach().numpy(),axis=1)\n",
        "pos_emb_avg = pos_emb_avg.reshape(16,16)\n",
        "plt.imshow(pos_emb_avg,cmap='gray')\n",
        "plt.colorbar()\n",
        "plt.title(\"Average Absolute Positional Encoding\")\n",
        "plt.show()"
      ],
      "metadata": {
        "colab": {
          "base_uri": "https://localhost:8080/",
          "height": 452
        },
        "id": "z4NZagcxE_Xx",
        "outputId": "8b89b3f9-2867-45d2-c876-f2103ba207fe"
      },
      "execution_count": null,
      "outputs": [
        {
          "output_type": "display_data",
          "data": {
            "text/plain": [
              "<Figure size 640x480 with 2 Axes>"
            ],
            "image/png": "[encoded data removed]"
          },
          "metadata": {}
        }
      ]
    },
    {
      "cell_type": "code",
      "source": [
        "# Make list of list to numpy\n",
        "ll_np = np.array(ll_list)\n",
        "ll_np = ll_np.reshape(-1)\n",
        "print(ll_np.shape)\n",
        "np.save(\"ll_manhattan.npy\",ll_np)"
      ],
      "metadata": {
        "colab": {
          "base_uri": "https://localhost:8080/"
        },
        "id": "s_TjitlIMJX1",
        "outputId": "1bf7e752-1df9-45cc-cea4-8b763cad83df"
      },
      "execution_count": null,
      "outputs": [
        {
          "output_type": "stream",
          "name": "stdout",
          "text": [
            "(1000,)\n"
          ]
        }
      ]
    },
    {
      "cell_type": "code",
      "source": [
        "print(cond_images_np.shape)\n",
        "plt.imshow(cond_images[5],cmap=\"gray\")\n",
        "plt.scatter(condition_indices_y,condition_indices_x,c=condition_values,cmap='viridis')\n",
        "plt.show()"
      ],
      "metadata": {
        "colab": {
          "base_uri": "https://localhost:8080/",
          "height": 432
        },
        "id": "XPbj3dYGDLiI",
        "outputId": "06c86f6e-4a91-49c4-9c2c-57f70546ee79"
      },
      "execution_count": null,
      "outputs": [
        {
          "output_type": "display_data",
          "data": {
            "text/plain": [
              "<Figure size 640x480 with 1 Axes>"
            ],
            "image/png": "[encoded data removed]"
          },
          "metadata": {}
        }
      ]
    },
    {
      "cell_type": "code",
      "source": [
        "cond_images,lls = generate_images_batch_method1(model,patch_size,image_size=H,batch_size=10,device=device,condition_indices=condition_indices,condition_values=condition_values)"
      ],
      "metadata": {
        "id": "pI5fFhyU8_Hs"
      },
      "execution_count": null,
      "outputs": []
    },
    {
      "cell_type": "code",
      "source": [
        "final_img, ll = generate_video_method1(\n",
        "    model, patch_size, W,\n",
        "    condition_indices=condition_indices,\n",
        "    condition_values=condition_values,\n",
        "    topk=16, log_frequency=1,\n",
        "    video_filename=\"method1.mp4\", fps=4\n",
        ")"
      ],
      "metadata": {
        "colab": {
          "base_uri": "https://localhost:8080/"
        },
        "id": "m4OexScrNFZA",
        "outputId": "e0383b17-7ea3-42b3-8cb2-aeda977cd73d"
      },
      "execution_count": null,
      "outputs": [
        {
          "output_type": "stream",
          "name": "stderr",
          "text": [
            "Method1 sampling:  72%|███████▏  | 714/994 [07:00<03:45,  1.24it/s]"
          ]
        }
      ]
    },
    {
      "cell_type": "code",
      "source": [
        "manhattan_order = torch.stack(manhattan_order)\n",
        "raster_order = torch.stack(raster_order)\n",
        "random_order = torch.stack(random_order)\n",
        "manhattan_order = manhattan_order.cpu().detach().numpy()\n",
        "raster_order = raster_order.cpu().detach().numpy()\n",
        "random_order = random_order.cpu().detach().numpy()"
      ],
      "metadata": {
        "id": "IV_d-l7VJ8Ts"
      },
      "execution_count": null,
      "outputs": []
    },
    {
      "cell_type": "code",
      "source": [
        "import io\n",
        "import math\n",
        "from PIL import Image\n",
        "import matplotlib.pyplot as plt\n",
        "from matplotlib.colors import ListedColormap\n",
        "import matplotlib.patches as mpatches\n",
        "import numpy as np\n",
        "import torch\n",
        "import torch.nn.functional as F\n",
        "from tqdm import tqdm\n",
        "import imageio\n",
        "\n",
        "# Ensure you import this from wherever you defined it:\n",
        "# from ViT import patches_to_image\n",
        "\n",
        "def fig_to_np(fig):\n",
        "    buf = io.BytesIO()\n",
        "    fig.savefig(buf, format=\"png\", bbox_inches=\"tight\")\n",
        "    buf.seek(0)\n",
        "    return np.array(Image.open(buf).convert(\"RGB\"))\n",
        "\n",
        "def add_colored_border(token, border_width=1, border_color=(1, 0, 0)):\n",
        "    token_rgb = np.stack([token] * 3, axis=-1)\n",
        "    H, W, _ = token_rgb.shape\n",
        "    new_H, new_W = H + 2 * border_width, W + 2 * border_width\n",
        "    bordered = np.ones((new_H, new_W, 3)) * 0.5\n",
        "    bordered[border_width:border_width + H, border_width:border_width + W, :] = token_rgb\n",
        "    bordered[:border_width, :, :] = border_color\n",
        "    bordered[-border_width:, :, :] = border_color\n",
        "    bordered[:, :border_width, :] = border_color\n",
        "    bordered[:, -border_width:, :] = border_color\n",
        "    return bordered\n",
        "\n",
        "def generate_video_method1(\n",
        "    model,\n",
        "    patch_size,\n",
        "    image_size,\n",
        "    condition_indices=None,\n",
        "    condition_values=None,\n",
        "    topk=10,\n",
        "    log_frequency=20,\n",
        "    video_filename=\"generation_method1.mp4\",\n",
        "    fps=4\n",
        "):\n",
        "    \"\"\"\n",
        "    Method1: 'sample-all-then-select' video generator with 4-panel logging.\n",
        "    \"\"\"\n",
        "    device = next(model.parameters()).device\n",
        "    model.eval()\n",
        "\n",
        "    grid_size     = image_size // patch_size\n",
        "    total_patches = grid_size * grid_size\n",
        "    patch_dim     = patch_size * patch_size\n",
        "\n",
        "    # 1) Initialize all patches to mask token\n",
        "    generated_patches = (\n",
        "        model.mask_token.detach().to(device)\n",
        "        .unsqueeze(0)             # [1, patch_dim]\n",
        "        .expand(total_patches, patch_dim)\n",
        "        .clone()\n",
        "    )\n",
        "    sampled_flags = torch.zeros(total_patches, dtype=torch.bool, device=device)\n",
        "\n",
        "    # 2) Build conditioning dict\n",
        "    conditions_by_patch = {}\n",
        "    if condition_indices is not None and condition_values is not None:\n",
        "        for pix_idx, pix_val in zip(condition_indices, condition_values):\n",
        "            r, c = divmod(pix_idx, image_size)\n",
        "            pr, pc = r // patch_size, c // patch_size\n",
        "            pidx = pr * grid_size + pc\n",
        "            local = (r % patch_size) * patch_size + (c % patch_size)\n",
        "            conditions_by_patch.setdefault(pidx, []).append((local, pix_val))\n",
        "\n",
        "    log_likelihood_sum = 0.0\n",
        "    frames_list        = []\n",
        "    condition_cmap     = ListedColormap([\"blue\", \"red\"])\n",
        "    update_step        = 0\n",
        "\n",
        "    # ——— Fill observed patches first ———\n",
        "    if conditions_by_patch:\n",
        "        with torch.no_grad():\n",
        "            logits_obs, _ = model(generated_patches.unsqueeze(0), mask_rate=0.0)  # [1, P, V]\n",
        "\n",
        "        for pidx in sorted(conditions_by_patch):\n",
        "            # Filter logits under conditioning\n",
        "            lc = logits_obs[0, pidx].clone()\n",
        "            valid = torch.ones(model.vocab_size, device=device, dtype=torch.bool)\n",
        "            for local, val in conditions_by_patch[pidx]:\n",
        "                valid &= (model.vocab[:, local].to(device) == val)\n",
        "            lc[~valid] = -float('inf')\n",
        "\n",
        "            # Sample\n",
        "            probs = F.softmax(lc, dim=-1)\n",
        "            samp  = torch.multinomial(probs, 1).item()\n",
        "            lp    = math.log(probs[samp].item() + 1e-10)\n",
        "            log_likelihood_sum += lp\n",
        "\n",
        "            # Update\n",
        "            generated_patches[pidx] = model.vocab[samp].to(device)\n",
        "            sampled_flags[pidx]     = True\n",
        "\n",
        "            # Log a frame\n",
        "            if update_step % log_frequency == 0:\n",
        "                fig, axes = plt.subplots(1, 4, figsize=(28, 7))\n",
        "\n",
        "                # Panel 1: Current Image\n",
        "                display_patches = []\n",
        "                for i in range(total_patches):\n",
        "                    if sampled_flags[i]:\n",
        "                        display_patches.append(generated_patches[i])\n",
        "                    else:\n",
        "                        display_patches.append(torch.full((patch_dim,), 0.5, device=device))\n",
        "                disp_t = torch.stack(display_patches)\n",
        "                curr_img = patches_to_image(disp_t, (image_size, image_size), patch_size)\n",
        "                axes[0].imshow(curr_img.cpu().numpy(), cmap=\"gray\", vmin=0, vmax=1)\n",
        "                if condition_indices is not None:\n",
        "                    xs = condition_indices // image_size\n",
        "                    ys = condition_indices % image_size\n",
        "                    axes[0].scatter(ys, xs, c=condition_values, cmap=condition_cmap, s=20, edgecolors=\"white\")\n",
        "                row0 = (pidx // grid_size) * patch_size\n",
        "                col0 = (pidx % grid_size) * patch_size\n",
        "                axes[0].add_patch(mpatches.Rectangle(\n",
        "                    (col0 - .5, row0 - .5), patch_size, patch_size,\n",
        "                    linewidth=2, edgecolor=\"green\", facecolor=\"none\"))\n",
        "                axes[0].set_title(f\"Step {update_step}: patch {pidx}\")\n",
        "                axes[0].axis(\"off\")\n",
        "\n",
        "                # Panel 2: Probabilities bar\n",
        "                top_vals, top_inds = torch.topk(probs, topk)\n",
        "                axes[1].bar(range(topk), top_vals.cpu().numpy())\n",
        "                axes[1].set_xticks(range(topk))\n",
        "                axes[1].set_xticklabels(top_inds.cpu().numpy())\n",
        "                axes[1].set_ylim(0, 1)\n",
        "                axes[1].set_title(\"Token Probabilities\")\n",
        "\n",
        "                # Panel 3: Top-k token images\n",
        "                token_imgs = []\n",
        "                for tidx in top_inds:\n",
        "                    tok = model.vocab[tidx].detach().cpu().view(patch_size, patch_size).numpy()\n",
        "                    token_imgs.append(add_colored_border(tok, border_width=1))\n",
        "                axes[2].imshow(np.hstack(token_imgs), cmap=\"gray\", vmin=0, vmax=1)\n",
        "                axes[2].axis(\"off\")\n",
        "                axes[2].set_title(\"Top-k Tokens\")\n",
        "\n",
        "                # Panel 4: Argmax reconstruction\n",
        "                recon_ids    = torch.argmax(logits_obs[0], dim=-1)\n",
        "                recon_patches = model.vocab[recon_ids]\n",
        "                recon_img     = patches_to_image(recon_patches, (image_size, image_size), patch_size)\n",
        "                axes[3].imshow(recon_img.cpu().numpy(), cmap=\"gray\", vmin=0, vmax=1)\n",
        "                axes[3].set_title(\"Argmax Recon\")\n",
        "                axes[3].axis(\"off\")\n",
        "\n",
        "                plt.suptitle(f\"Filling observed patch {pidx}\")\n",
        "                composite = fig_to_np(fig)\n",
        "                plt.close(fig)\n",
        "                frames_list.append(composite)\n",
        "\n",
        "            update_step += 1\n",
        "\n",
        "    # ——— Now dynamically fill remaining patches via Method 1 ———\n",
        "    to_fill = total_patches - sampled_flags.sum().item()\n",
        "    for _ in tqdm(range(to_fill), desc=\"Method1 sampling\"):\n",
        "        with torch.no_grad():\n",
        "            logits_full, _ = model(generated_patches.unsqueeze(0), mask_rate=0.0)  # [1, P, V]\n",
        "\n",
        "        # Sample one token per patch\n",
        "        flat_logits   = logits_full[0].view(total_patches, model.vocab_size)  # [P, V]\n",
        "        flat_probs    = F.softmax(flat_logits, dim=-1)\n",
        "        flat_samps    = torch.multinomial(flat_probs, 1).squeeze(-1)            # [P]\n",
        "        flat_maxprob  = flat_probs[torch.arange(total_patches, device=device), flat_samps]\n",
        "        flat_maxprob[sampled_flags] = -float('inf')\n",
        "\n",
        "        # Pick the patch with highest sampled-prob\n",
        "        pidx = torch.argmax(flat_maxprob).item()\n",
        "\n",
        "        # Filter logits_cur if conditioned\n",
        "        logits_cur = logits_full[0, pidx].clone()\n",
        "        if pidx in conditions_by_patch:\n",
        "            vm = torch.ones(model.vocab_size, device=device, dtype=torch.bool)\n",
        "            for local, val in conditions_by_patch[pidx]:\n",
        "                vm &= (model.vocab[:, local].to(device) == val)\n",
        "            logits_cur[~vm] = -float('inf')\n",
        "        probs_cur = F.softmax(logits_cur, dim=-1)\n",
        "\n",
        "        # Sample and accumulate log‐lik\n",
        "        chosen = flat_samps[pidx].item()\n",
        "        lp     = math.log(probs_cur[chosen].item() + 1e-10)\n",
        "        log_likelihood_sum += lp\n",
        "\n",
        "        # Update\n",
        "        generated_patches[pidx] = model.vocab[chosen].to(device)\n",
        "        sampled_flags[pidx]     = True\n",
        "\n",
        "        # Log a frame\n",
        "        if update_step % log_frequency == 0:\n",
        "            fig, axes = plt.subplots(1, 4, figsize=(28, 7))\n",
        "\n",
        "            # Panel 1: Current Image\n",
        "            display_patches = []\n",
        "            for i in range(total_patches):\n",
        "                if sampled_flags[i]:\n",
        "                    display_patches.append(generated_patches[i])\n",
        "                else:\n",
        "                    display_patches.append(torch.full((patch_dim,), 0.5, device=device))\n",
        "            disp_t = torch.stack(display_patches)\n",
        "            curr_img = patches_to_image(disp_t, (image_size, image_size), patch_size)\n",
        "            axes[0].imshow(curr_img.cpu().numpy(), cmap=\"gray\", vmin=0, vmax=1)\n",
        "            if condition_indices is not None:\n",
        "                xs = condition_indices // image_size\n",
        "                ys = condition_indices % image_size\n",
        "                axes[0].scatter(ys, xs, c=condition_values, cmap=condition_cmap, s=20, edgecolors=\"white\")\n",
        "            row0 = (pidx // grid_size) * patch_size\n",
        "            col0 = (pidx % grid_size) * patch_size\n",
        "            axes[0].add_patch(mpatches.Rectangle(\n",
        "                (col0 - .5, row0 - .5), patch_size, patch_size,\n",
        "                linewidth=2, edgecolor=\"green\", facecolor=\"none\"))\n",
        "            axes[0].set_title(f\"Step {update_step}: patch {pidx}\")\n",
        "            axes[0].axis(\"off\")\n",
        "\n",
        "            # Panel 2: Bar plot of probs_cur\n",
        "            top_vals, top_inds = torch.topk(probs_cur, topk)\n",
        "            axes[1].bar(range(topk), top_vals.cpu().numpy())\n",
        "            axes[1].set_xticks(range(topk))\n",
        "            axes[1].set_xticklabels(top_inds.cpu().numpy())\n",
        "            axes[1].set_ylim(0, 1)\n",
        "            axes[1].set_title(\"Token Probabilities\")\n",
        "\n",
        "            # Panel 3: Top-k token images\n",
        "            token_imgs = []\n",
        "            for tidx in top_inds:\n",
        "                tok = model.vocab[tidx].detach().cpu().view(patch_size, patch_size).numpy()\n",
        "                token_imgs.append(add_colored_border(tok, border_width=1))\n",
        "            axes[2].imshow(np.hstack(token_imgs), cmap=\"gray\", vmin=0, vmax=1)\n",
        "            axes[2].axis(\"off\")\n",
        "            axes[2].set_title(\"Top-k Tokens\")\n",
        "\n",
        "            # Panel 4: Argmax reconstruction from logits_full\n",
        "            recon_ids     = torch.argmax(logits_full[0], dim=-1)\n",
        "            recon_patches = model.vocab[recon_ids]\n",
        "            recon_img     = patches_to_image(recon_patches, (image_size, image_size), patch_size)\n",
        "            axes[3].imshow(recon_img.cpu().numpy(), cmap=\"gray\", vmin=0, vmax=1)\n",
        "            axes[3].set_title(\"Argmax Recon\")\n",
        "            axes[3].axis(\"off\")\n",
        "\n",
        "            plt.suptitle(f\"Filling patch {pidx}\")\n",
        "            composite = fig_to_np(fig)\n",
        "            plt.close(fig)\n",
        "            frames_list.append(composite)\n",
        "\n",
        "        update_step += 1\n",
        "\n",
        "    # Final image (unsampled→0.5)\n",
        "    display = torch.where(\n",
        "        sampled_flags.unsqueeze(-1),\n",
        "        generated_patches,\n",
        "        torch.full((total_patches, patch_dim), 0.5, device=device)\n",
        "    )\n",
        "    final_img = patches_to_image(display, (image_size, image_size), patch_size)\n",
        "\n",
        "    # Save video\n",
        "    imageio.mimwrite(video_filename, frames_list, fps=fps)\n",
        "    print(f\"Saved Method1 video to {video_filename}\")\n",
        "\n",
        "    return final_img, log_likelihood_sum"
      ],
      "metadata": {
        "id": "8-6YTLVk81Jh"
      },
      "execution_count": null,
      "outputs": []
    },
    {
      "cell_type": "code",
      "source": [
        "import io\n",
        "from PIL import Image\n",
        "import matplotlib.pyplot as plt\n",
        "import matplotlib.gridspec as gridspec\n",
        "from matplotlib.colors import ListedColormap\n",
        "import matplotlib.patches as mpatches\n",
        "import numpy as np\n",
        "import torch\n",
        "import torch.nn.functional as F\n",
        "from tqdm import tqdm\n",
        "import imageio\n",
        "\n",
        "def add_colored_border(token, border_width=1, border_color=(1, 0, 0)):\n",
        "    \"\"\"\n",
        "    Convert a 2D token image (grayscale, values in [0,1]) to a 3-channel RGB image,\n",
        "    and add a border of specified width and color.\n",
        "\n",
        "    Args:\n",
        "        token: numpy 2D array of shape (patch_size, patch_size).\n",
        "        border_width: width (in pixels) of the border.\n",
        "        border_color: tuple (R, G, B) with values in [0, 1] for the border color.\n",
        "\n",
        "    Returns:\n",
        "        token_with_border: numpy array of shape (patch_size+2*border_width, patch_size+2*border_width, 3).\n",
        "    \"\"\"\n",
        "    # Convert token to RGB by stacking along the last dimension.\n",
        "    token_rgb = np.stack([token] * 3, axis=-1)\n",
        "    H, W, _ = token_rgb.shape\n",
        "    new_H, new_W = H + 2 * border_width, W + 2 * border_width\n",
        "    # Initialize a new image with a gray background (0.5).\n",
        "    bordered = np.ones((new_H, new_W, 3)) * 0.5\n",
        "    # Place the token in the center.\n",
        "    bordered[border_width:border_width + H, border_width:border_width + W, :] = token_rgb\n",
        "    # Set borders to the given border color.\n",
        "    bordered[:border_width, :, :] = border_color\n",
        "    bordered[-border_width:, :, :] = border_color\n",
        "    bordered[:, :border_width, :] = border_color\n",
        "    bordered[:, -border_width:, :] = border_color\n",
        "    return bordered\n",
        "\n",
        "def fig_to_np(fig):\n",
        "    \"\"\"Convert a Matplotlib figure to a NumPy array in RGB.\"\"\"\n",
        "    buf = io.BytesIO()\n",
        "    fig.savefig(buf, format=\"png\", bbox_inches=\"tight\")\n",
        "    buf.seek(0)\n",
        "    img = Image.open(buf).convert(\"RGB\")\n",
        "    return np.array(img)\n",
        "\n",
        "def generate_video(model, patch_size, image_size, condition_indices=None, condition_values=None,\n",
        "                   topk=10, log_frequency=20, video_filename=\"generation.mp4\", fps=4):\n",
        "    \"\"\"\n",
        "    Generate an image conditionally while producing composite frames that are later combined into an MP4 video.\n",
        "\n",
        "    For each logged generation step (every log_frequency updates), a composite figure with 4 subplots is created:\n",
        "      1. Current image: unsampled patches appear as uniform gray (0.5). Observed condition points are overlaid\n",
        "         with small scatter markers (blue for 0, red for 1), and the patch to be updated is highlighted by a green rectangle.\n",
        "      2. A bar plot (with fixed axis limits) of the normalized token probabilities (if the patch has conditions, the filtered distribution is used).\n",
        "      3. The top-k candidate tokens displayed as small images (side by side), in the same order as the bar plot.\n",
        "      4. The deterministic reconstruction of the full image (obtained by taking argmax over logits for every patch).\n",
        "\n",
        "    At the end, all composite frames are saved into a video file.\n",
        "\n",
        "    Args:\n",
        "        model: The trained ViT model. Assumes model.vocab is of shape [vocab_size, patch_dim] and model.mask_token is [patch_dim].\n",
        "        patch_size: Side length (in pixels) of each patch (e.g., 2).\n",
        "        image_size: Side length (in pixels) of the full image.\n",
        "        condition_indices: (Optional) List/array of flattened indices for observed cells.\n",
        "        condition_values: (Optional) Corresponding observed cell values (0 or 1).\n",
        "        topk: Number of top candidates to display in the token bar plot and token images.\n",
        "        log_frequency: Log a composite frame every this many patch updates.\n",
        "        video_filename: Output video filename.\n",
        "        fps: Frames per second for the output video.\n",
        "\n",
        "    Returns:\n",
        "        final_generated_image: The final generated image tensor.\n",
        "        log_likelihood_sum: The total accumulated log-probability.\n",
        "    \"\"\"\n",
        "    device = next(model.parameters()).device\n",
        "    model.eval()\n",
        "\n",
        "    grid_size = image_size // patch_size  # assume divisible\n",
        "    total_patches = grid_size * grid_size\n",
        "    patch_dim = patch_size * patch_size\n",
        "\n",
        "    # Initialize generated patches with the model's mask token.\n",
        "    generated_patches = model.mask_token.expand(total_patches, patch_dim).clone().to(device)\n",
        "    # We keep a boolean flag for whether a patch has been sampled.\n",
        "    sampled_flags = torch.zeros(total_patches, dtype=torch.bool, device=device)\n",
        "\n",
        "    # Build mapping from patch index to list of (local_index, observed_value).\n",
        "    conditions_by_patch = {}\n",
        "    if (condition_indices is not None) and (condition_values is not None):\n",
        "        for cond_idx, cond_val in zip(condition_indices, condition_values):\n",
        "            pixel_row = cond_idx // image_size\n",
        "            pixel_col = cond_idx % image_size\n",
        "            patch_row = pixel_row // patch_size\n",
        "            patch_col = pixel_col // patch_size\n",
        "            patch_idx = patch_row * grid_size + patch_col\n",
        "            local_idx = (pixel_row % patch_size) * patch_size + (pixel_col % patch_size)\n",
        "            conditions_by_patch.setdefault(patch_idx, []).append((local_idx, cond_val))\n",
        "\n",
        "    # Determine sampling order: observed patches first, then unobserved sorted by Manhattan distance.\n",
        "    observed_patch_ids = sorted(list(conditions_by_patch.keys()))\n",
        "    all_patch_indices = set(range(total_patches))\n",
        "    for pid in observed_patch_ids:\n",
        "        all_patch_indices.discard(pid)\n",
        "    distance_list = []\n",
        "    for p in all_patch_indices:\n",
        "        row = p // grid_size\n",
        "        col = p % grid_size\n",
        "        dist_sum = sum(abs(row - (op // grid_size)) + abs(col - (op % grid_size)) for op in observed_patch_ids)\n",
        "        distance_list.append((p, dist_sum))\n",
        "    distance_list.sort(key=lambda x: x[1])\n",
        "    unobserved_patch_ids = [p for p, _ in distance_list]\n",
        "    sampling_order = observed_patch_ids + unobserved_patch_ids\n",
        "\n",
        "    log_likelihood_sum = 0.0\n",
        "    frames_list = []  # To collect composite frames for the video\n",
        "\n",
        "    # Define a two-color colormap for condition scatter: blue=0, red=1.\n",
        "    condition_cmap = ListedColormap([\"blue\", \"red\"])\n",
        "\n",
        "    # Generation loop (using tqdm progress bar)\n",
        "    for idx, patch_idx in enumerate(tqdm(sampling_order, desc=\"Sampling patches\")):\n",
        "        current_tokens = generated_patches.unsqueeze(0).clone()  # [1, total_patches, patch_dim]\n",
        "        with torch.no_grad():\n",
        "            logits_full, _ = model(current_tokens, mask_rate=0.0)  # [1, total_patches, vocab_size]\n",
        "        logits_current = logits_full[0, patch_idx]  # [vocab_size]\n",
        "\n",
        "        # Compute normalized probabilities (if patch has conditions, use filtered).\n",
        "        probs_unfiltered = F.softmax(logits_current, dim=-1)\n",
        "        if patch_idx in conditions_by_patch:\n",
        "            valid_mask = torch.ones(model.vocab.shape[0], dtype=torch.bool, device=device)\n",
        "            for local_idx, cond_val in conditions_by_patch[patch_idx]:\n",
        "                valid_mask &= (model.vocab[:, local_idx] == cond_val)\n",
        "            logits_filtered = logits_current.clone()\n",
        "            logits_filtered[~valid_mask] = -float(\"inf\")\n",
        "            probs_norm = F.softmax(logits_filtered, dim=-1)\n",
        "        else:\n",
        "            probs_norm = probs_unfiltered.clone()\n",
        "\n",
        "        # ---- Create Composite Figure for this step ----\n",
        "        fig, axes = plt.subplots(1, 4, figsize=(28, 7))\n",
        "\n",
        "        # (1) Current Image: Build a display image with unsampled patches forced to 0.5.\n",
        "        display_patches = []\n",
        "        for i in range(total_patches):\n",
        "            if sampled_flags[i]:\n",
        "                display_patches.append(generated_patches[i])\n",
        "            else:\n",
        "                display_patches.append(torch.full((patch_dim,), 0.5, device=device))\n",
        "        display_tensor = torch.stack(display_patches)\n",
        "        current_img = patches_to_image(display_tensor, (image_size, image_size), patch_size)\n",
        "        axes[0].imshow(current_img.cpu().detach().numpy(), cmap=\"gray\", vmin=0, vmax=1)\n",
        "        # Overlay a scatter plot for conditions.\n",
        "        if condition_indices is not None and condition_values is not None:\n",
        "            cond_x = condition_indices // image_size\n",
        "            cond_y = condition_indices % image_size\n",
        "            axes[0].scatter(cond_y, cond_x, c=condition_values, cmap=condition_cmap, s=20, edgecolors=\"white\")\n",
        "        # Draw a green rectangle around the patch being updated.\n",
        "        row_coord = (patch_idx // grid_size) * patch_size\n",
        "        col_coord = (patch_idx % grid_size) * patch_size\n",
        "        axes[0].add_patch(mpatches.Rectangle((col_coord - 0.5, row_coord - 0.5), patch_size, patch_size,\n",
        "                                             linewidth=2, edgecolor=\"green\", facecolor=\"none\"))\n",
        "        axes[0].set_title(f\"Current Image (Patch {patch_idx} highlighted)\")\n",
        "        axes[0].axis(\"off\")\n",
        "\n",
        "        # (2) Bar Plot of Normalized Probabilities.\n",
        "        top_vals, top_inds = torch.topk(probs_norm, k=topk)\n",
        "        axes[1].bar(range(topk), top_vals.cpu().numpy(), color=\"purple\")\n",
        "        axes[1].set_xticks(range(topk))\n",
        "        axes[1].set_xticklabels(top_inds.cpu().numpy())\n",
        "        axes[1].set_ylabel(\"Probability\")\n",
        "        axes[1].set_title(f\"Normalized Probabilities (Patch {patch_idx})\")\n",
        "        axes[1].set_ylim([0, 1])\n",
        "\n",
        "        # (3) Token Patches: Display the top-k tokens as small images (side-by-side).\n",
        "        token_imgs = []\n",
        "        for idx in top_inds:\n",
        "            token = model.vocab[idx].detach().cpu().reshape(patch_size, patch_size).numpy()\n",
        "            # Add a colored border (here red) with a 1-pixel border:\n",
        "            token_with_border = add_colored_border(token, border_width=1, border_color=(1, 0, 0))\n",
        "            token_imgs.append(token_with_border)\n",
        "        # Concatenate the bordered token images horizontally.\n",
        "        token_grid = np.hstack(token_imgs)\n",
        "        axes[2].imshow(token_grid, cmap=\"gray\", vmin=0, vmax=1)\n",
        "        axes[2].set_title(\"Top-k Token Candidates (with red border)\")\n",
        "        axes[2].axis(\"off\")\n",
        "\n",
        "        # (4) Deterministic Reconstruction: argmax across all patches.\n",
        "        recon_tokens = torch.argmax(logits_full, dim=-1)[0]\n",
        "        recon_patches = model.vocab[recon_tokens]\n",
        "        recon_img = patches_to_image(recon_patches, (image_size, image_size), patch_size)\n",
        "        axes[3].imshow(recon_img.cpu().detach().numpy(), cmap=\"gray\", vmin=0, vmax=1)\n",
        "        axes[3].set_title(\"Deterministic Reconstruction\")\n",
        "        axes[3].axis(\"off\")\n",
        "\n",
        "        plt.suptitle(f\"Generation Step {idx}, Updating Patch {patch_idx}\")\n",
        "        composite_frame = fig_to_np(fig)\n",
        "        plt.close(fig)\n",
        "\n",
        "        # ----- End Composite Figure Creation -----\n",
        "\n",
        "        # Append this composite frame if we are logging at this interval.\n",
        "        if idx % log_frequency == 0:\n",
        "            frames_list.append(composite_frame)\n",
        "\n",
        "        # ----- Sampling Step -----\n",
        "        final_probs = probs_norm  # use normalized probabilities (filtered if applicable)\n",
        "        sampled_idx = torch.multinomial(final_probs, num_samples=1).item()\n",
        "        lp = torch.log(final_probs[sampled_idx] + 1e-10).item()\n",
        "        log_likelihood_sum += lp\n",
        "        generated_patches[patch_idx] = model.vocab[sampled_idx]\n",
        "        sampled_flags[patch_idx] = True\n",
        "\n",
        "    # After finishing generation, construct the final image (unsampled -> 0.5).\n",
        "    final_display = []\n",
        "    for i in range(total_patches):\n",
        "        if sampled_flags[i]:\n",
        "            final_display.append(generated_patches[i])\n",
        "        else:\n",
        "            final_display.append(torch.full((patch_dim,), 0.5, device=device))\n",
        "    final_tensor = torch.stack(final_display)\n",
        "    final_generated_image = patches_to_image(final_tensor, (image_size, image_size), patch_size)\n",
        "\n",
        "    # Save video using imageio.\n",
        "    import imageio\n",
        "    imageio.mimwrite(video_filename, frames_list, fps=fps)\n",
        "    print(f\"Video saved as {video_filename}\")\n",
        "\n",
        "    return final_generated_image, log_likelihood_sum"
      ],
      "metadata": {
        "id": "dHvcFtcelOAC"
      },
      "execution_count": null,
      "outputs": []
    },
    {
      "cell_type": "code",
      "source": [
        "final_img, total_logp = generate_video(model, patch_size, W,\n",
        "                                                     flattened_condition_indices,\n",
        "                                                     condition_values_new,\n",
        "                                                     topk=10, log_frequency=1,video_filename=\"conditional_generation.mp4\",fps=4)"
      ],
      "metadata": {
        "colab": {
          "base_uri": "https://localhost:8080/"
        },
        "id": "9ZwlQ-KVgFs6",
        "outputId": "ec7a8d65-3879-4956-c022-d7f840338f13"
      },
      "execution_count": null,
      "outputs": [
        {
          "output_type": "stream",
          "name": "stderr",
          "text": [
            "Sampling patches: 100%|██████████| 256/256 [01:32<00:00,  2.76it/s]\n",
            "WARNING:imageio_ffmpeg:IMAGEIO FFMPEG_WRITER WARNING: input image is not divisible by macro_block_size=16, resizing from (2190, 652) to (2192, 656) to ensure video compatibility with most codecs and players. To prevent resizing, make your input image divisible by the macro_block_size or set the macro_block_size to 1 (risking incompatibility).\n"
          ]
        },
        {
          "output_type": "stream",
          "name": "stdout",
          "text": [
            "Video saved as conditional_generation.mp4\n"
          ]
        }
      ]
    },
    {
      "cell_type": "code",
      "source": [
        "import torch\n",
        "import torch.nn as nn\n",
        "from torch.utils.data import Dataset, DataLoader\n",
        "import wandb\n",
        "from tqdm import tqdm\n",
        "import numpy as np\n",
        "import matplotlib.pyplot as plt\n",
        "\n",
        "########################################\n",
        "# Helper: Convert Patches to Integer Code\n",
        "########################################\n",
        "\n",
        "def patch_to_int(patches):\n",
        "    \"\"\"\n",
        "    Converts a tensor of patches (shape: [N, patch_dim]) containing binary values\n",
        "    to an integer code. Assumes values are near 0 or 1.\n",
        "    \"\"\"\n",
        "    patches_bin = patches.round().long()  # ensure binary\n",
        "    patch_dim = patches_bin.shape[1]\n",
        "    powers = (2 ** torch.arange(patch_dim - 1, -1, -1, device=patches.device)).unsqueeze(0)\n",
        "    codes = (patches_bin * powers).sum(dim=1)\n",
        "    return codes\n",
        "\n",
        "########################################\n",
        "# Helper: Image Sampling (Conditional)\n",
        "########################################\n",
        "\n",
        "def sample_image_conditional(model, patch_size, image_size, temperature=1.0,\n",
        "                             condition_indices=None, condition_values=None):\n",
        "    \"\"\"\n",
        "    Generate one image using the autoregressive model while enforcing conditions.\n",
        "    Instead of a fixed raster-scan order, this function first generates the patches\n",
        "    that contain condition values and then fills in the rest in order of increasing\n",
        "    Manhattan distance from any conditioned patch.\n",
        "\n",
        "    Returns:\n",
        "      - generated: a tensor of shape (1, num_patches, patch_dim)\n",
        "      - log_likelihood: the sum of log-probabilities for the sampled tokens.\n",
        "    \"\"\"\n",
        "    num_patches = (image_size // patch_size) ** 2\n",
        "    patch_dim = patch_size * patch_size\n",
        "    grid_size = image_size // patch_size\n",
        "\n",
        "    # Build patch-level conditions: a dictionary mapping patch index -> {local index: condition value}\n",
        "    patch_conditions = {}\n",
        "    if condition_indices is not None and condition_values is not None:\n",
        "        for cond_idx, cond_val in zip(condition_indices, condition_values):\n",
        "            global_row = int(cond_idx) // image_size\n",
        "            global_col = int(cond_idx) % image_size\n",
        "            patch_row = global_row // patch_size\n",
        "            patch_col = global_col // patch_size\n",
        "            patch_index = patch_row * grid_size + patch_col\n",
        "            local_row = global_row % patch_size\n",
        "            local_col = global_col % patch_size\n",
        "            local_index = local_row * patch_size + local_col\n",
        "            if patch_index not in patch_conditions:\n",
        "                patch_conditions[patch_index] = {}\n",
        "            patch_conditions[patch_index][local_index] = float(cond_val)\n",
        "\n",
        "    # Define a helper to compute patch coordinates.\n",
        "    def patch_coords(i):\n",
        "        return (i // grid_size, i % grid_size)\n",
        "\n",
        "    # Determine generation order.\n",
        "    # First, the conditioned patch indices (those that appear in patch_conditions).\n",
        "    conditioned_indices = set(patch_conditions.keys())\n",
        "    conditioned_list = sorted(list(conditioned_indices))\n",
        "\n",
        "    # Then, the remaining indices sorted by minimum Manhattan distance to any conditioned patch.\n",
        "    remaining = [i for i in range(num_patches) if i not in conditioned_indices]\n",
        "    def min_distance(i):\n",
        "        r_i, c_i = patch_coords(i)\n",
        "        # If no conditioned patch, return a high number.\n",
        "        return min(abs(r_i - patch_coords(j)[0]) + abs(c_i - patch_coords(j)[1])\n",
        "                   for j in conditioned_indices) if conditioned_indices else 0\n",
        "    remaining = sorted(remaining, key=min_distance)\n",
        "\n",
        "    # Final generation order: first fill in conditioned patches, then the rest.\n",
        "    order_list = conditioned_list + remaining\n",
        "\n",
        "    # Initialize generated patches with the learnable mask token.\n",
        "    generated = model.mask_token.detach().clone().unsqueeze(0).repeat(num_patches, 1)\n",
        "    log_likelihood = 0.0\n",
        "    # Add a batch dimension.\n",
        "    generated = generated.unsqueeze(0)  # shape: (1, num_patches, patch_dim)\n",
        "\n",
        "    # Generate patches in the determined order.\n",
        "    for idx in order_list:\n",
        "        # Optionally, if this patch has a condition, restrict candidates.\n",
        "        cond = patch_conditions.get(idx, None)\n",
        "        # Compute logits for the entire sequence.\n",
        "        logits = model(generated)  # shape: (1, num_patches, vocab_size)\n",
        "        logits_i = logits[0, idx] / temperature\n",
        "        if cond is not None:\n",
        "            candidate_mask = torch.ones(model.vocab_size, dtype=torch.bool, device=logits_i.device)\n",
        "            for local_idx, cond_val in cond.items():\n",
        "                candidate_mask = candidate_mask & (model.vocab[:, local_idx] == cond_val)\n",
        "            logits_i = logits_i.masked_fill(~candidate_mask, -1e9)\n",
        "        probs = torch.softmax(logits_i, dim=-1)\n",
        "        token = torch.multinomial(probs, num_samples=1)\n",
        "        log_prob = torch.log(probs[token] + 1e-10)\n",
        "        log_likelihood += log_prob.item()\n",
        "        patch = model.vocab[token]\n",
        "        generated[0, idx] = patch\n",
        "\n",
        "    return generated, log_likelihood\n",
        "\n",
        "########################################\n",
        "# Vision Transformer and Transformer Encoder Layer\n",
        "########################################\n",
        "\n",
        "class VisionTransformer(nn.Module):\n",
        "    def __init__(self, num_heads, num_layers, ffn_dim, hidden_dim, dropout=0.0):\n",
        "        super().__init__()\n",
        "        self.hidden_dim = hidden_dim\n",
        "        self.transformer_layers = nn.ModuleList([\n",
        "            TransformerEncoderLayer(hidden_dim, num_heads, ffn_dim, dropout)\n",
        "            for _ in range(num_layers)\n",
        "        ])\n",
        "        self.dropout_layer = nn.Dropout(dropout)\n",
        "\n",
        "    def build_vocabulary(self, training_data, patch_size, full_mask=True, one_mask=True):\n",
        "        self.patch_size = patch_size\n",
        "        patch_dim = patch_size * patch_size\n",
        "        H, W = training_data.shape[1], training_data.shape[2]\n",
        "        num_patches = (H // patch_size) * (W // patch_size)\n",
        "        patches_tensor = training_data.unfold(1, patch_size, patch_size)\\\n",
        "                                        .unfold(2, patch_size, patch_size)\n",
        "        patches_tensor = patches_tensor.contiguous().view(-1, patch_dim)\n",
        "        unique_set = set()\n",
        "        unique_list = []\n",
        "        for patch in tqdm(patches_tensor, desc=f\"Building Vocabulary for {patch_size}x{patch_size}\", total=patches_tensor.shape[0]):\n",
        "            patch_cpu = patch.cpu()\n",
        "            patch_tuple = tuple(patch_cpu.tolist())\n",
        "            if patch_tuple not in unique_set:\n",
        "                unique_set.add(patch_tuple)\n",
        "                unique_list.append(patch_cpu)\n",
        "        if full_mask:\n",
        "            unique_list.append(torch.full((patch_dim,), 0.5, dtype=torch.float, device='cpu'))\n",
        "        if one_mask:\n",
        "            for i in range(patch_dim):\n",
        "                mask_patch = torch.full((patch_dim,), 0.5, dtype=torch.float, device='cpu')\n",
        "                mask_patch[i] = 0.0\n",
        "                unique_list.append(mask_patch)\n",
        "                mask_patch = torch.full((patch_dim,), 0.5, dtype=torch.float, device='cpu')\n",
        "                mask_patch[i] = 1.0\n",
        "                unique_list.append(mask_patch)\n",
        "        self.vocab = torch.stack(unique_list)\n",
        "        self.vocab_size = self.vocab.size(0)\n",
        "        self.vocab_int = patch_to_int(self.vocab)\n",
        "        self.embedding_projection = nn.Linear(patch_dim, self.hidden_dim)\n",
        "        self.output_projection = nn.Linear(self.hidden_dim, self.vocab_size)\n",
        "        self.pos_embedding = nn.Parameter(torch.zeros(1, num_patches, self.hidden_dim))\n",
        "        self.mask_token = nn.Parameter(torch.full((patch_dim,), 0.5, dtype=torch.float))\n",
        "        return self.vocab\n",
        "\n",
        "    def forward(self, patches):\n",
        "        # patches: (B, num_patches, patch_dim)\n",
        "        B, num_patches, _ = patches.shape\n",
        "        embeddings = self.embedding_projection(patches)\n",
        "        embeddings = embeddings + self.pos_embedding[:, :num_patches, :]\n",
        "        z = self.dropout_layer(embeddings)\n",
        "        for layer in self.transformer_layers:\n",
        "            z = layer(z)\n",
        "        logits = self.output_projection(z)  # (B, num_patches, vocab_size)\n",
        "        return logits\n",
        "\n",
        "class TransformerEncoderLayer(nn.Module):\n",
        "    def __init__(self, hidden_dim, num_heads, ffn_dim, dropout=0.1):\n",
        "        super().__init__()\n",
        "        self.self_attn = nn.MultiheadAttention(hidden_dim, num_heads, dropout=dropout)\n",
        "        self.linear1 = nn.Linear(hidden_dim, ffn_dim)\n",
        "        self.linear2 = nn.Linear(ffn_dim, hidden_dim)\n",
        "        self.norm1 = nn.LayerNorm(hidden_dim)\n",
        "        self.norm2 = nn.LayerNorm(hidden_dim)\n",
        "        self.dropout1 = nn.Dropout(dropout)\n",
        "        self.dropout2 = nn.Dropout(dropout)\n",
        "        self.activation = nn.GELU()\n",
        "\n",
        "    def forward(self, z):\n",
        "        z_norm = self.norm1(z)\n",
        "        z_t = z_norm.transpose(0, 1)\n",
        "        attn_output, _ = self.self_attn(z_t, z_t, z_t)\n",
        "        attn_output = attn_output.transpose(0, 1)\n",
        "        z = z + self.dropout1(attn_output)\n",
        "        z_norm = self.norm2(z)\n",
        "        ff_output = self.linear2(self.dropout2(self.activation(self.linear1(z_norm))))\n",
        "        z = z + self.dropout2(ff_output)\n",
        "        return z\n",
        "\n",
        "########################################\n",
        "# Dataset and Patch Extraction\n",
        "########################################\n",
        "\n",
        "class BinaryImageDataset(Dataset):\n",
        "    def __init__(self, images):\n",
        "        self.images = images  # shape: (N, H, W)\n",
        "    def __len__(self):\n",
        "        return len(self.images)\n",
        "    def __getitem__(self, idx):\n",
        "        return self.images[idx]\n",
        "    @staticmethod\n",
        "    def batch_to_patches(images, patch_size):\n",
        "        B, H, W = images.shape\n",
        "        patches = images.unfold(1, patch_size, patch_size).unfold(2, patch_size, patch_size)\n",
        "        patches = patches.contiguous().view(B, -1, patch_size * patch_size)\n",
        "        return patches\n",
        "    @staticmethod\n",
        "    def patches_to_image(patches, patch_size, image_size):\n",
        "        # patches: (num_patches, patch_dim) ordered in raster scan.\n",
        "        image = torch.zeros(image_size, image_size, device=patches.device)\n",
        "        idx = 0\n",
        "        for i in range(0, image_size, patch_size):\n",
        "            for j in range(0, image_size, patch_size):\n",
        "                image[i:i+patch_size, j:j+patch_size] = patches[idx].view(patch_size, patch_size)\n",
        "                idx += 1\n",
        "        return image\n",
        "\n",
        "########################################\n",
        "# Training Pipeline (Loss only on masked tokens)\n",
        "########################################\n",
        "\n",
        "def train_model_for_patch(patch_size, training_data, start_epoch=0, total_epochs=1000, batch_size=128, checkpoint_path=None):\n",
        "    # Increased model capacity.\n",
        "    num_heads = 8\n",
        "    num_layers = 8\n",
        "    ffn_dim = 1024\n",
        "    hidden_dim = 256\n",
        "\n",
        "    device = torch.device(\"cuda\" if torch.cuda.is_available() else \"cpu\")\n",
        "    training_data = training_data.to(device)\n",
        "    image_size = training_data.shape[1]\n",
        "\n",
        "    # Initialize wandb with updated total_epochs and a name reflecting the resumed run.\n",
        "    wandb.init(project=\"vision-transformer-comparison\",\n",
        "               config={\n",
        "                   \"num_heads\": num_heads,\n",
        "                   \"num_layers\": num_layers,\n",
        "                   \"ffn_dim\": ffn_dim,\n",
        "                   \"hidden_dim\": hidden_dim,\n",
        "                   \"patch_size\": patch_size,\n",
        "                   \"start_epoch\": start_epoch,\n",
        "                   \"total_epochs\": total_epochs,\n",
        "                   \"batch_size\": batch_size\n",
        "               },\n",
        "               name=f\"patch_{patch_size}x{patch_size}_epochs{start_epoch+1}-{total_epochs}\",\n",
        "               reinit=True)\n",
        "\n",
        "    model = VisionTransformer(num_heads, num_layers, ffn_dim, hidden_dim, dropout=0.1)\n",
        "    model.build_vocabulary(training_data, patch_size)\n",
        "    model = model.to(device)\n",
        "    model.vocab = model.vocab.to(device)\n",
        "    model.vocab_int = patch_to_int(model.vocab).to(device)\n",
        "\n",
        "    # --- RESUME: Load checkpoint if provided ---\n",
        "    if checkpoint_path is not None:\n",
        "        checkpoint = torch.load(checkpoint_path)\n",
        "        model.load_state_dict(checkpoint)\n",
        "        print(f\"Loaded checkpoint from {checkpoint_path}\")\n",
        "\n",
        "    optimizer = torch.optim.Adam(model.parameters(), lr=0.001)\n",
        "    criterion = nn.CrossEntropyLoss()\n",
        "\n",
        "    dataset = BinaryImageDataset(training_data)\n",
        "    dataloader = DataLoader(dataset, batch_size=batch_size, shuffle=True)\n",
        "\n",
        "    # --- Training loop from start_epoch to total_epochs ---\n",
        "    for epoch in range(start_epoch, total_epochs):\n",
        "        model.train()\n",
        "        total_loss = 0.0\n",
        "\n",
        "        # Gradual mask schedule based on the global epoch number.\n",
        "        num_patches = (image_size // patch_size) ** 2\n",
        "        min_mask_rate = 1.0 / num_patches\n",
        "        # The mask rate increases gradually from a single masked patch (min_mask_rate)\n",
        "        # to a fully masked image (1.0) over total_epochs.\n",
        "        base_mask_rate = min_mask_rate + (1.0 - min_mask_rate) * (epoch / total_epochs)\n",
        "        mask_rate = np.clip(base_mask_rate + np.random.uniform(-0.1, 0.1), min_mask_rate, 1.0)\n",
        "        partial_mask_rate = 0.3  # Keep the partially masked rate constant.\n",
        "\n",
        "        epoch_bar = tqdm(dataloader, desc=f\"Epoch {epoch+1}/{total_epochs} (patch {patch_size}x{patch_size})\", leave=False)\n",
        "        for batch in epoch_bar:\n",
        "            batch = batch.to(device)\n",
        "            B = batch.shape[0]\n",
        "            patches = BinaryImageDataset.batch_to_patches(batch, patch_size)  # (B, num_patches, patch_dim)\n",
        "            patch_dim = patches.shape[2]\n",
        "\n",
        "            # Create mask for each patch (only masked tokens contribute to loss).\n",
        "            mask = torch.rand(B, num_patches, device=device) < mask_rate\n",
        "            mask[:, 0] = True\n",
        "\n",
        "            partial = (torch.rand(B, num_patches, device=device) < partial_mask_rate) & mask\n",
        "            full = mask & (~partial)\n",
        "\n",
        "            masked_patches = patches.clone()\n",
        "            if full.any():\n",
        "                masked_patches[full] = model.mask_token\n",
        "            if partial.any():\n",
        "                partial_idx = torch.nonzero(partial)\n",
        "                num_partial = partial_idx.shape[0]\n",
        "                new_patches = torch.full((num_partial, patch_dim), 0.5, device=device)\n",
        "                rand_positions = torch.randint(0, patch_dim, (num_partial,), device=device)\n",
        "                orig_vals = patches[partial_idx[:, 0], partial_idx[:, 1], :].gather(1, rand_positions.unsqueeze(1)).squeeze(1)\n",
        "                new_patches[torch.arange(num_partial), rand_positions] = orig_vals\n",
        "                masked_patches[partial_idx[:, 0], partial_idx[:, 1]] = new_patches\n",
        "\n",
        "            # Forward pass.\n",
        "            logits = model(masked_patches)  # (B, num_patches, vocab_size)\n",
        "\n",
        "            # Compute targets over all patches.\n",
        "            all_patches = patches.view(B * num_patches, patch_dim)\n",
        "            codes = patch_to_int(all_patches)\n",
        "            vocab_codes = model.vocab_int\n",
        "            mask_eq = codes.unsqueeze(1) == vocab_codes.unsqueeze(0)\n",
        "            target_indices = mask_eq.float().argmax(dim=1)\n",
        "            targets_all = target_indices.view(B, num_patches)\n",
        "\n",
        "            # Compute loss only over masked tokens.\n",
        "            if mask.sum() > 0:\n",
        "                loss = criterion(logits[mask], targets_all[mask])\n",
        "            else:\n",
        "                loss = torch.tensor(0.0, device=device)\n",
        "            optimizer.zero_grad()\n",
        "            loss.backward()\n",
        "            optimizer.step()\n",
        "\n",
        "            total_loss += loss.item()\n",
        "            epoch_bar.set_postfix(loss=loss.item(), mask_rate=mask_rate)\n",
        "        avg_loss = total_loss / len(dataloader)\n",
        "        wandb.log({\"epoch\": epoch, \"loss\": avg_loss, \"mask_rate\": mask_rate})\n",
        "        print(f\"[Patch {patch_size}x{patch_size}] Epoch {epoch+1}/{total_epochs}, Loss: {avg_loss:.4f}, Mask Rate: {mask_rate:.2f}\")\n",
        "\n",
        "        # --- Visualization on First Batch (unchanged) ---\n",
        "        model.eval()\n",
        "        with torch.no_grad():\n",
        "            batch0 = next(iter(dataloader)).to(device)\n",
        "            patches0 = BinaryImageDataset.batch_to_patches(batch0, patch_size)\n",
        "            B0, num_patches, patch_dim = patches0.shape\n",
        "            vis_mask = (torch.rand(1, num_patches, device=device) < mask_rate).squeeze(0)\n",
        "            vis_mask[0] = True\n",
        "            vis_partial = (torch.rand(1, num_patches, device=device) < partial_mask_rate).squeeze(0) & vis_mask\n",
        "            vis_full = vis_mask & (~vis_partial)\n",
        "            masked_vis = patches0[0].clone()\n",
        "            if vis_full.any():\n",
        "                masked_vis[vis_full] = model.mask_token\n",
        "            if vis_partial.any():\n",
        "                partial_idx_vis = torch.nonzero(vis_partial)\n",
        "                num_partial_vis = partial_idx_vis.shape[0]\n",
        "                new_patches_vis = torch.full((num_partial_vis, patch_dim), 0.5, device=device)\n",
        "                rand_positions_vis = torch.randint(0, patch_dim, (num_partial_vis,), device=device)\n",
        "                orig_vals_vis = patches0[0, partial_idx_vis[:, 0], :].gather(1, rand_positions_vis.unsqueeze(1)).squeeze(1)\n",
        "                new_patches_vis[torch.arange(num_partial_vis), rand_positions_vis] = orig_vals_vis\n",
        "                masked_vis[partial_idx_vis[:, 0]] = new_patches_vis\n",
        "            logits_vis = model(masked_vis.unsqueeze(0))\n",
        "            predicted_tokens = torch.argmax(logits_vis, dim=-1).squeeze(0)\n",
        "            recon_vis = patches0[0].clone()\n",
        "            recon_vis[vis_mask] = model.vocab[predicted_tokens[vis_mask]]\n",
        "            masked_img = BinaryImageDataset.patches_to_image(masked_vis, patch_size, image_size)\n",
        "            recon_img = BinaryImageDataset.patches_to_image(recon_vis, patch_size, image_size)\n",
        "            original_img = BinaryImageDataset.patches_to_image(patches0[0], patch_size, image_size)\n",
        "            wandb.log({\n",
        "                \"original\": wandb.Image(original_img.cpu()),\n",
        "                \"masked\": wandb.Image(masked_img.cpu()),\n",
        "                \"reconstructed\": wandb.Image(recon_img.cpu())\n",
        "            })\n",
        "\n",
        "        # --- Every 100 Epochs: Conditional Sampling and Saving Checkpoints ---\n",
        "        if (epoch + 1) % 100 == 0:\n",
        "            condition_indices = np.array([876,3825,2122,2892,1556,2683,3667,1767,483,2351,2000,3312,\n",
        "                                          2953,289,2373,2720,872,2713,1206,1341,3541,2226,3423,1904,\n",
        "                                          2882,2540,1497,2524,264,1441])\n",
        "            condition_values = np.array([0,1,1,1,0,0,1,0,0,1,0,0,0,1,0,1,0,0,1,0,1,1,1,0,1,0,1,1,0,1])\n",
        "            gen, ll = sample_image_conditional(model, patch_size, image_size, temperature=1.0,\n",
        "                                               condition_indices=condition_indices,\n",
        "                                               condition_values=condition_values)\n",
        "            gen_img = BinaryImageDataset.patches_to_image(gen[0], patch_size, image_size)\n",
        "            wandb.log({\"conditional_sample\": wandb.Image(gen_img.cpu(), caption=f\"LL: {ll:.2f}\")})\n",
        "\n",
        "        if (epoch + 1) % 100 == 0:\n",
        "            torch.save(model.state_dict(), f\"vision_transformer_patch{patch_size}x{patch_size}_epoch{epoch+1}.pth\")\n",
        "    wandb.finish()\n",
        "    return model\n",
        "\n",
        "# --- Example of resuming training ---\n",
        "\"\"\"\n",
        "if __name__ == \"__main__\":\n",
        "    arr = np.load(\"Data/Markov_field/training_data.npz\")[\"arr_0\"]\n",
        "    training_data = arr[:9000]\n",
        "    training_data = training_data.reshape(-1, 64, 64)\n",
        "    print(\"Training data shape:\", training_data.shape)\n",
        "    training_data = torch.tensor(training_data, dtype=torch.float32)\n",
        "    patch_size = 4\n",
        "\n",
        "    # Resume training from epoch 800 for an additional 500 epochs (total_epochs = 1300).\n",
        "    model = train_model_for_patch(patch_size, training_data, start_epoch=800, total_epochs=1300,\n",
        "                                  checkpoint_path=\"vision_transformer_patch4x4_epoch800 (1).pth\")\n",
        "\"\"\""
      ],
      "metadata": {
        "colab": {
          "base_uri": "https://localhost:8080/",
          "height": 87
        },
        "id": "Nz9OqyiXI5ln",
        "outputId": "32d3e78d-b172-447f-fb64-99e124809d6b"
      },
      "execution_count": null,
      "outputs": [
        {
          "output_type": "execute_result",
          "data": {
            "text/plain": [
              "'\\nif __name__ == \"__main__\":\\n    arr = np.load(\"Data/Markov_field/training_data.npz\")[\"arr_0\"]\\n    training_data = arr[:9000]\\n    training_data = training_data.reshape(-1, 64, 64)\\n    print(\"Training data shape:\", training_data.shape)\\n    training_data = torch.tensor(training_data, dtype=torch.float32)\\n    patch_size = 4\\n\\n    # Resume training from epoch 800 for an additional 500 epochs (total_epochs = 1300).\\n    model = train_model_for_patch(patch_size, training_data, start_epoch=800, total_epochs=1300,\\n                                  checkpoint_path=\"vision_transformer_patch4x4_epoch800 (1).pth\")\\n'"
            ],
            "application/vnd.google.colaboratory.intrinsic+json": {
              "type": "string"
            }
          },
          "metadata": {},
          "execution_count": 6
        }
      ]
    },
    {
      "cell_type": "code",
      "source": [
        "# Parameters.\n",
        "patch_size = 4\n",
        "image_size = 64  # note: training images are 64x64 now (adjust if needed)\n",
        "\n",
        "# Provided condition indices and values (global pixel indices over a flattened 64x64 image)\n",
        "condition_indices = np.array([876,3825,2122,2892,1556,2683,3667,1767,483,2351,\n",
        "                                2000,3312,2953,289,2373,2720,872,2713,1206,1341,\n",
        "                                3541,2226,3423,1904,2882,2540,1497,2524,264,1441])\n",
        "condition_values = np.array([0,1,1,1,0,0,1,0,0,1,0,0,0,1,0,1,0,0,1,0,\n",
        "                               1,1,1,0,1,0,1,1,0,1])\n",
        "\n",
        "device = torch.device(\"cuda\" if torch.cuda.is_available() else \"cpu\")\n",
        "\n",
        "# Build the model architecture with the same hyperparameters as training.\n",
        "num_heads = 8\n",
        "num_layers = 8\n",
        "ffn_dim = 1024\n",
        "hidden_dim = 256\n",
        "dropout = 0.1\n",
        "\n",
        "model = VisionTransformer(num_heads, num_layers, ffn_dim, hidden_dim, dropout)\n",
        "\n",
        "arr = np.load(\"Data/Markov_field/training_data.npz\")[\"arr_0\"]\n",
        "training_data = arr[:9000]\n",
        "training_data = training_data.reshape(-1, 64, 64)  # 60x60 images; adjust if needed.\n",
        "print(\"Training data shape:\", training_data.shape)\n",
        "training_data = torch.tensor(training_data, dtype=torch.float32)\n",
        "# Load the saved vocabulary so that the output projection has the correct dimensions.\n",
        "vocab = model.build_vocabulary(training_data,patch_size)\n",
        "model.vocab = vocab.to(device)\n",
        "model.vocab_int = patch_to_int(model.vocab).to(device)\n",
        "# Rebuild the output projection to match the vocab size.\n",
        "model.output_projection = nn.Linear(model.hidden_dim, model.vocab.size(0)).to(device)\n",
        "model = model.to(device)\n",
        "checkpoint_dir = \"\"\n",
        "epoch = 1100\n",
        "ckpt_path = os.path.join(checkpoint_dir, f\"vision_transformer_patch{patch_size}x{patch_size}_epoch{epoch}.pth\")\n",
        "print(f\"Loading checkpoint: {ckpt_path}\")\n",
        "state_dict = torch.load(ckpt_path, map_location=device)\n",
        "model.load_state_dict(state_dict)\n",
        "model.eval()"
      ],
      "metadata": {
        "colab": {
          "base_uri": "https://localhost:8080/"
        },
        "id": "kDUgKnrt9Xo0",
        "outputId": "c707ac65-1359-477b-cafc-add291e8eea3"
      },
      "execution_count": null,
      "outputs": [
        {
          "output_type": "stream",
          "name": "stdout",
          "text": [
            "Training data shape: (9000, 64, 64)\n"
          ]
        },
        {
          "output_type": "stream",
          "name": "stderr",
          "text": [
            "Building Vocabulary for 4x4: 100%|██████████| 2304000/2304000 [00:10<00:00, 211129.36it/s]\n"
          ]
        },
        {
          "output_type": "stream",
          "name": "stdout",
          "text": [
            "Loading checkpoint: vision_transformer_patch4x4_epoch1100.pth\n"
          ]
        },
        {
          "output_type": "execute_result",
          "data": {
            "text/plain": [
              "VisionTransformer(\n",
              "  (transformer_layers): ModuleList(\n",
              "    (0-7): 8 x TransformerEncoderLayer(\n",
              "      (self_attn): MultiheadAttention(\n",
              "        (out_proj): NonDynamicallyQuantizableLinear(in_features=256, out_features=256, bias=True)\n",
              "      )\n",
              "      (linear1): Linear(in_features=256, out_features=1024, bias=True)\n",
              "      (linear2): Linear(in_features=1024, out_features=256, bias=True)\n",
              "      (norm1): LayerNorm((256,), eps=1e-05, elementwise_affine=True)\n",
              "      (norm2): LayerNorm((256,), eps=1e-05, elementwise_affine=True)\n",
              "      (dropout1): Dropout(p=0.1, inplace=False)\n",
              "      (dropout2): Dropout(p=0.1, inplace=False)\n",
              "      (activation): GELU(approximate='none')\n",
              "    )\n",
              "  )\n",
              "  (dropout_layer): Dropout(p=0.1, inplace=False)\n",
              "  (embedding_projection): Linear(in_features=16, out_features=256, bias=True)\n",
              "  (output_projection): Linear(in_features=256, out_features=30605, bias=True)\n",
              ")"
            ]
          },
          "metadata": {},
          "execution_count": 7
        }
      ]
    }
  ],
  "metadata": {
    "kernelspec": {
      "display_name": "Python 3",
      "name": "python3"
    },
    "language_info": {
      "codemirror_mode": {
        "name": "ipython",
        "version": 3
      },
      "file_extension": ".py",
      "mimetype": "text/x-python",
      "name": "python",
      "nbconvert_exporter": "python",
      "pygments_lexer": "ipython3",
      "version": "3.12.1"
    },
    "colab": {
      "provenance": [],
      "machine_shape": "hm",
      "gpuType": "T4"
    },
    "accelerator": "GPU"
  },
  "nbformat": 4,
  "nbformat_minor": 0
}