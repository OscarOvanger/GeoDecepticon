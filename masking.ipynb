{
 "cells": [
  {
   "cell_type": "code",
   "execution_count": 36,
   "metadata": {},
   "outputs": [],
   "source": [
    "import torch\n",
    "import torch.nn as nn\n",
    "import torch.nn.functional as F\n",
    "import numpy as np\n",
    "import time"
   ]
  },
  {
   "cell_type": "code",
   "execution_count": 39,
   "metadata": {},
   "outputs": [
    {
     "ename": "IndexError",
     "evalue": "index 1 is out of bounds for dimension 0 with size 1",
     "output_type": "error",
     "traceback": [
      "\u001b[0;31m---------------------------------------------------------------------------\u001b[0m",
      "\u001b[0;31mIndexError\u001b[0m                                Traceback (most recent call last)",
      "\u001b[0;32m/var/folders/gv/36pjz46d3t38l1r5h2wkr8v00000gn/T/ipykernel_44304/1966239101.py\u001b[0m in \u001b[0;36m<module>\u001b[0;34m\u001b[0m\n\u001b[1;32m     18\u001b[0m \u001b[0;32mfor\u001b[0m \u001b[0mb\u001b[0m \u001b[0;32min\u001b[0m \u001b[0mrange\u001b[0m\u001b[0;34m(\u001b[0m\u001b[0mbatch_size\u001b[0m\u001b[0;34m)\u001b[0m\u001b[0;34m:\u001b[0m\u001b[0;34m\u001b[0m\u001b[0;34m\u001b[0m\u001b[0m\n\u001b[1;32m     19\u001b[0m     \u001b[0;32mfor\u001b[0m \u001b[0mi\u001b[0m \u001b[0;32min\u001b[0m \u001b[0mrange\u001b[0m\u001b[0;34m(\u001b[0m\u001b[0mseq_len\u001b[0m\u001b[0;34m)\u001b[0m\u001b[0;34m:\u001b[0m\u001b[0;34m\u001b[0m\u001b[0;34m\u001b[0m\u001b[0m\n\u001b[0;32m---> 20\u001b[0;31m         \u001b[0;32mif\u001b[0m \u001b[0mmask\u001b[0m\u001b[0;34m[\u001b[0m\u001b[0mb\u001b[0m\u001b[0;34m,\u001b[0m \u001b[0mi\u001b[0m\u001b[0;34m]\u001b[0m\u001b[0;34m:\u001b[0m  \u001b[0;31m# If patch is masked\u001b[0m\u001b[0;34m\u001b[0m\u001b[0;34m\u001b[0m\u001b[0m\n\u001b[0m\u001b[1;32m     21\u001b[0m             \u001b[0;31m# Mask columns: No one attends to this patch (except itself)\u001b[0m\u001b[0;34m\u001b[0m\u001b[0;34m\u001b[0m\u001b[0;34m\u001b[0m\u001b[0m\n\u001b[1;32m     22\u001b[0m             \u001b[0mbase_mask\u001b[0m\u001b[0;34m[\u001b[0m\u001b[0mb\u001b[0m\u001b[0;34m,\u001b[0m \u001b[0;34m:\u001b[0m\u001b[0;34m,\u001b[0m \u001b[0mi\u001b[0m\u001b[0;34m]\u001b[0m \u001b[0;34m=\u001b[0m \u001b[0;34m-\u001b[0m\u001b[0mfloat\u001b[0m\u001b[0;34m(\u001b[0m\u001b[0;34m'inf'\u001b[0m\u001b[0;34m)\u001b[0m\u001b[0;34m\u001b[0m\u001b[0;34m\u001b[0m\u001b[0m\n",
      "\u001b[0;31mIndexError\u001b[0m: index 1 is out of bounds for dimension 0 with size 1"
     ]
    }
   ],
   "source": [
    "# Example Inputs\n",
    "batch_size = 32\n",
    "num_heads = 2\n",
    "seq_len = 2 * 2\n",
    "# Random attention scores and relative position embeddings\n",
    "attention_scores = torch.randn(batch_size, num_heads, seq_len, seq_len)\n",
    "relative_position_embeddings = torch.randn(num_heads, seq_len, seq_len)\n",
    "attention_scores += relative_position_embeddings\n",
    "\n",
    "# Generate a random boolean mask\n",
    "mask = torch.tensor([[False, True, False, True]])  # Example mask\n",
    "\n",
    "# Step 1: Start with a base mask tensor\n",
    "# Shape: (batch_size, seq_len, seq_len)\n",
    "base_mask = torch.zeros((batch_size, seq_len, seq_len), dtype=torch.float)\n",
    "start = time.time()\n",
    "# Apply masking rules\n",
    "for b in range(batch_size):\n",
    "    for i in range(seq_len):\n",
    "        if mask[b, i]:  # If patch is masked\n",
    "            # Mask columns: No one attends to this patch (except itself)\n",
    "            base_mask[b, :, i] = -float('inf')\n",
    "            base_mask[b, i, i] = 0.0  # Preserve self-attention\n",
    "            \n",
    "            # Mask rows: This patch only attends to unmasked patches (and itself)\n",
    "            base_mask[b, i, :] = 0.0  # Allow attention to all initially\n",
    "            base_mask[b, i, mask[b]] = -float('inf')  # Ignore other masked patches\n",
    "            base_mask[b, i, i] = 0.0  # Preserve self-attention\n",
    "\n",
    "# Step 2: Expand base_mask to match attention_scores shape\n",
    "base_mask = base_mask.unsqueeze(1).expand(batch_size, num_heads, seq_len, seq_len)\n",
    "stop = time.time()\n",
    "# Step 3: Add the mask to the attention scores\n",
    "attention_scores_with_mask = attention_scores + base_mask\n",
    "\n",
    "# Step 4: Apply softmax to get the final attention scores\n",
    "attention_probs = F.softmax(attention_scores_with_mask, dim=-1)\n",
    "\n",
    "\n",
    "# Outputs\n",
    "print(\"Time taken:\", stop - start)\n",
    "print(\"Attention Scores:\", attention_scores)\n",
    "print(\"Mask:\", mask)\n",
    "print(\"Base Mask:\", base_mask)\n",
    "print(\"Masked Attention Scores:\", attention_scores_with_mask)\n",
    "print(\"Attention Probs:\", attention_probs)"
   ]
  },
  {
   "cell_type": "code",
   "execution_count": 38,
   "metadata": {},
   "outputs": [
    {
     "name": "stdout",
     "output_type": "stream",
     "text": [
      "Time taken: 0.002151012420654297\n",
      "Attention Scores: tensor([[[[ 2.6680,  2.0032, -0.8085, -0.0873],\n",
      "          [ 1.5062, -3.1881, -0.2354,  0.1392],\n",
      "          [ 1.0458,  0.0190, -1.1437, -0.4244],\n",
      "          [ 2.0606,  3.3580,  0.1513, -0.1046]]]])\n",
      "Mask: tensor([[False, False, False,  True]])\n",
      "Base Mask: tensor([[[[0., 0., 0., -inf],\n",
      "          [0., 0., 0., -inf],\n",
      "          [0., 0., 0., -inf],\n",
      "          [0., 0., 0., 0.]]]])\n",
      "Masked Attention Scores: tensor([[[[ 2.6680,  2.0032, -0.8085,    -inf],\n",
      "          [ 1.5062, -3.1881, -0.2354,    -inf],\n",
      "          [ 1.0458,  0.0190, -1.1437,    -inf],\n",
      "          [ 2.0606,  3.3580,  0.1513, -0.1046]]]])\n",
      "Attention Probs: tensor([[[[0.6471, 0.3329, 0.0200, 0.0000],\n",
      "          [0.8443, 0.0077, 0.1480, 0.0000],\n",
      "          [0.6802, 0.2436, 0.0762, 0.0000],\n",
      "          [0.2031, 0.7434, 0.0301, 0.0233]]]])\n"
     ]
    }
   ],
   "source": [
    "import torch\n",
    "\n",
    "# Example Inputs\n",
    "batch_size = 1\n",
    "num_heads = 1\n",
    "seq_len = 2 * 2\n",
    "# Random attention scores and relative position embeddings\n",
    "attention_scores = torch.randn(batch_size, num_heads, seq_len, seq_len)\n",
    "relative_position_embeddings = torch.randn(num_heads, seq_len, seq_len)\n",
    "attention_scores += relative_position_embeddings\n",
    "\n",
    "# Generate a random boolean mask\n",
    "mask = torch.tensor([[False, False, False, True]])  # Example mask\n",
    "\n",
    "# Step 1: Start with a base mask tensor\n",
    "# Shape: (batch_size, seq_len, seq_len)\n",
    "base_mask = torch.zeros((batch_size, seq_len, seq_len), dtype=torch.float)\n",
    "start = time.time()\n",
    "# Mask columns: Block attention to masked patches from others (except self-attention)\n",
    "masked_indices = mask.nonzero(as_tuple=True)  # Indices of masked patches\n",
    "base_mask[masked_indices[0], :, masked_indices[1]] = -float('inf')  # Block attention to masked patches\n",
    "base_mask[:, torch.arange(seq_len), torch.arange(seq_len)] = 0.0  # Allow self-attention for all\n",
    "\n",
    "# Mask rows: Masked patches should only attend to unmasked patches (and themselves)\n",
    "unmasked_mask = ~mask  # Logical NOT of the mask (unmasked locations)\n",
    "attention_mask = unmasked_mask.unsqueeze(1).repeat(1, seq_len, 1)  # Shape: (batch_size, seq_len, seq_len)\n",
    "base_mask[attention_mask] = 0.0  # Allow attention to unmasked locations\n",
    "base_mask[:, torch.arange(seq_len), torch.arange(seq_len)] = 0.0  # Preserve self-attention\n",
    "\n",
    "# Expand base_mask to match attention_scores shape\n",
    "base_mask = base_mask.unsqueeze(1).expand(batch_size, num_heads, seq_len, seq_len)\n",
    "stop = time.time()\n",
    "# Step 3: Add the mask to the attention scores\n",
    "attention_scores_with_mask = attention_scores + base_mask\n",
    "\n",
    "# Step 4: Apply softmax to get the final attention scores\n",
    "attention_probs = F.softmax(attention_scores_with_mask, dim=-1)\n",
    "\n",
    "\n",
    "# Outputs\n",
    "print(\"Time taken:\", stop - start)\n",
    "print(\"Attention Scores:\", attention_scores)\n",
    "print(\"Mask:\", mask)\n",
    "print(\"Base Mask:\", base_mask)\n",
    "print(\"Masked Attention Scores:\", attention_scores_with_mask)\n",
    "print(\"Attention Probs:\", attention_probs)"
   ]
  },
  {
   "cell_type": "code",
   "execution_count": 45,
   "metadata": {},
   "outputs": [
    {
     "data": {
      "image/png": "[encoded data removed]",
      "text/plain": [
       "<Figure size 432x288 with 1 Axes>"
      ]
     },
     "metadata": {
      "needs_background": "light"
     },
     "output_type": "display_data"
    },
    {
     "name": "stdout",
     "output_type": "stream",
     "text": [
      "[   1    4    8   11   14   18   21   25   28   32   35   38   42   45\n",
      "   49   52   55   59   62   65   69   72   75   78   82   85   88   91\n",
      "   95   98  101  104  107  111  114  117  120  123  126  129  132  135\n",
      "  139  142  145  148  151  154  157  160  163  166  169  172  175  178\n",
      "  181  184  187  190  192  195  198  201  204  207  210  213  216  218\n",
      "  221  224  227  230  233  235  238  241  244  246  249  252  255  257\n",
      "  260  263  266  268  271  274  276  279  282  284  287  290  292  295\n",
      "  298  300  303  306  308  311  313  316  319  321  324  326  329  331\n",
      "  334  336  339  342  344  347  349  352  354  357  359  362  364  366\n",
      "  369  371  374  376  379  381  384  386  388  391  393  396  398  400\n",
      "  403  405  407  410  412  415  417  419  422  424  426  429  431  433\n",
      "  435  438  440  442  445  447  449  451  454  456  458  460  463  465\n",
      "  467  469  472  474  476  478  480  483  485  487  489  491  494  496\n",
      "  498  500  502  504  507  509  511  513  515  517  519  521  524  526\n",
      "  528  530  532  534  536  538  540  542  545  547  549  551  553  555\n",
      "  557  559  561  563  565  567  569  571  573  575  577  579  581  583\n",
      "  585  587  589  591  593  595  597  599  601  603  605  607  609  611\n",
      "  613  614  616  618  620  622  624  626  628  630  632  634  635  637\n",
      "  639  641  643  645  647  649  651  652  654  656  658  660  662  664\n",
      "  665  667  669  671  673  674  676  678  680  682  684  685  687  689\n",
      "  691  693  694  696  698  700  701  703  705  707  709  710  712  714\n",
      "  716  717  719  721  723  724  726  728  729  731  733  735  736  738\n",
      "  740  741  743  745  747  748  750  752  753  755  757  758  760  762\n",
      "  763  765  767  768  770  772  773  775  777  778  780  782  783  785\n",
      "  787  788  790  791  793  795  796  798  800  801  803  804  806  808\n",
      "  809  811  812  814  816  817  819  820  822  823  825  827  828  830\n",
      "  831  833  834  836  838  839  841  842  844  845  847  848  850  851\n",
      "  853  854  856  858  859  861  862  864  865  867  868  870  871  873\n",
      "  874  876  877  879  880  882  883  885  886  888  889  891  892  893\n",
      "  895  896  898  899  901  902  904  905  907  908  910  911  912  914\n",
      "  915  917  918  920  921  922  924  925  927  928  930  931  932  934\n",
      "  935  937  938  940  941  942  944  945  947  948  949  951  952  953\n",
      "  955  956  958  959  960  962  963  965  966  967  969  970  971  973\n",
      "  974  975  977  978  980  981  982  984  985  986  988  989  990  992\n",
      "  993  994  996  997  998 1000 1001 1002 1004 1005 1006 1008 1009 1010\n",
      " 1011 1013 1014 1015 1017 1018 1019 1021 1022 1023]\n"
     ]
    }
   ],
   "source": [
    "def prob_log_scheduler(x):\n",
    "    value = (1024*np.log((((np.exp(1)-1)*x)/500) + 1) + np.random.randint(0, 10)).astype(int)\n",
    "    for val in value:\n",
    "        if val > 1024:\n",
    "            val = 1024\n",
    "        elif val < 0:\n",
    "            val = 0\n",
    "    return value\n",
    "\n",
    "x = np.arange(500)\n",
    "y = prob_log_scheduler(x)\n",
    "import matplotlib.pyplot as plt\n",
    "plt.plot(x, y)\n",
    "plt.show()\n",
    "print(y)"
   ]
  },
  {
   "cell_type": "code",
   "execution_count": 91,
   "metadata": {},
   "outputs": [],
   "source": [
    "data_array = np.load(\"/Users/oscaro/Library/CloudStorage/OneDrive-NTNU/GeoDecepticon/data_array_1.npz\")\n",
    "data_array = data_array['data_array']\n",
    "first_data = data_array[2].astype(np.float32)"
   ]
  },
  {
   "cell_type": "code",
   "execution_count": 92,
   "metadata": {},
   "outputs": [
    {
     "data": {
      "image/png": "[encoded data removed]",
      "text/plain": [
       "<Figure size 432x288 with 1 Axes>"
      ]
     },
     "metadata": {
      "needs_background": "light"
     },
     "output_type": "display_data"
    }
   ],
   "source": [
    "# Create a mask of size 32x32\n",
    "mask = np.zeros((32, 32))\n",
    "\n",
    "# Select 100 random patches\n",
    "random_indices = np.random.choice(32 * 32, 100, replace=False)  # Ensure no duplicates\n",
    "mask_indices = np.unravel_index(random_indices, (32, 32))  # Convert flat indices to 2D\n",
    "mask[mask_indices] = 1  # Set selected mask locations to 1\n",
    "\n",
    "# Debug: Check the mask\n",
    "#print(\"Mask:\\n\", mask)\n",
    "#print(\"Number of selected patches:\", np.sum(mask))\n",
    "\n",
    "# Update `first_data` based on the mask\n",
    "for i in range(32):\n",
    "    for j in range(32):\n",
    "        if mask[i, j] == 1:\n",
    "            #print(f\"Updating patch at mask[{i}, {j}]\")  # Debug\n",
    "            first_data[i*2:i*2+2, j*2:j*2+2] = 0.5  # Set 2x2 patches to 0.5\n",
    "\n",
    "# Debug: Verify updated `first_data`\n",
    "#print(\"First data after updates:\\n\", first_data)\n",
    "\n",
    "# Check indices where value is 0.5\n",
    "patch_indices = np.where(first_data == 0.5)\n",
    "#print(\"Indices of patches with value 0.5:\", patch_indices)\n",
    "\n",
    "# Plot the updated data with red grid lines\n",
    "plt.imshow(first_data, cmap='gray')\n",
    "for i in range(32):\n",
    "    plt.axhline(i * 2 - 0.5, color='r', linewidth=0.5)  # Horizontal grid lines\n",
    "    plt.axvline(i * 2 - 0.5, color='r', linewidth=0.5)  # Vertical grid lines\n",
    "plt.show()"
   ]
  },
  {
   "cell_type": "code",
   "execution_count": 51,
   "metadata": {},
   "outputs": [
    {
     "data": {
      "image/png": "[encoded data removed]",
      "text/plain": [
       "<Figure size 720x720 with 1 Axes>"
      ]
     },
     "metadata": {},
     "output_type": "display_data"
    }
   ],
   "source": [
    "data = data_array['data_array']\n",
    "# Add grid lines to distinguish patches in the binary image\n",
    "fig, ax = plt.subplots(figsize=(10, 10))\n",
    "\n",
    "# Display the binary image\n",
    "ax.imshow(data[0], cmap='gray', interpolation='nearest')\n",
    "\n",
    "# Add grid lines to highlight the patches\n",
    "patch_size = 2\n",
    "for i in range(0, data[0].shape[0] + 1, patch_size):\n",
    "    ax.axhline(i - 0.5, color='red', linewidth=0.5)  # Horizontal lines\n",
    "    ax.axvline(i - 0.5, color='red', linewidth=0.5)  # Vertical lines\n",
    "\n",
    "# Set the title and remove ticks for better visualization\n",
    "ax.set_xticks([])\n",
    "ax.set_yticks([])\n",
    "\n",
    "plt.show()"
   ]
  }
 ],
 "metadata": {
  "kernelspec": {
   "display_name": "Python 3",
   "language": "python",
   "name": "python3"
  },
  "language_info": {
   "codemirror_mode": {
    "name": "ipython",
    "version": 3
   },
   "file_extension": ".py",
   "mimetype": "text/x-python",
   "name": "python",
   "nbconvert_exporter": "python",
   "pygments_lexer": "ipython3",
   "version": "3.9.5"
  }
 },
 "nbformat": 4,
 "nbformat_minor": 2
}
