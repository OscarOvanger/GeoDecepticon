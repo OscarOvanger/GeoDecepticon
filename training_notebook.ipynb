{
  "cells": [
    {
      "cell_type": "markdown",
      "metadata": {
        "id": "view-in-github",
        "colab_type": "text"
      },
      "source": [
        "<a href=\"https://colab.research.google.com/github/OscarOvanger/GeoDecepticon/blob/main/training_notebook.ipynb\" target=\"_parent\"><img src=\"https://colab.research.google.com/assets/colab-badge.svg\" alt=\"Open In Colab\"/></a>"
      ]
    },
    {
      "cell_type": "markdown",
      "metadata": {
        "id": "RhDYtsPDKH1Y"
      },
      "source": [
        "# This is where the training goes down"
      ]
    },
    {
      "cell_type": "markdown",
      "metadata": {
        "id": "hqn3Jq7vKH1Z"
      },
      "source": [
        " We start of by installing the requirements"
      ]
    },
    {
      "cell_type": "code",
      "source": [
        "!pip install numpy\n",
        "!pip install torch\n",
        "!pip install torchvision\n",
        "!pip install matplotlib\n",
        "!pip install wandb"
      ],
      "metadata": {
        "id": "hvzMW1GvKONI",
        "outputId": "9e394b8d-c333-489d-9c47-9d4e19a3df4e",
        "colab": {
          "base_uri": "https://localhost:8080/"
        }
      },
      "execution_count": 1,
      "outputs": [
        {
          "output_type": "stream",
          "name": "stdout",
          "text": [
            "Requirement already satisfied: numpy in /usr/local/lib/python3.10/dist-packages (1.26.4)\n",
            "Requirement already satisfied: torch in /usr/local/lib/python3.10/dist-packages (2.5.1+cu121)\n",
            "Requirement already satisfied: filelock in /usr/local/lib/python3.10/dist-packages (from torch) (3.16.1)\n",
            "Requirement already satisfied: typing-extensions>=4.8.0 in /usr/local/lib/python3.10/dist-packages (from torch) (4.12.2)\n",
            "Requirement already satisfied: networkx in /usr/local/lib/python3.10/dist-packages (from torch) (3.4.2)\n",
            "Requirement already satisfied: jinja2 in /usr/local/lib/python3.10/dist-packages (from torch) (3.1.4)\n",
            "Requirement already satisfied: fsspec in /usr/local/lib/python3.10/dist-packages (from torch) (2024.10.0)\n",
            "Requirement already satisfied: sympy==1.13.1 in /usr/local/lib/python3.10/dist-packages (from torch) (1.13.1)\n",
            "Requirement already satisfied: mpmath<1.4,>=1.1.0 in /usr/local/lib/python3.10/dist-packages (from sympy==1.13.1->torch) (1.3.0)\n",
            "Requirement already satisfied: MarkupSafe>=2.0 in /usr/local/lib/python3.10/dist-packages (from jinja2->torch) (3.0.2)\n",
            "Requirement already satisfied: torchvision in /usr/local/lib/python3.10/dist-packages (0.20.1+cu121)\n",
            "Requirement already satisfied: numpy in /usr/local/lib/python3.10/dist-packages (from torchvision) (1.26.4)\n",
            "Requirement already satisfied: torch==2.5.1 in /usr/local/lib/python3.10/dist-packages (from torchvision) (2.5.1+cu121)\n",
            "Requirement already satisfied: pillow!=8.3.*,>=5.3.0 in /usr/local/lib/python3.10/dist-packages (from torchvision) (11.0.0)\n",
            "Requirement already satisfied: filelock in /usr/local/lib/python3.10/dist-packages (from torch==2.5.1->torchvision) (3.16.1)\n",
            "Requirement already satisfied: typing-extensions>=4.8.0 in /usr/local/lib/python3.10/dist-packages (from torch==2.5.1->torchvision) (4.12.2)\n",
            "Requirement already satisfied: networkx in /usr/local/lib/python3.10/dist-packages (from torch==2.5.1->torchvision) (3.4.2)\n",
            "Requirement already satisfied: jinja2 in /usr/local/lib/python3.10/dist-packages (from torch==2.5.1->torchvision) (3.1.4)\n",
            "Requirement already satisfied: fsspec in /usr/local/lib/python3.10/dist-packages (from torch==2.5.1->torchvision) (2024.10.0)\n",
            "Requirement already satisfied: sympy==1.13.1 in /usr/local/lib/python3.10/dist-packages (from torch==2.5.1->torchvision) (1.13.1)\n",
            "Requirement already satisfied: mpmath<1.4,>=1.1.0 in /usr/local/lib/python3.10/dist-packages (from sympy==1.13.1->torch==2.5.1->torchvision) (1.3.0)\n",
            "Requirement already satisfied: MarkupSafe>=2.0 in /usr/local/lib/python3.10/dist-packages (from jinja2->torch==2.5.1->torchvision) (3.0.2)\n",
            "Requirement already satisfied: matplotlib in /usr/local/lib/python3.10/dist-packages (3.8.0)\n",
            "Requirement already satisfied: contourpy>=1.0.1 in /usr/local/lib/python3.10/dist-packages (from matplotlib) (1.3.1)\n",
            "Requirement already satisfied: cycler>=0.10 in /usr/local/lib/python3.10/dist-packages (from matplotlib) (0.12.1)\n",
            "Requirement already satisfied: fonttools>=4.22.0 in /usr/local/lib/python3.10/dist-packages (from matplotlib) (4.55.0)\n",
            "Requirement already satisfied: kiwisolver>=1.0.1 in /usr/local/lib/python3.10/dist-packages (from matplotlib) (1.4.7)\n",
            "Requirement already satisfied: numpy<2,>=1.21 in /usr/local/lib/python3.10/dist-packages (from matplotlib) (1.26.4)\n",
            "Requirement already satisfied: packaging>=20.0 in /usr/local/lib/python3.10/dist-packages (from matplotlib) (24.2)\n",
            "Requirement already satisfied: pillow>=6.2.0 in /usr/local/lib/python3.10/dist-packages (from matplotlib) (11.0.0)\n",
            "Requirement already satisfied: pyparsing>=2.3.1 in /usr/local/lib/python3.10/dist-packages (from matplotlib) (3.2.0)\n",
            "Requirement already satisfied: python-dateutil>=2.7 in /usr/local/lib/python3.10/dist-packages (from matplotlib) (2.8.2)\n",
            "Requirement already satisfied: six>=1.5 in /usr/local/lib/python3.10/dist-packages (from python-dateutil>=2.7->matplotlib) (1.16.0)\n",
            "Requirement already satisfied: wandb in /usr/local/lib/python3.10/dist-packages (0.18.7)\n",
            "Requirement already satisfied: click!=8.0.0,>=7.1 in /usr/local/lib/python3.10/dist-packages (from wandb) (8.1.7)\n",
            "Requirement already satisfied: docker-pycreds>=0.4.0 in /usr/local/lib/python3.10/dist-packages (from wandb) (0.4.0)\n",
            "Requirement already satisfied: gitpython!=3.1.29,>=1.0.0 in /usr/local/lib/python3.10/dist-packages (from wandb) (3.1.43)\n",
            "Requirement already satisfied: platformdirs in /usr/local/lib/python3.10/dist-packages (from wandb) (4.3.6)\n",
            "Requirement already satisfied: protobuf!=4.21.0,!=5.28.0,<6,>=3.19.0 in /usr/local/lib/python3.10/dist-packages (from wandb) (4.25.5)\n",
            "Requirement already satisfied: psutil>=5.0.0 in /usr/local/lib/python3.10/dist-packages (from wandb) (5.9.5)\n",
            "Requirement already satisfied: pyyaml in /usr/local/lib/python3.10/dist-packages (from wandb) (6.0.2)\n",
            "Requirement already satisfied: requests<3,>=2.0.0 in /usr/local/lib/python3.10/dist-packages (from wandb) (2.32.3)\n",
            "Requirement already satisfied: sentry-sdk>=2.0.0 in /usr/local/lib/python3.10/dist-packages (from wandb) (2.18.0)\n",
            "Requirement already satisfied: setproctitle in /usr/local/lib/python3.10/dist-packages (from wandb) (1.3.4)\n",
            "Requirement already satisfied: setuptools in /usr/local/lib/python3.10/dist-packages (from wandb) (75.1.0)\n",
            "Requirement already satisfied: typing-extensions<5,>=4.4 in /usr/local/lib/python3.10/dist-packages (from wandb) (4.12.2)\n",
            "Requirement already satisfied: six>=1.4.0 in /usr/local/lib/python3.10/dist-packages (from docker-pycreds>=0.4.0->wandb) (1.16.0)\n",
            "Requirement already satisfied: gitdb<5,>=4.0.1 in /usr/local/lib/python3.10/dist-packages (from gitpython!=3.1.29,>=1.0.0->wandb) (4.0.11)\n",
            "Requirement already satisfied: charset-normalizer<4,>=2 in /usr/local/lib/python3.10/dist-packages (from requests<3,>=2.0.0->wandb) (3.4.0)\n",
            "Requirement already satisfied: idna<4,>=2.5 in /usr/local/lib/python3.10/dist-packages (from requests<3,>=2.0.0->wandb) (3.10)\n",
            "Requirement already satisfied: urllib3<3,>=1.21.1 in /usr/local/lib/python3.10/dist-packages (from requests<3,>=2.0.0->wandb) (2.2.3)\n",
            "Requirement already satisfied: certifi>=2017.4.17 in /usr/local/lib/python3.10/dist-packages (from requests<3,>=2.0.0->wandb) (2024.8.30)\n",
            "Requirement already satisfied: smmap<6,>=3.0.1 in /usr/local/lib/python3.10/dist-packages (from gitdb<5,>=4.0.1->gitpython!=3.1.29,>=1.0.0->wandb) (5.0.1)\n"
          ]
        }
      ]
    },
    {
      "cell_type": "code",
      "source": [
        "!git clone https://github.com/OscarOvanger/GeoDecepticon.git"
      ],
      "metadata": {
        "colab": {
          "base_uri": "https://localhost:8080/"
        },
        "id": "_sSxYr07NGmM",
        "outputId": "e2610fba-8340-44e2-cbfd-7e7938ed6a79"
      },
      "execution_count": 2,
      "outputs": [
        {
          "output_type": "stream",
          "name": "stdout",
          "text": [
            "Cloning into 'GeoDecepticon'...\n",
            "remote: Enumerating objects: 254, done.\u001b[K\n",
            "remote: Counting objects: 100% (154/154), done.\u001b[K\n",
            "remote: Compressing objects: 100% (119/119), done.\u001b[K\n",
            "remote: Total 254 (delta 97), reused 39 (delta 35), pack-reused 100 (from 1)\u001b[K\n",
            "Receiving objects: 100% (254/254), 38.87 MiB | 19.23 MiB/s, done.\n",
            "Resolving deltas: 100% (126/126), done.\n"
          ]
        }
      ]
    },
    {
      "cell_type": "code",
      "source": [
        "import os\n",
        "os.chdir('/content/GeoDecepticon')"
      ],
      "metadata": {
        "id": "C5PNiWOrNTCN"
      },
      "execution_count": 3,
      "outputs": []
    },
    {
      "cell_type": "code",
      "source": [
        "from dataloader import BinaryImageDataset, preprocess_image\n",
        "from transformer import VisionTransformer\n",
        "import torch\n",
        "import torch.optim as optim\n",
        "import torch.nn as nn\n",
        "import wandb\n",
        "import numpy as np\n",
        "import matplotlib.pyplot as plt\n",
        "from torch.utils.data import DataLoader\n",
        "from sample import reconstruct_image_from_patches\n",
        "import matplotlib.colors as mcolors\n",
        "from torch.optim.lr_scheduler import ReduceLROnPlateau\n",
        "from matplotlib import colors\n",
        "import os\n",
        "from torch.optim.lr_scheduler import StepLR"
      ],
      "metadata": {
        "id": "uDxei4TeKtU6"
      },
      "execution_count": 4,
      "outputs": []
    },
    {
      "cell_type": "code",
      "source": [
        "data_1 = np.load(\"data_array_1.npz\")\n",
        "data_2 = np.load(\"data_array_2.npz\")\n",
        "data_3 = np.load(\"data_array_3.npz\")\n",
        "\n",
        "data_array_1 = data_1['data_array']\n",
        "data_array_2 = data_2['data_array']\n",
        "data_array_3 = data_3['data_array']\n",
        "\n",
        "training_data = np.concatenate((data_array_1, data_array_2), axis=0)\n",
        "test_data = data_array_3\n",
        "print(\"training data shape: \", training_data.shape)\n",
        "print(\"test data shape: \", test_data.shape)\n",
        "\n",
        "plt.imshow(training_data[0])\n",
        "plt.show()"
      ],
      "metadata": {
        "colab": {
          "base_uri": "https://localhost:8080/",
          "height": 467
        },
        "id": "q1X8GW0A1vJ2",
        "outputId": "0d1584fc-0c74-4e07-8d16-38583a6879f7"
      },
      "execution_count": 5,
      "outputs": [
        {
          "output_type": "stream",
          "name": "stdout",
          "text": [
            "training data shape:  (6000, 64, 64)\n",
            "test data shape:  (3423, 64, 64)\n"
          ]
        },
        {
          "output_type": "display_data",
          "data": {
            "text/plain": [
              "<Figure size 640x480 with 1 Axes>"
            ],
            "image/png": "[encoded data removed]"
          },
          "metadata": {}
        }
      ]
    },
    {
      "cell_type": "code",
      "source": [
        "# Create the embedding matrix for all 2x2 binary combinations + 1 mask token\n",
        "embedding_matrix = torch.zeros((17, 4))  # Shape: (num_tokens, embed_dim)\n",
        "\n",
        "# Generate all possible 2x2 binary patches\n",
        "patches = torch.tensor([\n",
        "    [a, b, c, d]\n",
        "    for a in range(2)\n",
        "    for b in range(2)\n",
        "    for c in range(2)\n",
        "    for d in range(2)\n",
        "])  # Shape: (16, 4) for 16 combinations of 2x2 patches\n",
        "\n",
        "# Assign each patch's values as its embedding\n",
        "for i, patch in enumerate(patches):\n",
        "    embedding_matrix[i, :] = patch  # Set the embedding to the patch values\n",
        "\n",
        "# Set the last row to all 2s for the masked patch\n",
        "embedding_matrix[-1, :] = 0.5  # Mask token embedding\n",
        "\n",
        "\n",
        "print(\"Embedding Matrix:\\n\", embedding_matrix)"
      ],
      "metadata": {
        "colab": {
          "base_uri": "https://localhost:8080/"
        },
        "id": "NVWktkS5DH1S",
        "outputId": "1f9275fe-cf7c-4529-9dc5-2799e0331bbd"
      },
      "execution_count": 6,
      "outputs": [
        {
          "output_type": "stream",
          "name": "stdout",
          "text": [
            "Embedding Matrix:\n",
            " tensor([[0.0000, 0.0000, 0.0000, 0.0000],\n",
            "        [0.0000, 0.0000, 0.0000, 1.0000],\n",
            "        [0.0000, 0.0000, 1.0000, 0.0000],\n",
            "        [0.0000, 0.0000, 1.0000, 1.0000],\n",
            "        [0.0000, 1.0000, 0.0000, 0.0000],\n",
            "        [0.0000, 1.0000, 0.0000, 1.0000],\n",
            "        [0.0000, 1.0000, 1.0000, 0.0000],\n",
            "        [0.0000, 1.0000, 1.0000, 1.0000],\n",
            "        [1.0000, 0.0000, 0.0000, 0.0000],\n",
            "        [1.0000, 0.0000, 0.0000, 1.0000],\n",
            "        [1.0000, 0.0000, 1.0000, 0.0000],\n",
            "        [1.0000, 0.0000, 1.0000, 1.0000],\n",
            "        [1.0000, 1.0000, 0.0000, 0.0000],\n",
            "        [1.0000, 1.0000, 0.0000, 1.0000],\n",
            "        [1.0000, 1.0000, 1.0000, 0.0000],\n",
            "        [1.0000, 1.0000, 1.0000, 1.0000],\n",
            "        [0.5000, 0.5000, 0.5000, 0.5000]])\n"
          ]
        }
      ]
    },
    {
      "cell_type": "code",
      "source": [
        "# Load the model parameters\n",
        "# Convert to tensors, should be type Long\n",
        "training_images = torch.tensor(training_data, dtype=torch.long)\n",
        "test_images = torch.tensor(test_data, dtype=torch.long)\n",
        "\n",
        "# Parameters\n",
        "batch_size = 30\n",
        "embed_dim = 4\n",
        "num_heads = 2\n",
        "feedforward_dim = 128\n",
        "num_layers = 2\n",
        "num_tokens = 17  # 16 tokens + 1 mask token\n",
        "max_patches = 32 * 32\n",
        "dropout = 0.2\n",
        "learning_rate = 3e-4\n",
        "num_epochs = 500\n",
        "hidden_dim = 64\n",
        "#initial_mask_rate = 0.2\n",
        "#final_mask_rate = 0.1\n",
        "\n",
        "# Dataset and DataLoader\n",
        "dataset = BinaryImageDataset(training_images)  # Assumes training_images is already loaded\n",
        "dataloader = DataLoader(dataset, batch_size=batch_size, shuffle=True)\n",
        "\n",
        "# Device\n",
        "device = torch.device(\"cuda\" if torch.cuda.is_available() else \"cpu\")\n",
        "\n",
        "# Model\n",
        "model = VisionTransformer(embed_dim, num_heads, feedforward_dim, num_layers, num_tokens, max_patches, dropout, hidden_dim).to(device)\n",
        "\n",
        "# Define optimizer and scheduler\n",
        "optimizer = torch.optim.Adam(model.parameters(), lr=learning_rate)\n",
        "#scheduler = StepLR(optimizer, step_size=20, gamma=0.5)\n",
        "\n",
        "def prob_log_scheduler(x,max_patches,num_epochs,rand_size):\n",
        "    value = max_patches*np.log((((np.exp(1)-1)*x)/num_epochs) + 1)\n",
        "    i = 0\n",
        "    for val in value:\n",
        "      rand_comp = np.random.randint(-rand_size,rand_size)\n",
        "      #print(\"random value:\", rand_comp)\n",
        "      val = int(val + rand_comp)\n",
        "      if val > max_patches:\n",
        "          val = max_patches\n",
        "      elif val < 1:\n",
        "          val = 1\n",
        "      value[i] = val\n",
        "      i += 1\n",
        "    return value"
      ],
      "metadata": {
        "id": "C5CIDqPjAXWh"
      },
      "execution_count": 7,
      "outputs": []
    },
    {
      "cell_type": "code",
      "source": [
        "x = np.linspace(1,num_epochs,num_epochs)\n",
        "max_masking = int(max_patches*0.9)\n",
        "rand_size = 50\n",
        "y = prob_log_scheduler(x,max_masking,num_epochs,rand_size)\n",
        "plt.plot(x,y)\n",
        "plt.title(\"Masking schedule\")\n",
        "plt.xlabel(\"Epoch\")\n",
        "plt.ylabel(\"Number of masked patches\")\n",
        "plt.show()\n",
        "print(y[0])\n",
        "print(y[-1])"
      ],
      "metadata": {
        "colab": {
          "base_uri": "https://localhost:8080/",
          "height": 507
        },
        "id": "vE7Hqpmkzj2M",
        "outputId": "21e8ff7c-fd02-40c6-e4d5-be4520d57092"
      },
      "execution_count": 8,
      "outputs": [
        {
          "output_type": "display_data",
          "data": {
            "text/plain": [
              "<Figure size 640x480 with 1 Axes>"
            ],
            "image/png": "[encoded data removed]"
          },
          "metadata": {}
        },
        {
          "output_type": "stream",
          "name": "stdout",
          "text": [
            "1.0\n",
            "886.0\n"
          ]
        }
      ]
    },
    {
      "cell_type": "code",
      "source": [
        "import wandb\n",
        "wandb.login()\n",
        "\n",
        "# Initialize wandb project\n",
        "wandb.init(\n",
        "    project=\"vision-transformer\",\n",
        "    config={\n",
        "        \"batch_size\": batch_size,\n",
        "        \"embed_dim\": embed_dim,\n",
        "        \"num_heads\": num_heads,\n",
        "        \"feedforward_dim\": feedforward_dim,\n",
        "        \"num_layers\": num_layers,\n",
        "        \"num_tokens\": num_tokens,\n",
        "        \"max_patches\": max_patches,\n",
        "        \"dropout\": dropout,\n",
        "        \"learning_rate\": learning_rate,\n",
        "        \"num_epochs\": num_epochs,\n",
        "        \"hidden_dim\": hidden_dim,\n",
        "    },\n",
        ")\n",
        "\n",
        "\n",
        "# Directory to save checkpoints\n",
        "os.makedirs(\"checkpoints\", exist_ok=True)\n",
        "maskings = y\n",
        "# Training Loop\n",
        "for epoch in range(num_epochs):\n",
        "    model.train()\n",
        "    total_loss = 0\n",
        "    current_num_mask = int(maskings[epoch])\n",
        "    for batch_idx, images in enumerate(dataloader):\n",
        "        # Preprocess images\n",
        "        patch_indices = torch.stack([preprocess_image(img) for img in images]).long() #(btach_size,max_patches)\n",
        "        masked_patches = patch_indices.clone() #(btach_size,max_patches)\n",
        "\n",
        "        # Generate random indices for masking\n",
        "        random_indices = torch.rand(batch_size, max_patches).argsort(dim=1)[:, :current_num_mask]\n",
        "        # Create the mask tensor\n",
        "        mask = torch.zeros((batch_size, max_patches), dtype=torch.bool)\n",
        "        mask.scatter_(1, random_indices, True)\n",
        "\n",
        "        #Mask\n",
        "        masked_patches[mask] = num_tokens - 1  # Replace masked patches with the mask token\n",
        "\n",
        "        # Define weighted CrossEntropyLoss\n",
        "        criterion = nn.CrossEntropyLoss()\n",
        "\n",
        "        # Move to device\n",
        "        masked_patches, patch_indices, mask = (\n",
        "            masked_patches.to(device),\n",
        "            patch_indices.to(device),\n",
        "            mask.to(device),\n",
        "        )\n",
        "\n",
        "        # Forward pass\n",
        "        logits = model(masked_patches) # (batch_size,max_patches,num_tokens - 1)\n",
        "        # Isolate the masked patches\n",
        "        # Get the indices of True values\n",
        "        indices = mask.nonzero(as_tuple=True)  # Returns indices where mask is True\n",
        "        # Extract logits at masked positions while maintaining row-wise structure\n",
        "        masked_logits = logits[indices[0], indices[1]]  # Extracts all True-index logits\n",
        "        masked_patch_indices = patch_indices[indices[0], indices[1]]  # Extracts all True-index patch indices\n",
        "        # Reshape to [batch_size, num_masked_patches, num_classes]\n",
        "        masked_logits = masked_logits.view(batch_size, current_num_mask, -1)  # (batch_size, current_num_mask, num_tokens-1)\n",
        "        masked_patch_indices = masked_patch_indices.view(batch_size, current_num_mask) #(batch_size, current_num_mask)\n",
        "\n",
        "        #Compute logits\n",
        "        loss = criterion(logits.view(-1, num_tokens-1), patch_indices.view(-1))\n",
        "\n",
        "        # Backward pass\n",
        "        optimizer.zero_grad()\n",
        "        loss.backward()\n",
        "        optimizer.step()\n",
        "\n",
        "        total_loss += loss.item()\n",
        "\n",
        "        # Log batch metrics\n",
        "        wandb.log({\"batch_loss\": loss.item()})\n",
        "\n",
        "        # Visualization for the first batch in the epoch\n",
        "        if batch_idx == 0:\n",
        "          with torch.no_grad():\n",
        "              # Initialize predicted_indices with original patch indices\n",
        "              predicted_indices = patch_indices.cpu()[0].clone()\n",
        "\n",
        "              # Predict only the masked indices\n",
        "              masked_predictions = torch.argmax(masked_logits, dim=-1).cpu()  # Shape: [batch_size, current_num_mask]\n",
        "              predicted_indices[mask[0]] = masked_predictions[0]  # Update only masked indices\n",
        "\n",
        "              # Reconstruct images\n",
        "              reconstructed_image = reconstruct_image_from_patches(predicted_indices)\n",
        "\n",
        "              # Prepare masked image for visualization\n",
        "              visualized_masked_patches = masked_patches.cpu()[0].clone()\n",
        "              visualized_masked_patches[visualized_masked_patches == num_tokens - 1] = -1\n",
        "              masked_image = reconstruct_image_from_patches(visualized_masked_patches)\n",
        "\n",
        "              # Log visualizations to wandb\n",
        "              wandb.log({\n",
        "                  \"Original Image\": wandb.Image(\n",
        "                      reconstruct_image_from_patches(patch_indices.cpu()[0])\n",
        "                  ),\n",
        "                  \"Masked Image\": wandb.Image(masked_image, caption=\"Masked Image\"),\n",
        "                  \"Reconstructed Image\": wandb.Image(\n",
        "                      reconstructed_image, caption=\"Reconstructed Image\"\n",
        "                  ),\n",
        "              })\n",
        "\n",
        "    avg_loss = total_loss / len(dataloader)\n",
        "    print(f\"Epoch [{epoch+1}/{num_epochs}] completed. Average Loss: {avg_loss:.4f}\")\n",
        "\n",
        "    # Log epoch metrics\n",
        "    wandb.log({\"epoch_loss\": avg_loss, \"masked_patches\": current_num_mask})\n",
        "\n",
        "    # Save checkpoint periodically\n",
        "    if (epoch + 1) % 50 == 0:\n",
        "        checkpoint_path = f\"checkpoints/vision_transformer_epoch_{epoch+1}.pth\"\n",
        "        torch.save(\n",
        "            {\n",
        "                \"epoch\": epoch + 1,\n",
        "                \"model_state_dict\": model.state_dict(),\n",
        "                \"optimizer_state_dict\": optimizer.state_dict(),\n",
        "                \"loss\": avg_loss,\n",
        "            },\n",
        "            checkpoint_path,\n",
        "        )\n",
        "        print(f\"Checkpoint saved for epoch {epoch+1}\")\n",
        "        wandb.save(checkpoint_path)\n",
        "\n",
        "# Save the final model\n",
        "torch.save(model.state_dict(), \"vision_transformer_final_balanced.pth\")\n",
        "wandb.save(\"vision_transformer_final_balanced.pth\")\n",
        "print(\"Final model saved as 'vision_transformer_final_balanced.pth'.\")\n",
        "wandb.finish()"
      ],
      "metadata": {
        "colab": {
          "base_uri": "https://localhost:8080/",
          "height": 558
        },
        "id": "EG-Wyvra6908",
        "outputId": "18e9033a-3741-4e0f-b9b2-9312b48352f7"
      },
      "execution_count": null,
      "outputs": [
        {
          "output_type": "stream",
          "name": "stderr",
          "text": [
            "\u001b[34m\u001b[1mwandb\u001b[0m: Using wandb-core as the SDK backend.  Please refer to https://wandb.me/wandb-core for more information.\n"
          ]
        },
        {
          "output_type": "display_data",
          "data": {
            "text/plain": [
              "<IPython.core.display.Javascript object>"
            ],
            "application/javascript": [
              "\n",
              "        window._wandbApiKey = new Promise((resolve, reject) => {\n",
              "            function loadScript(url) {\n",
              "            return new Promise(function(resolve, reject) {\n",
              "                let newScript = document.createElement(\"script\");\n",
              "                newScript.onerror = reject;\n",
              "                newScript.onload = resolve;\n",
              "                document.body.appendChild(newScript);\n",
              "                newScript.src = url;\n",
              "            });\n",
              "            }\n",
              "            loadScript(\"https://cdn.jsdelivr.net/npm/postmate/build/postmate.min.js\").then(() => {\n",
              "            const iframe = document.createElement('iframe')\n",
              "            iframe.style.cssText = \"width:0;height:0;border:none\"\n",
              "            document.body.appendChild(iframe)\n",
              "            const handshake = new Postmate({\n",
              "                container: iframe,\n",
              "                url: 'https://wandb.ai/authorize'\n",
              "            });\n",
              "            const timeout = setTimeout(() => reject(\"Couldn't auto authenticate\"), 5000)\n",
              "            handshake.then(function(child) {\n",
              "                child.on('authorize', data => {\n",
              "                    clearTimeout(timeout)\n",
              "                    resolve(data)\n",
              "                });\n",
              "            });\n",
              "            })\n",
              "        });\n",
              "    "
            ]
          },
          "metadata": {}
        },
        {
          "output_type": "stream",
          "name": "stderr",
          "text": [
            "\u001b[34m\u001b[1mwandb\u001b[0m: Logging into wandb.ai. (Learn how to deploy a W&B server locally: https://wandb.me/wandb-server)\n",
            "\u001b[34m\u001b[1mwandb\u001b[0m: You can find your API key in your browser here: https://wandb.ai/authorize\n",
            "wandb: Paste an API key from your profile and hit enter, or press ctrl+c to quit:"
          ]
        },
        {
          "name": "stdout",
          "output_type": "stream",
          "text": [
            " ··········\n"
          ]
        },
        {
          "output_type": "stream",
          "name": "stderr",
          "text": [
            "\u001b[34m\u001b[1mwandb\u001b[0m: Appending key for api.wandb.ai to your netrc file: /root/.netrc\n",
            "\u001b[34m\u001b[1mwandb\u001b[0m: Currently logged in as: \u001b[33moscar-ovanger\u001b[0m (\u001b[33moscars\u001b[0m). Use \u001b[1m`wandb login --relogin`\u001b[0m to force relogin\n"
          ]
        },
        {
          "output_type": "display_data",
          "data": {
            "text/plain": [
              "<IPython.core.display.HTML object>"
            ],
            "text/html": [
              "Tracking run with wandb version 0.18.7"
            ]
          },
          "metadata": {}
        },
        {
          "output_type": "display_data",
          "data": {
            "text/plain": [
              "<IPython.core.display.HTML object>"
            ],
            "text/html": [
              "Run data is saved locally in <code>/content/GeoDecepticon/wandb/run-20241203_072508-p6q7nprj</code>"
            ]
          },
          "metadata": {}
        },
        {
          "output_type": "display_data",
          "data": {
            "text/plain": [
              "<IPython.core.display.HTML object>"
            ],
            "text/html": [
              "Syncing run <strong><a href='https://wandb.ai/oscars/vision-transformer/runs/p6q7nprj' target=\"_blank\">driven-frost-31</a></strong> to <a href='https://wandb.ai/oscars/vision-transformer' target=\"_blank\">Weights & Biases</a> (<a href='https://wandb.me/developer-guide' target=\"_blank\">docs</a>)<br/>"
            ]
          },
          "metadata": {}
        },
        {
          "output_type": "display_data",
          "data": {
            "text/plain": [
              "<IPython.core.display.HTML object>"
            ],
            "text/html": [
              " View project at <a href='https://wandb.ai/oscars/vision-transformer' target=\"_blank\">https://wandb.ai/oscars/vision-transformer</a>"
            ]
          },
          "metadata": {}
        },
        {
          "output_type": "display_data",
          "data": {
            "text/plain": [
              "<IPython.core.display.HTML object>"
            ],
            "text/html": [
              " View run at <a href='https://wandb.ai/oscars/vision-transformer/runs/p6q7nprj' target=\"_blank\">https://wandb.ai/oscars/vision-transformer/runs/p6q7nprj</a>"
            ]
          },
          "metadata": {}
        },
        {
          "output_type": "stream",
          "name": "stderr",
          "text": [
            "/content/GeoDecepticon/dataloader.py:17: UserWarning: To copy construct from a tensor, it is recommended to use sourceTensor.clone().detach() or sourceTensor.clone().detach().requires_grad_(True), rather than torch.tensor(sourceTensor).\n",
            "  return torch.tensor(image, dtype=torch.float32)\n",
            "/content/GeoDecepticon/dataloader.py:17: UserWarning: To copy construct from a tensor, it is recommended to use sourceTensor.clone().detach() or sourceTensor.clone().detach().requires_grad_(True), rather than torch.tensor(sourceTensor).\n",
            "  return torch.tensor(image, dtype=torch.float32)\n"
          ]
        },
        {
          "output_type": "stream",
          "name": "stdout",
          "text": [
            "Epoch [1/500] completed. Average Loss: 0.6439\n",
            "Epoch [2/500] completed. Average Loss: 0.2548\n",
            "Epoch [3/500] completed. Average Loss: 0.1388\n",
            "Epoch [4/500] completed. Average Loss: 0.0906\n",
            "Epoch [5/500] completed. Average Loss: 0.0153\n",
            "Epoch [6/500] completed. Average Loss: 0.0348\n",
            "Epoch [7/500] completed. Average Loss: 0.0262\n",
            "Epoch [8/500] completed. Average Loss: 0.0032\n",
            "Epoch [9/500] completed. Average Loss: 0.0183\n",
            "Epoch [10/500] completed. Average Loss: 0.0550\n",
            "Epoch [11/500] completed. Average Loss: 0.0175\n",
            "Epoch [12/500] completed. Average Loss: 0.0764\n",
            "Epoch [13/500] completed. Average Loss: 0.0494\n",
            "Epoch [14/500] completed. Average Loss: 0.0833\n"
          ]
        }
      ]
    },
    {
      "cell_type": "markdown",
      "source": [
        "# Sampling"
      ],
      "metadata": {
        "id": "KZAVOTHq5u5P"
      }
    }
  ],
  "metadata": {
    "kernelspec": {
      "display_name": "Python 3",
      "name": "python3"
    },
    "language_info": {
      "name": "python",
      "version": "3.12.1"
    },
    "colab": {
      "provenance": [],
      "machine_shape": "hm",
      "gpuType": "A100",
      "include_colab_link": true
    },
    "accelerator": "GPU"
  },
  "nbformat": 4,
  "nbformat_minor": 0
}