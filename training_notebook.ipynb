{
  "cells": [
    {
      "cell_type": "markdown",
      "metadata": {
        "id": "view-in-github",
        "colab_type": "text"
      },
      "source": [
        "<a href=\"https://colab.research.google.com/github/OscarOvanger/GeoDecepticon/blob/main/training_notebook.ipynb\" target=\"_parent\"><img src=\"https://colab.research.google.com/assets/colab-badge.svg\" alt=\"Open In Colab\"/></a>"
      ]
    },
    {
      "cell_type": "markdown",
      "metadata": {
        "id": "RhDYtsPDKH1Y"
      },
      "source": [
        "# This is where the training goes down"
      ]
    },
    {
      "cell_type": "markdown",
      "metadata": {
        "id": "hqn3Jq7vKH1Z"
      },
      "source": [
        " We start of by installing the requirements"
      ]
    },
    {
      "cell_type": "code",
      "source": [
        "!pip install numpy\n",
        "!pip install torch\n",
        "!pip install torchvision\n",
        "!pip install matplotlib\n",
        "!pip install wandb"
      ],
      "metadata": {
        "id": "hvzMW1GvKONI",
        "outputId": "ffed18a1-e07b-4779-b787-189b0d1c7054",
        "colab": {
          "base_uri": "https://localhost:8080/"
        }
      },
      "execution_count": 10,
      "outputs": [
        {
          "output_type": "stream",
          "name": "stdout",
          "text": [
            "Requirement already satisfied: numpy in /usr/local/lib/python3.10/dist-packages (1.26.4)\n",
            "Requirement already satisfied: torch in /usr/local/lib/python3.10/dist-packages (2.5.1+cu121)\n",
            "Requirement already satisfied: filelock in /usr/local/lib/python3.10/dist-packages (from torch) (3.16.1)\n",
            "Requirement already satisfied: typing-extensions>=4.8.0 in /usr/local/lib/python3.10/dist-packages (from torch) (4.12.2)\n",
            "Requirement already satisfied: networkx in /usr/local/lib/python3.10/dist-packages (from torch) (3.4.2)\n",
            "Requirement already satisfied: jinja2 in /usr/local/lib/python3.10/dist-packages (from torch) (3.1.4)\n",
            "Requirement already satisfied: fsspec in /usr/local/lib/python3.10/dist-packages (from torch) (2024.10.0)\n",
            "Requirement already satisfied: sympy==1.13.1 in /usr/local/lib/python3.10/dist-packages (from torch) (1.13.1)\n",
            "Requirement already satisfied: mpmath<1.4,>=1.1.0 in /usr/local/lib/python3.10/dist-packages (from sympy==1.13.1->torch) (1.3.0)\n",
            "Requirement already satisfied: MarkupSafe>=2.0 in /usr/local/lib/python3.10/dist-packages (from jinja2->torch) (3.0.2)\n",
            "Requirement already satisfied: torchvision in /usr/local/lib/python3.10/dist-packages (0.20.1+cu121)\n",
            "Requirement already satisfied: numpy in /usr/local/lib/python3.10/dist-packages (from torchvision) (1.26.4)\n",
            "Requirement already satisfied: torch==2.5.1 in /usr/local/lib/python3.10/dist-packages (from torchvision) (2.5.1+cu121)\n",
            "Requirement already satisfied: pillow!=8.3.*,>=5.3.0 in /usr/local/lib/python3.10/dist-packages (from torchvision) (11.0.0)\n",
            "Requirement already satisfied: filelock in /usr/local/lib/python3.10/dist-packages (from torch==2.5.1->torchvision) (3.16.1)\n",
            "Requirement already satisfied: typing-extensions>=4.8.0 in /usr/local/lib/python3.10/dist-packages (from torch==2.5.1->torchvision) (4.12.2)\n",
            "Requirement already satisfied: networkx in /usr/local/lib/python3.10/dist-packages (from torch==2.5.1->torchvision) (3.4.2)\n",
            "Requirement already satisfied: jinja2 in /usr/local/lib/python3.10/dist-packages (from torch==2.5.1->torchvision) (3.1.4)\n",
            "Requirement already satisfied: fsspec in /usr/local/lib/python3.10/dist-packages (from torch==2.5.1->torchvision) (2024.10.0)\n",
            "Requirement already satisfied: sympy==1.13.1 in /usr/local/lib/python3.10/dist-packages (from torch==2.5.1->torchvision) (1.13.1)\n",
            "Requirement already satisfied: mpmath<1.4,>=1.1.0 in /usr/local/lib/python3.10/dist-packages (from sympy==1.13.1->torch==2.5.1->torchvision) (1.3.0)\n",
            "Requirement already satisfied: MarkupSafe>=2.0 in /usr/local/lib/python3.10/dist-packages (from jinja2->torch==2.5.1->torchvision) (3.0.2)\n",
            "Requirement already satisfied: matplotlib in /usr/local/lib/python3.10/dist-packages (3.8.0)\n",
            "Requirement already satisfied: contourpy>=1.0.1 in /usr/local/lib/python3.10/dist-packages (from matplotlib) (1.3.1)\n",
            "Requirement already satisfied: cycler>=0.10 in /usr/local/lib/python3.10/dist-packages (from matplotlib) (0.12.1)\n",
            "Requirement already satisfied: fonttools>=4.22.0 in /usr/local/lib/python3.10/dist-packages (from matplotlib) (4.55.0)\n",
            "Requirement already satisfied: kiwisolver>=1.0.1 in /usr/local/lib/python3.10/dist-packages (from matplotlib) (1.4.7)\n",
            "Requirement already satisfied: numpy<2,>=1.21 in /usr/local/lib/python3.10/dist-packages (from matplotlib) (1.26.4)\n",
            "Requirement already satisfied: packaging>=20.0 in /usr/local/lib/python3.10/dist-packages (from matplotlib) (24.2)\n",
            "Requirement already satisfied: pillow>=6.2.0 in /usr/local/lib/python3.10/dist-packages (from matplotlib) (11.0.0)\n",
            "Requirement already satisfied: pyparsing>=2.3.1 in /usr/local/lib/python3.10/dist-packages (from matplotlib) (3.2.0)\n",
            "Requirement already satisfied: python-dateutil>=2.7 in /usr/local/lib/python3.10/dist-packages (from matplotlib) (2.8.2)\n",
            "Requirement already satisfied: six>=1.5 in /usr/local/lib/python3.10/dist-packages (from python-dateutil>=2.7->matplotlib) (1.16.0)\n",
            "Requirement already satisfied: wandb in /usr/local/lib/python3.10/dist-packages (0.18.7)\n",
            "Requirement already satisfied: click!=8.0.0,>=7.1 in /usr/local/lib/python3.10/dist-packages (from wandb) (8.1.7)\n",
            "Requirement already satisfied: docker-pycreds>=0.4.0 in /usr/local/lib/python3.10/dist-packages (from wandb) (0.4.0)\n",
            "Requirement already satisfied: gitpython!=3.1.29,>=1.0.0 in /usr/local/lib/python3.10/dist-packages (from wandb) (3.1.43)\n",
            "Requirement already satisfied: platformdirs in /usr/local/lib/python3.10/dist-packages (from wandb) (4.3.6)\n",
            "Requirement already satisfied: protobuf!=4.21.0,!=5.28.0,<6,>=3.19.0 in /usr/local/lib/python3.10/dist-packages (from wandb) (4.25.5)\n",
            "Requirement already satisfied: psutil>=5.0.0 in /usr/local/lib/python3.10/dist-packages (from wandb) (5.9.5)\n",
            "Requirement already satisfied: pyyaml in /usr/local/lib/python3.10/dist-packages (from wandb) (6.0.2)\n",
            "Requirement already satisfied: requests<3,>=2.0.0 in /usr/local/lib/python3.10/dist-packages (from wandb) (2.32.3)\n",
            "Requirement already satisfied: sentry-sdk>=2.0.0 in /usr/local/lib/python3.10/dist-packages (from wandb) (2.18.0)\n",
            "Requirement already satisfied: setproctitle in /usr/local/lib/python3.10/dist-packages (from wandb) (1.3.4)\n",
            "Requirement already satisfied: setuptools in /usr/local/lib/python3.10/dist-packages (from wandb) (75.1.0)\n",
            "Requirement already satisfied: typing-extensions<5,>=4.4 in /usr/local/lib/python3.10/dist-packages (from wandb) (4.12.2)\n",
            "Requirement already satisfied: six>=1.4.0 in /usr/local/lib/python3.10/dist-packages (from docker-pycreds>=0.4.0->wandb) (1.16.0)\n",
            "Requirement already satisfied: gitdb<5,>=4.0.1 in /usr/local/lib/python3.10/dist-packages (from gitpython!=3.1.29,>=1.0.0->wandb) (4.0.11)\n",
            "Requirement already satisfied: charset-normalizer<4,>=2 in /usr/local/lib/python3.10/dist-packages (from requests<3,>=2.0.0->wandb) (3.4.0)\n",
            "Requirement already satisfied: idna<4,>=2.5 in /usr/local/lib/python3.10/dist-packages (from requests<3,>=2.0.0->wandb) (3.10)\n",
            "Requirement already satisfied: urllib3<3,>=1.21.1 in /usr/local/lib/python3.10/dist-packages (from requests<3,>=2.0.0->wandb) (2.2.3)\n",
            "Requirement already satisfied: certifi>=2017.4.17 in /usr/local/lib/python3.10/dist-packages (from requests<3,>=2.0.0->wandb) (2024.8.30)\n",
            "Requirement already satisfied: smmap<6,>=3.0.1 in /usr/local/lib/python3.10/dist-packages (from gitdb<5,>=4.0.1->gitpython!=3.1.29,>=1.0.0->wandb) (5.0.1)\n"
          ]
        }
      ]
    },
    {
      "cell_type": "code",
      "source": [
        "!git clone https://github.com/OscarOvanger/GeoDecepticon.git"
      ],
      "metadata": {
        "colab": {
          "base_uri": "https://localhost:8080/"
        },
        "id": "_sSxYr07NGmM",
        "outputId": "d85a7e6e-543b-4ccf-cd3c-fb13b5722a5f"
      },
      "execution_count": 11,
      "outputs": [
        {
          "output_type": "stream",
          "name": "stdout",
          "text": [
            "Cloning into 'GeoDecepticon'...\n",
            "remote: Enumerating objects: 260, done.\u001b[K\n",
            "remote: Counting objects: 100% (160/160), done.\u001b[K\n",
            "remote: Compressing objects: 100% (125/125), done.\u001b[K\n",
            "remote: Total 260 (delta 99), reused 39 (delta 35), pack-reused 100 (from 1)\u001b[K\n",
            "Receiving objects: 100% (260/260), 40.35 MiB | 20.42 MiB/s, done.\n",
            "Resolving deltas: 100% (128/128), done.\n"
          ]
        }
      ]
    },
    {
      "cell_type": "code",
      "source": [
        "import os\n",
        "os.chdir('/content/GeoDecepticon')"
      ],
      "metadata": {
        "id": "C5PNiWOrNTCN"
      },
      "execution_count": 12,
      "outputs": []
    },
    {
      "cell_type": "code",
      "source": [
        "from dataloader import BinaryImageDataset, preprocess_image\n",
        "from transformer import VisionTransformer\n",
        "import torch\n",
        "import torch.optim as optim\n",
        "import torch.nn as nn\n",
        "import wandb\n",
        "import numpy as np\n",
        "import matplotlib.pyplot as plt\n",
        "from torch.utils.data import DataLoader\n",
        "from sample import reconstruct_image_from_patches\n",
        "import matplotlib.colors as mcolors\n",
        "from torch.optim.lr_scheduler import ReduceLROnPlateau\n",
        "from matplotlib import colors\n",
        "import os\n",
        "from torch.optim.lr_scheduler import StepLR"
      ],
      "metadata": {
        "id": "uDxei4TeKtU6"
      },
      "execution_count": 13,
      "outputs": []
    },
    {
      "cell_type": "code",
      "source": [
        "data_1 = np.load(\"data_array_1.npz\")\n",
        "data_2 = np.load(\"data_array_2.npz\")\n",
        "data_3 = np.load(\"data_array_3.npz\")\n",
        "\n",
        "data_array_1 = data_1['data_array']\n",
        "data_array_2 = data_2['data_array']\n",
        "data_array_3 = data_3['data_array']\n",
        "\n",
        "training_data = np.concatenate((data_array_1, data_array_2), axis=0)\n",
        "test_data = data_array_3\n",
        "print(\"training data shape: \", training_data.shape)\n",
        "print(\"test data shape: \", test_data.shape)\n",
        "\n",
        "plt.imshow(training_data[0])\n",
        "plt.show()"
      ],
      "metadata": {
        "colab": {
          "base_uri": "https://localhost:8080/",
          "height": 467
        },
        "id": "q1X8GW0A1vJ2",
        "outputId": "7966e157-5b7d-4a4f-89b7-e3c9378facd3"
      },
      "execution_count": 14,
      "outputs": [
        {
          "output_type": "stream",
          "name": "stdout",
          "text": [
            "training data shape:  (6000, 64, 64)\n",
            "test data shape:  (3423, 64, 64)\n"
          ]
        },
        {
          "output_type": "display_data",
          "data": {
            "text/plain": [
              "<Figure size 640x480 with 1 Axes>"
            ],
            "image/png": "[encoded data removed]"
          },
          "metadata": {}
        }
      ]
    },
    {
      "cell_type": "code",
      "source": [
        "# Create the embedding matrix for all 2x2 binary combinations + 1 mask token\n",
        "embedding_matrix = torch.zeros((17, 4))  # Shape: (num_tokens, embed_dim)\n",
        "\n",
        "# Generate all possible 2x2 binary patches\n",
        "patches = torch.tensor([\n",
        "    [a, b, c, d]\n",
        "    for a in range(2)\n",
        "    for b in range(2)\n",
        "    for c in range(2)\n",
        "    for d in range(2)\n",
        "])  # Shape: (16, 4) for 16 combinations of 2x2 patches\n",
        "\n",
        "# Assign each patch's values as its embedding\n",
        "for i, patch in enumerate(patches):\n",
        "    embedding_matrix[i, :] = patch  # Set the embedding to the patch values\n",
        "\n",
        "# Set the last row to all 2s for the masked patch\n",
        "embedding_matrix[-1, :] = 0.5  # Mask token embedding\n",
        "\n",
        "\n",
        "print(\"Embedding Matrix:\\n\", embedding_matrix)"
      ],
      "metadata": {
        "colab": {
          "base_uri": "https://localhost:8080/"
        },
        "id": "NVWktkS5DH1S",
        "outputId": "3a7c647d-e322-4afe-df05-fa56d8fc8ac7"
      },
      "execution_count": 15,
      "outputs": [
        {
          "output_type": "stream",
          "name": "stdout",
          "text": [
            "Embedding Matrix:\n",
            " tensor([[0.0000, 0.0000, 0.0000, 0.0000],\n",
            "        [0.0000, 0.0000, 0.0000, 1.0000],\n",
            "        [0.0000, 0.0000, 1.0000, 0.0000],\n",
            "        [0.0000, 0.0000, 1.0000, 1.0000],\n",
            "        [0.0000, 1.0000, 0.0000, 0.0000],\n",
            "        [0.0000, 1.0000, 0.0000, 1.0000],\n",
            "        [0.0000, 1.0000, 1.0000, 0.0000],\n",
            "        [0.0000, 1.0000, 1.0000, 1.0000],\n",
            "        [1.0000, 0.0000, 0.0000, 0.0000],\n",
            "        [1.0000, 0.0000, 0.0000, 1.0000],\n",
            "        [1.0000, 0.0000, 1.0000, 0.0000],\n",
            "        [1.0000, 0.0000, 1.0000, 1.0000],\n",
            "        [1.0000, 1.0000, 0.0000, 0.0000],\n",
            "        [1.0000, 1.0000, 0.0000, 1.0000],\n",
            "        [1.0000, 1.0000, 1.0000, 0.0000],\n",
            "        [1.0000, 1.0000, 1.0000, 1.0000],\n",
            "        [0.5000, 0.5000, 0.5000, 0.5000]])\n"
          ]
        }
      ]
    },
    {
      "cell_type": "code",
      "source": [
        "# Load the model parameters\n",
        "# Convert to tensors, should be type Long\n",
        "training_images = torch.tensor(training_data, dtype=torch.long)\n",
        "test_images = torch.tensor(test_data, dtype=torch.long)\n",
        "\n",
        "# Parameters\n",
        "batch_size = 30\n",
        "embed_dim = 4\n",
        "num_heads = 2\n",
        "feedforward_dim = 128\n",
        "num_layers = 2\n",
        "num_tokens = 17  # 16 tokens + 1 mask token\n",
        "max_patches = 32 * 32\n",
        "dropout = 0.2\n",
        "learning_rate = 3e-4\n",
        "num_epochs = 500\n",
        "hidden_dim = 32\n",
        "#initial_mask_rate = 0.2\n",
        "#final_mask_rate = 0.1\n",
        "\n",
        "# Dataset and DataLoader\n",
        "dataset = BinaryImageDataset(training_images)  # Assumes training_images is already loaded\n",
        "dataloader = DataLoader(dataset, batch_size=batch_size, shuffle=True)\n",
        "\n",
        "# Device\n",
        "device = torch.device(\"cuda\" if torch.cuda.is_available() else \"cpu\")\n",
        "\n",
        "# Model\n",
        "model = VisionTransformer(embed_dim, num_heads, feedforward_dim, num_layers, num_tokens, max_patches, dropout, hidden_dim).to(device)\n",
        "\n",
        "# Define optimizer and scheduler\n",
        "optimizer = torch.optim.Adam(model.parameters(), lr=learning_rate)\n",
        "#scheduler = StepLR(optimizer, step_size=20, gamma=0.5)\n",
        "\n",
        "def prob_log_scheduler(x,max_patches,num_epochs,rand_size):\n",
        "    value = max_patches*np.log((((np.exp(1)-1)*x)/num_epochs) + 1)\n",
        "    i = 0\n",
        "    for val in value:\n",
        "      rand_comp = np.random.randint(-rand_size,rand_size)\n",
        "      #print(\"random value:\", rand_comp)\n",
        "      val = int(val + rand_comp)\n",
        "      if val > max_patches:\n",
        "          val = max_patches\n",
        "      elif val < 1:\n",
        "          val = 1\n",
        "      value[i] = val\n",
        "      i += 1\n",
        "    return value"
      ],
      "metadata": {
        "id": "C5CIDqPjAXWh"
      },
      "execution_count": 36,
      "outputs": []
    },
    {
      "cell_type": "code",
      "source": [
        "x = np.linspace(1,num_epochs,num_epochs)\n",
        "max_masking = int(max_patches*0.9)\n",
        "rand_size = 50\n",
        "y = prob_log_scheduler(x,max_masking,num_epochs,rand_size)\n",
        "plt.plot(x,y)\n",
        "plt.title(\"Masking schedule\")\n",
        "plt.xlabel(\"Epoch\")\n",
        "plt.ylabel(\"Number of masked patches\")\n",
        "plt.show()\n",
        "print(y[0])\n",
        "print(y[-1])"
      ],
      "metadata": {
        "colab": {
          "base_uri": "https://localhost:8080/",
          "height": 507
        },
        "id": "vE7Hqpmkzj2M",
        "outputId": "b9ff09a9-13df-451e-815d-56bd0702150b"
      },
      "execution_count": 37,
      "outputs": [
        {
          "output_type": "display_data",
          "data": {
            "text/plain": [
              "<Figure size 640x480 with 1 Axes>"
            ],
            "image/png": "[encoded data removed]"
          },
          "metadata": {}
        },
        {
          "output_type": "stream",
          "name": "stdout",
          "text": [
            "49.0\n",
            "921.0\n"
          ]
        }
      ]
    },
    {
      "cell_type": "code",
      "source": [
        "import wandb\n",
        "wandb.login()\n",
        "\n",
        "# Initialize wandb project\n",
        "wandb.init(\n",
        "    project=\"vision-transformer\",\n",
        "    config={\n",
        "        \"batch_size\": batch_size,\n",
        "        \"embed_dim\": embed_dim,\n",
        "        \"num_heads\": num_heads,\n",
        "        \"feedforward_dim\": feedforward_dim,\n",
        "        \"num_layers\": num_layers,\n",
        "        \"num_tokens\": num_tokens,\n",
        "        \"max_patches\": max_patches,\n",
        "        \"dropout\": dropout,\n",
        "        \"learning_rate\": learning_rate,\n",
        "        \"num_epochs\": num_epochs,\n",
        "        \"hidden_dim\": hidden_dim,\n",
        "    },\n",
        ")\n",
        "\n",
        "\n",
        "# Directory to save checkpoints\n",
        "os.makedirs(\"checkpoints\", exist_ok=True)\n",
        "maskings = y\n",
        "# Training Loop\n",
        "for epoch in range(num_epochs):\n",
        "    model.train()\n",
        "    total_loss = 0\n",
        "    current_num_mask = int(maskings[epoch])\n",
        "    for batch_idx, images in enumerate(dataloader):\n",
        "        # Preprocess images\n",
        "        patch_indices = torch.stack([preprocess_image(img) for img in images]).long() #(btach_size,max_patches)\n",
        "        masked_patches = patch_indices.clone() #(btach_size,max_patches)\n",
        "\n",
        "        # Generate random indices for masking\n",
        "        random_indices = torch.rand(batch_size, max_patches).argsort(dim=1)[:, :current_num_mask]\n",
        "        # Create the mask tensor\n",
        "        mask = torch.zeros((batch_size, max_patches), dtype=torch.bool)\n",
        "        mask.scatter_(1, random_indices, True)\n",
        "\n",
        "        #Mask\n",
        "        masked_patches[mask] = num_tokens - 1  # Replace masked patches with the mask token\n",
        "\n",
        "        # Define weighted CrossEntropyLoss\n",
        "        criterion = nn.CrossEntropyLoss()\n",
        "\n",
        "        # Move to device\n",
        "        masked_patches, patch_indices, mask = (\n",
        "            masked_patches.to(device),\n",
        "            patch_indices.to(device),\n",
        "            mask.to(device),\n",
        "        )\n",
        "\n",
        "        # Forward pass\n",
        "        logits = model(masked_patches) # (batch_size,max_patches,num_tokens - 1)\n",
        "        # Isolate the masked patches\n",
        "        # Get the indices of True values\n",
        "        indices = mask.nonzero(as_tuple=True)  # Returns indices where mask is True\n",
        "        # Extract logits at masked positions while maintaining row-wise structure\n",
        "        masked_logits = logits[indices[0], indices[1]]  # Extracts all True-index logits\n",
        "        masked_patch_indices = patch_indices[indices[0], indices[1]]  # Extracts all True-index patch indices\n",
        "        # Reshape to [batch_size, num_masked_patches, num_classes]\n",
        "        masked_logits = masked_logits.view(batch_size, current_num_mask, -1)  # (batch_size, current_num_mask, num_tokens-1)\n",
        "        masked_patch_indices = masked_patch_indices.view(batch_size, current_num_mask) #(batch_size, current_num_mask)\n",
        "        #Compute logits\n",
        "        loss = criterion(masked_logits.view(-1, num_tokens-1), masked_patch_indices.view(-1))\n",
        "\n",
        "        # Backward pass\n",
        "        optimizer.zero_grad()\n",
        "        loss.backward()\n",
        "        optimizer.step()\n",
        "\n",
        "        total_loss += loss.item()\n",
        "\n",
        "        # Log batch metrics\n",
        "        wandb.log({\"batch_loss\": loss.item()})\n",
        "\n",
        "        # Initialize a W&B table outside the loop\n",
        "        hist_table = wandb.Table(columns=[\"Masked Patch Index\", \"True Token\", \"Predicted Token\", \"Probability Distribution\"])\n",
        "\n",
        "        # Visualization for the first batch in the epoch\n",
        "        if batch_idx == 0:\n",
        "            with torch.no_grad():\n",
        "                # Initialize predicted_indices with original patch indices\n",
        "                predicted_indices = patch_indices.cpu()[0].clone()  # (max_patches)\n",
        "\n",
        "                # Predict only the masked indices\n",
        "                masked_predictions = torch.argmax(masked_logits, dim=-1).cpu()  # Shape: [batch_size, current_num_mask]\n",
        "                predicted_indices[mask[0]] = masked_predictions[0]  # (current_num_masked)\n",
        "\n",
        "                # Get the probabilities of the masked patches\n",
        "                masked_probs = torch.softmax(masked_logits, dim=-1).cpu().numpy()  # [batch_size, current_num_masked, num_tokens-1]\n",
        "                true_indices = masked_patch_indices[0].cpu().numpy()  # [current_num_masked]\n",
        "                vis_mask = min(current_num_mask, 10)  # Limit visualization to 10 masked patches\n",
        "                masked_probs = masked_probs[:vis_mask]\n",
        "                true_indices = true_indices[:vis_mask]\n",
        "\n",
        "                # Create a W&B Table for histograms of probabilities\n",
        "                hist_table = wandb.Table(columns=[\"Masked Patch Index\", \"True Token\", \"Predicted Token\", \"Probability Distribution\"])\n",
        "                for i in range(vis_mask):\n",
        "                    hist_table.add_data(\n",
        "                        i,  # Masked patch index\n",
        "                        int(true_indices[i]),  # True token for the masked patch\n",
        "                        int(masked_predictions[0][i]),  # Predicted token\n",
        "                        masked_probs[i].tolist()  # Probability distribution\n",
        "                    )\n",
        "                wandb.log({\"Masked Patch Probabilities\": hist_table})\n",
        "\n",
        "\n",
        "                # Reconstruct images\n",
        "                reconstructed_image = reconstruct_image_from_patches(predicted_indices)\n",
        "\n",
        "                # Prepare masked image for visualization\n",
        "                visualized_masked_patches = masked_patches.cpu()[0].clone()\n",
        "                visualized_masked_patches[visualized_masked_patches == num_tokens - 1] = -1\n",
        "                masked_image = reconstruct_image_from_patches(visualized_masked_patches)\n",
        "\n",
        "                # Log visualizations to W&B\n",
        "                wandb.log({\n",
        "                    \"Original Image\": wandb.Image(\n",
        "                        reconstruct_image_from_patches(patch_indices.cpu()[0])\n",
        "                    ),\n",
        "                    \"Masked Image\": wandb.Image(masked_image, caption=\"Masked Image\"),\n",
        "                    \"Reconstructed Image\": wandb.Image(\n",
        "                        reconstructed_image, caption=\"Reconstructed Image\"\n",
        "                    ),\n",
        "                })\n",
        "\n",
        "\n",
        "\n",
        "    avg_loss = total_loss / len(dataloader)\n",
        "    print(f\"Epoch [{epoch+1}/{num_epochs}] completed. Average Loss: {avg_loss:.4f}\")\n",
        "\n",
        "    # Log epoch metrics\n",
        "    wandb.log({\"epoch_loss\": avg_loss, \"masked_patches\": current_num_mask})\n",
        "\n",
        "    # Save checkpoint periodically\n",
        "    if (epoch + 1) % 50 == 0:\n",
        "        checkpoint_path = f\"checkpoints/vision_transformer_epoch_{epoch+1}.pth\"\n",
        "        torch.save(\n",
        "            {\n",
        "                \"epoch\": epoch + 1,\n",
        "                \"model_state_dict\": model.state_dict(),\n",
        "                \"optimizer_state_dict\": optimizer.state_dict(),\n",
        "                \"loss\": avg_loss,\n",
        "            },\n",
        "            checkpoint_path,\n",
        "        )\n",
        "        print(f\"Checkpoint saved for epoch {epoch+1}\")\n",
        "        wandb.save(checkpoint_path)\n",
        "\n",
        "# Save the final model\n",
        "torch.save(model.state_dict(), \"vision_transformer_final_balanced.pth\")\n",
        "wandb.save(\"vision_transformer_final_balanced.pth\")\n",
        "print(\"Final model saved as 'vision_transformer_final_balanced.pth'.\")\n",
        "wandb.finish()"
      ],
      "metadata": {
        "colab": {
          "base_uri": "https://localhost:8080/",
          "height": 1000
        },
        "id": "EG-Wyvra6908",
        "outputId": "62a4e212-f7d0-4ebc-acf4-59a55e2021f0"
      },
      "execution_count": 40,
      "outputs": [
        {
          "metadata": {
            "tags": null
          },
          "name": "stderr",
          "output_type": "stream",
          "text": [
            "\u001b[34m\u001b[1mwandb\u001b[0m: \u001b[33mWARNING\u001b[0m Calling wandb.login() after wandb.init() has no effect.\n"
          ]
        },
        {
          "data": {
            "text/html": [
              "Finishing last run (ID:t4wrgu3m) before initializing another..."
            ],
            "text/plain": [
              "<IPython.core.display.HTML object>"
            ]
          },
          "metadata": {},
          "output_type": "display_data"
        },
        {
          "data": {
            "text/html": [
              "\n",
              "    <style>\n",
              "        .wandb-row {\n",
              "            display: flex;\n",
              "            flex-direction: row;\n",
              "            flex-wrap: wrap;\n",
              "            justify-content: flex-start;\n",
              "            width: 100%;\n",
              "        }\n",
              "        .wandb-col {\n",
              "            display: flex;\n",
              "            flex-direction: column;\n",
              "            flex-basis: 100%;\n",
              "            flex: 1;\n",
              "            padding: 10px;\n",
              "        }\n",
              "    </style>\n",
              "<div class=\"wandb-row\"><div class=\"wandb-col\"><h3>Run history:</h3><br/><table class=\"wandb\"><tr><td>batch_loss</td><td>▄▄▅▄▃█▄▄▄▄▃▄▃▄▄▃▃▃▃▃▃▄▄▃▃▃▄▃▄▃▃▂▂▄▃▄▃▂▃▁</td></tr><tr><td>epoch_loss</td><td>█▄▃▃▃▃▃▃▃▃▃▃▃▃▃▃▃▃▃▃▃▃▃▃▃▃▃▃▃▃▃▃▃▃▂▂▂▁▁▁</td></tr><tr><td>masked_patches</td><td>▃▁▁▃▁▁▂▃▁▄▂▃▃▄▂▄▂▃▄▆▆▆▃▄▅▅▄▅▆▆▇▅▇▇▅▆▇█▆▇</td></tr></table><br/></div><div class=\"wandb-col\"><h3>Run summary:</h3><br/><table class=\"wandb\"><tr><td>batch_loss</td><td>0.81267</td></tr><tr><td>epoch_loss</td><td>0.82116</td></tr><tr><td>masked_patches</td><td>147</td></tr></table><br/></div></div>"
            ],
            "text/plain": [
              "<IPython.core.display.HTML object>"
            ]
          },
          "metadata": {},
          "output_type": "display_data"
        },
        {
          "data": {
            "text/html": [
              " View run <strong style=\"color:#cdcd00\">misty-moon-46</strong> at: <a href='https://wandb.ai/oscars/vision-transformer/runs/t4wrgu3m' target=\"_blank\">https://wandb.ai/oscars/vision-transformer/runs/t4wrgu3m</a><br/> View project at: <a href='https://wandb.ai/oscars/vision-transformer' target=\"_blank\">https://wandb.ai/oscars/vision-transformer</a><br/>Synced 5 W&B file(s), 0 media file(s), 106 artifact file(s) and 213 other file(s)"
            ],
            "text/plain": [
              "<IPython.core.display.HTML object>"
            ]
          },
          "metadata": {},
          "output_type": "display_data"
        },
        {
          "data": {
            "text/html": [
              "Find logs at: <code>./wandb/run-20241203_094430-t4wrgu3m/logs</code>"
            ],
            "text/plain": [
              "<IPython.core.display.HTML object>"
            ]
          },
          "metadata": {},
          "output_type": "display_data"
        },
        {
          "data": {
            "text/html": [
              "Successfully finished last run (ID:t4wrgu3m). Initializing new run:<br/>"
            ],
            "text/plain": [
              "<IPython.core.display.HTML object>"
            ]
          },
          "metadata": {},
          "output_type": "display_data"
        },
        {
          "data": {
            "text/html": [
              "Tracking run with wandb version 0.18.7"
            ],
            "text/plain": [
              "<IPython.core.display.HTML object>"
            ]
          },
          "metadata": {},
          "output_type": "display_data"
        },
        {
          "data": {
            "text/html": [
              "Run data is saved locally in <code>/content/GeoDecepticon/wandb/run-20241203_094911-6uwsapup</code>"
            ],
            "text/plain": [
              "<IPython.core.display.HTML object>"
            ]
          },
          "metadata": {},
          "output_type": "display_data"
        },
        {
          "data": {
            "text/html": [
              "Syncing run <strong><a href='https://wandb.ai/oscars/vision-transformer/runs/6uwsapup' target=\"_blank\">lunar-shadow-47</a></strong> to <a href='https://wandb.ai/oscars/vision-transformer' target=\"_blank\">Weights & Biases</a> (<a href='https://wandb.me/developer-guide' target=\"_blank\">docs</a>)<br/>"
            ],
            "text/plain": [
              "<IPython.core.display.HTML object>"
            ]
          },
          "metadata": {},
          "output_type": "display_data"
        },
        {
          "data": {
            "text/html": [
              " View project at <a href='https://wandb.ai/oscars/vision-transformer' target=\"_blank\">https://wandb.ai/oscars/vision-transformer</a>"
            ],
            "text/plain": [
              "<IPython.core.display.HTML object>"
            ]
          },
          "metadata": {},
          "output_type": "display_data"
        },
        {
          "data": {
            "text/html": [
              " View run at <a href='https://wandb.ai/oscars/vision-transformer/runs/6uwsapup' target=\"_blank\">https://wandb.ai/oscars/vision-transformer/runs/6uwsapup</a>"
            ],
            "text/plain": [
              "<IPython.core.display.HTML object>"
            ]
          },
          "metadata": {},
          "output_type": "display_data"
        },
        {
          "metadata": {
            "tags": null
          },
          "name": "stderr",
          "output_type": "stream",
          "text": [
            "/content/GeoDecepticon/dataloader.py:17: UserWarning: To copy construct from a tensor, it is recommended to use sourceTensor.clone().detach() or sourceTensor.clone().detach().requires_grad_(True), rather than torch.tensor(sourceTensor).\n",
            "  return torch.tensor(image, dtype=torch.float32)\n"
          ]
        },
        {
          "output_type": "stream",
          "name": "stdout",
          "text": [
            "Epoch [1/500] completed. Average Loss: 0.8114\n",
            "Epoch [2/500] completed. Average Loss: 0.8022\n",
            "Epoch [3/500] completed. Average Loss: 0.8029\n",
            "Epoch [4/500] completed. Average Loss: 0.7955\n",
            "Epoch [5/500] completed. Average Loss: 0.8126\n",
            "Epoch [6/500] completed. Average Loss: 0.7983\n",
            "Epoch [7/500] completed. Average Loss: 0.8476\n",
            "Epoch [8/500] completed. Average Loss: 0.7972\n",
            "Epoch [9/500] completed. Average Loss: 0.7885\n",
            "Epoch [10/500] completed. Average Loss: 0.7885\n",
            "Epoch [11/500] completed. Average Loss: 0.8119\n",
            "Epoch [12/500] completed. Average Loss: 0.7901\n",
            "Epoch [13/500] completed. Average Loss: 0.7866\n",
            "Epoch [14/500] completed. Average Loss: 0.7786\n",
            "Epoch [15/500] completed. Average Loss: 0.7762\n",
            "Epoch [16/500] completed. Average Loss: 0.7766\n",
            "Epoch [17/500] completed. Average Loss: 0.7755\n",
            "Epoch [18/500] completed. Average Loss: 0.7703\n",
            "Epoch [19/500] completed. Average Loss: 0.7728\n",
            "Epoch [20/500] completed. Average Loss: 0.7719\n",
            "Epoch [21/500] completed. Average Loss: 0.7625\n",
            "Epoch [22/500] completed. Average Loss: 0.7578\n",
            "Epoch [23/500] completed. Average Loss: 0.7518\n",
            "Epoch [24/500] completed. Average Loss: 0.7548\n",
            "Epoch [25/500] completed. Average Loss: 0.7498\n",
            "Epoch [26/500] completed. Average Loss: 0.7498\n",
            "Epoch [27/500] completed. Average Loss: 0.7412\n",
            "Epoch [28/500] completed. Average Loss: 0.7380\n",
            "Epoch [29/500] completed. Average Loss: 0.7355\n",
            "Epoch [30/500] completed. Average Loss: 0.7244\n",
            "Epoch [31/500] completed. Average Loss: 0.7231\n",
            "Epoch [32/500] completed. Average Loss: 0.7203\n",
            "Epoch [33/500] completed. Average Loss: 0.7170\n",
            "Epoch [34/500] completed. Average Loss: 0.7111\n",
            "Epoch [35/500] completed. Average Loss: 0.7036\n",
            "Epoch [36/500] completed. Average Loss: 0.7005\n",
            "Epoch [37/500] completed. Average Loss: 0.6993\n",
            "Epoch [38/500] completed. Average Loss: 0.6936\n",
            "Epoch [39/500] completed. Average Loss: 0.6848\n",
            "Epoch [40/500] completed. Average Loss: 0.6849\n",
            "Epoch [41/500] completed. Average Loss: 0.6742\n",
            "Epoch [42/500] completed. Average Loss: 0.6766\n",
            "Epoch [43/500] completed. Average Loss: 0.6706\n",
            "Epoch [44/500] completed. Average Loss: 0.6617\n",
            "Epoch [45/500] completed. Average Loss: 0.6614\n",
            "Epoch [46/500] completed. Average Loss: 0.6566\n",
            "Epoch [47/500] completed. Average Loss: 0.6559\n",
            "Epoch [48/500] completed. Average Loss: 0.6497\n",
            "Epoch [49/500] completed. Average Loss: 0.6521\n",
            "Epoch [50/500] completed. Average Loss: 0.6435\n",
            "Checkpoint saved for epoch 50\n",
            "Epoch [51/500] completed. Average Loss: 0.6383\n",
            "Epoch [52/500] completed. Average Loss: 0.6375\n",
            "Epoch [53/500] completed. Average Loss: 0.6345\n",
            "Epoch [54/500] completed. Average Loss: 0.6363\n",
            "Epoch [55/500] completed. Average Loss: 0.6326\n",
            "Epoch [56/500] completed. Average Loss: 0.6259\n",
            "Epoch [57/500] completed. Average Loss: 0.6194\n",
            "Epoch [58/500] completed. Average Loss: 0.6247\n",
            "Epoch [59/500] completed. Average Loss: 0.6176\n",
            "Epoch [60/500] completed. Average Loss: 0.6084\n",
            "Epoch [61/500] completed. Average Loss: 0.6141\n",
            "Epoch [62/500] completed. Average Loss: 0.6081\n",
            "Epoch [63/500] completed. Average Loss: 0.6083\n",
            "Epoch [64/500] completed. Average Loss: 0.6049\n",
            "Epoch [65/500] completed. Average Loss: 0.5938\n",
            "Epoch [66/500] completed. Average Loss: 0.5925\n",
            "Epoch [67/500] completed. Average Loss: 0.5943\n",
            "Epoch [68/500] completed. Average Loss: 0.5871\n",
            "Epoch [69/500] completed. Average Loss: 0.5819\n",
            "Epoch [70/500] completed. Average Loss: 0.5803\n",
            "Epoch [71/500] completed. Average Loss: 0.5785\n",
            "Epoch [72/500] completed. Average Loss: 0.5723\n",
            "Epoch [73/500] completed. Average Loss: 0.5674\n",
            "Epoch [74/500] completed. Average Loss: 0.5683\n",
            "Epoch [75/500] completed. Average Loss: 0.5567\n",
            "Epoch [76/500] completed. Average Loss: 0.5627\n",
            "Epoch [77/500] completed. Average Loss: 0.5540\n",
            "Epoch [78/500] completed. Average Loss: 0.5558\n",
            "Epoch [79/500] completed. Average Loss: 0.5522\n",
            "Epoch [80/500] completed. Average Loss: 0.5496\n",
            "Epoch [81/500] completed. Average Loss: 0.5480\n",
            "Epoch [82/500] completed. Average Loss: 0.5470\n",
            "Epoch [83/500] completed. Average Loss: 0.5400\n",
            "Epoch [84/500] completed. Average Loss: 0.5387\n",
            "Epoch [85/500] completed. Average Loss: 0.5366\n",
            "Epoch [86/500] completed. Average Loss: 0.5361\n",
            "Epoch [87/500] completed. Average Loss: 0.5337\n",
            "Epoch [88/500] completed. Average Loss: 0.5225\n",
            "Epoch [89/500] completed. Average Loss: 0.5226\n",
            "Epoch [90/500] completed. Average Loss: 0.5209\n",
            "Epoch [91/500] completed. Average Loss: 0.5190\n",
            "Epoch [92/500] completed. Average Loss: 0.5145\n",
            "Epoch [93/500] completed. Average Loss: 0.5205\n",
            "Epoch [94/500] completed. Average Loss: 0.5195\n",
            "Epoch [95/500] completed. Average Loss: 0.5132\n",
            "Epoch [96/500] completed. Average Loss: 0.5149\n",
            "Epoch [97/500] completed. Average Loss: 0.5057\n",
            "Epoch [98/500] completed. Average Loss: 0.5056\n",
            "Epoch [99/500] completed. Average Loss: 0.5094\n",
            "Epoch [100/500] completed. Average Loss: 0.5060\n",
            "Checkpoint saved for epoch 100\n",
            "Epoch [101/500] completed. Average Loss: 0.5002\n",
            "Epoch [102/500] completed. Average Loss: 0.5021\n",
            "Epoch [103/500] completed. Average Loss: 0.5040\n",
            "Epoch [104/500] completed. Average Loss: 0.4956\n",
            "Epoch [105/500] completed. Average Loss: 0.4866\n",
            "Epoch [106/500] completed. Average Loss: 0.4852\n",
            "Epoch [107/500] completed. Average Loss: 0.4928\n",
            "Epoch [108/500] completed. Average Loss: 0.4880\n",
            "Epoch [109/500] completed. Average Loss: 0.4888\n",
            "Epoch [110/500] completed. Average Loss: 0.4932\n",
            "Epoch [111/500] completed. Average Loss: 0.4871\n",
            "Epoch [112/500] completed. Average Loss: 0.4871\n",
            "Epoch [113/500] completed. Average Loss: 0.4858\n",
            "Epoch [114/500] completed. Average Loss: 0.4840\n",
            "Epoch [115/500] completed. Average Loss: 0.4780\n",
            "Epoch [116/500] completed. Average Loss: 0.4731\n",
            "Epoch [117/500] completed. Average Loss: 0.4785\n",
            "Epoch [118/500] completed. Average Loss: 0.4670\n",
            "Epoch [119/500] completed. Average Loss: 0.4640\n",
            "Epoch [120/500] completed. Average Loss: 0.4747\n",
            "Epoch [121/500] completed. Average Loss: 0.4633\n",
            "Epoch [122/500] completed. Average Loss: 0.4731\n",
            "Epoch [123/500] completed. Average Loss: 0.4662\n",
            "Epoch [124/500] completed. Average Loss: 0.4600\n",
            "Epoch [125/500] completed. Average Loss: 0.4657\n",
            "Epoch [126/500] completed. Average Loss: 0.4639\n",
            "Epoch [127/500] completed. Average Loss: 0.4575\n",
            "Epoch [128/500] completed. Average Loss: 0.4578\n",
            "Epoch [129/500] completed. Average Loss: 0.4661\n",
            "Epoch [130/500] completed. Average Loss: 0.4541\n",
            "Epoch [131/500] completed. Average Loss: 0.4570\n",
            "Epoch [132/500] completed. Average Loss: 0.4543\n",
            "Epoch [133/500] completed. Average Loss: 0.4653\n",
            "Epoch [134/500] completed. Average Loss: 0.4564\n",
            "Epoch [135/500] completed. Average Loss: 0.4489\n",
            "Epoch [136/500] completed. Average Loss: 0.4489\n",
            "Epoch [137/500] completed. Average Loss: 0.4580\n",
            "Epoch [138/500] completed. Average Loss: 0.4483\n",
            "Epoch [139/500] completed. Average Loss: 0.4476\n",
            "Epoch [140/500] completed. Average Loss: 0.4482\n",
            "Epoch [141/500] completed. Average Loss: 0.4431\n",
            "Epoch [142/500] completed. Average Loss: 0.4454\n",
            "Epoch [143/500] completed. Average Loss: 0.4551\n",
            "Epoch [144/500] completed. Average Loss: 0.4412\n",
            "Epoch [145/500] completed. Average Loss: 0.4510\n",
            "Epoch [146/500] completed. Average Loss: 0.4481\n",
            "Epoch [147/500] completed. Average Loss: 0.4445\n",
            "Epoch [148/500] completed. Average Loss: 0.4467\n",
            "Epoch [149/500] completed. Average Loss: 0.4509\n",
            "Epoch [150/500] completed. Average Loss: 0.4471\n",
            "Checkpoint saved for epoch 150\n",
            "Epoch [151/500] completed. Average Loss: 0.4464\n",
            "Epoch [152/500] completed. Average Loss: 0.4416\n",
            "Epoch [153/500] completed. Average Loss: 0.4392\n",
            "Epoch [154/500] completed. Average Loss: 0.4354\n",
            "Epoch [155/500] completed. Average Loss: 0.4398\n",
            "Epoch [156/500] completed. Average Loss: 0.4498\n",
            "Epoch [157/500] completed. Average Loss: 0.4337\n",
            "Epoch [158/500] completed. Average Loss: 0.4542\n",
            "Epoch [159/500] completed. Average Loss: 0.4379\n",
            "Epoch [160/500] completed. Average Loss: 0.4498\n",
            "Epoch [161/500] completed. Average Loss: 0.4480\n",
            "Epoch [162/500] completed. Average Loss: 0.4432\n",
            "Epoch [163/500] completed. Average Loss: 0.4494\n",
            "Epoch [164/500] completed. Average Loss: 0.4515\n",
            "Epoch [165/500] completed. Average Loss: 0.4347\n",
            "Epoch [166/500] completed. Average Loss: 0.4481\n",
            "Epoch [167/500] completed. Average Loss: 0.4390\n",
            "Epoch [168/500] completed. Average Loss: 0.4511\n",
            "Epoch [169/500] completed. Average Loss: 0.4439\n",
            "Epoch [170/500] completed. Average Loss: 0.4394\n",
            "Epoch [171/500] completed. Average Loss: 0.4389\n",
            "Epoch [172/500] completed. Average Loss: 0.4430\n",
            "Epoch [173/500] completed. Average Loss: 0.4487\n",
            "Epoch [174/500] completed. Average Loss: 0.4509\n",
            "Epoch [175/500] completed. Average Loss: 0.4403\n",
            "Epoch [176/500] completed. Average Loss: 0.4492\n",
            "Epoch [177/500] completed. Average Loss: 0.4405\n",
            "Epoch [178/500] completed. Average Loss: 0.4403\n",
            "Epoch [179/500] completed. Average Loss: 0.4428\n",
            "Epoch [180/500] completed. Average Loss: 0.4306\n",
            "Epoch [181/500] completed. Average Loss: 0.4484\n",
            "Epoch [182/500] completed. Average Loss: 0.4428\n",
            "Epoch [183/500] completed. Average Loss: 0.4417\n",
            "Epoch [184/500] completed. Average Loss: 0.4403\n",
            "Epoch [185/500] completed. Average Loss: 0.4382\n",
            "Epoch [186/500] completed. Average Loss: 0.4331\n",
            "Epoch [187/500] completed. Average Loss: 0.4435\n",
            "Epoch [188/500] completed. Average Loss: 0.4438\n",
            "Epoch [189/500] completed. Average Loss: 0.4330\n",
            "Epoch [190/500] completed. Average Loss: 0.4321\n",
            "Epoch [191/500] completed. Average Loss: 0.4477\n",
            "Epoch [192/500] completed. Average Loss: 0.4388\n",
            "Epoch [193/500] completed. Average Loss: 0.4467\n",
            "Epoch [194/500] completed. Average Loss: 0.4334\n",
            "Epoch [195/500] completed. Average Loss: 0.4359\n",
            "Epoch [196/500] completed. Average Loss: 0.4375\n",
            "Epoch [197/500] completed. Average Loss: 0.4380\n",
            "Epoch [198/500] completed. Average Loss: 0.4433\n",
            "Epoch [199/500] completed. Average Loss: 0.4477\n",
            "Epoch [200/500] completed. Average Loss: 0.4420\n",
            "Checkpoint saved for epoch 200\n",
            "Epoch [201/500] completed. Average Loss: 0.4347\n",
            "Epoch [202/500] completed. Average Loss: 0.4498\n",
            "Epoch [203/500] completed. Average Loss: 0.4517\n",
            "Epoch [204/500] completed. Average Loss: 0.4393\n",
            "Epoch [205/500] completed. Average Loss: 0.4414\n",
            "Epoch [206/500] completed. Average Loss: 0.4487\n",
            "Epoch [207/500] completed. Average Loss: 0.4500\n",
            "Epoch [208/500] completed. Average Loss: 0.4477\n",
            "Epoch [209/500] completed. Average Loss: 0.4479\n",
            "Epoch [210/500] completed. Average Loss: 0.4502\n",
            "Epoch [211/500] completed. Average Loss: 0.4361\n",
            "Epoch [212/500] completed. Average Loss: 0.4436\n",
            "Epoch [213/500] completed. Average Loss: 0.4499\n",
            "Epoch [214/500] completed. Average Loss: 0.4529\n",
            "Epoch [215/500] completed. Average Loss: 0.4496\n",
            "Epoch [216/500] completed. Average Loss: 0.4479\n",
            "Epoch [217/500] completed. Average Loss: 0.4420\n",
            "Epoch [218/500] completed. Average Loss: 0.4546\n",
            "Epoch [219/500] completed. Average Loss: 0.4400\n",
            "Epoch [220/500] completed. Average Loss: 0.4523\n",
            "Epoch [221/500] completed. Average Loss: 0.4482\n",
            "Epoch [222/500] completed. Average Loss: 0.4362\n",
            "Epoch [223/500] completed. Average Loss: 0.4545\n",
            "Epoch [224/500] completed. Average Loss: 0.4394\n",
            "Epoch [225/500] completed. Average Loss: 0.4607\n",
            "Epoch [226/500] completed. Average Loss: 0.4500\n",
            "Epoch [227/500] completed. Average Loss: 0.4580\n",
            "Epoch [228/500] completed. Average Loss: 0.4424\n",
            "Epoch [229/500] completed. Average Loss: 0.4491\n",
            "Epoch [230/500] completed. Average Loss: 0.4636\n",
            "Epoch [231/500] completed. Average Loss: 0.4603\n",
            "Epoch [232/500] completed. Average Loss: 0.4395\n",
            "Epoch [233/500] completed. Average Loss: 0.4645\n",
            "Epoch [234/500] completed. Average Loss: 0.4628\n",
            "Epoch [235/500] completed. Average Loss: 0.4656\n",
            "Epoch [236/500] completed. Average Loss: 0.4415\n",
            "Epoch [237/500] completed. Average Loss: 0.4587\n",
            "Epoch [238/500] completed. Average Loss: 0.4662\n",
            "Epoch [239/500] completed. Average Loss: 0.4625\n",
            "Epoch [240/500] completed. Average Loss: 0.4504\n",
            "Epoch [241/500] completed. Average Loss: 0.4453\n",
            "Epoch [242/500] completed. Average Loss: 0.4412\n",
            "Epoch [243/500] completed. Average Loss: 0.4666\n",
            "Epoch [244/500] completed. Average Loss: 0.4683\n",
            "Epoch [245/500] completed. Average Loss: 0.4640\n",
            "Epoch [246/500] completed. Average Loss: 0.4627\n",
            "Epoch [247/500] completed. Average Loss: 0.4566\n",
            "Epoch [248/500] completed. Average Loss: 0.4437\n",
            "Epoch [249/500] completed. Average Loss: 0.4531\n",
            "Epoch [250/500] completed. Average Loss: 0.4541\n",
            "Checkpoint saved for epoch 250\n",
            "Epoch [251/500] completed. Average Loss: 0.4594\n",
            "Epoch [252/500] completed. Average Loss: 0.4525\n",
            "Epoch [253/500] completed. Average Loss: 0.4638\n",
            "Epoch [254/500] completed. Average Loss: 0.4463\n",
            "Epoch [255/500] completed. Average Loss: 0.4458\n",
            "Epoch [256/500] completed. Average Loss: 0.4509\n",
            "Epoch [257/500] completed. Average Loss: 0.4491\n",
            "Epoch [258/500] completed. Average Loss: 0.4516\n",
            "Epoch [259/500] completed. Average Loss: 0.4708\n",
            "Epoch [260/500] completed. Average Loss: 0.4508\n",
            "Epoch [261/500] completed. Average Loss: 0.4719\n",
            "Epoch [262/500] completed. Average Loss: 0.4699\n",
            "Epoch [263/500] completed. Average Loss: 0.4511\n",
            "Epoch [264/500] completed. Average Loss: 0.4680\n",
            "Epoch [265/500] completed. Average Loss: 0.4627\n",
            "Epoch [266/500] completed. Average Loss: 0.4471\n",
            "Epoch [267/500] completed. Average Loss: 0.4635\n",
            "Epoch [268/500] completed. Average Loss: 0.4523\n",
            "Epoch [269/500] completed. Average Loss: 0.4640\n",
            "Epoch [270/500] completed. Average Loss: 0.4739\n",
            "Epoch [271/500] completed. Average Loss: 0.4573\n",
            "Epoch [272/500] completed. Average Loss: 0.4672\n",
            "Epoch [273/500] completed. Average Loss: 0.4762\n",
            "Epoch [274/500] completed. Average Loss: 0.4726\n",
            "Epoch [275/500] completed. Average Loss: 0.4535\n",
            "Epoch [276/500] completed. Average Loss: 0.4695\n",
            "Epoch [277/500] completed. Average Loss: 0.4789\n",
            "Epoch [278/500] completed. Average Loss: 0.4567\n",
            "Epoch [279/500] completed. Average Loss: 0.4659\n",
            "Epoch [280/500] completed. Average Loss: 0.4703\n",
            "Epoch [281/500] completed. Average Loss: 0.4644\n",
            "Epoch [282/500] completed. Average Loss: 0.4658\n",
            "Epoch [283/500] completed. Average Loss: 0.4677\n",
            "Epoch [284/500] completed. Average Loss: 0.4698\n",
            "Epoch [285/500] completed. Average Loss: 0.4835\n",
            "Epoch [286/500] completed. Average Loss: 0.4758\n",
            "Epoch [287/500] completed. Average Loss: 0.4536\n",
            "Epoch [288/500] completed. Average Loss: 0.4577\n",
            "Epoch [289/500] completed. Average Loss: 0.4845\n",
            "Epoch [290/500] completed. Average Loss: 0.4731\n",
            "Epoch [291/500] completed. Average Loss: 0.4643\n",
            "Epoch [292/500] completed. Average Loss: 0.4735\n",
            "Epoch [293/500] completed. Average Loss: 0.4819\n",
            "Epoch [294/500] completed. Average Loss: 0.4835\n",
            "Epoch [295/500] completed. Average Loss: 0.4643\n",
            "Epoch [296/500] completed. Average Loss: 0.4583\n",
            "Epoch [297/500] completed. Average Loss: 0.4882\n",
            "Epoch [298/500] completed. Average Loss: 0.4818\n",
            "Epoch [299/500] completed. Average Loss: 0.4632\n",
            "Epoch [300/500] completed. Average Loss: 0.4654\n",
            "Checkpoint saved for epoch 300\n",
            "Epoch [301/500] completed. Average Loss: 0.4728\n",
            "Epoch [302/500] completed. Average Loss: 0.4644\n",
            "Epoch [303/500] completed. Average Loss: 0.4625\n",
            "Epoch [304/500] completed. Average Loss: 0.4594\n",
            "Epoch [305/500] completed. Average Loss: 0.4807\n",
            "Epoch [306/500] completed. Average Loss: 0.4683\n",
            "Epoch [307/500] completed. Average Loss: 0.4607\n",
            "Epoch [308/500] completed. Average Loss: 0.4879\n",
            "Epoch [309/500] completed. Average Loss: 0.4729\n",
            "Epoch [310/500] completed. Average Loss: 0.4617\n",
            "Epoch [311/500] completed. Average Loss: 0.4612\n",
            "Epoch [312/500] completed. Average Loss: 0.4879\n",
            "Epoch [313/500] completed. Average Loss: 0.4925\n",
            "Epoch [314/500] completed. Average Loss: 0.4893\n",
            "Epoch [315/500] completed. Average Loss: 0.4796\n",
            "Epoch [316/500] completed. Average Loss: 0.4636\n",
            "Epoch [317/500] completed. Average Loss: 0.4959\n",
            "Epoch [318/500] completed. Average Loss: 0.4968\n",
            "Epoch [319/500] completed. Average Loss: 0.4775\n",
            "Epoch [320/500] completed. Average Loss: 0.5007\n",
            "Epoch [321/500] completed. Average Loss: 0.4964\n",
            "Epoch [322/500] completed. Average Loss: 0.4980\n",
            "Epoch [323/500] completed. Average Loss: 0.4775\n",
            "Epoch [324/500] completed. Average Loss: 0.4927\n",
            "Epoch [325/500] completed. Average Loss: 0.4688\n",
            "Epoch [326/500] completed. Average Loss: 0.4877\n",
            "Epoch [327/500] completed. Average Loss: 0.4765\n",
            "Epoch [328/500] completed. Average Loss: 0.4891\n",
            "Epoch [329/500] completed. Average Loss: 0.4934\n",
            "Epoch [330/500] completed. Average Loss: 0.4809\n",
            "Epoch [331/500] completed. Average Loss: 0.4854\n",
            "Epoch [332/500] completed. Average Loss: 0.4707\n",
            "Epoch [333/500] completed. Average Loss: 0.4929\n",
            "Epoch [334/500] completed. Average Loss: 0.4854\n",
            "Epoch [335/500] completed. Average Loss: 0.4865\n",
            "Epoch [336/500] completed. Average Loss: 0.5017\n",
            "Epoch [337/500] completed. Average Loss: 0.5003\n",
            "Epoch [338/500] completed. Average Loss: 0.5061\n",
            "Epoch [339/500] completed. Average Loss: 0.4745\n",
            "Epoch [340/500] completed. Average Loss: 0.5068\n",
            "Epoch [341/500] completed. Average Loss: 0.5031\n",
            "Epoch [342/500] completed. Average Loss: 0.4755\n",
            "Epoch [343/500] completed. Average Loss: 0.4934\n",
            "Epoch [344/500] completed. Average Loss: 0.5116\n",
            "Epoch [345/500] completed. Average Loss: 0.4863\n",
            "Epoch [346/500] completed. Average Loss: 0.5027\n",
            "Epoch [347/500] completed. Average Loss: 0.4980\n",
            "Epoch [348/500] completed. Average Loss: 0.4838\n",
            "Epoch [349/500] completed. Average Loss: 0.5069\n",
            "Epoch [350/500] completed. Average Loss: 0.5057\n",
            "Checkpoint saved for epoch 350\n",
            "Epoch [351/500] completed. Average Loss: 0.4942\n",
            "Epoch [352/500] completed. Average Loss: 0.4781\n",
            "Epoch [353/500] completed. Average Loss: 0.5071\n",
            "Epoch [354/500] completed. Average Loss: 0.4927\n",
            "Epoch [355/500] completed. Average Loss: 0.5105\n",
            "Epoch [356/500] completed. Average Loss: 0.4803\n",
            "Epoch [357/500] completed. Average Loss: 0.4823\n",
            "Epoch [358/500] completed. Average Loss: 0.5135\n",
            "Epoch [359/500] completed. Average Loss: 0.4818\n",
            "Epoch [360/500] completed. Average Loss: 0.5032\n",
            "Epoch [361/500] completed. Average Loss: 0.4853\n",
            "Epoch [362/500] completed. Average Loss: 0.5008\n",
            "Epoch [363/500] completed. Average Loss: 0.4850\n",
            "Epoch [364/500] completed. Average Loss: 0.5169\n",
            "Epoch [365/500] completed. Average Loss: 0.5059\n",
            "Epoch [366/500] completed. Average Loss: 0.5160\n",
            "Epoch [367/500] completed. Average Loss: 0.5004\n",
            "Epoch [368/500] completed. Average Loss: 0.5087\n",
            "Epoch [369/500] completed. Average Loss: 0.5193\n",
            "Epoch [370/500] completed. Average Loss: 0.5111\n",
            "Epoch [371/500] completed. Average Loss: 0.5220\n",
            "Epoch [372/500] completed. Average Loss: 0.5103\n",
            "Epoch [373/500] completed. Average Loss: 0.5100\n",
            "Epoch [374/500] completed. Average Loss: 0.5196\n",
            "Epoch [375/500] completed. Average Loss: 0.4893\n",
            "Epoch [376/500] completed. Average Loss: 0.4876\n",
            "Epoch [377/500] completed. Average Loss: 0.4880\n",
            "Epoch [378/500] completed. Average Loss: 0.5337\n",
            "Epoch [379/500] completed. Average Loss: 0.5137\n",
            "Epoch [380/500] completed. Average Loss: 0.4964\n",
            "Epoch [381/500] completed. Average Loss: 0.4986\n",
            "Epoch [382/500] completed. Average Loss: 0.4923\n",
            "Epoch [383/500] completed. Average Loss: 0.5146\n",
            "Epoch [384/500] completed. Average Loss: 0.5190\n",
            "Epoch [385/500] completed. Average Loss: 0.5218\n",
            "Epoch [386/500] completed. Average Loss: 0.5430\n",
            "Epoch [387/500] completed. Average Loss: 0.4957\n",
            "Epoch [388/500] completed. Average Loss: 0.5242\n",
            "Epoch [389/500] completed. Average Loss: 0.5223\n",
            "Epoch [390/500] completed. Average Loss: 0.5320\n",
            "Epoch [391/500] completed. Average Loss: 0.5317\n",
            "Epoch [392/500] completed. Average Loss: 0.5196\n",
            "Epoch [393/500] completed. Average Loss: 0.5401\n",
            "Epoch [394/500] completed. Average Loss: 0.5099\n",
            "Epoch [395/500] completed. Average Loss: 0.4973\n",
            "Epoch [396/500] completed. Average Loss: 0.5245\n",
            "Epoch [397/500] completed. Average Loss: 0.5232\n",
            "Epoch [398/500] completed. Average Loss: 0.5374\n",
            "Epoch [399/500] completed. Average Loss: 0.5209\n",
            "Epoch [400/500] completed. Average Loss: 0.5272\n",
            "Checkpoint saved for epoch 400\n",
            "Epoch [401/500] completed. Average Loss: 0.5258\n",
            "Epoch [402/500] completed. Average Loss: 0.5335\n",
            "Epoch [403/500] completed. Average Loss: 0.5166\n",
            "Epoch [404/500] completed. Average Loss: 0.5224\n",
            "Epoch [405/500] completed. Average Loss: 0.5468\n",
            "Epoch [406/500] completed. Average Loss: 0.5338\n",
            "Epoch [407/500] completed. Average Loss: 0.5138\n",
            "Epoch [408/500] completed. Average Loss: 0.5528\n",
            "Epoch [409/500] completed. Average Loss: 0.5397\n",
            "Epoch [410/500] completed. Average Loss: 0.5295\n",
            "Epoch [411/500] completed. Average Loss: 0.5098\n",
            "Epoch [412/500] completed. Average Loss: 0.5447\n",
            "Epoch [413/500] completed. Average Loss: 0.5281\n",
            "Epoch [414/500] completed. Average Loss: 0.5063\n",
            "Epoch [415/500] completed. Average Loss: 0.5488\n",
            "Epoch [416/500] completed. Average Loss: 0.5180\n",
            "Epoch [417/500] completed. Average Loss: 0.5655\n",
            "Epoch [418/500] completed. Average Loss: 0.5355\n",
            "Epoch [419/500] completed. Average Loss: 0.5084\n",
            "Epoch [420/500] completed. Average Loss: 0.5249\n",
            "Epoch [421/500] completed. Average Loss: 0.5350\n",
            "Epoch [422/500] completed. Average Loss: 0.5403\n",
            "Epoch [423/500] completed. Average Loss: 0.5098\n",
            "Epoch [424/500] completed. Average Loss: 0.5509\n",
            "Epoch [425/500] completed. Average Loss: 0.5224\n",
            "Epoch [426/500] completed. Average Loss: 0.5190\n",
            "Epoch [427/500] completed. Average Loss: 0.5322\n",
            "Epoch [428/500] completed. Average Loss: 0.5600\n",
            "Epoch [429/500] completed. Average Loss: 0.5165\n",
            "Epoch [430/500] completed. Average Loss: 0.5302\n",
            "Epoch [431/500] completed. Average Loss: 0.5480\n",
            "Epoch [432/500] completed. Average Loss: 0.5722\n",
            "Epoch [433/500] completed. Average Loss: 0.5755\n",
            "Epoch [434/500] completed. Average Loss: 0.5340\n",
            "Epoch [435/500] completed. Average Loss: 0.5199\n",
            "Epoch [436/500] completed. Average Loss: 0.5197\n",
            "Epoch [437/500] completed. Average Loss: 0.5602\n",
            "Epoch [438/500] completed. Average Loss: 0.5902\n",
            "Epoch [439/500] completed. Average Loss: 0.5209\n",
            "Epoch [440/500] completed. Average Loss: 0.5677\n",
            "Epoch [441/500] completed. Average Loss: 0.5786\n",
            "Epoch [442/500] completed. Average Loss: 0.5863\n",
            "Epoch [443/500] completed. Average Loss: 0.5764\n",
            "Epoch [444/500] completed. Average Loss: 0.5868\n",
            "Epoch [445/500] completed. Average Loss: 0.5273\n",
            "Epoch [446/500] completed. Average Loss: 0.5465\n",
            "Epoch [447/500] completed. Average Loss: 0.5578\n",
            "Epoch [448/500] completed. Average Loss: 0.5393\n",
            "Epoch [449/500] completed. Average Loss: 0.5665\n",
            "Epoch [450/500] completed. Average Loss: 0.5414\n",
            "Checkpoint saved for epoch 450\n",
            "Epoch [451/500] completed. Average Loss: 0.5706\n",
            "Epoch [452/500] completed. Average Loss: 0.5427\n",
            "Epoch [453/500] completed. Average Loss: 0.5847\n",
            "Epoch [454/500] completed. Average Loss: 0.5646\n",
            "Epoch [455/500] completed. Average Loss: 0.5618\n",
            "Epoch [456/500] completed. Average Loss: 0.5481\n",
            "Epoch [457/500] completed. Average Loss: 0.5479\n",
            "Epoch [458/500] completed. Average Loss: 0.5908\n",
            "Epoch [459/500] completed. Average Loss: 0.5744\n",
            "Epoch [460/500] completed. Average Loss: 0.5665\n",
            "Epoch [461/500] completed. Average Loss: 0.6173\n",
            "Epoch [462/500] completed. Average Loss: 0.6046\n",
            "Epoch [463/500] completed. Average Loss: 0.5506\n",
            "Epoch [464/500] completed. Average Loss: 0.5823\n",
            "Epoch [465/500] completed. Average Loss: 0.5374\n",
            "Epoch [466/500] completed. Average Loss: 0.6227\n",
            "Epoch [467/500] completed. Average Loss: 0.6119\n",
            "Epoch [468/500] completed. Average Loss: 0.5806\n",
            "Epoch [469/500] completed. Average Loss: 0.6202\n",
            "Epoch [470/500] completed. Average Loss: 0.6169\n",
            "Epoch [471/500] completed. Average Loss: 0.6147\n",
            "Epoch [472/500] completed. Average Loss: 0.5721\n",
            "Epoch [473/500] completed. Average Loss: 0.5427\n",
            "Epoch [474/500] completed. Average Loss: 0.6116\n",
            "Epoch [475/500] completed. Average Loss: 0.5586\n",
            "Epoch [476/500] completed. Average Loss: 0.5657\n",
            "Epoch [477/500] completed. Average Loss: 0.6188\n",
            "Epoch [478/500] completed. Average Loss: 0.5747\n",
            "Epoch [479/500] completed. Average Loss: 0.6186\n",
            "Epoch [480/500] completed. Average Loss: 0.6168\n",
            "Epoch [481/500] completed. Average Loss: 0.5530\n",
            "Epoch [482/500] completed. Average Loss: 0.6180\n",
            "Epoch [483/500] completed. Average Loss: 0.5701\n",
            "Epoch [484/500] completed. Average Loss: 0.5522\n",
            "Epoch [485/500] completed. Average Loss: 0.5852\n",
            "Epoch [486/500] completed. Average Loss: 0.6172\n",
            "Epoch [487/500] completed. Average Loss: 0.6172\n",
            "Epoch [488/500] completed. Average Loss: 0.6162\n",
            "Epoch [489/500] completed. Average Loss: 0.5629\n",
            "Epoch [490/500] completed. Average Loss: 0.6161\n",
            "Epoch [491/500] completed. Average Loss: 0.6158\n",
            "Epoch [492/500] completed. Average Loss: 0.6150\n",
            "Epoch [493/500] completed. Average Loss: 0.5578\n",
            "Epoch [494/500] completed. Average Loss: 0.6154\n",
            "Epoch [495/500] completed. Average Loss: 0.6148\n",
            "Epoch [496/500] completed. Average Loss: 0.6142\n",
            "Epoch [497/500] completed. Average Loss: 0.6075\n",
            "Epoch [498/500] completed. Average Loss: 0.5656\n",
            "Epoch [499/500] completed. Average Loss: 0.6137\n",
            "Epoch [500/500] completed. Average Loss: 0.6141\n",
            "Checkpoint saved for epoch 500\n",
            "Final model saved as 'vision_transformer_final_balanced.pth'.\n"
          ]
        },
        {
          "output_type": "display_data",
          "data": {
            "text/plain": [
              "<IPython.core.display.HTML object>"
            ],
            "text/html": [
              "\n",
              "    <style>\n",
              "        .wandb-row {\n",
              "            display: flex;\n",
              "            flex-direction: row;\n",
              "            flex-wrap: wrap;\n",
              "            justify-content: flex-start;\n",
              "            width: 100%;\n",
              "        }\n",
              "        .wandb-col {\n",
              "            display: flex;\n",
              "            flex-direction: column;\n",
              "            flex-basis: 100%;\n",
              "            flex: 1;\n",
              "            padding: 10px;\n",
              "        }\n",
              "    </style>\n",
              "<div class=\"wandb-row\"><div class=\"wandb-col\"><h3>Run history:</h3><br/><table class=\"wandb\"><tr><td>batch_loss</td><td>▆█▇▅▅▃▃▂▂▁▂▂▂▁▂▂▂▁▁▂▂▂▃▂▂▂▄▂▃▃▃▃▃▃▂▃▃▂▃▂</td></tr><tr><td>epoch_loss</td><td>██▇▇▇▄▃▃▃▂▁▁▁▁▁▁▁▁▁▁▁▁▂▂▂▂▂▂▃▃▂▃▃▃▃▄▄▄▄▄</td></tr><tr><td>masked_patches</td><td>▁▁▁▂▂▃▂▃▃▃▃▃▃▄▃▄▄▄▅▄▅▅▅▅▅▆▆▆▇▆▇▇▇▇▇█▇███</td></tr></table><br/></div><div class=\"wandb-col\"><h3>Run summary:</h3><br/><table class=\"wandb\"><tr><td>batch_loss</td><td>0.56779</td></tr><tr><td>epoch_loss</td><td>0.61414</td></tr><tr><td>masked_patches</td><td>921</td></tr></table><br/></div></div>"
            ]
          },
          "metadata": {}
        },
        {
          "output_type": "display_data",
          "data": {
            "text/plain": [
              "<IPython.core.display.HTML object>"
            ],
            "text/html": [
              " View run <strong style=\"color:#cdcd00\">lunar-shadow-47</strong> at: <a href='https://wandb.ai/oscars/vision-transformer/runs/6uwsapup' target=\"_blank\">https://wandb.ai/oscars/vision-transformer/runs/6uwsapup</a><br/> View project at: <a href='https://wandb.ai/oscars/vision-transformer' target=\"_blank\">https://wandb.ai/oscars/vision-transformer</a><br/>Synced 5 W&B file(s), 0 media file(s), 1000 artifact file(s) and 2011 other file(s)"
            ]
          },
          "metadata": {}
        },
        {
          "output_type": "display_data",
          "data": {
            "text/plain": [
              "<IPython.core.display.HTML object>"
            ],
            "text/html": [
              "Find logs at: <code>./wandb/run-20241203_094911-6uwsapup/logs</code>"
            ]
          },
          "metadata": {}
        }
      ]
    },
    {
      "cell_type": "markdown",
      "source": [
        "# Sampling"
      ],
      "metadata": {
        "id": "KZAVOTHq5u5P"
      }
    },
    {
      "cell_type": "code",
      "source": [
        "# Load the model\n",
        "model.load_state_dict(torch.load(\"vision_transformer_final_balanced.pth\"))\n",
        "model.eval()\n",
        "# Load the first image from the test data\n",
        "# Dataset and DataLoader\n",
        "current_num_mask = 900\n",
        "batch_size = 1\n",
        "dataset = BinaryImageDataset(test_images)  # Assumes training_images is already loaded\n",
        "dataloader = DataLoader(dataset, batch_size=batch_size, shuffle=False)\n",
        "batch_idx, test_images = next(enumerate(dataloader))\n",
        "first_image = test_images[0]\n",
        "plt.imshow(first_image,cmap='gray')\n",
        "plt.title(\"First image in test dataset\")\n",
        "plt.show()\n",
        "\n",
        "# Preprocess images\n",
        "patch_indices = torch.stack([preprocess_image(img) for img in test_images]).long() #(batch_size,max_patches)\n",
        "masked_patches = patch_indices.clone() #(batch_size,max_patches)\n",
        "\n",
        "# Generate random indices for masking\n",
        "random_indices = torch.rand(batch_size, max_patches).argsort(dim=1)[:, :current_num_mask]\n",
        "# Create the mask tensor\n",
        "mask = torch.zeros((batch_size, max_patches), dtype=torch.bool)\n",
        "mask.scatter_(1, random_indices, True)\n",
        "\n",
        "#Mask\n",
        "masked_patches[mask] = num_tokens - 1  # Replace masked patches with the mask token\n",
        "\n",
        "# Move to device\n",
        "masked_patches, patch_indices, mask = (\n",
        "    masked_patches.to(device),\n",
        "    patch_indices.to(device),\n",
        "    mask.to(device),\n",
        ")\n",
        "\n",
        "#Get the logits of the masked patches\n",
        "logits = model(masked_patches) # (batch_size,max_patches,num_tokens - 1)\n",
        "# Isolate the masked patches\n",
        "# Get the indices of True values\n",
        "indices = mask.nonzero(as_tuple=True)  # Returns indices where mask is True\n",
        "# Extract logits at masked positions while maintaining row-wise structure\n",
        "masked_logits = logits[indices[0], indices[1]]  # Extracts all True-index logits\n",
        "masked_patch_indices = patch_indices[indices[0], indices[1]]  # Extracts all True-index patch indices\n",
        "# Reshape to [batch_size, num_masked_patches, num_classes]\n",
        "masked_logits = masked_logits.view(batch_size, current_num_mask, -1)  # (batch_size, current_num_mask, num_tokens-1)\n",
        "masked_patch_indices = masked_patch_indices.view(batch_size, current_num_mask) #(batch_size, current_num_mask)\n",
        "masked_probs = torch.softmax(masked_logits, dim=-1) # (batch_size,current_num_mask,num_tokens-1)\n",
        "samples = torch.multinomial(masked_probs.view(-1, num_tokens-1), num_samples=1)\n",
        "# Get the probabilites of the samples\n",
        "prob_samples = torch.gather(masked_probs.view(-1, num_tokens-1), 1, samples.view(-1, 1))\n",
        "# Find the argmax\n",
        "max_prob = torch.argmax(prob_samples, dim=0)\n",
        "best_sample = samples[0][max_prob]\n",
        "best_sample_idx = torch.nonzero(mask)\n",
        "print(\"Best sample: \", best_sample)\n",
        "print(\"Best sample index: \", best_sample_idx)\n",
        "#reconstructed_patches = masked_patches.clone()\n"
      ],
      "metadata": {
        "id": "he03XI7fMik5",
        "outputId": "d73b39eb-d24e-4431-98a8-0478ddb535d8",
        "colab": {
          "base_uri": "https://localhost:8080/",
          "height": 463
        }
      },
      "execution_count": 63,
      "outputs": [
        {
          "output_type": "stream",
          "name": "stderr",
          "text": [
            "<ipython-input-63-be611c768d9e>:2: FutureWarning: You are using `torch.load` with `weights_only=False` (the current default value), which uses the default pickle module implicitly. It is possible to construct malicious pickle data which will execute arbitrary code during unpickling (See https://github.com/pytorch/pytorch/blob/main/SECURITY.md#untrusted-models for more details). In a future release, the default value for `weights_only` will be flipped to `True`. This limits the functions that could be executed during unpickling. Arbitrary objects will no longer be allowed to be loaded via this mode unless they are explicitly allowlisted by the user via `torch.serialization.add_safe_globals`. We recommend you start setting `weights_only=True` for any use case where you don't have full control of the loaded file. Please open an issue on GitHub for any issues related to this experimental feature.\n",
            "  model.load_state_dict(torch.load(\"vision_transformer_final_balanced.pth\"))\n"
          ]
        },
        {
          "output_type": "error",
          "ename": "RuntimeError",
          "evalue": "CUDA error: device-side assert triggered\nCUDA kernel errors might be asynchronously reported at some other API call, so the stacktrace below might be incorrect.\nFor debugging consider passing CUDA_LAUNCH_BLOCKING=1\nCompile with `TORCH_USE_CUDA_DSA` to enable device-side assertions.\n",
          "traceback": [
            "\u001b[0;31m---------------------------------------------------------------------------\u001b[0m",
            "\u001b[0;31mRuntimeError\u001b[0m                              Traceback (most recent call last)",
            "\u001b[0;32m<ipython-input-63-be611c768d9e>\u001b[0m in \u001b[0;36m<cell line: 2>\u001b[0;34m()\u001b[0m\n\u001b[1;32m      1\u001b[0m \u001b[0;31m# Load the model\u001b[0m\u001b[0;34m\u001b[0m\u001b[0;34m\u001b[0m\u001b[0m\n\u001b[0;32m----> 2\u001b[0;31m \u001b[0mmodel\u001b[0m\u001b[0;34m.\u001b[0m\u001b[0mload_state_dict\u001b[0m\u001b[0;34m(\u001b[0m\u001b[0mtorch\u001b[0m\u001b[0;34m.\u001b[0m\u001b[0mload\u001b[0m\u001b[0;34m(\u001b[0m\u001b[0;34m\"vision_transformer_final_balanced.pth\"\u001b[0m\u001b[0;34m)\u001b[0m\u001b[0;34m)\u001b[0m\u001b[0;34m\u001b[0m\u001b[0;34m\u001b[0m\u001b[0m\n\u001b[0m\u001b[1;32m      3\u001b[0m \u001b[0mmodel\u001b[0m\u001b[0;34m.\u001b[0m\u001b[0meval\u001b[0m\u001b[0;34m(\u001b[0m\u001b[0;34m)\u001b[0m\u001b[0;34m\u001b[0m\u001b[0;34m\u001b[0m\u001b[0m\n\u001b[1;32m      4\u001b[0m \u001b[0;31m# Load the first image from the test data\u001b[0m\u001b[0;34m\u001b[0m\u001b[0;34m\u001b[0m\u001b[0m\n\u001b[1;32m      5\u001b[0m \u001b[0;31m# Dataset and DataLoader\u001b[0m\u001b[0;34m\u001b[0m\u001b[0;34m\u001b[0m\u001b[0m\n",
            "\u001b[0;32m/usr/local/lib/python3.10/dist-packages/torch/serialization.py\u001b[0m in \u001b[0;36mload\u001b[0;34m(f, map_location, pickle_module, weights_only, mmap, **pickle_load_args)\u001b[0m\n\u001b[1;32m   1358\u001b[0m                     \u001b[0;32mexcept\u001b[0m \u001b[0mpickle\u001b[0m\u001b[0;34m.\u001b[0m\u001b[0mUnpicklingError\u001b[0m \u001b[0;32mas\u001b[0m \u001b[0me\u001b[0m\u001b[0;34m:\u001b[0m\u001b[0;34m\u001b[0m\u001b[0;34m\u001b[0m\u001b[0m\n\u001b[1;32m   1359\u001b[0m                         \u001b[0;32mraise\u001b[0m \u001b[0mpickle\u001b[0m\u001b[0;34m.\u001b[0m\u001b[0mUnpicklingError\u001b[0m\u001b[0;34m(\u001b[0m\u001b[0m_get_wo_message\u001b[0m\u001b[0;34m(\u001b[0m\u001b[0mstr\u001b[0m\u001b[0;34m(\u001b[0m\u001b[0me\u001b[0m\u001b[0;34m)\u001b[0m\u001b[0;34m)\u001b[0m\u001b[0;34m)\u001b[0m \u001b[0;32mfrom\u001b[0m \u001b[0;32mNone\u001b[0m\u001b[0;34m\u001b[0m\u001b[0;34m\u001b[0m\u001b[0m\n\u001b[0;32m-> 1360\u001b[0;31m                 return _load(\n\u001b[0m\u001b[1;32m   1361\u001b[0m                     \u001b[0mopened_zipfile\u001b[0m\u001b[0;34m,\u001b[0m\u001b[0;34m\u001b[0m\u001b[0;34m\u001b[0m\u001b[0m\n\u001b[1;32m   1362\u001b[0m                     \u001b[0mmap_location\u001b[0m\u001b[0;34m,\u001b[0m\u001b[0;34m\u001b[0m\u001b[0;34m\u001b[0m\u001b[0m\n",
            "\u001b[0;32m/usr/local/lib/python3.10/dist-packages/torch/serialization.py\u001b[0m in \u001b[0;36m_load\u001b[0;34m(zip_file, map_location, pickle_module, pickle_file, overall_storage, **pickle_load_args)\u001b[0m\n\u001b[1;32m   1846\u001b[0m     \u001b[0;32mglobal\u001b[0m \u001b[0m_serialization_tls\u001b[0m\u001b[0;34m\u001b[0m\u001b[0;34m\u001b[0m\u001b[0m\n\u001b[1;32m   1847\u001b[0m     \u001b[0m_serialization_tls\u001b[0m\u001b[0;34m.\u001b[0m\u001b[0mmap_location\u001b[0m \u001b[0;34m=\u001b[0m \u001b[0mmap_location\u001b[0m\u001b[0;34m\u001b[0m\u001b[0;34m\u001b[0m\u001b[0m\n\u001b[0;32m-> 1848\u001b[0;31m     \u001b[0mresult\u001b[0m \u001b[0;34m=\u001b[0m \u001b[0munpickler\u001b[0m\u001b[0;34m.\u001b[0m\u001b[0mload\u001b[0m\u001b[0;34m(\u001b[0m\u001b[0;34m)\u001b[0m\u001b[0;34m\u001b[0m\u001b[0;34m\u001b[0m\u001b[0m\n\u001b[0m\u001b[1;32m   1849\u001b[0m     \u001b[0m_serialization_tls\u001b[0m\u001b[0;34m.\u001b[0m\u001b[0mmap_location\u001b[0m \u001b[0;34m=\u001b[0m \u001b[0;32mNone\u001b[0m\u001b[0;34m\u001b[0m\u001b[0;34m\u001b[0m\u001b[0m\n\u001b[1;32m   1850\u001b[0m \u001b[0;34m\u001b[0m\u001b[0m\n",
            "\u001b[0;32m/usr/local/lib/python3.10/dist-packages/torch/serialization.py\u001b[0m in \u001b[0;36mpersistent_load\u001b[0;34m(saved_id)\u001b[0m\n\u001b[1;32m   1810\u001b[0m         \u001b[0;32melse\u001b[0m\u001b[0;34m:\u001b[0m\u001b[0;34m\u001b[0m\u001b[0;34m\u001b[0m\u001b[0m\n\u001b[1;32m   1811\u001b[0m             \u001b[0mnbytes\u001b[0m \u001b[0;34m=\u001b[0m \u001b[0mnumel\u001b[0m \u001b[0;34m*\u001b[0m \u001b[0mtorch\u001b[0m\u001b[0;34m.\u001b[0m\u001b[0m_utils\u001b[0m\u001b[0;34m.\u001b[0m\u001b[0m_element_size\u001b[0m\u001b[0;34m(\u001b[0m\u001b[0mdtype\u001b[0m\u001b[0;34m)\u001b[0m\u001b[0;34m\u001b[0m\u001b[0;34m\u001b[0m\u001b[0m\n\u001b[0;32m-> 1812\u001b[0;31m             typed_storage = load_tensor(\n\u001b[0m\u001b[1;32m   1813\u001b[0m                 \u001b[0mdtype\u001b[0m\u001b[0;34m,\u001b[0m \u001b[0mnbytes\u001b[0m\u001b[0;34m,\u001b[0m \u001b[0mkey\u001b[0m\u001b[0;34m,\u001b[0m \u001b[0m_maybe_decode_ascii\u001b[0m\u001b[0;34m(\u001b[0m\u001b[0mlocation\u001b[0m\u001b[0;34m)\u001b[0m\u001b[0;34m\u001b[0m\u001b[0;34m\u001b[0m\u001b[0m\n\u001b[1;32m   1814\u001b[0m             )\n",
            "\u001b[0;32m/usr/local/lib/python3.10/dist-packages/torch/serialization.py\u001b[0m in \u001b[0;36mload_tensor\u001b[0;34m(dtype, numel, key, location)\u001b[0m\n\u001b[1;32m   1782\u001b[0m         \u001b[0;31m# stop wrapping with TypedStorage\u001b[0m\u001b[0;34m\u001b[0m\u001b[0;34m\u001b[0m\u001b[0m\n\u001b[1;32m   1783\u001b[0m         typed_storage = torch.storage.TypedStorage(\n\u001b[0;32m-> 1784\u001b[0;31m             \u001b[0mwrap_storage\u001b[0m\u001b[0;34m=\u001b[0m\u001b[0mrestore_location\u001b[0m\u001b[0;34m(\u001b[0m\u001b[0mstorage\u001b[0m\u001b[0;34m,\u001b[0m \u001b[0mlocation\u001b[0m\u001b[0;34m)\u001b[0m\u001b[0;34m,\u001b[0m\u001b[0;34m\u001b[0m\u001b[0;34m\u001b[0m\u001b[0m\n\u001b[0m\u001b[1;32m   1785\u001b[0m             \u001b[0mdtype\u001b[0m\u001b[0;34m=\u001b[0m\u001b[0mdtype\u001b[0m\u001b[0;34m,\u001b[0m\u001b[0;34m\u001b[0m\u001b[0;34m\u001b[0m\u001b[0m\n\u001b[1;32m   1786\u001b[0m             \u001b[0m_internal\u001b[0m\u001b[0;34m=\u001b[0m\u001b[0;32mTrue\u001b[0m\u001b[0;34m,\u001b[0m\u001b[0;34m\u001b[0m\u001b[0;34m\u001b[0m\u001b[0m\n",
            "\u001b[0;32m/usr/local/lib/python3.10/dist-packages/torch/serialization.py\u001b[0m in \u001b[0;36mdefault_restore_location\u001b[0;34m(storage, location)\u001b[0m\n\u001b[1;32m    599\u001b[0m     \"\"\"\n\u001b[1;32m    600\u001b[0m     \u001b[0;32mfor\u001b[0m \u001b[0m_\u001b[0m\u001b[0;34m,\u001b[0m \u001b[0m_\u001b[0m\u001b[0;34m,\u001b[0m \u001b[0mfn\u001b[0m \u001b[0;32min\u001b[0m \u001b[0m_package_registry\u001b[0m\u001b[0;34m:\u001b[0m\u001b[0;34m\u001b[0m\u001b[0;34m\u001b[0m\u001b[0m\n\u001b[0;32m--> 601\u001b[0;31m         \u001b[0mresult\u001b[0m \u001b[0;34m=\u001b[0m \u001b[0mfn\u001b[0m\u001b[0;34m(\u001b[0m\u001b[0mstorage\u001b[0m\u001b[0;34m,\u001b[0m \u001b[0mlocation\u001b[0m\u001b[0;34m)\u001b[0m\u001b[0;34m\u001b[0m\u001b[0;34m\u001b[0m\u001b[0m\n\u001b[0m\u001b[1;32m    602\u001b[0m         \u001b[0;32mif\u001b[0m \u001b[0mresult\u001b[0m \u001b[0;32mis\u001b[0m \u001b[0;32mnot\u001b[0m \u001b[0;32mNone\u001b[0m\u001b[0;34m:\u001b[0m\u001b[0;34m\u001b[0m\u001b[0;34m\u001b[0m\u001b[0m\n\u001b[1;32m    603\u001b[0m             \u001b[0;32mreturn\u001b[0m \u001b[0mresult\u001b[0m\u001b[0;34m\u001b[0m\u001b[0;34m\u001b[0m\u001b[0m\n",
            "\u001b[0;32m/usr/local/lib/python3.10/dist-packages/torch/serialization.py\u001b[0m in \u001b[0;36m_deserialize\u001b[0;34m(backend_name, obj, location)\u001b[0m\n\u001b[1;32m    538\u001b[0m     \u001b[0;32mif\u001b[0m \u001b[0mlocation\u001b[0m\u001b[0;34m.\u001b[0m\u001b[0mstartswith\u001b[0m\u001b[0;34m(\u001b[0m\u001b[0mbackend_name\u001b[0m\u001b[0;34m)\u001b[0m\u001b[0;34m:\u001b[0m\u001b[0;34m\u001b[0m\u001b[0;34m\u001b[0m\u001b[0m\n\u001b[1;32m    539\u001b[0m         \u001b[0mdevice\u001b[0m \u001b[0;34m=\u001b[0m \u001b[0m_validate_device\u001b[0m\u001b[0;34m(\u001b[0m\u001b[0mlocation\u001b[0m\u001b[0;34m,\u001b[0m \u001b[0mbackend_name\u001b[0m\u001b[0;34m)\u001b[0m\u001b[0;34m\u001b[0m\u001b[0;34m\u001b[0m\u001b[0m\n\u001b[0;32m--> 540\u001b[0;31m         \u001b[0;32mreturn\u001b[0m \u001b[0mobj\u001b[0m\u001b[0;34m.\u001b[0m\u001b[0mto\u001b[0m\u001b[0;34m(\u001b[0m\u001b[0mdevice\u001b[0m\u001b[0;34m=\u001b[0m\u001b[0mdevice\u001b[0m\u001b[0;34m)\u001b[0m\u001b[0;34m\u001b[0m\u001b[0;34m\u001b[0m\u001b[0m\n\u001b[0m\u001b[1;32m    541\u001b[0m \u001b[0;34m\u001b[0m\u001b[0m\n\u001b[1;32m    542\u001b[0m \u001b[0;34m\u001b[0m\u001b[0m\n",
            "\u001b[0;32m/usr/local/lib/python3.10/dist-packages/torch/storage.py\u001b[0m in \u001b[0;36mto\u001b[0;34m(self, device, non_blocking)\u001b[0m\n\u001b[1;32m    277\u001b[0m         \u001b[0mself\u001b[0m\u001b[0;34m,\u001b[0m \u001b[0;34m*\u001b[0m\u001b[0;34m,\u001b[0m \u001b[0mdevice\u001b[0m\u001b[0;34m:\u001b[0m \u001b[0mtorch\u001b[0m\u001b[0;34m.\u001b[0m\u001b[0mdevice\u001b[0m\u001b[0;34m,\u001b[0m \u001b[0mnon_blocking\u001b[0m\u001b[0;34m:\u001b[0m \u001b[0m_bool\u001b[0m \u001b[0;34m=\u001b[0m \u001b[0;32mFalse\u001b[0m\u001b[0;34m\u001b[0m\u001b[0;34m\u001b[0m\u001b[0m\n\u001b[1;32m    278\u001b[0m     ) -> Union[_StorageBase, TypedStorage]:\n\u001b[0;32m--> 279\u001b[0;31m         \u001b[0;32mreturn\u001b[0m \u001b[0m_to\u001b[0m\u001b[0;34m(\u001b[0m\u001b[0mself\u001b[0m\u001b[0;34m,\u001b[0m \u001b[0mdevice\u001b[0m\u001b[0;34m,\u001b[0m \u001b[0mnon_blocking\u001b[0m\u001b[0;34m)\u001b[0m\u001b[0;34m\u001b[0m\u001b[0;34m\u001b[0m\u001b[0m\n\u001b[0m\u001b[1;32m    280\u001b[0m \u001b[0;34m\u001b[0m\u001b[0m\n\u001b[1;32m    281\u001b[0m     \u001b[0;32mdef\u001b[0m \u001b[0mdouble\u001b[0m\u001b[0;34m(\u001b[0m\u001b[0mself\u001b[0m\u001b[0;34m)\u001b[0m\u001b[0;34m:\u001b[0m\u001b[0;34m\u001b[0m\u001b[0;34m\u001b[0m\u001b[0m\n",
            "\u001b[0;32m/usr/local/lib/python3.10/dist-packages/torch/_utils.py\u001b[0m in \u001b[0;36m_to\u001b[0;34m(self, device, non_blocking)\u001b[0m\n\u001b[1;32m     87\u001b[0m             ), f\"sparse storage is not supported for {device.type.upper()} tensors\"\n\u001b[1;32m     88\u001b[0m             \u001b[0muntyped_storage\u001b[0m \u001b[0;34m=\u001b[0m \u001b[0mtorch\u001b[0m\u001b[0;34m.\u001b[0m\u001b[0mUntypedStorage\u001b[0m\u001b[0;34m(\u001b[0m\u001b[0mself\u001b[0m\u001b[0;34m.\u001b[0m\u001b[0msize\u001b[0m\u001b[0;34m(\u001b[0m\u001b[0;34m)\u001b[0m\u001b[0;34m,\u001b[0m \u001b[0mdevice\u001b[0m\u001b[0;34m=\u001b[0m\u001b[0mdevice\u001b[0m\u001b[0;34m)\u001b[0m\u001b[0;34m\u001b[0m\u001b[0;34m\u001b[0m\u001b[0m\n\u001b[0;32m---> 89\u001b[0;31m             \u001b[0muntyped_storage\u001b[0m\u001b[0;34m.\u001b[0m\u001b[0mcopy_\u001b[0m\u001b[0;34m(\u001b[0m\u001b[0mself\u001b[0m\u001b[0;34m,\u001b[0m \u001b[0mnon_blocking\u001b[0m\u001b[0;34m)\u001b[0m\u001b[0;34m\u001b[0m\u001b[0;34m\u001b[0m\u001b[0m\n\u001b[0m\u001b[1;32m     90\u001b[0m             \u001b[0;32mreturn\u001b[0m \u001b[0muntyped_storage\u001b[0m\u001b[0;34m\u001b[0m\u001b[0;34m\u001b[0m\u001b[0m\n\u001b[1;32m     91\u001b[0m \u001b[0;34m\u001b[0m\u001b[0m\n",
            "\u001b[0;31mRuntimeError\u001b[0m: CUDA error: device-side assert triggered\nCUDA kernel errors might be asynchronously reported at some other API call, so the stacktrace below might be incorrect.\nFor debugging consider passing CUDA_LAUNCH_BLOCKING=1\nCompile with `TORCH_USE_CUDA_DSA` to enable device-side assertions.\n"
          ]
        }
      ]
    }
  ],
  "metadata": {
    "kernelspec": {
      "display_name": "Python 3",
      "name": "python3"
    },
    "language_info": {
      "name": "python",
      "version": "3.12.1"
    },
    "colab": {
      "provenance": [],
      "machine_shape": "hm",
      "gpuType": "A100",
      "include_colab_link": true
    },
    "accelerator": "GPU"
  },
  "nbformat": 4,
  "nbformat_minor": 0
}